{
 "cells": [
  {
   "cell_type": "code",
   "execution_count": 1,
   "metadata": {},
   "outputs": [],
   "source": [
    "import numpy as np\n",
    "import pandas as pd\n",
    "import matplotlib.pyplot as plt\n",
    "\n",
    "from sklearn.datasets import load_boston"
   ]
  },
  {
   "cell_type": "code",
   "execution_count": 2,
   "metadata": {},
   "outputs": [],
   "source": [
    "# This problem has the following inputs: \n",
    "# 1. Frequency, in Hertzs. \n",
    "# 2. Angle of attack, in degrees. \n",
    "# 3. Chord length, in meters. \n",
    "# 4. Free-stream velocity, in meters per second. \n",
    "# 5. Suction side displacement thickness, in meters. \n",
    "\n",
    "# The only output is: \n",
    "# 6. Scaled sound pressure level, in decibels. "
   ]
  },
  {
   "cell_type": "code",
   "execution_count": 3,
   "metadata": {},
   "outputs": [],
   "source": [
    "feature_names = ['Frequency','Angle','Chord Length','velocity','displacement thickness','sound pressure']\n",
    "airfoil = pd.read_csv(\"./airfoil_self_noise.csv\",header=None,sep='\\t',names=feature_names)"
   ]
  },
  {
   "cell_type": "code",
   "execution_count": 4,
   "metadata": {},
   "outputs": [
    {
     "data": {
      "text/html": [
       "<div>\n",
       "<style scoped>\n",
       "    .dataframe tbody tr th:only-of-type {\n",
       "        vertical-align: middle;\n",
       "    }\n",
       "\n",
       "    .dataframe tbody tr th {\n",
       "        vertical-align: top;\n",
       "    }\n",
       "\n",
       "    .dataframe thead th {\n",
       "        text-align: right;\n",
       "    }\n",
       "</style>\n",
       "<table border=\"1\" class=\"dataframe\">\n",
       "  <thead>\n",
       "    <tr style=\"text-align: right;\">\n",
       "      <th></th>\n",
       "      <th>Frequency</th>\n",
       "      <th>Angle</th>\n",
       "      <th>Chord Length</th>\n",
       "      <th>velocity</th>\n",
       "      <th>displacement thickness</th>\n",
       "      <th>sound pressure</th>\n",
       "    </tr>\n",
       "  </thead>\n",
       "  <tbody>\n",
       "    <tr>\n",
       "      <th>0</th>\n",
       "      <td>800</td>\n",
       "      <td>0.0</td>\n",
       "      <td>0.3048</td>\n",
       "      <td>71.3</td>\n",
       "      <td>0.002663</td>\n",
       "      <td>126.201</td>\n",
       "    </tr>\n",
       "    <tr>\n",
       "      <th>1</th>\n",
       "      <td>1000</td>\n",
       "      <td>0.0</td>\n",
       "      <td>0.3048</td>\n",
       "      <td>71.3</td>\n",
       "      <td>0.002663</td>\n",
       "      <td>125.201</td>\n",
       "    </tr>\n",
       "    <tr>\n",
       "      <th>2</th>\n",
       "      <td>1250</td>\n",
       "      <td>0.0</td>\n",
       "      <td>0.3048</td>\n",
       "      <td>71.3</td>\n",
       "      <td>0.002663</td>\n",
       "      <td>125.951</td>\n",
       "    </tr>\n",
       "    <tr>\n",
       "      <th>3</th>\n",
       "      <td>1600</td>\n",
       "      <td>0.0</td>\n",
       "      <td>0.3048</td>\n",
       "      <td>71.3</td>\n",
       "      <td>0.002663</td>\n",
       "      <td>127.591</td>\n",
       "    </tr>\n",
       "    <tr>\n",
       "      <th>4</th>\n",
       "      <td>2000</td>\n",
       "      <td>0.0</td>\n",
       "      <td>0.3048</td>\n",
       "      <td>71.3</td>\n",
       "      <td>0.002663</td>\n",
       "      <td>127.461</td>\n",
       "    </tr>\n",
       "  </tbody>\n",
       "</table>\n",
       "</div>"
      ],
      "text/plain": [
       "   Frequency  Angle  Chord Length  velocity  displacement thickness  \\\n",
       "0        800    0.0        0.3048      71.3                0.002663   \n",
       "1       1000    0.0        0.3048      71.3                0.002663   \n",
       "2       1250    0.0        0.3048      71.3                0.002663   \n",
       "3       1600    0.0        0.3048      71.3                0.002663   \n",
       "4       2000    0.0        0.3048      71.3                0.002663   \n",
       "\n",
       "   sound pressure  \n",
       "0         126.201  \n",
       "1         125.201  \n",
       "2         125.951  \n",
       "3         127.591  \n",
       "4         127.461  "
      ]
     },
     "execution_count": 4,
     "metadata": {},
     "output_type": "execute_result"
    }
   ],
   "source": [
    "airfoil.head()"
   ]
  },
  {
   "cell_type": "code",
   "execution_count": 5,
   "metadata": {},
   "outputs": [
    {
     "data": {
      "text/html": [
       "<div>\n",
       "<style scoped>\n",
       "    .dataframe tbody tr th:only-of-type {\n",
       "        vertical-align: middle;\n",
       "    }\n",
       "\n",
       "    .dataframe tbody tr th {\n",
       "        vertical-align: top;\n",
       "    }\n",
       "\n",
       "    .dataframe thead th {\n",
       "        text-align: right;\n",
       "    }\n",
       "</style>\n",
       "<table border=\"1\" class=\"dataframe\">\n",
       "  <thead>\n",
       "    <tr style=\"text-align: right;\">\n",
       "      <th></th>\n",
       "      <th>Frequency</th>\n",
       "      <th>Angle</th>\n",
       "      <th>Chord Length</th>\n",
       "      <th>velocity</th>\n",
       "      <th>displacement thickness</th>\n",
       "      <th>sound pressure</th>\n",
       "    </tr>\n",
       "  </thead>\n",
       "  <tbody>\n",
       "    <tr>\n",
       "      <th>0</th>\n",
       "      <td>800</td>\n",
       "      <td>0.0</td>\n",
       "      <td>0.3048</td>\n",
       "      <td>71.3</td>\n",
       "      <td>0.002663</td>\n",
       "      <td>126.201</td>\n",
       "    </tr>\n",
       "    <tr>\n",
       "      <th>1</th>\n",
       "      <td>1000</td>\n",
       "      <td>0.0</td>\n",
       "      <td>0.3048</td>\n",
       "      <td>71.3</td>\n",
       "      <td>0.002663</td>\n",
       "      <td>125.201</td>\n",
       "    </tr>\n",
       "    <tr>\n",
       "      <th>2</th>\n",
       "      <td>1250</td>\n",
       "      <td>0.0</td>\n",
       "      <td>0.3048</td>\n",
       "      <td>71.3</td>\n",
       "      <td>0.002663</td>\n",
       "      <td>125.951</td>\n",
       "    </tr>\n",
       "    <tr>\n",
       "      <th>3</th>\n",
       "      <td>1600</td>\n",
       "      <td>0.0</td>\n",
       "      <td>0.3048</td>\n",
       "      <td>71.3</td>\n",
       "      <td>0.002663</td>\n",
       "      <td>127.591</td>\n",
       "    </tr>\n",
       "    <tr>\n",
       "      <th>4</th>\n",
       "      <td>2000</td>\n",
       "      <td>0.0</td>\n",
       "      <td>0.3048</td>\n",
       "      <td>71.3</td>\n",
       "      <td>0.002663</td>\n",
       "      <td>127.461</td>\n",
       "    </tr>\n",
       "  </tbody>\n",
       "</table>\n",
       "</div>"
      ],
      "text/plain": [
       "   Frequency  Angle  Chord Length  velocity  displacement thickness  \\\n",
       "0        800    0.0        0.3048      71.3                0.002663   \n",
       "1       1000    0.0        0.3048      71.3                0.002663   \n",
       "2       1250    0.0        0.3048      71.3                0.002663   \n",
       "3       1600    0.0        0.3048      71.3                0.002663   \n",
       "4       2000    0.0        0.3048      71.3                0.002663   \n",
       "\n",
       "   sound pressure  \n",
       "0         126.201  \n",
       "1         125.201  \n",
       "2         125.951  \n",
       "3         127.591  \n",
       "4         127.461  "
      ]
     },
     "execution_count": 5,
     "metadata": {},
     "output_type": "execute_result"
    }
   ],
   "source": [
    "airfoil = pd.DataFrame(airfoil)\n",
    "airfoil.head()"
   ]
  },
  {
   "cell_type": "code",
   "execution_count": 6,
   "metadata": {},
   "outputs": [
    {
     "data": {
      "text/html": [
       "<div>\n",
       "<style scoped>\n",
       "    .dataframe tbody tr th:only-of-type {\n",
       "        vertical-align: middle;\n",
       "    }\n",
       "\n",
       "    .dataframe tbody tr th {\n",
       "        vertical-align: top;\n",
       "    }\n",
       "\n",
       "    .dataframe thead th {\n",
       "        text-align: right;\n",
       "    }\n",
       "</style>\n",
       "<table border=\"1\" class=\"dataframe\">\n",
       "  <thead>\n",
       "    <tr style=\"text-align: right;\">\n",
       "      <th></th>\n",
       "      <th>Frequency</th>\n",
       "      <th>Angle</th>\n",
       "      <th>Chord Length</th>\n",
       "      <th>velocity</th>\n",
       "      <th>displacement thickness</th>\n",
       "    </tr>\n",
       "  </thead>\n",
       "  <tbody>\n",
       "    <tr>\n",
       "      <th>0</th>\n",
       "      <td>800</td>\n",
       "      <td>0.0</td>\n",
       "      <td>0.3048</td>\n",
       "      <td>71.3</td>\n",
       "      <td>0.002663</td>\n",
       "    </tr>\n",
       "    <tr>\n",
       "      <th>1</th>\n",
       "      <td>1000</td>\n",
       "      <td>0.0</td>\n",
       "      <td>0.3048</td>\n",
       "      <td>71.3</td>\n",
       "      <td>0.002663</td>\n",
       "    </tr>\n",
       "    <tr>\n",
       "      <th>2</th>\n",
       "      <td>1250</td>\n",
       "      <td>0.0</td>\n",
       "      <td>0.3048</td>\n",
       "      <td>71.3</td>\n",
       "      <td>0.002663</td>\n",
       "    </tr>\n",
       "    <tr>\n",
       "      <th>3</th>\n",
       "      <td>1600</td>\n",
       "      <td>0.0</td>\n",
       "      <td>0.3048</td>\n",
       "      <td>71.3</td>\n",
       "      <td>0.002663</td>\n",
       "    </tr>\n",
       "    <tr>\n",
       "      <th>4</th>\n",
       "      <td>2000</td>\n",
       "      <td>0.0</td>\n",
       "      <td>0.3048</td>\n",
       "      <td>71.3</td>\n",
       "      <td>0.002663</td>\n",
       "    </tr>\n",
       "  </tbody>\n",
       "</table>\n",
       "</div>"
      ],
      "text/plain": [
       "   Frequency  Angle  Chord Length  velocity  displacement thickness\n",
       "0        800    0.0        0.3048      71.3                0.002663\n",
       "1       1000    0.0        0.3048      71.3                0.002663\n",
       "2       1250    0.0        0.3048      71.3                0.002663\n",
       "3       1600    0.0        0.3048      71.3                0.002663\n",
       "4       2000    0.0        0.3048      71.3                0.002663"
      ]
     },
     "execution_count": 6,
     "metadata": {},
     "output_type": "execute_result"
    }
   ],
   "source": [
    "features = airfoil.loc[:,:'displacement thickness']\n",
    "features.head()"
   ]
  },
  {
   "cell_type": "code",
   "execution_count": 7,
   "metadata": {},
   "outputs": [
    {
     "data": {
      "text/plain": [
       "20000      6\n",
       "16000     13\n",
       "12500     25\n",
       "200       35\n",
       "250       42\n",
       "10000     42\n",
       "8000      52\n",
       "315       56\n",
       "400       69\n",
       "500       78\n",
       "630       88\n",
       "6300      89\n",
       "5000      95\n",
       "800       97\n",
       "1000      99\n",
       "1250     100\n",
       "4000     102\n",
       "1600     103\n",
       "3150     103\n",
       "2500     104\n",
       "2000     105\n",
       "Name: Frequency, dtype: int64"
      ]
     },
     "execution_count": 7,
     "metadata": {},
     "output_type": "execute_result"
    }
   ],
   "source": [
    "frequency = pd.Series(airfoil['Frequency'])\n",
    "frequency.value_counts().sort_values()"
   ]
  },
  {
   "cell_type": "code",
   "execution_count": 8,
   "metadata": {},
   "outputs": [
    {
     "data": {
      "text/plain": [
       "Frequency                   21\n",
       "Angle                       27\n",
       "Chord Length                 6\n",
       "velocity                     4\n",
       "displacement thickness     105\n",
       "sound pressure            1456\n",
       "dtype: int64"
      ]
     },
     "execution_count": 8,
     "metadata": {},
     "output_type": "execute_result"
    }
   ],
   "source": [
    "data = pd.DataFrame(airfoil)\n",
    "data.nunique()  # no. of unique values of each feature"
   ]
  },
  {
   "cell_type": "code",
   "execution_count": 9,
   "metadata": {},
   "outputs": [],
   "source": [
    "corelation = airfoil.corr('pearson') "
   ]
  },
  {
   "cell_type": "code",
   "execution_count": 10,
   "metadata": {},
   "outputs": [
    {
     "data": {
      "text/plain": [
       "Frequency                -0.390711\n",
       "displacement thickness   -0.312670\n",
       "Chord Length             -0.236162\n",
       "Angle                    -0.156108\n",
       "velocity                  0.125103\n",
       "sound pressure            1.000000\n",
       "Name: sound pressure, dtype: float64"
      ]
     },
     "execution_count": 10,
     "metadata": {},
     "output_type": "execute_result"
    }
   ],
   "source": [
    "corelation['sound pressure'].sort_values()"
   ]
  },
  {
   "cell_type": "code",
   "execution_count": 11,
   "metadata": {},
   "outputs": [],
   "source": [
    "from sklearn.preprocessing import MinMaxScaler"
   ]
  },
  {
   "cell_type": "code",
   "execution_count": 12,
   "metadata": {},
   "outputs": [],
   "source": [
    "scaler = MinMaxScaler()"
   ]
  },
  {
   "cell_type": "code",
   "execution_count": 14,
   "metadata": {},
   "outputs": [
    {
     "name": "stderr",
     "output_type": "stream",
     "text": [
      "C:\\Users\\Shilpa\\AppData\\Local\\Continuum\\anaconda3\\lib\\site-packages\\ipykernel_launcher.py:2: FutureWarning: reshape is deprecated and will raise in a subsequent release. Please use .values.reshape(...) instead\n",
      "  \n"
     ]
    }
   ],
   "source": [
    "y = airfoil['sound pressure']\n",
    "y = y.reshape(-1,1)"
   ]
  },
  {
   "cell_type": "code",
   "execution_count": 15,
   "metadata": {},
   "outputs": [],
   "source": [
    "y = scaler.fit_transform(y)"
   ]
  },
  {
   "cell_type": "code",
   "execution_count": 16,
   "metadata": {},
   "outputs": [],
   "source": [
    "from sklearn.model_selection import train_test_split "
   ]
  },
  {
   "cell_type": "code",
   "execution_count": 17,
   "metadata": {},
   "outputs": [],
   "source": [
    "x_train,x_test,y_train,y_test = train_test_split(features,y,test_size=0.2)"
   ]
  },
  {
   "cell_type": "code",
   "execution_count": 18,
   "metadata": {},
   "outputs": [],
   "source": [
    "from sklearn.linear_model import LinearRegression"
   ]
  },
  {
   "cell_type": "code",
   "execution_count": 19,
   "metadata": {},
   "outputs": [],
   "source": [
    "regressor = LinearRegression() "
   ]
  },
  {
   "cell_type": "code",
   "execution_count": 20,
   "metadata": {},
   "outputs": [
    {
     "data": {
      "text/plain": [
       "LinearRegression(copy_X=True, fit_intercept=True, n_jobs=1, normalize=False)"
      ]
     },
     "execution_count": 20,
     "metadata": {},
     "output_type": "execute_result"
    }
   ],
   "source": [
    "regressor.fit(x_train,y_train)"
   ]
  },
  {
   "cell_type": "code",
   "execution_count": 21,
   "metadata": {},
   "outputs": [],
   "source": [
    "y_pred = regressor.predict(x_test)"
   ]
  },
  {
   "cell_type": "code",
   "execution_count": 22,
   "metadata": {},
   "outputs": [
    {
     "name": "stdout",
     "output_type": "stream",
     "text": [
      "(array([0.66107815]), array([0.70465605]))\n",
      "(array([0.63337671]), array([0.32124339]))\n",
      "(array([0.69114319]), array([0.69101497]))\n",
      "(array([0.72754233]), array([0.76405988]))\n",
      "(array([0.63724015]), array([0.64043928]))\n",
      "(array([0.54629563]), array([0.5511208]))\n",
      "(array([0.50206196]), array([0.49605127]))\n",
      "(array([0.3576504]), array([0.21825724]))\n",
      "(array([0.53175263]), array([0.52386524]))\n",
      "(array([0.50298676]), array([0.89467386]))\n",
      "(array([0.48417247]), array([0.58922541]))\n",
      "(array([0.38625144]), array([0.32515223]))\n",
      "(array([0.62010541]), array([0.75890127]))\n",
      "(array([0.43635897]), array([0.4312495]))\n",
      "(array([0.57328654]), array([0.59395857]))\n",
      "(array([0.48179739]), array([0.38939559]))\n",
      "(array([0.5883216]), array([0.68277182]))\n",
      "(array([0.36359308]), array([0.33318265]))\n",
      "(array([0.51568067]), array([0.37243066]))\n",
      "(array([0.62445487]), array([0.50136943]))\n",
      "(array([0.46182866]), array([0.50668758]))\n",
      "(array([0.58412631]), array([0.69665222]))\n",
      "(array([0.6480686]), array([0.60682852]))\n",
      "(array([0.62515945]), array([0.45776052]))\n",
      "(array([0.76183943]), array([0.45717553]))\n",
      "(array([0.58842071]), array([0.61855506]))\n",
      "(array([0.57814389]), array([0.71928098]))\n",
      "(array([0.65167988]), array([0.66774803]))\n",
      "(array([0.62060706]), array([0.6158428]))\n",
      "(array([0.62084107]), array([0.69936448]))\n",
      "(array([0.69764708]), array([0.77666392]))\n",
      "(array([0.66811375]), array([0.7821948]))\n",
      "(array([0.76874119]), array([0.63881724]))\n",
      "(array([0.56752064]), array([0.61863483]))\n",
      "(array([0.54619463]), array([0.64440131]))\n",
      "(array([0.66278112]), array([0.72223256]))\n",
      "(array([0.48842251]), array([0.42090568]))\n",
      "(array([0.14658791]), array([0.07261946]))\n",
      "(array([0.46248163]), array([0.44603398]))\n",
      "(array([0.4554675]), array([0.42531975]))\n",
      "(array([0.58784597]), array([0.75983195]))\n",
      "(array([0.73236719]), array([0.68048502]))\n",
      "(array([0.52821078]), array([0.58098226]))\n",
      "(array([0.66552499]), array([0.6640785]))\n",
      "(array([0.79875691]), array([0.72122211]))\n",
      "(array([0.64001808]), array([0.62823411]))\n",
      "(array([0.44089814]), array([0.25700003]))\n",
      "(array([0.49371532]), array([0.6675353]))\n",
      "(array([0.54239548]), array([0.58816178]))\n",
      "(array([0.68177435]), array([0.67636344]))\n",
      "(array([0.74514837]), array([0.60552557]))\n",
      "(array([0.60903456]), array([0.66891802]))\n",
      "(array([0.54344438]), array([0.59406493]))\n",
      "(array([0.65410542]), array([0.63416385]))\n",
      "(array([0.85184135]), array([0.55723668]))\n",
      "(array([0.47574669]), array([0.45595235]))\n",
      "(array([0.53486567]), array([0.61576302]))\n",
      "(array([0.44408645]), array([0.35841732]))\n",
      "(array([0.16658903]), array([0.16589997]))\n",
      "(array([0.49869714]), array([0.45669689]))\n",
      "(array([0.36185857]), array([0.27529449]))\n",
      "(array([0.62134459]), array([0.64378972]))\n",
      "(array([0.51218115]), array([0.71244715]))\n",
      "(array([0.5225462]), array([0.45613848]))\n",
      "(array([0.46434101]), array([0.42973383]))\n",
      "(array([0.50157123]), array([0.59621879]))\n",
      "(array([0.6133337]), array([0.60151036]))\n",
      "(array([0.68617722]), array([0.24266759]))\n",
      "(array([0.72113845]), array([0.63474885]))\n",
      "(array([0.42738394]), array([0.30177892]))\n",
      "(array([0.69502939]), array([0.64836334]))\n",
      "(array([0.53276194]), array([0.48142633]))\n",
      "(array([0.59297104]), array([0.82314463]))\n",
      "(array([0.45096462]), array([0.45558008]))\n",
      "(array([0.5207387]), array([0.51758981]))\n",
      "(array([0.37133752]), array([0.2559098]))\n",
      "(array([0.51350934]), array([0.46097801]))\n",
      "(array([0.7487425]), array([0.71667509]))\n",
      "(array([0.6103656]), array([0.73031616]))\n",
      "(array([0.74295665]), array([0.77044167]))\n",
      "(array([0.79665226]), array([0.59661765]))\n",
      "(array([0.71254429]), array([0.78868296]))\n",
      "(array([0.45551817]), array([0.45055442]))\n",
      "(array([0.48240661]), array([0.43970537]))\n",
      "(array([0.53478649]), array([0.53112452]))\n",
      "(array([0.43742786]), array([0.37556838]))\n",
      "(array([0.56311163]), array([0.70784694]))\n",
      "(array([0.65477754]), array([0.53827745]))\n",
      "(array([0.47651746]), array([0.4560853]))\n",
      "(array([0.47412548]), array([0.2579307]))\n",
      "(array([0.76992825]), array([0.69899221]))\n",
      "(array([0.43261757]), array([0.43805674]))\n",
      "(array([0.50897912]), array([0.5577685]))\n",
      "(array([0.84630621]), array([0.62288936]))\n",
      "(array([0.3300018]), array([0.17297312]))\n",
      "(array([0.42750188]), array([0.23094105]))\n",
      "(array([0.48509679]), array([0.41893796]))\n",
      "(array([0.62444806]), array([0.80862605]))\n",
      "(array([0.69396556]), array([0.79168772]))\n",
      "(array([0.28478207]), array([0.12245061]))\n",
      "(array([0.41464571]), array([0.39162922]))\n",
      "(array([0.32894745]), array([0.18305103]))\n",
      "(array([0.4012456]), array([0.45807961]))\n",
      "(array([0.50934894]), array([0.5248491]))\n",
      "(array([0.40243252]), array([0.2637275]))\n",
      "(array([0.58713262]), array([0.41415162]))\n",
      "(array([0.74925559]), array([0.8113915]))\n",
      "(array([0.48855268]), array([0.66915734]))\n",
      "(array([0.57774017]), array([0.45515463]))\n",
      "(array([0.61147496]), array([0.63916292]))\n",
      "(array([0.50421548]), array([0.63602521]))\n",
      "(array([0.41051705]), array([0.3399633]))\n",
      "(array([0.61897952]), array([0.61943255]))\n",
      "(array([0.47752018]), array([0.50708645]))\n",
      "(array([0.81777009]), array([0.84266227]))\n",
      "(array([0.60227701]), array([0.72366847]))\n",
      "(array([0.54906514]), array([0.95317361]))\n",
      "(array([0.47543563]), array([0.52737522]))\n",
      "(array([0.65516485]), array([0.66253623]))\n",
      "(array([0.61292467]), array([0.58624724]))\n",
      "(array([0.51111313]), array([0.3110857]))\n",
      "(array([0.58531184]), array([0.68883453]))\n",
      "(array([0.51789549]), array([0.45932938]))\n",
      "(array([0.61442656]), array([0.73284229]))\n",
      "(array([0.68459748]), array([0.80498311]))\n",
      "(array([0.66257861]), array([0.69175951]))\n",
      "(array([0.73962375]), array([0.67801207]))\n",
      "(array([0.5270914]), array([0.66383918]))\n",
      "(array([0.39471986]), array([0.28901534]))\n",
      "(array([0.55613613]), array([0.50913394]))\n",
      "(array([0.83948336]), array([0.74268088]))\n",
      "(array([0.53231777]), array([0.39649533]))\n",
      "(array([0.74803007]), array([0.71167602]))\n",
      "(array([0.6955895]), array([0.68481932]))\n",
      "(array([0.60863016]), array([0.72773686]))\n",
      "(array([0.61151685]), array([0.5802909]))\n",
      "(array([0.68115737]), array([0.85367086]))\n",
      "(array([0.46795228]), array([0.40769006]))\n",
      "(array([0.5107026]), array([0.50073125]))\n",
      "(array([0.77577897]), array([0.75666764]))\n",
      "(array([0.40050096]), array([0.28127742]))\n",
      "(array([0.47418852]), array([0.4769059]))\n",
      "(array([0.47781325]), array([0.48142633]))\n",
      "(array([0.71956965]), array([0.86821602]))\n",
      "(array([0.50472197]), array([0.41518866]))\n",
      "(array([0.35369902]), array([0.30236392]))\n",
      "(array([0.7062738]), array([0.66354668]))\n",
      "(array([0.7339449]), array([0.71710054]))\n",
      "(array([0.64526106]), array([0.61291781]))\n",
      "(array([0.46988232]), array([0.60079241]))\n",
      "(array([0.41443893]), array([0.24750711]))\n",
      "(array([0.56310659]), array([0.67139096]))\n",
      "(array([0.21224545]), array([0.20464275]))\n",
      "(array([0.7659581]), array([0.81511421]))\n",
      "(array([0.52495245]), array([0.5340761]))\n",
      "(array([0.47056335]), array([0.53410269]))\n",
      "(array([0.68217327]), array([0.82745234]))\n",
      "(array([0.64409961]), array([0.47241205]))\n",
      "(array([0.39901209]), array([0.26468477]))\n",
      "(array([0.48820566]), array([0.43215359]))\n",
      "(array([0.49366799]), array([0.39965964]))\n",
      "(array([0.57782447]), array([0.64974606]))\n",
      "(array([0.59329068]), array([0.61400803]))\n",
      "(array([0.47083288]), array([0.49629058]))\n",
      "(array([0.44060555]), array([0.3070439]))\n",
      "(array([0.56860933]), array([0.64469381]))\n",
      "(array([0.58382274]), array([0.69003111]))\n",
      "(array([0.57792317]), array([0.46265323]))\n",
      "(array([0.47811524]), array([0.57058526]))\n",
      "(array([0.62199754]), array([0.44558194]))\n",
      "(array([0.61081957]), array([0.74749382]))\n",
      "(array([0.72000734]), array([0.79296408]))\n",
      "(array([0.20992999]), array([0.0199431]))\n",
      "(array([0.6478907]), array([0.6450129]))\n",
      "(array([0.4352276]), array([0.26976361]))\n",
      "(array([0.41951245]), array([0.68064456]))\n",
      "(array([0.73946952]), array([0.66960938]))\n",
      "(array([0.40567068]), array([0.23477012]))\n",
      "(array([0.2555481]), array([0.23370649]))\n",
      "(array([0.81958219]), array([0.75371606]))\n",
      "(array([0.39891515]), array([0.31262797]))\n",
      "(array([0.68112168]), array([0.79019863]))\n",
      "(array([0.65689563]), array([0.72957162]))\n",
      "(array([0.52770133]), array([0.76522988]))\n",
      "(array([0.49739408]), array([0.36979818]))\n",
      "(array([0.55788639]), array([0.74411679]))\n",
      "(array([0.59867385]), array([0.70957535]))\n",
      "(array([0.60178272]), array([0.61828915]))\n",
      "(array([0.56761049]), array([0.67266732]))\n",
      "(array([0.5806403]), array([0.62105459]))\n",
      "(array([0.57487251]), array([0.86537081]))\n",
      "(array([0.51372939]), array([0.61065759]))\n",
      "(array([0.57992868]), array([0.58183317]))\n",
      "(array([0.82511734]), array([0.66998165]))\n",
      "(array([0.54950943]), array([0.48935039]))\n",
      "(array([0.75231766]), array([0.43390858]))\n",
      "(array([0.56112196]), array([0.56598506]))\n",
      "(array([0.55847664]), array([0.69431223]))\n",
      "(array([0.41172114]), array([0.26417954]))\n",
      "(array([0.61581761]), array([0.57906773]))\n",
      "(array([0.47971362]), array([0.41377935]))\n",
      "(array([0.72959115]), array([0.71611668]))\n",
      "(array([0.42143347]), array([0.29313692]))\n",
      "(array([0.74596922]), array([0.78147685]))\n",
      "(array([0.55172345]), array([0.58337544]))\n",
      "(array([0.63781688]), array([0.63804611]))\n",
      "(array([0.32820859]), array([0.13946872]))\n",
      "(array([0.36097921]), array([0.36463956]))\n",
      "(array([0.4773325]), array([0.38923605]))\n",
      "(array([0.52783847]), array([0.36889409]))\n",
      "(array([0.60155792]), array([0.68136251]))\n",
      "(array([0.49738075]), array([0.52673704]))\n",
      "(array([0.3990796]), array([0.31996703]))\n",
      "(array([0.78237749]), array([0.4072646]))\n",
      "(array([0.7162828]), array([0.79429362]))\n",
      "(array([0.61826043]), array([0.66673758]))\n",
      "(array([0.63541937]), array([0.63565294]))\n",
      "(array([0.48985133]), array([0.60278672]))\n",
      "(array([0.44172879]), array([0.68434068]))\n",
      "(array([0.72559979]), array([0.85324541]))\n",
      "(array([0.24406165]), array([0.25056505]))\n",
      "(array([0.77026514]), array([0.72638073]))\n",
      "(array([0.5578157]), array([0.62794161]))\n",
      "(array([0.50679421]), array([0.6727205]))\n",
      "(array([0.66608942]), array([0.72850799]))\n",
      "(array([0.56415549]), array([0.76132103]))\n",
      "(array([0.33147481]), array([0.37875927]))\n",
      "(array([0.74431467]), array([0.82686734]))\n",
      "(array([0.4362871]), array([0.30528891]))\n",
      "(array([0.58805191]), array([0.60377057]))\n",
      "(array([0.58264275]), array([0.71601032]))\n",
      "(array([0.48187167]), array([0.66171192]))\n",
      "(array([0.58912008]), array([0.3128141]))\n",
      "(array([0.62516751]), array([0.71941394]))\n",
      "(array([0.56571009]), array([0.51631345]))\n",
      "(array([0.68642653]), array([0.82146941]))\n",
      "(array([0.793554]), array([0.69604063]))\n",
      "(array([0.45629048]), array([0.33546946]))\n",
      "(array([0.51500743]), array([0.50277874]))\n",
      "(array([0.31691161]), array([0.30310846]))\n",
      "(array([0.61830481]), array([0.6045683]))\n",
      "(array([0.48950501]), array([0.52849204]))\n",
      "(array([0.46832908]), array([0.31690909]))\n",
      "(array([0.60194276]), array([0.38787992]))\n",
      "(array([0.23766803]), array([0.15534342]))\n",
      "(array([0.70020204]), array([0.84899088]))\n",
      "(array([0.71721999]), array([0.82931369]))\n",
      "(array([0.64499888]), array([0.68130933]))\n",
      "(array([0.28027554]), array([0.52748159]))\n",
      "(array([0.66462116]), array([0.694977]))\n",
      "(array([0.51735092]), array([0.33733082]))\n",
      "(array([0.76014899]), array([0.84016274]))\n",
      "(array([0.68873558]), array([0.78950727]))\n",
      "(array([0.54255673]), array([0.52269524]))\n",
      "(array([0.53074561]), array([0.64352381]))\n",
      "(array([0.57255485]), array([0.52490228]))\n",
      "(array([0.46207362]), array([0.46754594]))\n",
      "(array([0.65394265]), array([0.70691627]))\n",
      "(array([0.74133656]), array([0.76823464]))\n",
      "(array([0.53173199]), array([0.46456777]))\n",
      "(array([0.68307444]), array([0.60573829]))\n",
      "(array([0.33287588]), array([0.28351105]))\n",
      "(array([0.43784281]), array([0.36509161]))\n",
      "(array([0.59806753]), array([0.66168532]))\n",
      "(array([0.53377241]), array([0.63645066]))\n",
      "(array([0.34373048]), array([0.21192863]))\n",
      "(array([0.52291002]), array([0.47451272]))\n",
      "(array([0.76544501]), array([0.52389183]))\n",
      "(array([0.63752737]), array([0.67341186]))\n",
      "(array([0.57623627]), array([0.6057117]))\n",
      "(array([0.78672014]), array([0.34530805]))\n",
      "(array([0.49890005]), array([0.44797511]))\n",
      "(array([0.73695762]), array([0.86215332]))\n",
      "(array([0.66574304]), array([0.62951046]))\n",
      "(array([0.57113623]), array([0.53790518]))\n",
      "(array([0.59489135]), array([0.54463265]))\n"
     ]
    },
    {
     "name": "stdout",
     "output_type": "stream",
     "text": [
      "(array([0.65544311]), array([0.80777515]))\n",
      "(array([0.73941015]), array([0.73270934]))\n",
      "(array([0.4715514]), array([0.41957614]))\n",
      "(array([0.54900758]), array([0.47908634]))\n",
      "(array([0.59266426]), array([0.61948573]))\n",
      "(array([0.61606774]), array([0.60204217]))\n",
      "(array([0.33721281]), array([0.12375356]))\n",
      "(array([0.42709197]), array([0.32470019]))\n",
      "(array([0.52553001]), array([0.80910469]))\n",
      "(array([0.39764121]), array([0.32587018]))\n",
      "(array([0.70732757]), array([0.80232404]))\n",
      "(array([0.47494346]), array([0.39117717]))\n",
      "(array([0.72304129]), array([0.75517856]))\n",
      "(array([0.52583313]), array([0.52506182]))\n",
      "(array([0.58470552]), array([0.55505624]))\n",
      "(array([0.64947276]), array([0.64937379]))\n",
      "(array([0.49342877]), array([0.45624485]))\n",
      "(array([0.32350705]), array([0.19677188]))\n",
      "(array([0.61185605]), array([0.70917648]))\n",
      "(array([0.51066991]), array([0.53277315]))\n",
      "(array([0.57933473]), array([0.4936315]))\n",
      "(array([0.40819365]), array([0.52508841]))\n",
      "(array([0.49422762]), array([0.36315048]))\n",
      "(array([0.65182435]), array([0.71332465]))\n",
      "(array([0.46278309]), array([0.43146223]))\n"
     ]
    }
   ],
   "source": [
    "for i in zip(y_pred,y_test):\n",
    "    print(i)"
   ]
  },
  {
   "cell_type": "code",
   "execution_count": 23,
   "metadata": {},
   "outputs": [],
   "source": [
    "from sklearn.metrics import mean_squared_error, r2_score"
   ]
  },
  {
   "cell_type": "code",
   "execution_count": 24,
   "metadata": {},
   "outputs": [
    {
     "data": {
      "text/plain": [
       "0.014696564702311454"
      ]
     },
     "execution_count": 24,
     "metadata": {},
     "output_type": "execute_result"
    }
   ],
   "source": [
    "mean_squared_error(y_test,y_pred)"
   ]
  },
  {
   "cell_type": "code",
   "execution_count": 25,
   "metadata": {},
   "outputs": [
    {
     "data": {
      "text/plain": [
       "0.560067642814602"
      ]
     },
     "execution_count": 25,
     "metadata": {},
     "output_type": "execute_result"
    }
   ],
   "source": [
    "r2_score(y_test,y_pred)   # it tells that if there are 100 pts then 56 pts are fit correctly"
   ]
  },
  {
   "cell_type": "code",
   "execution_count": 32,
   "metadata": {},
   "outputs": [
    {
     "ename": "ValueError",
     "evalue": "shapes (301,1) and (5,1) not aligned: 1 (dim 1) != 5 (dim 0)",
     "output_type": "error",
     "traceback": [
      "\u001b[1;31m---------------------------------------------------------------------------\u001b[0m",
      "\u001b[1;31mValueError\u001b[0m                                Traceback (most recent call last)",
      "\u001b[1;32m<ipython-input-32-61e8291fb1ff>\u001b[0m in \u001b[0;36m<module>\u001b[1;34m()\u001b[0m\n\u001b[1;32m----> 1\u001b[1;33m \u001b[0mregressor\u001b[0m\u001b[1;33m.\u001b[0m\u001b[0mscore\u001b[0m\u001b[1;33m(\u001b[0m\u001b[0my_pred\u001b[0m\u001b[1;33m,\u001b[0m\u001b[0my_test\u001b[0m\u001b[1;33m)\u001b[0m\u001b[1;33m\u001b[0m\u001b[0m\n\u001b[0m",
      "\u001b[1;32m~\\AppData\\Local\\Continuum\\anaconda3\\lib\\site-packages\\sklearn\\base.py\u001b[0m in \u001b[0;36mscore\u001b[1;34m(self, X, y, sample_weight)\u001b[0m\n\u001b[0;32m    384\u001b[0m \u001b[1;33m\u001b[0m\u001b[0m\n\u001b[0;32m    385\u001b[0m         \u001b[1;32mfrom\u001b[0m \u001b[1;33m.\u001b[0m\u001b[0mmetrics\u001b[0m \u001b[1;32mimport\u001b[0m \u001b[0mr2_score\u001b[0m\u001b[1;33m\u001b[0m\u001b[0m\n\u001b[1;32m--> 386\u001b[1;33m         return r2_score(y, self.predict(X), sample_weight=sample_weight,\n\u001b[0m\u001b[0;32m    387\u001b[0m                         multioutput='variance_weighted')\n\u001b[0;32m    388\u001b[0m \u001b[1;33m\u001b[0m\u001b[0m\n",
      "\u001b[1;32m~\\AppData\\Local\\Continuum\\anaconda3\\lib\\site-packages\\sklearn\\linear_model\\base.py\u001b[0m in \u001b[0;36mpredict\u001b[1;34m(self, X)\u001b[0m\n\u001b[0;32m    254\u001b[0m             \u001b[0mReturns\u001b[0m \u001b[0mpredicted\u001b[0m \u001b[0mvalues\u001b[0m\u001b[1;33m.\u001b[0m\u001b[1;33m\u001b[0m\u001b[0m\n\u001b[0;32m    255\u001b[0m         \"\"\"\n\u001b[1;32m--> 256\u001b[1;33m         \u001b[1;32mreturn\u001b[0m \u001b[0mself\u001b[0m\u001b[1;33m.\u001b[0m\u001b[0m_decision_function\u001b[0m\u001b[1;33m(\u001b[0m\u001b[0mX\u001b[0m\u001b[1;33m)\u001b[0m\u001b[1;33m\u001b[0m\u001b[0m\n\u001b[0m\u001b[0;32m    257\u001b[0m \u001b[1;33m\u001b[0m\u001b[0m\n\u001b[0;32m    258\u001b[0m     \u001b[0m_preprocess_data\u001b[0m \u001b[1;33m=\u001b[0m \u001b[0mstaticmethod\u001b[0m\u001b[1;33m(\u001b[0m\u001b[0m_preprocess_data\u001b[0m\u001b[1;33m)\u001b[0m\u001b[1;33m\u001b[0m\u001b[0m\n",
      "\u001b[1;32m~\\AppData\\Local\\Continuum\\anaconda3\\lib\\site-packages\\sklearn\\linear_model\\base.py\u001b[0m in \u001b[0;36m_decision_function\u001b[1;34m(self, X)\u001b[0m\n\u001b[0;32m    239\u001b[0m         \u001b[0mX\u001b[0m \u001b[1;33m=\u001b[0m \u001b[0mcheck_array\u001b[0m\u001b[1;33m(\u001b[0m\u001b[0mX\u001b[0m\u001b[1;33m,\u001b[0m \u001b[0maccept_sparse\u001b[0m\u001b[1;33m=\u001b[0m\u001b[1;33m[\u001b[0m\u001b[1;34m'csr'\u001b[0m\u001b[1;33m,\u001b[0m \u001b[1;34m'csc'\u001b[0m\u001b[1;33m,\u001b[0m \u001b[1;34m'coo'\u001b[0m\u001b[1;33m]\u001b[0m\u001b[1;33m)\u001b[0m\u001b[1;33m\u001b[0m\u001b[0m\n\u001b[0;32m    240\u001b[0m         return safe_sparse_dot(X, self.coef_.T,\n\u001b[1;32m--> 241\u001b[1;33m                                dense_output=True) + self.intercept_\n\u001b[0m\u001b[0;32m    242\u001b[0m \u001b[1;33m\u001b[0m\u001b[0m\n\u001b[0;32m    243\u001b[0m     \u001b[1;32mdef\u001b[0m \u001b[0mpredict\u001b[0m\u001b[1;33m(\u001b[0m\u001b[0mself\u001b[0m\u001b[1;33m,\u001b[0m \u001b[0mX\u001b[0m\u001b[1;33m)\u001b[0m\u001b[1;33m:\u001b[0m\u001b[1;33m\u001b[0m\u001b[0m\n",
      "\u001b[1;32m~\\AppData\\Local\\Continuum\\anaconda3\\lib\\site-packages\\sklearn\\utils\\extmath.py\u001b[0m in \u001b[0;36msafe_sparse_dot\u001b[1;34m(a, b, dense_output)\u001b[0m\n\u001b[0;32m    138\u001b[0m         \u001b[1;32mreturn\u001b[0m \u001b[0mret\u001b[0m\u001b[1;33m\u001b[0m\u001b[0m\n\u001b[0;32m    139\u001b[0m     \u001b[1;32melse\u001b[0m\u001b[1;33m:\u001b[0m\u001b[1;33m\u001b[0m\u001b[0m\n\u001b[1;32m--> 140\u001b[1;33m         \u001b[1;32mreturn\u001b[0m \u001b[0mnp\u001b[0m\u001b[1;33m.\u001b[0m\u001b[0mdot\u001b[0m\u001b[1;33m(\u001b[0m\u001b[0ma\u001b[0m\u001b[1;33m,\u001b[0m \u001b[0mb\u001b[0m\u001b[1;33m)\u001b[0m\u001b[1;33m\u001b[0m\u001b[0m\n\u001b[0m\u001b[0;32m    141\u001b[0m \u001b[1;33m\u001b[0m\u001b[0m\n\u001b[0;32m    142\u001b[0m \u001b[1;33m\u001b[0m\u001b[0m\n",
      "\u001b[1;31mValueError\u001b[0m: shapes (301,1) and (5,1) not aligned: 1 (dim 1) != 5 (dim 0)"
     ]
    }
   ],
   "source": [
    "regressor.score(y_test,y_pred)"
   ]
  },
  {
   "cell_type": "code",
   "execution_count": 30,
   "metadata": {},
   "outputs": [
    {
     "data": {
      "text/plain": [
       "(301, 1)"
      ]
     },
     "execution_count": 30,
     "metadata": {},
     "output_type": "execute_result"
    }
   ],
   "source": [
    "y_pred.shape"
   ]
  },
  {
   "cell_type": "code",
   "execution_count": 31,
   "metadata": {},
   "outputs": [
    {
     "data": {
      "text/plain": [
       "(301, 1)"
      ]
     },
     "execution_count": 31,
     "metadata": {},
     "output_type": "execute_result"
    }
   ],
   "source": [
    "y_test.shape"
   ]
  },
  {
   "cell_type": "code",
   "execution_count": null,
   "metadata": {},
   "outputs": [],
   "source": []
  }
 ],
 "metadata": {
  "kernelspec": {
   "display_name": "Python 3",
   "language": "python",
   "name": "python3"
  },
  "language_info": {
   "codemirror_mode": {
    "name": "ipython",
    "version": 3
   },
   "file_extension": ".py",
   "mimetype": "text/x-python",
   "name": "python",
   "nbconvert_exporter": "python",
   "pygments_lexer": "ipython3",
   "version": "3.6.4"
  }
 },
 "nbformat": 4,
 "nbformat_minor": 2
}
