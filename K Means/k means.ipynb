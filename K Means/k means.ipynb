{
 "cells": [
  {
   "cell_type": "code",
   "execution_count": 1,
   "metadata": {},
   "outputs": [],
   "source": [
    "# Importing required Packages\n",
    "import pandas as pd\n",
    "import numpy as np\n",
    "import matplotlib.pyplot as plt\n",
    "from sklearn.model_selection import train_test_split\n",
    "\n",
    "#Importing dataset\n",
    "from sklearn.datasets import load_wine"
   ]
  },
  {
   "cell_type": "code",
   "execution_count": 2,
   "metadata": {},
   "outputs": [],
   "source": [
    "k = 3 # defining the number of classes\n",
    "tol = 0.001 #tolerance - This represents the degree of movement that is allowed for the centroids\n",
    "max_iter = 300 # maximum number of iterations\n",
    "colors = 10*[\"g\",\"r\",\"c\",\"b\",\"k\",'y'] # color values to plot the graph"
   ]
  },
  {
   "cell_type": "code",
   "execution_count": 31,
   "metadata": {},
   "outputs": [],
   "source": [
    "# Fit function is written to train the centroids. \n",
    "#Basically we are going to find the centroid position with the help of this function\n",
    "def fit(data,k,max_iter,tol):\n",
    "\t\t\n",
    "    centroids = {} # creating an empty dictionary to keep track of the centroid values\n",
    "    \n",
    "    for i in range(k): \n",
    "        centroids[i] = data[i] \n",
    "        # Assigning the initial centroid values based on the input data.\n",
    "        #Here, since the k value is 3, the first 3 values of the data is assigned as centroid\n",
    "        \n",
    "    for i in range(max_iter):\n",
    "        classifications = {} # creating an empty dictionary to keep track of which all points belong to which centroid.\n",
    "\n",
    "        for i in range(k):\n",
    "            classifications[i] = [] \n",
    "            # we are creating 3 empty lists for each class. \n",
    "            #The classification dictionary is going to look something like this classifications = {0:[], 1:[], 2:[]}\n",
    "        for featureset in data: # We are going to go through every data point present. \n",
    "\n",
    "\t\t\t\t\t\t# Here we are calculating the distance of each data point from all the three centroids \n",
    "\t\t\t\t\t\t# and then we are finding the minimum value amongst the calculated distance. The centroid \n",
    "\t\t\t\t\t\t# which gives us the minimum value is assigned with that data point\n",
    "\n",
    "            distances = [np.linalg.norm(featureset-centroids[centroid]) for centroid in centroids] \n",
    "            classification = distances.index(min(distances)) \n",
    "            # This gives the index value of the position in the list, where the minimum value is present. \n",
    "            #This index value gives us the index value\n",
    "            classifications[classification].append(featureset) # Appending the minimum value to the respective index value\n",
    "\n",
    "        prev_centroids = dict(centroids) \n",
    "        # Assigning the current centroid values to a new dictionary called prev_centroid\n",
    "        #as the value of the centroid is going to change\n",
    "        \n",
    "\t\t\t\t# Here we are going to update the centroid value by calculating the average of\n",
    "                #all the data values that are assigned to that particular class\n",
    "        for classification in classifications:\n",
    "            centroids[classification] = np.average(classifications[classification],axis=0)\n",
    "            \n",
    "        optimized = True\n",
    "\t\t\t\t\n",
    "\t\t\t\t# In this for loop we are going to calculate by what degree or by what value has the centroid moved. \n",
    "        for c in centroids: # Calculating the degree of change for each centroid \n",
    "            original_centroid = prev_centroids[c]\n",
    "            current_centroid = centroids[c]\n",
    "\t\t\t\t\t\t\n",
    "# the sum operation is summing up the values in the list. We have to perform the sum to basically \n",
    "# calculate the total degree of change and it becomes easy for us to compare with the tolerance value.\n",
    "# This sum value is compared with the tolerance value. If the tolerance value is less than the sum,\n",
    "# then the cycle is continued. \n",
    "# This cycle of operation is carried out until the sum value goes less than the tolerance value.\n",
    "\n",
    "            if np.sum((current_centroid-original_centroid)/original_centroid*100.0) > tol: \n",
    "                optimized = False\n",
    "\t\t\t\t\n",
    "        if optimized:\n",
    "            break\n",
    "    return centroids, classifications\n",
    "\n",
    "# Here we are going to predict to which a particular given data point belongs to\n",
    "def predict(data,centroids):\n",
    "    distances = [np.linalg.norm(data-centroids[centroid]) for centroid in centroids]\n",
    "    classification = distances.index(min(distances))\n",
    "    return classification  "
   ]
  },
  {
   "cell_type": "code",
   "execution_count": 32,
   "metadata": {},
   "outputs": [],
   "source": [
    "# Data initialization\n",
    "wine = load_wine()\n",
    "X = pd.DataFrame(wine.data, columns=wine.feature_names)\n",
    "Y = pd.DataFrame(wine.target, columns=['target'])"
   ]
  },
  {
   "cell_type": "code",
   "execution_count": 33,
   "metadata": {},
   "outputs": [],
   "source": [
    "# Normalization\n",
    "X = (X-X.min()) / (X.max()-X.min())\n",
    "\n",
    "# Data splitting for train and test\n",
    "xtrain, xtest, ytrain, ytest = train_test_split(X,Y, test_size=0.3)"
   ]
  },
  {
   "cell_type": "code",
   "execution_count": 34,
   "metadata": {},
   "outputs": [],
   "source": [
    "# choosing a feature\n",
    "f1 = 'hue'\n",
    "f2 = 'proline'\n",
    "basex = np.array(xtrain[[f1, f2]])\n",
    "basey = np.array(ytrain['target'])\n",
    "\n",
    "xtest = np.array(xtest[[f1, f2]])\n",
    "ytest = np.array(ytest['target'])"
   ]
  },
  {
   "cell_type": "code",
   "execution_count": 35,
   "metadata": {},
   "outputs": [],
   "source": [
    "x = pd.DataFrame(basex)\n",
    "y = basey"
   ]
  },
  {
   "cell_type": "code",
   "execution_count": 36,
   "metadata": {},
   "outputs": [],
   "source": [
    "centroids, classifications = fit(basex,k,max_iter,tol)"
   ]
  },
  {
   "cell_type": "code",
   "execution_count": 37,
   "metadata": {},
   "outputs": [
    {
     "data": {
      "image/png": "[encoded data removed]",
      "text/plain": [
       "<matplotlib.figure.Figure at 0x254d4cbc748>"
      ]
     },
     "metadata": {},
     "output_type": "display_data"
    }
   ],
   "source": [
    "# Code to plot the graph below\n",
    "\n",
    "for centroid in centroids:\n",
    "    plt.scatter(centroids[centroid][0], centroids[centroid][1], marker='o', color='k', s=50)\n",
    "\n",
    "for classification in classifications:\n",
    "    color = colors[classification]\n",
    "    for featureset in classifications[classification]:\n",
    "        plt.scatter(featureset[0], featureset[1], marker='.', color=color, s=50)\n",
    "\n",
    "for unknown in xtest:\n",
    "    classification = predict(unknown,centroids)\n",
    "    plt.scatter(unknown[0], unknown[1], marker='*', color=colors[classification], s=50)"
   ]
  },
  {
   "cell_type": "code",
   "execution_count": null,
   "metadata": {},
   "outputs": [],
   "source": []
  }
 ],
 "metadata": {
  "kernelspec": {
   "display_name": "Python 3",
   "language": "python",
   "name": "python3"
  },
  "language_info": {
   "codemirror_mode": {
    "name": "ipython",
    "version": 3
   },
   "file_extension": ".py",
   "mimetype": "text/x-python",
   "name": "python",
   "nbconvert_exporter": "python",
   "pygments_lexer": "ipython3",
   "version": "3.6.4"
  }
 },
 "nbformat": 4,
 "nbformat_minor": 2
}
