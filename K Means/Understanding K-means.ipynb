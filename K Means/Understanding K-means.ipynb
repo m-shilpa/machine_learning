{
 "cells": [
  {
   "cell_type": "code",
   "execution_count": 1,
   "metadata": {},
   "outputs": [],
   "source": [
    "import numpy as np\n",
    "import pandas as pd\n",
    "import matplotlib.pyplot as plt\n",
    "\n"
   ]
  },
  {
   "cell_type": "code",
   "execution_count": 2,
   "metadata": {},
   "outputs": [],
   "source": [
    "k = 2\n",
    "cent_change = 0.0001\n",
    "max_iter = 300"
   ]
  },
  {
   "cell_type": "code",
   "execution_count": 21,
   "metadata": {},
   "outputs": [],
   "source": [
    "colors = ['g','r','c','b','k','y']"
   ]
  },
  {
   "cell_type": "code",
   "execution_count": 4,
   "metadata": {},
   "outputs": [],
   "source": [
    "def fit(data,k,max_iter,tol):\n",
    "    \n",
    "    centroids = {}\n",
    "    for i in range(k):\n",
    "        centroids[i] = data[i]\n",
    "        \n",
    "    for i in range(max_iter):\n",
    "        classifications = {}\n",
    "        \n",
    "        for i in range(k):\n",
    "            classifications[i] = []    \n",
    "            \n",
    "        for featureset in data:\n",
    "            distances = [np.linalg.norm(featureset - centroids[centroid]) for centroid in centroids]\n",
    "            classification = distances.index(min(distances))\n",
    "            classifications[classification].append(featureset)\n",
    "            \n",
    "        prev_centroids = dict(centroids)\n",
    "        \n",
    "        for classification in classifications:\n",
    "            centroids[classification] = np.average(classifications[classification], axis=0)\n",
    "            \n",
    "        optimized = True\n",
    "        \n",
    "        for c in centroids:\n",
    "            original_centroid = prev_centroids[c]\n",
    "            current_centroid = centroids[c]\n",
    "            if np.sum((current_centroid - original_centroid)/original_centroid*100.0) >tol:\n",
    "                optimized = False\n",
    "                \n",
    "            if optimized:\n",
    "                break\n",
    "        return centroids,classifications"
   ]
  },
  {
   "cell_type": "code",
   "execution_count": 5,
   "metadata": {},
   "outputs": [],
   "source": [
    "def predict(data,centroids):\n",
    "    distances = [np.linalg.norm(data - centroids[centroid]) for centroid in centroids]\n",
    "    classification = distances.index(min(distances))\n",
    "    return classification"
   ]
  },
  {
   "cell_type": "code",
   "execution_count": 6,
   "metadata": {},
   "outputs": [],
   "source": [
    "# x = np.array([[1,2],\n",
    "#             [1.5,1.8],\n",
    "#             [5,8],\n",
    "#              [1,0.6],\n",
    "#              [9,11]]\n",
    "#             )"
   ]
  },
  {
   "cell_type": "code",
   "execution_count": 7,
   "metadata": {},
   "outputs": [],
   "source": [
    "# plt.scatter(x[:,0],x[:,1], s=100)"
   ]
  },
  {
   "cell_type": "code",
   "execution_count": 8,
   "metadata": {},
   "outputs": [],
   "source": [
    "# centroids,classifications = fit(x,k,max_iter,cent_change)"
   ]
  },
  {
   "cell_type": "code",
   "execution_count": 9,
   "metadata": {},
   "outputs": [],
   "source": [
    "# centroids"
   ]
  },
  {
   "cell_type": "code",
   "execution_count": 10,
   "metadata": {},
   "outputs": [],
   "source": [
    "# classifications"
   ]
  },
  {
   "cell_type": "code",
   "execution_count": 11,
   "metadata": {},
   "outputs": [],
   "source": [
    "# for class_1 in centroids:\n",
    "#     plt.scatter(centroids[class_1][0],centroids[class_1][1],marker='o',color='k',s=50)\n",
    "    \n",
    "# for class_2 in classifications:\n",
    "#     color = colors[class_2]\n",
    "    \n",
    "#     for featureset in classifications[class_2]:\n",
    "#         plt.scatter(featureset[0],featureset[1],marker='.',s=50)\n",
    "        \n",
    "# x_test = np.array([[1,3],\n",
    "#                    [8,9],\n",
    "#                    [0,3],\n",
    "#                    [5,4],\n",
    "#                    [6,4],\n",
    "#                   ])\n",
    "\n",
    "# for test in x_test:\n",
    "#     classification = predict(test,centroids)\n",
    "#     plt.scatter(test[0],test[1],marker = '*')"
   ]
  },
  {
   "cell_type": "code",
   "execution_count": 12,
   "metadata": {},
   "outputs": [],
   "source": [
    "from sklearn.datasets import load_wine\n",
    "from sklearn.model_selection import train_test_split"
   ]
  },
  {
   "cell_type": "code",
   "execution_count": 13,
   "metadata": {},
   "outputs": [],
   "source": [
    "wine = load_wine()\n",
    "x = pd.DataFrame(wine.data, columns=wine.feature_names)"
   ]
  },
  {
   "cell_type": "code",
   "execution_count": 14,
   "metadata": {},
   "outputs": [],
   "source": [
    "x = (x-x.min())/(x.max()-x.min())"
   ]
  },
  {
   "cell_type": "code",
   "execution_count": 15,
   "metadata": {},
   "outputs": [],
   "source": [
    "xtrain,xtest = train_test_split(x,test_size=0.3)"
   ]
  },
  {
   "cell_type": "code",
   "execution_count": 16,
   "metadata": {},
   "outputs": [],
   "source": [
    "f1 = 'hue'\n",
    "f2 = 'proline'\n",
    "\n",
    "basex = np.array(xtrain[[f1,f2]])\n",
    "xtest = np.array(xtest[[f1,f2]])"
   ]
  },
  {
   "cell_type": "code",
   "execution_count": 17,
   "metadata": {},
   "outputs": [],
   "source": [
    "centroids,classifications = fit(basex,k,max_iter,cent_change)"
   ]
  },
  {
   "cell_type": "code",
   "execution_count": 18,
   "metadata": {},
   "outputs": [
    {
     "data": {
      "text/plain": [
       "{0: array([0.29327421, 0.20206755]), 1: array([0.53208787, 0.50182111])}"
      ]
     },
     "execution_count": 18,
     "metadata": {},
     "output_type": "execute_result"
    }
   ],
   "source": [
    "centroids"
   ]
  },
  {
   "cell_type": "code",
   "execution_count": 19,
   "metadata": {},
   "outputs": [
    {
     "data": {
      "text/plain": [
       "{0: [array([0.08943089, 0.39728959]),\n",
       "  array([0.40650407, 0.12268188]),\n",
       "  array([0.21138211, 0.33666191]),\n",
       "  array([0.55284553, 0.04778887]),\n",
       "  array([0.17886179, 0.2403709 ]),\n",
       "  array([0.04878049, 0.24750357]),\n",
       "  array([0.46341463, 0.12268188]),\n",
       "  array([0.09756098, 0.31883024]),\n",
       "  array([0.2195122 , 0.26533524]),\n",
       "  array([0.10569106, 0.10485021]),\n",
       "  array([0.24390244, 0.17261056]),\n",
       "  array([0.30894309, 0.07132668]),\n",
       "  array([0.06504065, 0.17261056]),\n",
       "  array([0.25203252, 0.17261056]),\n",
       "  array([0.14634146, 0.20114123]),\n",
       "  array([0.09756098, 0.40085592]),\n",
       "  array([0.36585366, 0.07631954]),\n",
       "  array([0.20325203, 0.29743224]),\n",
       "  array([0.15447154, 0.42938659]),\n",
       "  array([0.17886179, 0.35805991]),\n",
       "  array([0.2601626 , 0.11412268]),\n",
       "  array([0.06504065, 0.2831669 ]),\n",
       "  array([0.07317073, 0.24393723]),\n",
       "  array([0.48780488, 0.14407989]),\n",
       "  array([0.6097561 , 0.10699001]),\n",
       "  array([0.37398374, 0.09771755]),\n",
       "  array([0.6097561 , 0.10699001]),\n",
       "  array([0.45528455, 0.2724679 ]),\n",
       "  array([0.07317073, 0.13694722]),\n",
       "  array([0.6097561 , 0.12268188]),\n",
       "  array([0.26829268, 0.21540656]),\n",
       "  array([0.60162602, 0.10128388]),\n",
       "  array([0.35772358, 0.06205421]),\n",
       "  array([0.09756098, 0.39372325]),\n",
       "  array([0.42276423, 0.16547789]),\n",
       "  array([0.38211382, 0.36875892]),\n",
       "  array([0.10569106, 0.20114123]),\n",
       "  array([0.17073171, 0.05278174]),\n",
       "  array([0.30894309, 0.02425107]),\n",
       "  array([0.2195122 , 0.20256776]),\n",
       "  array([0.57723577, 0.08131241]),\n",
       "  array([0.47154472, 0.04778887]),\n",
       "  array([0.2195122 , 0.31526391]),\n",
       "  array([0.30894309, 0.02639087]),\n",
       "  array([0.3495935 , 0.19400856]),\n",
       "  array([0.34146341, 0.03352354]),\n",
       "  array([0.42276423, 0.28673324]),\n",
       "  array([0.4796748 , 0.24750357]),\n",
       "  array([0.23577236, 0.2296719 ]),\n",
       "  array([0.17886179, 0.06704708]),\n",
       "  array([0.20325203, 0.07275321]),\n",
       "  array([0.17886179, 0.33666191]),\n",
       "  array([0.46341463, 0.17261056]),\n",
       "  array([0.08130081, 0.25820257]),\n",
       "  array([0.21138211, 0.17974322]),\n",
       "  array([0.33333333, 0.17261056]),\n",
       "  array([0.34634146, 0.42225392]),\n",
       "  array([0.45528455, 0.32596291]),\n",
       "  array([0.30081301, 0.29743224]),\n",
       "  array([0.50406504, 0.11126961]),\n",
       "  array([0.54471545, 0.0085592 ]),\n",
       "  array([0.36585366, 0.20399429]),\n",
       "  array([0.3902439 , 0.40442225]),\n",
       "  array([0.29268293, 0.16904422]),\n",
       "  array([0.40650407, 0.13837375]),\n",
       "  array([0.3902439 , 0.28673324]),\n",
       "  array([0.2601626 , 0.24750357]),\n",
       "  array([0.07317073, 0.19400856]),\n",
       "  array([0.05691057, 0.26533524]),\n",
       "  array([0.3902439 , 0.28673324]),\n",
       "  array([0.27642276, 0.28673324]),\n",
       "  array([0.57723577, 0.13195435]),\n",
       "  array([0.5203252 , 0.16547789]),\n",
       "  array([0.07317073, 0.2724679 ]),\n",
       "  array([0.        , 0.14407989]),\n",
       "  array([0.11382114, 0.2724679 ]),\n",
       "  array([0.24390244, 0.2296719 ])],\n",
       " 1: [array([0.4796748 , 0.70756063]),\n",
       "  array([0.3495935 , 0.53994294]),\n",
       "  array([0.62601626, 0.28673324]),\n",
       "  array([0.35772358, 0.55777461]),\n",
       "  array([0.49593496, 0.5256776 ]),\n",
       "  array([0.5203252 , 0.62196862]),\n",
       "  array([0.41463415, 0.43366619]),\n",
       "  array([0.55284553, 0.31098431]),\n",
       "  array([1.        , 0.09201141]),\n",
       "  array([0.43089431, 0.65049929]),\n",
       "  array([0.56097561, 0.7146933 ]),\n",
       "  array([0.6504065 , 0.31383738]),\n",
       "  array([0.73170732, 0.        ]),\n",
       "  array([0.4796748, 0.7146933]),\n",
       "  array([0.52845528, 0.39372325]),\n",
       "  array([0.3495935, 0.5042796]),\n",
       "  array([0.57723577, 0.2853067 ]),\n",
       "  array([0.57723577, 0.71825963]),\n",
       "  array([0.33333333, 0.71825963]),\n",
       "  array([0.40650407, 0.60057061]),\n",
       "  array([0.6097561, 0.2510699]),\n",
       "  array([0.62601626, 0.62196862]),\n",
       "  array([0.67479675, 0.2510699 ]),\n",
       "  array([0.45528455, 0.56134094]),\n",
       "  array([0.32520325, 0.58273894]),\n",
       "  array([0.6097561 , 0.50784593]),\n",
       "  array([0.61788618, 0.70399429]),\n",
       "  array([0.49593496, 0.42938659]),\n",
       "  array([0.45528455, 0.53994294]),\n",
       "  array([0.47154472, 0.7253923 ]),\n",
       "  array([0.76422764, 0.09129815]),\n",
       "  array([0.64227642, 0.30813124]),\n",
       "  array([0.46341463, 0.83594864]),\n",
       "  array([0.31707317, 0.57203994]),\n",
       "  array([0.58536585, 0.90513552]),\n",
       "  array([0.67479675, 0.5042796 ]),\n",
       "  array([0.71544715, 0.20256776]),\n",
       "  array([0.5203252 , 0.40442225]),\n",
       "  array([0.44715447, 0.64693295]),\n",
       "  array([0.49593496, 0.88231098]),\n",
       "  array([0.62601626, 0.68259629]),\n",
       "  array([0.43089431, 0.54707561]),\n",
       "  array([0.6097561 , 0.23466476]),\n",
       "  array([0.45528455, 0.45791726]),\n",
       "  array([0.49593496, 0.35805991]),\n",
       "  array([0.51219512, 0.53994294]),\n",
       "  array([0.48780488, 0.54707561])]}"
      ]
     },
     "execution_count": 19,
     "metadata": {},
     "output_type": "execute_result"
    }
   ],
   "source": [
    "classifications"
   ]
  },
  {
   "cell_type": "code",
   "execution_count": 22,
   "metadata": {},
   "outputs": [
    {
     "data": {
      "image/png": "[encoded data removed]",
      "text/plain": [
       "<matplotlib.figure.Figure at 0x180ba8b3da0>"
      ]
     },
     "metadata": {},
     "output_type": "display_data"
    }
   ],
   "source": [
    "for centroid in centroids:\n",
    "     plt.scatter(centroids[centroid][0],centroids[centroid][1],marker='o',color='k',s=50)\n",
    "        \n",
    "for classification in classifications:\n",
    "    color = colors[classification]\n",
    "    \n",
    "    for next_datapoint in classifications[classification]:\n",
    "        plt.scatter(next_datapoint[0],next_datapoint[1],marker = '.',color= color, s=50)\n",
    "        \n",
    "for test in xtest:\n",
    "    classification = predict(test, centroids)\n",
    "    plt.scatter(test[0],test[1],marker='*',color=colors[classification],s=100)\n",
    "    "
   ]
  },
  {
   "cell_type": "code",
   "execution_count": null,
   "metadata": {},
   "outputs": [],
   "source": []
  },
  {
   "cell_type": "code",
   "execution_count": null,
   "metadata": {},
   "outputs": [],
   "source": []
  }
 ],
 "metadata": {
  "kernelspec": {
   "display_name": "Python 3",
   "language": "python",
   "name": "python3"
  },
  "language_info": {
   "codemirror_mode": {
    "name": "ipython",
    "version": 3
   },
   "file_extension": ".py",
   "mimetype": "text/x-python",
   "name": "python",
   "nbconvert_exporter": "python",
   "pygments_lexer": "ipython3",
   "version": "3.6.4"
  }
 },
 "nbformat": 4,
 "nbformat_minor": 2
}
