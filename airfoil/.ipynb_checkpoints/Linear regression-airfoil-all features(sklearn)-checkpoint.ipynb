{
 "cells": [
  {
   "cell_type": "code",
   "execution_count": 1,
   "metadata": {},
   "outputs": [],
   "source": [
    "import numpy as np\n",
    "import pandas as pd\n",
    "import matplotlib.pyplot as plt\n",
    "\n",
    "from sklearn.datasets import load_boston"
   ]
  },
  {
   "cell_type": "code",
   "execution_count": 2,
   "metadata": {},
   "outputs": [],
   "source": [
    "# This problem has the following inputs: \n",
    "# 1. Frequency, in Hertzs. \n",
    "# 2. Angle of attack, in degrees. \n",
    "# 3. Chord length, in meters. \n",
    "# 4. Free-stream velocity, in meters per second. \n",
    "# 5. Suction side displacement thickness, in meters. \n",
    "\n",
    "# The only output is: \n",
    "# 6. Scaled sound pressure level, in decibels. "
   ]
  },
  {
   "cell_type": "code",
   "execution_count": 3,
   "metadata": {},
   "outputs": [],
   "source": [
    "feature_names = ['Frequency','Angle','Chord Length','velocity','displacement thickness','sound pressure']\n",
    "airfoil = pd.read_csv(\"./airfoil_self_noise.csv\",header=None,sep='\\t',names=feature_names)"
   ]
  },
  {
   "cell_type": "code",
   "execution_count": 4,
   "metadata": {},
   "outputs": [
    {
     "data": {
      "text/html": [
       "<div>\n",
       "<style scoped>\n",
       "    .dataframe tbody tr th:only-of-type {\n",
       "        vertical-align: middle;\n",
       "    }\n",
       "\n",
       "    .dataframe tbody tr th {\n",
       "        vertical-align: top;\n",
       "    }\n",
       "\n",
       "    .dataframe thead th {\n",
       "        text-align: right;\n",
       "    }\n",
       "</style>\n",
       "<table border=\"1\" class=\"dataframe\">\n",
       "  <thead>\n",
       "    <tr style=\"text-align: right;\">\n",
       "      <th></th>\n",
       "      <th>Frequency</th>\n",
       "      <th>Angle</th>\n",
       "      <th>Chord Length</th>\n",
       "      <th>velocity</th>\n",
       "      <th>displacement thickness</th>\n",
       "      <th>sound pressure</th>\n",
       "    </tr>\n",
       "  </thead>\n",
       "  <tbody>\n",
       "    <tr>\n",
       "      <th>0</th>\n",
       "      <td>800</td>\n",
       "      <td>0.0</td>\n",
       "      <td>0.3048</td>\n",
       "      <td>71.3</td>\n",
       "      <td>0.002663</td>\n",
       "      <td>126.201</td>\n",
       "    </tr>\n",
       "    <tr>\n",
       "      <th>1</th>\n",
       "      <td>1000</td>\n",
       "      <td>0.0</td>\n",
       "      <td>0.3048</td>\n",
       "      <td>71.3</td>\n",
       "      <td>0.002663</td>\n",
       "      <td>125.201</td>\n",
       "    </tr>\n",
       "    <tr>\n",
       "      <th>2</th>\n",
       "      <td>1250</td>\n",
       "      <td>0.0</td>\n",
       "      <td>0.3048</td>\n",
       "      <td>71.3</td>\n",
       "      <td>0.002663</td>\n",
       "      <td>125.951</td>\n",
       "    </tr>\n",
       "    <tr>\n",
       "      <th>3</th>\n",
       "      <td>1600</td>\n",
       "      <td>0.0</td>\n",
       "      <td>0.3048</td>\n",
       "      <td>71.3</td>\n",
       "      <td>0.002663</td>\n",
       "      <td>127.591</td>\n",
       "    </tr>\n",
       "    <tr>\n",
       "      <th>4</th>\n",
       "      <td>2000</td>\n",
       "      <td>0.0</td>\n",
       "      <td>0.3048</td>\n",
       "      <td>71.3</td>\n",
       "      <td>0.002663</td>\n",
       "      <td>127.461</td>\n",
       "    </tr>\n",
       "  </tbody>\n",
       "</table>\n",
       "</div>"
      ],
      "text/plain": [
       "   Frequency  Angle  Chord Length  velocity  displacement thickness  \\\n",
       "0        800    0.0        0.3048      71.3                0.002663   \n",
       "1       1000    0.0        0.3048      71.3                0.002663   \n",
       "2       1250    0.0        0.3048      71.3                0.002663   \n",
       "3       1600    0.0        0.3048      71.3                0.002663   \n",
       "4       2000    0.0        0.3048      71.3                0.002663   \n",
       "\n",
       "   sound pressure  \n",
       "0         126.201  \n",
       "1         125.201  \n",
       "2         125.951  \n",
       "3         127.591  \n",
       "4         127.461  "
      ]
     },
     "execution_count": 4,
     "metadata": {},
     "output_type": "execute_result"
    }
   ],
   "source": [
    "airfoil.head()"
   ]
  },
  {
   "cell_type": "code",
   "execution_count": 5,
   "metadata": {},
   "outputs": [
    {
     "data": {
      "text/html": [
       "<div>\n",
       "<style scoped>\n",
       "    .dataframe tbody tr th:only-of-type {\n",
       "        vertical-align: middle;\n",
       "    }\n",
       "\n",
       "    .dataframe tbody tr th {\n",
       "        vertical-align: top;\n",
       "    }\n",
       "\n",
       "    .dataframe thead th {\n",
       "        text-align: right;\n",
       "    }\n",
       "</style>\n",
       "<table border=\"1\" class=\"dataframe\">\n",
       "  <thead>\n",
       "    <tr style=\"text-align: right;\">\n",
       "      <th></th>\n",
       "      <th>Frequency</th>\n",
       "      <th>Angle</th>\n",
       "      <th>Chord Length</th>\n",
       "      <th>velocity</th>\n",
       "      <th>displacement thickness</th>\n",
       "      <th>sound pressure</th>\n",
       "    </tr>\n",
       "  </thead>\n",
       "  <tbody>\n",
       "    <tr>\n",
       "      <th>0</th>\n",
       "      <td>800</td>\n",
       "      <td>0.0</td>\n",
       "      <td>0.3048</td>\n",
       "      <td>71.3</td>\n",
       "      <td>0.002663</td>\n",
       "      <td>126.201</td>\n",
       "    </tr>\n",
       "    <tr>\n",
       "      <th>1</th>\n",
       "      <td>1000</td>\n",
       "      <td>0.0</td>\n",
       "      <td>0.3048</td>\n",
       "      <td>71.3</td>\n",
       "      <td>0.002663</td>\n",
       "      <td>125.201</td>\n",
       "    </tr>\n",
       "    <tr>\n",
       "      <th>2</th>\n",
       "      <td>1250</td>\n",
       "      <td>0.0</td>\n",
       "      <td>0.3048</td>\n",
       "      <td>71.3</td>\n",
       "      <td>0.002663</td>\n",
       "      <td>125.951</td>\n",
       "    </tr>\n",
       "    <tr>\n",
       "      <th>3</th>\n",
       "      <td>1600</td>\n",
       "      <td>0.0</td>\n",
       "      <td>0.3048</td>\n",
       "      <td>71.3</td>\n",
       "      <td>0.002663</td>\n",
       "      <td>127.591</td>\n",
       "    </tr>\n",
       "    <tr>\n",
       "      <th>4</th>\n",
       "      <td>2000</td>\n",
       "      <td>0.0</td>\n",
       "      <td>0.3048</td>\n",
       "      <td>71.3</td>\n",
       "      <td>0.002663</td>\n",
       "      <td>127.461</td>\n",
       "    </tr>\n",
       "  </tbody>\n",
       "</table>\n",
       "</div>"
      ],
      "text/plain": [
       "   Frequency  Angle  Chord Length  velocity  displacement thickness  \\\n",
       "0        800    0.0        0.3048      71.3                0.002663   \n",
       "1       1000    0.0        0.3048      71.3                0.002663   \n",
       "2       1250    0.0        0.3048      71.3                0.002663   \n",
       "3       1600    0.0        0.3048      71.3                0.002663   \n",
       "4       2000    0.0        0.3048      71.3                0.002663   \n",
       "\n",
       "   sound pressure  \n",
       "0         126.201  \n",
       "1         125.201  \n",
       "2         125.951  \n",
       "3         127.591  \n",
       "4         127.461  "
      ]
     },
     "execution_count": 5,
     "metadata": {},
     "output_type": "execute_result"
    }
   ],
   "source": [
    "airfoil = pd.DataFrame(airfoil)\n",
    "airfoil.head()"
   ]
  },
  {
   "cell_type": "code",
   "execution_count": 98,
   "metadata": {},
   "outputs": [
    {
     "data": {
      "text/html": [
       "<div>\n",
       "<style scoped>\n",
       "    .dataframe tbody tr th:only-of-type {\n",
       "        vertical-align: middle;\n",
       "    }\n",
       "\n",
       "    .dataframe tbody tr th {\n",
       "        vertical-align: top;\n",
       "    }\n",
       "\n",
       "    .dataframe thead th {\n",
       "        text-align: right;\n",
       "    }\n",
       "</style>\n",
       "<table border=\"1\" class=\"dataframe\">\n",
       "  <thead>\n",
       "    <tr style=\"text-align: right;\">\n",
       "      <th></th>\n",
       "      <th>Frequency</th>\n",
       "      <th>Angle</th>\n",
       "      <th>Chord Length</th>\n",
       "      <th>velocity</th>\n",
       "      <th>displacement thickness</th>\n",
       "    </tr>\n",
       "  </thead>\n",
       "  <tbody>\n",
       "    <tr>\n",
       "      <th>0</th>\n",
       "      <td>800</td>\n",
       "      <td>0.0</td>\n",
       "      <td>0.3048</td>\n",
       "      <td>71.3</td>\n",
       "      <td>0.002663</td>\n",
       "    </tr>\n",
       "    <tr>\n",
       "      <th>1</th>\n",
       "      <td>1000</td>\n",
       "      <td>0.0</td>\n",
       "      <td>0.3048</td>\n",
       "      <td>71.3</td>\n",
       "      <td>0.002663</td>\n",
       "    </tr>\n",
       "    <tr>\n",
       "      <th>2</th>\n",
       "      <td>1250</td>\n",
       "      <td>0.0</td>\n",
       "      <td>0.3048</td>\n",
       "      <td>71.3</td>\n",
       "      <td>0.002663</td>\n",
       "    </tr>\n",
       "    <tr>\n",
       "      <th>3</th>\n",
       "      <td>1600</td>\n",
       "      <td>0.0</td>\n",
       "      <td>0.3048</td>\n",
       "      <td>71.3</td>\n",
       "      <td>0.002663</td>\n",
       "    </tr>\n",
       "    <tr>\n",
       "      <th>4</th>\n",
       "      <td>2000</td>\n",
       "      <td>0.0</td>\n",
       "      <td>0.3048</td>\n",
       "      <td>71.3</td>\n",
       "      <td>0.002663</td>\n",
       "    </tr>\n",
       "  </tbody>\n",
       "</table>\n",
       "</div>"
      ],
      "text/plain": [
       "   Frequency  Angle  Chord Length  velocity  displacement thickness\n",
       "0        800    0.0        0.3048      71.3                0.002663\n",
       "1       1000    0.0        0.3048      71.3                0.002663\n",
       "2       1250    0.0        0.3048      71.3                0.002663\n",
       "3       1600    0.0        0.3048      71.3                0.002663\n",
       "4       2000    0.0        0.3048      71.3                0.002663"
      ]
     },
     "execution_count": 98,
     "metadata": {},
     "output_type": "execute_result"
    }
   ],
   "source": [
    "features = airfoil.loc[:,:'displacement thickness']\n",
    "features.head()"
   ]
  },
  {
   "cell_type": "code",
   "execution_count": 46,
   "metadata": {},
   "outputs": [
    {
     "data": {
      "text/plain": [
       "20000      6\n",
       "16000     13\n",
       "12500     25\n",
       "200       35\n",
       "250       42\n",
       "10000     42\n",
       "8000      52\n",
       "315       56\n",
       "400       69\n",
       "500       78\n",
       "630       88\n",
       "6300      89\n",
       "5000      95\n",
       "800       97\n",
       "1000      99\n",
       "1250     100\n",
       "4000     102\n",
       "1600     103\n",
       "3150     103\n",
       "2500     104\n",
       "2000     105\n",
       "Name: Frequency, dtype: int64"
      ]
     },
     "execution_count": 46,
     "metadata": {},
     "output_type": "execute_result"
    }
   ],
   "source": [
    "frequency = pd.Series(airfoil['Frequency'])\n",
    "frequency.value_counts().sort_values()"
   ]
  },
  {
   "cell_type": "code",
   "execution_count": 52,
   "metadata": {},
   "outputs": [
    {
     "data": {
      "text/plain": [
       "Frequency                   21\n",
       "Angle                       27\n",
       "Chord Length                 6\n",
       "velocity                     4\n",
       "displacement thickness     105\n",
       "sound pressure            1456\n",
       "dtype: int64"
      ]
     },
     "execution_count": 52,
     "metadata": {},
     "output_type": "execute_result"
    }
   ],
   "source": [
    "data = pd.DataFrame(airfoil)\n",
    "data.nunique()  # no. of unique values of each feature"
   ]
  },
  {
   "cell_type": "code",
   "execution_count": 36,
   "metadata": {},
   "outputs": [],
   "source": [
    "corelation = airfoil.corr('pearson') "
   ]
  },
  {
   "cell_type": "code",
   "execution_count": 37,
   "metadata": {},
   "outputs": [
    {
     "data": {
      "text/plain": [
       "Frequency                -0.390711\n",
       "displacement thickness   -0.312670\n",
       "Chord Length             -0.236162\n",
       "Angle                    -0.156108\n",
       "velocity                  0.125103\n",
       "sound pressure            1.000000\n",
       "Name: sound pressure, dtype: float64"
      ]
     },
     "execution_count": 37,
     "metadata": {},
     "output_type": "execute_result"
    }
   ],
   "source": [
    "corelation['sound pressure'].sort_values()"
   ]
  },
  {
   "cell_type": "code",
   "execution_count": 82,
   "metadata": {},
   "outputs": [],
   "source": [
    "from sklearn.preprocessing import MinMaxScaler"
   ]
  },
  {
   "cell_type": "code",
   "execution_count": 83,
   "metadata": {},
   "outputs": [],
   "source": [
    "scaler = MinMaxScaler()"
   ]
  },
  {
   "cell_type": "code",
   "execution_count": 84,
   "metadata": {},
   "outputs": [],
   "source": [
    "y = y.reshape(-1,1)"
   ]
  },
  {
   "cell_type": "code",
   "execution_count": 85,
   "metadata": {},
   "outputs": [],
   "source": [
    "y = scaler.fit_transform(y)"
   ]
  },
  {
   "cell_type": "code",
   "execution_count": 86,
   "metadata": {},
   "outputs": [],
   "source": [
    "from sklearn.model_selection import train_test_split "
   ]
  },
  {
   "cell_type": "code",
   "execution_count": 87,
   "metadata": {},
   "outputs": [],
   "source": [
    "x_train,x_test,y_train,y_test = train_test_split(features,y,test_size=0.2)"
   ]
  },
  {
   "cell_type": "code",
   "execution_count": 88,
   "metadata": {},
   "outputs": [],
   "source": [
    "from sklearn.linear_model import LinearRegression"
   ]
  },
  {
   "cell_type": "code",
   "execution_count": 89,
   "metadata": {},
   "outputs": [],
   "source": [
    "regressor = LinearRegression() "
   ]
  },
  {
   "cell_type": "code",
   "execution_count": 90,
   "metadata": {},
   "outputs": [
    {
     "data": {
      "text/plain": [
       "LinearRegression(copy_X=True, fit_intercept=True, n_jobs=1, normalize=False)"
      ]
     },
     "execution_count": 90,
     "metadata": {},
     "output_type": "execute_result"
    }
   ],
   "source": [
    "regressor.fit(x_train,y_train)"
   ]
  },
  {
   "cell_type": "code",
   "execution_count": 91,
   "metadata": {},
   "outputs": [],
   "source": [
    "y_pred = regressor.predict(x_test)"
   ]
  },
  {
   "cell_type": "code",
   "execution_count": 92,
   "metadata": {},
   "outputs": [
    {
     "name": "stdout",
     "output_type": "stream",
     "text": [
      "(array([0.53913906]), array([0.73414524]))\n",
      "(array([0.70083011]), array([0.81825192]))\n",
      "(array([0.45201945]), array([0.36128912]))\n",
      "(array([0.61931678]), array([0.73284229]))\n",
      "(array([0.13539038]), array([0.14202143]))\n",
      "(array([0.73521333]), array([0.36014572]))\n",
      "(array([0.52350109]), array([0.52798681]))\n",
      "(array([0.52041159]), array([0.73172548]))\n",
      "(array([0.74192864]), array([0.8113915]))\n",
      "(array([0.50765581]), array([0.55399261]))\n",
      "(array([0.68270679]), array([0.66250964]))\n",
      "(array([0.60878935]), array([0.59855878]))\n",
      "(array([0.59902032]), array([0.68136251]))\n",
      "(array([0.37932208]), array([0.24779961]))\n",
      "(array([0.5860363]), array([0.7348366]))\n",
      "(array([0.28303949]), array([0.19336826]))\n",
      "(array([0.65918722]), array([0.72223256]))\n",
      "(array([0.63601863]), array([0.65025128]))\n",
      "(array([0.49598476]), array([0.49044061]))\n",
      "(array([0.543628]), array([0.59390539]))\n",
      "(array([0.75473053]), array([0.77538756]))\n",
      "(array([0.43916845]), array([0.38543356]))\n",
      "(array([0.52239577]), array([0.59164517]))\n",
      "(array([0.57822125]), array([0.6057117]))\n",
      "(array([0.60935542]), array([0.59808014]))\n",
      "(array([0.44076871]), array([0.29061079]))\n",
      "(array([0.58064557]), array([0.75052517]))\n",
      "(array([0.56003799]), array([0.48788789]))\n",
      "(array([0.6155711]), array([0.64378972]))\n",
      "(array([0.63886253]), array([0.66532826]))\n",
      "(array([0.60334324]), array([0.48413859]))\n",
      "(array([0.32423462]), array([0.37875927]))\n",
      "(array([0.52581877]), array([0.62389981]))\n",
      "(array([0.75015453]), array([0.79495839]))\n",
      "(array([0.66507595]), array([0.60855692]))\n",
      "(array([0.45540072]), array([0.31720158]))\n",
      "(array([0.32479254]), array([0.27704949]))\n",
      "(array([0.6121463]), array([0.38681628]))\n",
      "(array([0.35206336]), array([0.30632595]))\n",
      "(array([0.45992254]), array([0.59768128]))\n",
      "(array([0.79770973]), array([0.63355226]))\n",
      "(array([0.30204453]), array([0.16326748]))\n",
      "(array([0.56262877]), array([0.42040046]))\n",
      "(array([0.65542318]), array([0.68944611]))\n",
      "(array([0.67246714]), array([0.694977]))\n",
      "(array([0.53906871]), array([0.62913819]))\n",
      "(array([0.45108201]), array([0.33546946]))\n",
      "(array([0.71799937]), array([0.93448028]))\n",
      "(array([0.43962027]), array([0.42207568]))\n",
      "(array([0.53554098]), array([0.52333342]))\n",
      "(array([0.42204123]), array([0.34802032]))\n",
      "(array([0.68407527]), array([0.5424522]))\n",
      "(array([0.5340188]), array([0.50602281]))\n",
      "(array([0.66228934]), array([0.59659106]))\n",
      "(array([0.35754356]), array([0.12375356]))\n",
      "(array([0.73021145]), array([0.47262478]))\n",
      "(array([0.58080141]), array([0.39218762]))\n",
      "(array([0.61678868]), array([0.88861116]))\n",
      "(array([0.78807641]), array([0.70252878]))\n",
      "(array([0.40236609]), array([0.34198421]))\n",
      "(array([0.4826464]), array([0.40375462]))\n",
      "(array([0.52544596]), array([0.32281224]))\n",
      "(array([0.6272411]), array([0.59092722]))\n",
      "(array([0.41017256]), array([0.23625921]))\n",
      "(array([0.64340365]), array([0.73151275]))\n",
      "(array([0.6129181]), array([0.60858351]))\n",
      "(array([0.64732024]), array([0.17472811]))\n",
      "(array([0.36321948]), array([0.18419443]))\n",
      "(array([0.69054865]), array([0.78950727]))\n",
      "(array([0.47918351]), array([0.66171192]))\n",
      "(array([0.69654685]), array([0.72768368]))\n",
      "(array([0.68229687]), array([0.37269657]))\n",
      "(array([0.59239216]), array([0.6819741]))\n",
      "(array([0.54799343]), array([0.58427952]))\n",
      "(array([0.38439024]), array([0.25809025]))\n",
      "(array([0.60128878]), array([0.44840056]))\n",
      "(array([0.46991919]), array([0.52979498]))\n",
      "(array([0.5813674]), array([0.69963039]))\n",
      "(array([0.59748266]), array([0.67607094]))\n",
      "(array([0.75860158]), array([0.81511421]))\n",
      "(array([0.7225419]), array([0.61515143]))\n",
      "(array([0.6700796]), array([0.74685564]))\n",
      "(array([0.55230157]), array([0.48541495]))\n",
      "(array([0.59880795]), array([0.52774749]))\n",
      "(array([0.45506586]), array([0.44047651]))\n",
      "(array([0.65209475]), array([0.75589651]))\n",
      "(array([0.78025261]), array([0.79767065]))\n",
      "(array([0.5855598]), array([0.59007632]))\n",
      "(array([0.47518973]), array([0.49746058]))\n",
      "(array([0.45775506]), array([0.56736778]))\n",
      "(array([0.75406705]), array([0.81011514]))\n",
      "(array([0.4995421]), array([0.36315048]))\n",
      "(array([0.63199459]), array([0.63565294]))\n",
      "(array([0.46405598]), array([0.41829978]))\n",
      "(array([0.86848837]), array([0.6695562]))\n",
      "(array([0.61138078]), array([0.66107374]))\n",
      "(array([0.57242949]), array([0.39157604]))\n",
      "(array([0.79362647]), array([0.65325604]))\n",
      "(array([0.70525753]), array([0.60268035]))\n",
      "(array([0.63445525]), array([0.65836148]))\n",
      "(array([0.61931127]), array([0.57906773]))\n",
      "(array([0.71587522]), array([0.86821602]))\n",
      "(array([0.68043876]), array([0.80322812]))\n",
      "(array([0.62894345]), array([0.62344776]))\n",
      "(array([0.51765424]), array([0.48879198]))\n",
      "(array([0.75190861]), array([0.83888638]))\n",
      "(array([0.46563678]), array([0.39232058]))\n",
      "(array([0.45848782]), array([0.33028426]))\n",
      "(array([0.57874378]), array([0.76592124]))\n",
      "(array([0.55242257]), array([0.61906028]))\n",
      "(array([0.60644633]), array([0.63060069]))\n",
      "(array([0.72954922]), array([0.72497141]))\n",
      "(array([0.71316895]), array([0.82931369]))\n",
      "(array([0.57930171]), array([0.41641184]))\n",
      "(array([0.6489032]), array([0.78458798]))\n",
      "(array([0.42514194]), array([0.31725477]))\n",
      "(array([0.68740986]), array([0.48607972]))\n",
      "(array([0.42794824]), array([0.39176217]))\n",
      "(array([0.52173522]), array([0.79761746]))\n",
      "(array([0.32579244]), array([0.13946872]))\n",
      "(array([0.52729216]), array([0.42877656]))\n",
      "(array([0.59849081]), array([0.51317574]))\n",
      "(array([0.39565424]), array([0.45480895]))\n",
      "(array([0.71638276]), array([0.75517856]))\n",
      "(array([0.66936844]), array([0.83082937]))\n",
      "(array([0.64069104]), array([0.47241205]))\n",
      "(array([0.70148004]), array([0.78466775]))\n",
      "(array([0.60447675]), array([0.45940915]))\n",
      "(array([0.53266523]), array([0.8082006]))\n",
      "(array([0.57546479]), array([0.49964102]))\n",
      "(array([0.48652007]), array([0.44696466]))\n",
      "(array([0.65081128]), array([0.74991358]))\n",
      "(array([0.34205959]), array([0.35046667]))\n",
      "(array([0.44371605]), array([0.41529502]))\n",
      "(array([0.51613556]), array([0.45613848]))\n",
      "(array([0.52175762]), array([0.54019199]))\n",
      "(array([0.66857941]), array([0.93671391]))\n",
      "(array([0.56300004]), array([0.52976839]))\n",
      "(array([0.50964601]), array([0.72707209]))\n",
      "(array([0.75885281]), array([0.74635041]))\n",
      "(array([0.53574963]), array([0.64352381]))\n",
      "(array([0.37682668]), array([0.20621161]))\n",
      "(array([0.61227051]), array([0.6213205]))\n",
      "(array([0.42583009]), array([0.28465445]))\n",
      "(array([0.57282356]), array([0.4936315]))\n",
      "(array([0.5706247]), array([0.57305821]))\n",
      "(array([0.41540559]), array([0.52508841]))\n",
      "(array([0.82849923]), array([0.64464063]))\n",
      "(array([0.41846156]), array([0.38811923]))\n",
      "(array([0.57519841]), array([0.76770282]))\n",
      "(array([0.7542116]), array([0.66532826]))\n",
      "(array([0.33487548]), array([0.13367192]))\n",
      "(array([0.75622592]), array([0.63855133]))\n",
      "(array([0.58127704]), array([0.36099662]))\n",
      "(array([0.51021021]), array([0.5439147]))\n",
      "(array([0.57717264]), array([0.50498577]))\n",
      "(array([0.43591442]), array([0.25872843]))\n",
      "(array([0.7053837]), array([0.8538304]))\n",
      "(array([0.40156724]), array([0.18791714]))\n",
      "(array([0.59713333]), array([0.66365304]))\n",
      "(array([0.76818814]), array([0.8896482]))\n",
      "(array([0.36181373]), array([0.27861834]))\n",
      "(array([0.37564671]), array([0.42130454]))\n",
      "(array([0.62765962]), array([0.69840721]))\n",
      "(array([0.35536307]), array([0.20339299]))\n",
      "(array([0.5471145]), array([0.37487702]))\n",
      "(array([0.65710588]), array([0.75150903]))\n",
      "(array([0.38231589]), array([0.41439094]))\n",
      "(array([0.7136644]), array([0.9318212]))\n",
      "(array([0.48507715]), array([0.48142633]))\n",
      "(array([0.50717346]), array([0.66952961]))\n",
      "(array([0.50603644]), array([0.44749648]))\n",
      "(array([0.65908393]), array([0.63145159]))\n",
      "(array([0.60881171]), array([0.38787992]))\n",
      "(array([0.82987802]), array([0.89416864]))\n",
      "(array([0.5808485]), array([0.85058633]))\n",
      "(array([0.73304585]), array([0.4231659]))\n",
      "(array([0.49464001]), array([0.53349111]))\n",
      "(array([0.65395287]), array([0.61095009]))\n",
      "(array([0.732741]), array([0.60922169]))\n",
      "(array([0.72273724]), array([0.74190975]))\n",
      "(array([0.65245961]), array([0.68912702]))\n",
      "(array([0.51873342]), array([0.62828729]))\n",
      "(array([0.15227197]), array([0.07261946]))\n",
      "(array([0.59738922]), array([0.54508469]))\n",
      "(array([0.63298151]), array([0.50604941]))\n",
      "(array([0.66803957]), array([0.64809743]))\n",
      "(array([0.7484215]), array([0.52006275]))\n",
      "(array([0.79015147]), array([0.72122211]))\n",
      "(array([0.39231965]), array([0.31706863]))\n",
      "(array([0.71020392]), array([0.7177919]))\n",
      "(array([0.46286701]), array([0.45055442]))\n",
      "(array([0.7308414]), array([0.78926796]))\n",
      "(array([0.5771258]), array([0.44348127]))\n",
      "(array([0.70501911]), array([0.90017816]))\n",
      "(array([0.2999735]), array([0.18972532]))\n",
      "(array([0.49464037]), array([0.61060441]))\n",
      "(array([0.80041439]), array([0.6060042]))\n",
      "(array([0.37883538]), array([0.2559098]))\n",
      "(array([0.73607559]), array([0.55151966]))\n",
      "(array([0.69075404]), array([0.60140399]))\n",
      "(array([0.62199082]), array([0.748132]))\n",
      "(array([0.57627516]), array([0.46230755]))\n",
      "(array([0.42423533]), array([0.37556838]))\n",
      "(array([0.81860038]), array([0.66524849]))\n",
      "(array([0.72483849]), array([0.84045523]))\n",
      "(array([0.85681731]), array([0.69933789]))\n",
      "(array([0.47720574]), array([0.60079241]))\n",
      "(array([0.52798589]), array([0.65182014]))\n",
      "(array([0.46873908]), array([0.41638525]))\n",
      "(array([0.76573811]), array([0.76331534]))\n",
      "(array([0.64290073]), array([0.64043928]))\n",
      "(array([0.5858116]), array([0.59151222]))\n",
      "(array([0.5081242]), array([0.59621879]))\n",
      "(array([0.48566436]), array([0.36572978]))\n",
      "(array([0.60011574]), array([0.62376685]))\n",
      "(array([0.53867056]), array([0.74363815]))\n",
      "(array([0.23421423]), array([0.15534342]))\n",
      "(array([0.70192529]), array([0.89523227]))\n",
      "(array([0.69223369]), array([0.82027282]))\n",
      "(array([0.69291955]), array([0.71303215]))\n",
      "(array([0.55006763]), array([0.63645066]))\n",
      "(array([0.4472511]), array([0.42297976]))\n",
      "(array([0.66798054]), array([0.55449783]))\n",
      "(array([0.63870821]), array([0.85212859]))\n",
      "(array([0.58294433]), array([0.33945808]))\n",
      "(array([0.59531412]), array([0.70957535]))\n",
      "(array([0.48626089]), array([0.5008642]))\n",
      "(array([0.4535791]), array([0.58489111]))\n",
      "(array([0.46847287]), array([0.38923605]))\n",
      "(array([0.48259062]), array([0.7010397]))\n",
      "(array([0.63557863]), array([0.58023772]))\n",
      "(array([0.56378744]), array([0.4480017]))\n",
      "(array([0.62548026]), array([0.44558194]))\n",
      "(array([0.61245371]), array([0.80804106]))\n",
      "(array([0.50607286]), array([0.50277874]))\n",
      "(array([0.66449567]), array([0.64924083]))\n",
      "(array([0.62588541]), array([0.75741218]))\n",
      "(array([0.60888814]), array([0.45379849]))\n",
      "(array([0.43437995]), array([0.35309916]))\n",
      "(array([0.59351993]), array([0.74954131]))\n",
      "(array([0.43571198]), array([0.3818704]))\n",
      "(array([0.67892722]), array([0.73478342]))\n",
      "(array([0.48894439]), array([0.31124525]))\n",
      "(array([0.66336043]), array([0.73159252]))\n",
      "(array([0.60753272]), array([0.64658175]))\n",
      "(array([0.63350399]), array([0.82269258]))\n",
      "(array([0.20200688]), array([0.0199431]))\n",
      "(array([0.57889719]), array([0.53790518]))\n",
      "(array([0.69570593]), array([0.83689207]))\n",
      "(array([0.52669211]), array([0.47166751]))\n",
      "(array([0.66032358]), array([0.7821948]))\n",
      "(array([0.43214522]), array([0.30177892]))\n",
      "(array([0.57518721]), array([0.62770229]))\n",
      "(array([0.61778231]), array([0.59055495]))\n",
      "(array([0.57226747]), array([0.54144175]))\n",
      "(array([0.54032387]), array([0.63985428]))\n",
      "(array([0.40871405]), array([0.30632595]))\n",
      "(array([0.36559913]), array([0.2992528]))\n",
      "(array([0.51314449]), array([0.46124392]))\n",
      "(array([0.75751811]), array([0.6568458]))\n",
      "(array([0.76375528]), array([0.57558433]))\n",
      "(array([0.52220157]), array([0.47685271]))\n",
      "(array([0.58729765]), array([0.58183317]))\n",
      "(array([0.61738351]), array([0.6158428]))\n",
      "(array([0.46551357]), array([0.45664371]))\n",
      "(array([0.460389]), array([0.43896083]))\n",
      "(array([0.6975236]), array([0.77727551]))\n",
      "(array([0.72840604]), array([0.68048502]))\n",
      "(array([0.80371087]), array([0.74656314]))\n",
      "(array([0.72541344]), array([0.76772941]))\n",
      "(array([0.67447031]), array([0.67670912]))\n",
      "(array([0.62963278]), array([0.52870476]))\n",
      "(array([0.53246989]), array([0.76206557]))\n",
      "(array([0.53094468]), array([0.48520222]))\n",
      "(array([0.46170104]), array([0.41893796]))\n",
      "(array([0.70557204]), array([0.82825006]))\n",
      "(array([0.38870895]), array([0.24620416]))\n",
      "(array([0.57696663]), array([0.51583482]))\n",
      "(array([0.56904522]), array([0.66367963]))\n",
      "(array([0.59242212]), array([0.61477916]))\n",
      "(array([0.61569326]), array([0.66673758]))\n",
      "(array([0.54006386]), array([0.68750499]))\n",
      "(array([0.23328173]), array([0.12989603]))\n",
      "(array([0.56173217]), array([0.82918074]))\n",
      "(array([0.67503724]), array([0.79705906]))\n",
      "(array([0.72754502]), array([0.74276066]))\n",
      "(array([0.61617321]), array([0.55798123]))\n",
      "(array([0.62839724]), array([0.59794719]))\n",
      "(array([0.73149134]), array([0.80487675]))\n",
      "(array([0.45492066]), array([0.52721568]))\n",
      "(array([0.72207292]), array([0.74071317]))\n",
      "(array([0.63532918]), array([0.62288936]))\n",
      "(array([0.53021774]), array([0.66383918]))\n",
      "(array([0.48874661]), array([0.4179807]))\n",
      "(array([0.75215461]), array([0.58414657]))\n",
      "(array([0.49674821]), array([0.52849204]))\n",
      "(array([0.48337586]), array([0.46201505]))\n",
      "(array([0.44972068]), array([0.37453134]))\n",
      "(array([0.50500598]), array([0.67617731]))\n",
      "(array([0.50631204]), array([0.49254128]))\n"
     ]
    }
   ],
   "source": [
    "for i in zip(y_pred,y_test):\n",
    "    print(i)"
   ]
  },
  {
   "cell_type": "code",
   "execution_count": 93,
   "metadata": {},
   "outputs": [],
   "source": [
    "from sklearn.metrics import mean_squared_error, r2_score"
   ]
  },
  {
   "cell_type": "code",
   "execution_count": 94,
   "metadata": {},
   "outputs": [
    {
     "data": {
      "text/plain": [
       "0.015313633147768934"
      ]
     },
     "execution_count": 94,
     "metadata": {},
     "output_type": "execute_result"
    }
   ],
   "source": [
    "mean_squared_error(y_test,y_pred)"
   ]
  },
  {
   "cell_type": "code",
   "execution_count": 95,
   "metadata": {},
   "outputs": [
    {
     "data": {
      "text/plain": [
       "0.5638783237129562"
      ]
     },
     "execution_count": 95,
     "metadata": {},
     "output_type": "execute_result"
    }
   ],
   "source": [
    "r2_score(y_test,y_pred)   # it tells that if there are 100 pts then 56 pts are fit correctly"
   ]
  },
  {
   "cell_type": "code",
   "execution_count": 96,
   "metadata": {},
   "outputs": [
    {
     "data": {
      "text/plain": [
       "0.9690703929968463"
      ]
     },
     "execution_count": 96,
     "metadata": {},
     "output_type": "execute_result"
    }
   ],
   "source": [
    "1-0.03092960700315367"
   ]
  },
  {
   "cell_type": "code",
   "execution_count": null,
   "metadata": {},
   "outputs": [],
   "source": []
  }
 ],
 "metadata": {
  "kernelspec": {
   "display_name": "Python 3",
   "language": "python",
   "name": "python3"
  },
  "language_info": {
   "codemirror_mode": {
    "name": "ipython",
    "version": 3
   },
   "file_extension": ".py",
   "mimetype": "text/x-python",
   "name": "python",
   "nbconvert_exporter": "python",
   "pygments_lexer": "ipython3",
   "version": "3.6.4"
  }
 },
 "nbformat": 4,
 "nbformat_minor": 2
}
