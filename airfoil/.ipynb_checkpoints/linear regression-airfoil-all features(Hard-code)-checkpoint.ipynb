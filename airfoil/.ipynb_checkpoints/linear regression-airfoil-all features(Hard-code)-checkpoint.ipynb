{
 "cells": [
  {
   "cell_type": "markdown",
   "metadata": {},
   "source": [
    "## Logistic Regression on Airfoil Self-Noise Dataset"
   ]
  },
  {
   "cell_type": "code",
   "execution_count": 26,
   "metadata": {},
   "outputs": [],
   "source": [
    "import numpy as np\n",
    "import matplotlib.pyplot as plt\n",
    "from mpl_toolkits.mplot3d import Axes3D\n",
    "import pandas as pd\n",
    "from sklearn.model_selection import train_test_split"
   ]
  },
  {
   "cell_type": "code",
   "execution_count": 27,
   "metadata": {},
   "outputs": [],
   "source": [
    "feature_names = ['Frequency','Angle','Chord Length','velocity','displacement thickness','sound pressure']\n",
    "airfoil = pd.read_csv(\"./airfoil_self_noise.csv\",header=None,sep='\\t',names=feature_names)"
   ]
  },
  {
   "cell_type": "markdown",
   "metadata": {},
   "source": [
    "We will use the airfoil_self_noise.csv file as our dataset. It is a '\\t' seperated file so we'll specify it as a parameter for the read_csv function."
   ]
  },
  {
   "cell_type": "code",
   "execution_count": 28,
   "metadata": {},
   "outputs": [
    {
     "data": {
      "text/html": [
       "<div>\n",
       "<style scoped>\n",
       "    .dataframe tbody tr th:only-of-type {\n",
       "        vertical-align: middle;\n",
       "    }\n",
       "\n",
       "    .dataframe tbody tr th {\n",
       "        vertical-align: top;\n",
       "    }\n",
       "\n",
       "    .dataframe thead th {\n",
       "        text-align: right;\n",
       "    }\n",
       "</style>\n",
       "<table border=\"1\" class=\"dataframe\">\n",
       "  <thead>\n",
       "    <tr style=\"text-align: right;\">\n",
       "      <th></th>\n",
       "      <th>Frequency</th>\n",
       "      <th>Angle</th>\n",
       "      <th>Chord Length</th>\n",
       "      <th>velocity</th>\n",
       "      <th>displacement thickness</th>\n",
       "      <th>sound pressure</th>\n",
       "    </tr>\n",
       "  </thead>\n",
       "  <tbody>\n",
       "    <tr>\n",
       "      <th>0</th>\n",
       "      <td>800</td>\n",
       "      <td>0.0</td>\n",
       "      <td>0.3048</td>\n",
       "      <td>71.3</td>\n",
       "      <td>0.002663</td>\n",
       "      <td>126.201</td>\n",
       "    </tr>\n",
       "    <tr>\n",
       "      <th>1</th>\n",
       "      <td>1000</td>\n",
       "      <td>0.0</td>\n",
       "      <td>0.3048</td>\n",
       "      <td>71.3</td>\n",
       "      <td>0.002663</td>\n",
       "      <td>125.201</td>\n",
       "    </tr>\n",
       "    <tr>\n",
       "      <th>2</th>\n",
       "      <td>1250</td>\n",
       "      <td>0.0</td>\n",
       "      <td>0.3048</td>\n",
       "      <td>71.3</td>\n",
       "      <td>0.002663</td>\n",
       "      <td>125.951</td>\n",
       "    </tr>\n",
       "    <tr>\n",
       "      <th>3</th>\n",
       "      <td>1600</td>\n",
       "      <td>0.0</td>\n",
       "      <td>0.3048</td>\n",
       "      <td>71.3</td>\n",
       "      <td>0.002663</td>\n",
       "      <td>127.591</td>\n",
       "    </tr>\n",
       "    <tr>\n",
       "      <th>4</th>\n",
       "      <td>2000</td>\n",
       "      <td>0.0</td>\n",
       "      <td>0.3048</td>\n",
       "      <td>71.3</td>\n",
       "      <td>0.002663</td>\n",
       "      <td>127.461</td>\n",
       "    </tr>\n",
       "  </tbody>\n",
       "</table>\n",
       "</div>"
      ],
      "text/plain": [
       "   Frequency  Angle  Chord Length  velocity  displacement thickness  \\\n",
       "0        800    0.0        0.3048      71.3                0.002663   \n",
       "1       1000    0.0        0.3048      71.3                0.002663   \n",
       "2       1250    0.0        0.3048      71.3                0.002663   \n",
       "3       1600    0.0        0.3048      71.3                0.002663   \n",
       "4       2000    0.0        0.3048      71.3                0.002663   \n",
       "\n",
       "   sound pressure  \n",
       "0         126.201  \n",
       "1         125.201  \n",
       "2         125.951  \n",
       "3         127.591  \n",
       "4         127.461  "
      ]
     },
     "execution_count": 28,
     "metadata": {},
     "output_type": "execute_result"
    }
   ],
   "source": [
    "airfoil.head()"
   ]
  },
  {
   "cell_type": "code",
   "execution_count": 29,
   "metadata": {},
   "outputs": [
    {
     "data": {
      "text/html": [
       "<div>\n",
       "<style scoped>\n",
       "    .dataframe tbody tr th:only-of-type {\n",
       "        vertical-align: middle;\n",
       "    }\n",
       "\n",
       "    .dataframe tbody tr th {\n",
       "        vertical-align: top;\n",
       "    }\n",
       "\n",
       "    .dataframe thead th {\n",
       "        text-align: right;\n",
       "    }\n",
       "</style>\n",
       "<table border=\"1\" class=\"dataframe\">\n",
       "  <thead>\n",
       "    <tr style=\"text-align: right;\">\n",
       "      <th></th>\n",
       "      <th>Frequency</th>\n",
       "      <th>Angle</th>\n",
       "      <th>Chord Length</th>\n",
       "      <th>velocity</th>\n",
       "      <th>displacement thickness</th>\n",
       "      <th>sound pressure</th>\n",
       "    </tr>\n",
       "  </thead>\n",
       "  <tbody>\n",
       "    <tr>\n",
       "      <th>0</th>\n",
       "      <td>800</td>\n",
       "      <td>0.0</td>\n",
       "      <td>0.3048</td>\n",
       "      <td>71.3</td>\n",
       "      <td>0.002663</td>\n",
       "      <td>126.201</td>\n",
       "    </tr>\n",
       "    <tr>\n",
       "      <th>1</th>\n",
       "      <td>1000</td>\n",
       "      <td>0.0</td>\n",
       "      <td>0.3048</td>\n",
       "      <td>71.3</td>\n",
       "      <td>0.002663</td>\n",
       "      <td>125.201</td>\n",
       "    </tr>\n",
       "    <tr>\n",
       "      <th>2</th>\n",
       "      <td>1250</td>\n",
       "      <td>0.0</td>\n",
       "      <td>0.3048</td>\n",
       "      <td>71.3</td>\n",
       "      <td>0.002663</td>\n",
       "      <td>125.951</td>\n",
       "    </tr>\n",
       "    <tr>\n",
       "      <th>3</th>\n",
       "      <td>1600</td>\n",
       "      <td>0.0</td>\n",
       "      <td>0.3048</td>\n",
       "      <td>71.3</td>\n",
       "      <td>0.002663</td>\n",
       "      <td>127.591</td>\n",
       "    </tr>\n",
       "    <tr>\n",
       "      <th>4</th>\n",
       "      <td>2000</td>\n",
       "      <td>0.0</td>\n",
       "      <td>0.3048</td>\n",
       "      <td>71.3</td>\n",
       "      <td>0.002663</td>\n",
       "      <td>127.461</td>\n",
       "    </tr>\n",
       "  </tbody>\n",
       "</table>\n",
       "</div>"
      ],
      "text/plain": [
       "   Frequency  Angle  Chord Length  velocity  displacement thickness  \\\n",
       "0        800    0.0        0.3048      71.3                0.002663   \n",
       "1       1000    0.0        0.3048      71.3                0.002663   \n",
       "2       1250    0.0        0.3048      71.3                0.002663   \n",
       "3       1600    0.0        0.3048      71.3                0.002663   \n",
       "4       2000    0.0        0.3048      71.3                0.002663   \n",
       "\n",
       "   sound pressure  \n",
       "0         126.201  \n",
       "1         125.201  \n",
       "2         125.951  \n",
       "3         127.591  \n",
       "4         127.461  "
      ]
     },
     "execution_count": 29,
     "metadata": {},
     "output_type": "execute_result"
    }
   ],
   "source": [
    "airfoil = pd.DataFrame(airfoil)\n",
    "airfoil.head()"
   ]
  },
  {
   "cell_type": "code",
   "execution_count": 30,
   "metadata": {},
   "outputs": [],
   "source": [
    "corelation = airfoil.corr('pearson') "
   ]
  },
  {
   "cell_type": "markdown",
   "metadata": {},
   "source": [
    "Using the Pearson correlation to find out what features contribute most to predicting our target."
   ]
  },
  {
   "cell_type": "code",
   "execution_count": 31,
   "metadata": {},
   "outputs": [
    {
     "data": {
      "text/plain": [
       "Frequency                -0.390711\n",
       "displacement thickness   -0.312670\n",
       "Chord Length             -0.236162\n",
       "Angle                    -0.156108\n",
       "velocity                  0.125103\n",
       "sound pressure            1.000000\n",
       "Name: sound pressure, dtype: float64"
      ]
     },
     "execution_count": 31,
     "metadata": {},
     "output_type": "execute_result"
    }
   ],
   "source": [
    "corelation['sound pressure'].sort_values()"
   ]
  },
  {
   "cell_type": "code",
   "execution_count": 38,
   "metadata": {},
   "outputs": [],
   "source": [
    "x1= airfoil['Frequency']\n",
    "x2 = airfoil['displacement thickness']\n",
    "x3 = airfoil['Chord Length']\n",
    "x4 = airfoil['Angle']\n",
    "x5 = airfoil['velocity']\n",
    "y = airfoil['sound pressure']\n"
   ]
  },
  {
   "cell_type": "code",
   "execution_count": 42,
   "metadata": {},
   "outputs": [
    {
     "ename": "AttributeError",
     "evalue": "'list' object has no attribute 'add_subplot'",
     "output_type": "error",
     "traceback": [
      "\u001b[1;31m---------------------------------------------------------------------------\u001b[0m",
      "\u001b[1;31mAttributeError\u001b[0m                            Traceback (most recent call last)",
      "\u001b[1;32m<ipython-input-42-830a8ed5b1f4>\u001b[0m in \u001b[0;36m<module>\u001b[1;34m()\u001b[0m\n\u001b[0;32m      1\u001b[0m \u001b[0mfig\u001b[0m \u001b[1;33m=\u001b[0m \u001b[0mplt\u001b[0m\u001b[1;33m.\u001b[0m\u001b[0mplot\u001b[0m\u001b[1;33m(\u001b[0m\u001b[0mx1\u001b[0m\u001b[1;33m,\u001b[0m\u001b[0my\u001b[0m\u001b[1;33m,\u001b[0m\u001b[0mx2\u001b[0m\u001b[1;33m)\u001b[0m\u001b[1;33m\u001b[0m\u001b[0m\n\u001b[1;32m----> 2\u001b[1;33m \u001b[0max\u001b[0m \u001b[1;33m=\u001b[0m \u001b[0mfig\u001b[0m\u001b[1;33m.\u001b[0m\u001b[0madd_subplot\u001b[0m\u001b[1;33m(\u001b[0m\u001b[1;36m111\u001b[0m\u001b[1;33m,\u001b[0m \u001b[0mprojection\u001b[0m\u001b[1;33m=\u001b[0m\u001b[1;34m'3d'\u001b[0m\u001b[1;33m)\u001b[0m\u001b[1;33m\u001b[0m\u001b[0m\n\u001b[0m\u001b[0;32m      3\u001b[0m \u001b[1;31m#Axes3D.plot(x1,y,x2)\u001b[0m\u001b[1;33m\u001b[0m\u001b[1;33m\u001b[0m\u001b[0m\n",
      "\u001b[1;31mAttributeError\u001b[0m: 'list' object has no attribute 'add_subplot'"
     ]
    },
    {
     "data": {
      "image/png": "[encoded data removed]",
      "text/plain": [
       "<Figure size 432x288 with 1 Axes>"
      ]
     },
     "metadata": {},
     "output_type": "display_data"
    }
   ],
   "source": [
    "fig = plt.figure()\n",
    "ax = fig.add_subplot(111, projection='3d')\n",
    "Axes3D.plot(x1,y)"
   ]
  },
  {
   "cell_type": "markdown",
   "metadata": {},
   "source": [
    "Scaling the data to values between 0 to 1"
   ]
  },
  {
   "cell_type": "code",
   "execution_count": 8,
   "metadata": {},
   "outputs": [],
   "source": [
    "x1 = (x1 - x1.min())/(x1.max()-x1.min())\n",
    "x2 = (x2 - x2.min())/(x2.max()-x2.min())\n",
    "x3 = (x3 - x3.min())/(x3.max()-x3.min())\n",
    "x4 = (x4 - x4.min())/(x4.max()-x4.min())\n",
    "x5 = (x5 - x5.min())/(x5.max()-x5.min())\n",
    "y = (y - y.min())/(y.max()-y.min())"
   ]
  },
  {
   "cell_type": "code",
   "execution_count": 9,
   "metadata": {},
   "outputs": [
    {
     "data": {
      "text/plain": [
       "[<matplotlib.lines.Line2D at 0x1ad931ccf98>,\n",
       " <matplotlib.lines.Line2D at 0x1ad931d4198>,\n",
       " <matplotlib.lines.Line2D at 0x1ad931d46a0>,\n",
       " <matplotlib.lines.Line2D at 0x1ad931d4ac8>,\n",
       " <matplotlib.lines.Line2D at 0x1ad931d4ef0>]"
      ]
     },
     "execution_count": 9,
     "metadata": {},
     "output_type": "execute_result"
    },
    {
     "data": {
      "image/png": "[encoded data removed]",
      "text/plain": [
       "<Figure size 432x288 with 1 Axes>"
      ]
     },
     "metadata": {},
     "output_type": "display_data"
    }
   ],
   "source": [
    "plt.plot(x1,y,'b.',x2,y,'r.',x3,y,'y.',x4,y,'g.',x5,y,'m.')"
   ]
  },
  {
   "cell_type": "code",
   "execution_count": 10,
   "metadata": {},
   "outputs": [],
   "source": [
    "x1= np.array(x1)\n",
    "x2= np.array(x2)\n",
    "x3= np.array(x3)\n",
    "x4= np.array(x4)\n",
    "x5= np.array(x5)\n",
    "y = np.array(y)"
   ]
  },
  {
   "cell_type": "code",
   "execution_count": 11,
   "metadata": {},
   "outputs": [],
   "source": [
    "x1_train,x1_test,x2_train,x2_test,x3_train,x3_test,x4_train,x4_test,x5_train,x5_test,y_train,y_test = train_test_split(x1,x2,x3,x4,x5,y,test_size=0.2)"
   ]
  },
  {
   "cell_type": "code",
   "execution_count": 12,
   "metadata": {},
   "outputs": [
    {
     "data": {
      "text/plain": [
       "1202"
      ]
     },
     "execution_count": 12,
     "metadata": {},
     "output_type": "execute_result"
    }
   ],
   "source": [
    "x1_train.size"
   ]
  },
  {
   "cell_type": "code",
   "execution_count": 13,
   "metadata": {},
   "outputs": [
    {
     "data": {
      "text/plain": [
       "301"
      ]
     },
     "execution_count": 13,
     "metadata": {},
     "output_type": "execute_result"
    }
   ],
   "source": [
    "len(x1_test)"
   ]
  },
  {
   "cell_type": "code",
   "execution_count": 14,
   "metadata": {},
   "outputs": [],
   "source": [
    "def hypothesis(a,x1,b,x2,c,x3,d,x4,e,x5,f):\n",
    "    return a*x1 +b*x2 + c*x3 + d*x4 + e*x5 +f"
   ]
  },
  {
   "cell_type": "code",
   "execution_count": 15,
   "metadata": {},
   "outputs": [],
   "source": [
    "def error(a,x1,b,x2,c,x3,d,x4,e,x5,f,y):\n",
    "    er = 0\n",
    "    m = len(x1)\n",
    "    \n",
    "    for i in range(m):\n",
    "        er += np.power((hypothesis(a,x1[i],b,x2[i],c,x3[i],d,x4[i],e,x5[i],f)-y[i]),2)\n",
    "    return (1/(2*m))*er"
   ]
  },
  {
   "cell_type": "code",
   "execution_count": 16,
   "metadata": {},
   "outputs": [],
   "source": [
    "def step_gradient(a,x1,b,x2,c,x3,d,x4,e,x5,f,y,learning_rate):\n",
    "    grad_a = 0\n",
    "    grad_b = 0\n",
    "    grad_c = 0\n",
    "    grad_d = 0\n",
    "    grad_e = 0\n",
    "    grad_f = 0\n",
    "    m = len(x1)\n",
    "    \n",
    "    for i in range(m):\n",
    "        grad_a += (1/m)*(hypothesis(a,x1[i],b,x2[i],c,x3[i],d,x4[i],e,x5[i],f) - y[i])*x1[i]  #partial differentiation\n",
    "        grad_b += (1/m)*(hypothesis(a,x1[i],b,x2[i],c,x3[i],d,x4[i],e,x5[i],f) - y[i])*x2[i]\n",
    "        grad_c += (1/m)*(hypothesis(a,x1[i],b,x2[i],c,x3[i],d,x4[i],e,x5[i],f) - y[i])*x3[i]\n",
    "        grad_d += (1/m)*(hypothesis(a,x1[i],b,x2[i],c,x3[i],d,x4[i],e,x5[i],f) - y[i])*x4[i]\n",
    "        grad_e += (1/m)*(hypothesis(a,x1[i],b,x2[i],c,x3[i],d,x4[i],e,x5[i],f) - y[i])*x5[i]\n",
    "        grad_f += (1/m)*(hypothesis(a,x1[i],b,x2[i],c,x3[i],d,x4[i],e,x5[i],f) - y[i])\n",
    "        \n",
    "    a = a - grad_a * learning_rate\n",
    "    b = b - grad_b * learning_rate\n",
    "    c = c - grad_c * learning_rate\n",
    "    d = d - grad_d * learning_rate\n",
    "    e = e - grad_e * learning_rate\n",
    "    f = f - grad_f * learning_rate\n",
    "    \n",
    "    return a,b,c,d,e,f"
   ]
  },
  {
   "cell_type": "code",
   "execution_count": 17,
   "metadata": {},
   "outputs": [],
   "source": [
    "def descend(init_a,x1,init_b,x2,init_c,x3,init_d,x4,init_e,x5,init_f,y,learning_rate,iterations):\n",
    "    a = init_a\n",
    "    b= init_b\n",
    "    c = init_c\n",
    "    d = init_d\n",
    "    e = init_e\n",
    "    f = init_f\n",
    "    \n",
    "    for i in range(iterations):\n",
    "        er = error(a,x1,b,x2,c,x3,d,x4,e,x5,f,y)\n",
    "        \n",
    "        if i % 1000 ==0:\n",
    "            print(f\"Error: {np.sqrt(er)}, a:{a}, b:{b}, c:{c}, d:{d}, e:{e}, f:{f}\")\n",
    "            \n",
    "        a,b,c,d,e,f = step_gradient(a,x1,b,x2,c,x3,d,x4,e,x5,f,y,learning_rate)\n",
    "    \n",
    "    return a,b,c,d,e,f"
   ]
  },
  {
   "cell_type": "code",
   "execution_count": 18,
   "metadata": {},
   "outputs": [],
   "source": [
    "a= -0.6655724778016787\n",
    "b= -0.2183683963204855\n",
    "c= -0.26070232251418307\n",
    "d= -0.24908967488101885\n",
    "e= 0.10555084468194936\n",
    "f= 0.8294676186998088\n",
    "learning_rate = 0.001\n",
    "iterations = 10000"
   ]
  },
  {
   "cell_type": "code",
   "execution_count": 19,
   "metadata": {
    "scrolled": false
   },
   "outputs": [
    {
     "name": "stdout",
     "output_type": "stream",
     "text": [
      "Error: 0.09067404728748409, a:-0.6655724778016787, b:-0.2183683963204855, c:-0.26070232251418307, d:-0.24908967488101885, e:0.10555084468194936, f:0.8294676186998088\n",
      "Error: 0.09065470806101301, a:-0.6663480161583645, b:-0.2187212148014756, c:-0.2602521519824059, d:-0.24953415668189044, e:0.10417242622221086, f:0.8289694221924626\n",
      "Error: 0.0906450467079633, a:-0.6670173973812351, b:-0.21892670297697628, c:-0.25962885348528925, d:-0.24972814743358082, e:0.1032749421944561, f:0.8291033961150219\n",
      "Error: 0.0906375061785812, a:-0.6676535155175074, b:-0.2190917575170043, c:-0.25904061885154367, d:-0.24984619462236246, e:0.102556614994692, f:0.8293425444622539\n",
      "Error: 0.090631364574545, a:-0.6682714586482512, b:-0.2192402581874545, c:-0.2585205423215744, d:-0.24992852000286356, e:0.1019452246584552, f:0.8295816156268346\n",
      "Error: 0.09062628835468521, a:-0.6688744651449339, b:-0.21937866720107677, c:-0.25806707952892355, d:-0.24998701518653388, e:0.10141704400737575, f:0.8298017039031367\n",
      "Error: 0.09062203473774492, a:-0.6694633668681134, b:-0.21950957894886766, c:-0.25767273933301527, d:-0.25002715265441017, e:0.10095943692626724, f:0.8300013160709101\n",
      "Error: 0.09061842055041493, a:-0.6700385241377538, b:-0.21963455519788103, c:-0.25732981648029674, d:-0.2500525857080499, e:0.10056302485555864, f:0.8301822367897116\n",
      "Error: 0.09061530702649924, a:-0.6706002177546132, b:-0.21975474876209083, c:-0.25703142645813326, d:-0.25006617353053245, e:0.10021995254792301, f:0.8303466593352453\n",
      "Error: 0.09061258877204606, a:-0.671148724759557, b:-0.21987106572640971, c:-0.2567715949090561, d:-0.25007025873966704, e:0.09992342386506949, f:0.830496628639249\n"
     ]
    }
   ],
   "source": [
    "final_a,final_b,final_c,final_d,final_e,final_f = descend(a,x1_train,b,x2_train,c,x3_train,d,x4_train,e,x5_train,f,y_train,learning_rate,iterations)"
   ]
  },
  {
   "cell_type": "code",
   "execution_count": null,
   "metadata": {},
   "outputs": [],
   "source": []
  },
  {
   "cell_type": "code",
   "execution_count": null,
   "metadata": {},
   "outputs": [],
   "source": []
  },
  {
   "cell_type": "code",
   "execution_count": 20,
   "metadata": {},
   "outputs": [
    {
     "name": "stdout",
     "output_type": "stream",
     "text": [
      "a= -0.6716843300475145\n",
      "b= -0.21998422721218064\n",
      "c= -0.2565451703623272\n",
      "d= -0.2500667808273602\n",
      "e= 0.09966751238687284\n",
      "f= 0.8306339558042584\n"
     ]
    }
   ],
   "source": [
    "print(\"a=\",final_a)\n",
    "print(\"b=\",final_b)\n",
    "print(\"c=\",final_c)\n",
    "print(\"d=\",final_d)\n",
    "print(\"e=\",final_e)\n",
    "print(\"f=\",final_f)"
   ]
  },
  {
   "cell_type": "code",
   "execution_count": 21,
   "metadata": {},
   "outputs": [
    {
     "data": {
      "text/plain": [
       "array([0.7979798 , 0.19191919, 0.00252525])"
      ]
     },
     "execution_count": 21,
     "metadata": {},
     "output_type": "execute_result"
    }
   ],
   "source": [
    "x1_test[:3]"
   ]
  },
  {
   "cell_type": "code",
   "execution_count": 22,
   "metadata": {},
   "outputs": [
    {
     "data": {
      "text/plain": [
       "array([0.25056505, 0.84899088, 0.69920494])"
      ]
     },
     "execution_count": 22,
     "metadata": {},
     "output_type": "execute_result"
    }
   ],
   "source": [
    "y_test[:3]                             "
   ]
  },
  {
   "cell_type": "code",
   "execution_count": 23,
   "metadata": {},
   "outputs": [
    {
     "data": {
      "text/plain": [
       "array([0.2329048 , 0.69680246, 0.48700218])"
      ]
     },
     "execution_count": 23,
     "metadata": {},
     "output_type": "execute_result"
    }
   ],
   "source": [
    "hypothesis(final_a,x1_test[:3],final_b,x2_test[:3],final_c,x3_test[:3],final_d,x4_test[:3],final_e,x5_test[:3],final_f)          "
   ]
  },
  {
   "cell_type": "code",
   "execution_count": 24,
   "metadata": {},
   "outputs": [
    {
     "data": {
      "text/plain": [
       "0.08897929799981755"
      ]
     },
     "execution_count": 24,
     "metadata": {},
     "output_type": "execute_result"
    }
   ],
   "source": [
    "error = np.sqrt(error(final_a,x1_test,final_b,x2_test,final_c,x3_test,final_d,x4_test,final_e,x5_test,final_f,y_test))\n",
    "error"
   ]
  },
  {
   "cell_type": "code",
   "execution_count": 25,
   "metadata": {},
   "outputs": [
    {
     "data": {
      "text/plain": [
       "0.9110207020001825"
      ]
     },
     "execution_count": 25,
     "metadata": {},
     "output_type": "execute_result"
    }
   ],
   "source": []
  },
  {
   "cell_type": "code",
   "execution_count": null,
   "metadata": {},
   "outputs": [],
   "source": []
  },
  {
   "cell_type": "code",
   "execution_count": null,
   "metadata": {},
   "outputs": [],
   "source": [
    "\n"
   ]
  },
  {
   "cell_type": "code",
   "execution_count": null,
   "metadata": {},
   "outputs": [],
   "source": []
  }
 ],
 "metadata": {
  "kernelspec": {
   "display_name": "Python 3",
   "language": "python",
   "name": "python3"
  },
  "language_info": {
   "codemirror_mode": {
    "name": "ipython",
    "version": 3
   },
   "file_extension": ".py",
   "mimetype": "text/x-python",
   "name": "python",
   "nbconvert_exporter": "python",
   "pygments_lexer": "ipython3",
   "version": "3.6.4"
  }
 },
 "nbformat": 4,
 "nbformat_minor": 2
}
