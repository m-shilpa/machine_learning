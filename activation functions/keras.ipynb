{
 "cells": [
  {
   "cell_type": "code",
   "execution_count": 1,
   "metadata": {
    "colab": {
     "base_uri": "https://localhost:8080/",
     "height": 34
    },
    "colab_type": "code",
    "id": "wIIhssS4mckB",
    "outputId": "5c066c2b-6a51-4240-f314-bc3ce7e5e4b8"
   },
   "outputs": [
    {
     "name": "stderr",
     "output_type": "stream",
     "text": [
      "C:\\Users\\Shilpa\\AppData\\Local\\Continuum\\anaconda3\\lib\\site-packages\\h5py\\__init__.py:36: FutureWarning: Conversion of the second argument of issubdtype from `float` to `np.floating` is deprecated. In future, it will be treated as `np.float64 == np.dtype(float).type`.\n",
      "  from ._conv import register_converters as _register_converters\n",
      "Using TensorFlow backend.\n"
     ]
    }
   ],
   "source": [
    "import numpy as np\n",
    "import pandas as pd\n",
    "import matplotlib.pyplot as plt\n",
    "\n",
    "from sklearn.model_selection import train_test_split\n",
    "from sklearn.datasets import load_wine\n",
    "\n",
    "import keras\n",
    "from keras.models import Sequential\n",
    "from keras.layers import Dense"
   ]
  },
  {
   "cell_type": "code",
   "execution_count": 2,
   "metadata": {
    "colab": {},
    "colab_type": "code",
    "id": "81Ntn1rBmhPy"
   },
   "outputs": [],
   "source": [
    "wine = load_wine()"
   ]
  },
  {
   "cell_type": "code",
   "execution_count": 3,
   "metadata": {
    "colab": {
     "base_uri": "https://localhost:8080/",
     "height": 215
    },
    "colab_type": "code",
    "id": "zNj-OGzVm38f",
    "outputId": "7560cae7-e2da-4384-eb89-df97089dd216"
   },
   "outputs": [
    {
     "data": {
      "text/html": [
       "<div>\n",
       "<style scoped>\n",
       "    .dataframe tbody tr th:only-of-type {\n",
       "        vertical-align: middle;\n",
       "    }\n",
       "\n",
       "    .dataframe tbody tr th {\n",
       "        vertical-align: top;\n",
       "    }\n",
       "\n",
       "    .dataframe thead th {\n",
       "        text-align: right;\n",
       "    }\n",
       "</style>\n",
       "<table border=\"1\" class=\"dataframe\">\n",
       "  <thead>\n",
       "    <tr style=\"text-align: right;\">\n",
       "      <th></th>\n",
       "      <th>alcohol</th>\n",
       "      <th>malic_acid</th>\n",
       "      <th>ash</th>\n",
       "      <th>alcalinity_of_ash</th>\n",
       "      <th>magnesium</th>\n",
       "      <th>total_phenols</th>\n",
       "      <th>flavanoids</th>\n",
       "      <th>nonflavanoid_phenols</th>\n",
       "      <th>proanthocyanins</th>\n",
       "      <th>color_intensity</th>\n",
       "      <th>hue</th>\n",
       "      <th>od280/od315_of_diluted_wines</th>\n",
       "      <th>proline</th>\n",
       "      <th>TARGET</th>\n",
       "    </tr>\n",
       "  </thead>\n",
       "  <tbody>\n",
       "    <tr>\n",
       "      <th>0</th>\n",
       "      <td>14.23</td>\n",
       "      <td>1.71</td>\n",
       "      <td>2.43</td>\n",
       "      <td>15.6</td>\n",
       "      <td>127.0</td>\n",
       "      <td>2.80</td>\n",
       "      <td>3.06</td>\n",
       "      <td>0.28</td>\n",
       "      <td>2.29</td>\n",
       "      <td>5.64</td>\n",
       "      <td>1.04</td>\n",
       "      <td>3.92</td>\n",
       "      <td>1065.0</td>\n",
       "      <td>0</td>\n",
       "    </tr>\n",
       "    <tr>\n",
       "      <th>1</th>\n",
       "      <td>13.20</td>\n",
       "      <td>1.78</td>\n",
       "      <td>2.14</td>\n",
       "      <td>11.2</td>\n",
       "      <td>100.0</td>\n",
       "      <td>2.65</td>\n",
       "      <td>2.76</td>\n",
       "      <td>0.26</td>\n",
       "      <td>1.28</td>\n",
       "      <td>4.38</td>\n",
       "      <td>1.05</td>\n",
       "      <td>3.40</td>\n",
       "      <td>1050.0</td>\n",
       "      <td>0</td>\n",
       "    </tr>\n",
       "    <tr>\n",
       "      <th>2</th>\n",
       "      <td>13.16</td>\n",
       "      <td>2.36</td>\n",
       "      <td>2.67</td>\n",
       "      <td>18.6</td>\n",
       "      <td>101.0</td>\n",
       "      <td>2.80</td>\n",
       "      <td>3.24</td>\n",
       "      <td>0.30</td>\n",
       "      <td>2.81</td>\n",
       "      <td>5.68</td>\n",
       "      <td>1.03</td>\n",
       "      <td>3.17</td>\n",
       "      <td>1185.0</td>\n",
       "      <td>0</td>\n",
       "    </tr>\n",
       "    <tr>\n",
       "      <th>3</th>\n",
       "      <td>14.37</td>\n",
       "      <td>1.95</td>\n",
       "      <td>2.50</td>\n",
       "      <td>16.8</td>\n",
       "      <td>113.0</td>\n",
       "      <td>3.85</td>\n",
       "      <td>3.49</td>\n",
       "      <td>0.24</td>\n",
       "      <td>2.18</td>\n",
       "      <td>7.80</td>\n",
       "      <td>0.86</td>\n",
       "      <td>3.45</td>\n",
       "      <td>1480.0</td>\n",
       "      <td>0</td>\n",
       "    </tr>\n",
       "    <tr>\n",
       "      <th>4</th>\n",
       "      <td>13.24</td>\n",
       "      <td>2.59</td>\n",
       "      <td>2.87</td>\n",
       "      <td>21.0</td>\n",
       "      <td>118.0</td>\n",
       "      <td>2.80</td>\n",
       "      <td>2.69</td>\n",
       "      <td>0.39</td>\n",
       "      <td>1.82</td>\n",
       "      <td>4.32</td>\n",
       "      <td>1.04</td>\n",
       "      <td>2.93</td>\n",
       "      <td>735.0</td>\n",
       "      <td>0</td>\n",
       "    </tr>\n",
       "  </tbody>\n",
       "</table>\n",
       "</div>"
      ],
      "text/plain": [
       "   alcohol  malic_acid   ash  alcalinity_of_ash  magnesium  total_phenols  \\\n",
       "0    14.23        1.71  2.43               15.6      127.0           2.80   \n",
       "1    13.20        1.78  2.14               11.2      100.0           2.65   \n",
       "2    13.16        2.36  2.67               18.6      101.0           2.80   \n",
       "3    14.37        1.95  2.50               16.8      113.0           3.85   \n",
       "4    13.24        2.59  2.87               21.0      118.0           2.80   \n",
       "\n",
       "   flavanoids  nonflavanoid_phenols  proanthocyanins  color_intensity   hue  \\\n",
       "0        3.06                  0.28             2.29             5.64  1.04   \n",
       "1        2.76                  0.26             1.28             4.38  1.05   \n",
       "2        3.24                  0.30             2.81             5.68  1.03   \n",
       "3        3.49                  0.24             2.18             7.80  0.86   \n",
       "4        2.69                  0.39             1.82             4.32  1.04   \n",
       "\n",
       "   od280/od315_of_diluted_wines  proline  TARGET  \n",
       "0                          3.92   1065.0       0  \n",
       "1                          3.40   1050.0       0  \n",
       "2                          3.17   1185.0       0  \n",
       "3                          3.45   1480.0       0  \n",
       "4                          2.93    735.0       0  "
      ]
     },
     "execution_count": 3,
     "metadata": {},
     "output_type": "execute_result"
    }
   ],
   "source": [
    "data = pd.DataFrame(wine.data, columns=wine.feature_names)\n",
    "target = pd.DataFrame(wine.target,columns=['TARGET'])\n",
    "df = pd.concat([data,target],axis=1)\n",
    "\n",
    "df.head()"
   ]
  },
  {
   "cell_type": "code",
   "execution_count": 4,
   "metadata": {
    "colab": {},
    "colab_type": "code",
    "id": "V5PsM9CuqGj7"
   },
   "outputs": [],
   "source": [
    "data = np.array(data)\n",
    "target = np.array(target)"
   ]
  },
  {
   "cell_type": "code",
   "execution_count": 5,
   "metadata": {
    "colab": {},
    "colab_type": "code",
    "id": "t46PpdzRqGTH"
   },
   "outputs": [],
   "source": [
    "data = (data - data.min())/(data.max()-data.min())"
   ]
  },
  {
   "cell_type": "code",
   "execution_count": 6,
   "metadata": {
    "colab": {},
    "colab_type": "code",
    "id": "hGjWPfcKtR0r"
   },
   "outputs": [],
   "source": [
    "target = target.ravel()"
   ]
  },
  {
   "cell_type": "code",
   "execution_count": 7,
   "metadata": {
    "colab": {},
    "colab_type": "code",
    "id": "SHMOvEGjqrCv"
   },
   "outputs": [],
   "source": [
    "xtrain,xtest,ytrain,ytest = train_test_split(data,target,test_size=0.2)"
   ]
  },
  {
   "cell_type": "code",
   "execution_count": 8,
   "metadata": {
    "colab": {},
    "colab_type": "code",
    "id": "0pqTZs7BnTfb"
   },
   "outputs": [
    {
     "name": "stdout",
     "output_type": "stream",
     "text": [
      "WARNING:tensorflow:From C:\\Users\\Shilpa\\AppData\\Local\\Continuum\\anaconda3\\lib\\site-packages\\tensorflow\\python\\framework\\op_def_library.py:263: colocate_with (from tensorflow.python.framework.ops) is deprecated and will be removed in a future version.\n",
      "Instructions for updating:\n",
      "Colocations handled automatically by placer.\n"
     ]
    }
   ],
   "source": [
    "model = Sequential([\n",
    "    Dense(32, activation='relu',input_shape=(xtrain[1].shape)),    # input_shape should be given only 1d\n",
    "    Dense(3, activation='softmax')\n",
    "])"
   ]
  },
  {
   "cell_type": "code",
   "execution_count": 9,
   "metadata": {
    "colab": {
     "base_uri": "https://localhost:8080/",
     "height": 202
    },
    "colab_type": "code",
    "id": "QguYEvhprEo_",
    "outputId": "b815071a-ffcc-4579-b647-86f3ca0012a9"
   },
   "outputs": [
    {
     "name": "stdout",
     "output_type": "stream",
     "text": [
      "_________________________________________________________________\n",
      "Layer (type)                 Output Shape              Param #   \n",
      "=================================================================\n",
      "dense_1 (Dense)              (None, 32)                448       \n",
      "_________________________________________________________________\n",
      "dense_2 (Dense)              (None, 3)                 99        \n",
      "=================================================================\n",
      "Total params: 547\n",
      "Trainable params: 547\n",
      "Non-trainable params: 0\n",
      "_________________________________________________________________\n"
     ]
    }
   ],
   "source": [
    "model.summary()"
   ]
  },
  {
   "cell_type": "code",
   "execution_count": 10,
   "metadata": {
    "colab": {},
    "colab_type": "code",
    "id": "UyRAHkTWrKsv"
   },
   "outputs": [],
   "source": [
    "adam = keras.optimizers.adam(lr=0.001)\n",
    "\n",
    "model.compile(loss='sparse_categorical_crossentropy',\n",
    "             optimizer = adam,\n",
    "              metrics = ['accuracy']\n",
    "             )"
   ]
  },
  {
   "cell_type": "code",
   "execution_count": 11,
   "metadata": {
    "colab": {
     "base_uri": "https://localhost:8080/",
     "height": 1361
    },
    "colab_type": "code",
    "id": "nnQBsE2WrzAT",
    "outputId": "cf4ea70d-ffec-4302-ffc0-f0584943cdfc"
   },
   "outputs": [
    {
     "name": "stdout",
     "output_type": "stream",
     "text": [
      "WARNING:tensorflow:From C:\\Users\\Shilpa\\AppData\\Local\\Continuum\\anaconda3\\lib\\site-packages\\tensorflow\\python\\ops\\math_ops.py:3066: to_int32 (from tensorflow.python.ops.math_ops) is deprecated and will be removed in a future version.\n",
      "Instructions for updating:\n",
      "Use tf.cast instead.\n",
      "Epoch 1/40\n",
      "142/142 [==============================] - 0s 2ms/step - loss: 1.1079 - acc: 0.2817\n",
      "Epoch 2/40\n",
      "142/142 [==============================] - 0s 133us/step - loss: 1.1041 - acc: 0.3521\n",
      "Epoch 3/40\n",
      "142/142 [==============================] - 0s 98us/step - loss: 1.1005 - acc: 0.3803\n",
      "Epoch 4/40\n",
      "142/142 [==============================] - 0s 123us/step - loss: 1.0971 - acc: 0.2958\n",
      "Epoch 5/40\n",
      "142/142 [==============================] - 0s 183us/step - loss: 1.0941 - acc: 0.3803\n",
      "Epoch 6/40\n",
      "142/142 [==============================] - 0s 133us/step - loss: 1.0911 - acc: 0.5352\n",
      "Epoch 7/40\n",
      "142/142 [==============================] - 0s 127us/step - loss: 1.0886 - acc: 0.5493\n",
      "Epoch 8/40\n",
      "142/142 [==============================] - 0s 69us/step - loss: 1.0858 - acc: 0.5563\n",
      "Epoch 9/40\n",
      "142/142 [==============================] - 0s 91us/step - loss: 1.0834 - acc: 0.5775\n",
      "Epoch 10/40\n",
      "142/142 [==============================] - 0s 84us/step - loss: 1.0810 - acc: 0.5563\n",
      "Epoch 11/40\n",
      "142/142 [==============================] - 0s 147us/step - loss: 1.0787 - acc: 0.5282\n",
      "Epoch 12/40\n",
      "142/142 [==============================] - 0s 204us/step - loss: 1.0762 - acc: 0.5352\n",
      "Epoch 13/40\n",
      "142/142 [==============================] - 0s 144us/step - loss: 1.0741 - acc: 0.5634\n",
      "Epoch 14/40\n",
      "142/142 [==============================] - 0s 85us/step - loss: 1.0718 - acc: 0.5634\n",
      "Epoch 15/40\n",
      "142/142 [==============================] - 0s 134us/step - loss: 1.0698 - acc: 0.5634\n",
      "Epoch 16/40\n",
      "142/142 [==============================] - 0s 91us/step - loss: 1.0675 - acc: 0.5634\n",
      "Epoch 17/40\n",
      "142/142 [==============================] - 0s 147us/step - loss: 1.0657 - acc: 0.5634\n",
      "Epoch 18/40\n",
      "142/142 [==============================] - 0s 105us/step - loss: 1.0637 - acc: 0.5634\n",
      "Epoch 19/40\n",
      "142/142 [==============================] - 0s 177us/step - loss: 1.0613 - acc: 0.5634\n",
      "Epoch 20/40\n",
      "142/142 [==============================] - 0s 133us/step - loss: 1.0592 - acc: 0.5634\n",
      "Epoch 21/40\n",
      "142/142 [==============================] - 0s 176us/step - loss: 1.0570 - acc: 0.5986\n",
      "Epoch 22/40\n",
      "142/142 [==============================] - 0s 71us/step - loss: 1.0550 - acc: 0.5986\n",
      "Epoch 23/40\n",
      "142/142 [==============================] - 0s 120us/step - loss: 1.0528 - acc: 0.5986\n",
      "Epoch 24/40\n",
      "142/142 [==============================] - 0s 112us/step - loss: 1.0505 - acc: 0.5986\n",
      "Epoch 25/40\n",
      "142/142 [==============================] - 0s 155us/step - loss: 1.0482 - acc: 0.5986\n",
      "Epoch 26/40\n",
      "142/142 [==============================] - 0s 98us/step - loss: 1.0458 - acc: 0.6127\n",
      "Epoch 27/40\n",
      "142/142 [==============================] - 0s 134us/step - loss: 1.0432 - acc: 0.6268\n",
      "Epoch 28/40\n",
      "142/142 [==============================] - ETA: 0s - loss: 1.0459 - acc: 0.625 - 0s 107us/step - loss: 1.0409 - acc: 0.6197\n",
      "Epoch 29/40\n",
      "142/142 [==============================] - 0s 70us/step - loss: 1.0381 - acc: 0.6056\n",
      "Epoch 30/40\n",
      "142/142 [==============================] - 0s 112us/step - loss: 1.0355 - acc: 0.6056\n",
      "Epoch 31/40\n",
      "142/142 [==============================] - 0s 105us/step - loss: 1.0328 - acc: 0.6197\n",
      "Epoch 32/40\n",
      "142/142 [==============================] - 0s 147us/step - loss: 1.0302 - acc: 0.6408\n",
      "Epoch 33/40\n",
      "142/142 [==============================] - 0s 77us/step - loss: 1.0275 - acc: 0.6408\n",
      "Epoch 34/40\n",
      "142/142 [==============================] - 0s 91us/step - loss: 1.0248 - acc: 0.6408\n",
      "Epoch 35/40\n",
      "142/142 [==============================] - 0s 98us/step - loss: 1.0221 - acc: 0.6408\n",
      "Epoch 36/40\n",
      "142/142 [==============================] - 0s 102us/step - loss: 1.0192 - acc: 0.6408\n",
      "Epoch 37/40\n",
      "142/142 [==============================] - 0s 91us/step - loss: 1.0163 - acc: 0.6408\n",
      "Epoch 38/40\n",
      "142/142 [==============================] - 0s 92us/step - loss: 1.0133 - acc: 0.6408\n",
      "Epoch 39/40\n",
      "142/142 [==============================] - 0s 116us/step - loss: 1.0104 - acc: 0.6408\n",
      "Epoch 40/40\n",
      "142/142 [==============================] - 0s 93us/step - loss: 1.0074 - acc: 0.6408\n"
     ]
    }
   ],
   "source": [
    "history = model.fit(xtrain,ytrain,epochs = 40, verbose = 1)   #epochs = performs forward and backward propagation for entire dataset. this is done 10 times here"
   ]
  },
  {
   "cell_type": "code",
   "execution_count": 12,
   "metadata": {
    "colab": {
     "base_uri": "https://localhost:8080/",
     "height": 381
    },
    "colab_type": "code",
    "id": "FgVqOMoxr8pk",
    "outputId": "f6222537-c6a2-4ad4-92fb-465c791d809c"
   },
   "outputs": [
    {
     "data": {
      "text/plain": [
       "[<matplotlib.lines.Line2D at 0x2506c2267b8>,\n",
       " <matplotlib.lines.Line2D at 0x2506c226908>]"
      ]
     },
     "execution_count": 12,
     "metadata": {},
     "output_type": "execute_result"
    },
    {
     "data": {
      "image/png": "[encoded data removed]",
      "text/plain": [
       "<Figure size 432x288 with 1 Axes>"
      ]
     },
     "metadata": {},
     "output_type": "display_data"
    }
   ],
   "source": [
    "plt.plot(history.epoch,history.history['loss'],   # blue\n",
    "        history.epoch,history.history['acc'])"
   ]
  },
  {
   "cell_type": "code",
   "execution_count": null,
   "metadata": {
    "colab": {},
    "colab_type": "code",
    "id": "sXmraIqQt0Fg"
   },
   "outputs": [],
   "source": []
  }
 ],
 "metadata": {
  "colab": {
   "name": "Untitled0.ipynb",
   "provenance": [],
   "version": "0.3.2"
  },
  "kernelspec": {
   "display_name": "Python 3",
   "language": "python",
   "name": "python3"
  },
  "language_info": {
   "codemirror_mode": {
    "name": "ipython",
    "version": 3
   },
   "file_extension": ".py",
   "mimetype": "text/x-python",
   "name": "python",
   "nbconvert_exporter": "python",
   "pygments_lexer": "ipython3",
   "version": "3.6.4"
  }
 },
 "nbformat": 4,
 "nbformat_minor": 1
}
