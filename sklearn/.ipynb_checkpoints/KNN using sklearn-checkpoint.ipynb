{
 "cells": [
  {
   "cell_type": "code",
   "execution_count": 1,
   "metadata": {},
   "outputs": [],
   "source": [
    "import numpy as np\n",
    "import pandas as pd\n",
    "import matplotlib.pyplot as plt\n",
    "\n",
    "from sklearn.preprocessing import MinMaxScaler\n",
    "from sklearn.model_selection import train_test_split\n",
    "from sklearn.neighbors import KNeighborsClassifier\n",
    "from matplotlib.colors import ListedColormap\n",
    "from sklearn.metrics import confusion_matrix\n",
    "\n",
    "from sklearn.datasets import load_wine\n",
    "\n"
   ]
  },
  {
   "cell_type": "code",
   "execution_count": 2,
   "metadata": {},
   "outputs": [],
   "source": [
    "wine =load_wine()"
   ]
  },
  {
   "cell_type": "code",
   "execution_count": 3,
   "metadata": {},
   "outputs": [],
   "source": [
    "features = pd.DataFrame(wine.data,columns=wine.feature_names)\n",
    "target = pd.DataFrame(wine.target,columns=['TARGET'])\n",
    "\n",
    "data = pd.concat([features,target],axis=1)\n"
   ]
  },
  {
   "cell_type": "code",
   "execution_count": 4,
   "metadata": {},
   "outputs": [
    {
     "data": {
      "text/plain": [
       "['alcohol',\n",
       " 'malic_acid',\n",
       " 'ash',\n",
       " 'alcalinity_of_ash',\n",
       " 'magnesium',\n",
       " 'total_phenols',\n",
       " 'flavanoids',\n",
       " 'nonflavanoid_phenols',\n",
       " 'proanthocyanins',\n",
       " 'color_intensity',\n",
       " 'hue',\n",
       " 'od280/od315_of_diluted_wines',\n",
       " 'proline']"
      ]
     },
     "execution_count": 4,
     "metadata": {},
     "output_type": "execute_result"
    }
   ],
   "source": [
    "wine.feature_names"
   ]
  },
  {
   "cell_type": "code",
   "execution_count": 5,
   "metadata": {},
   "outputs": [],
   "source": [
    "x1 = np.array(data['hue'])\n",
    "x2 = np.array(data['proline'])\n",
    "y= np.array(data['TARGET'])"
   ]
  },
  {
   "cell_type": "code",
   "execution_count": 6,
   "metadata": {},
   "outputs": [],
   "source": [
    "x = np.column_stack((x1,x2))"
   ]
  },
  {
   "cell_type": "code",
   "execution_count": 7,
   "metadata": {},
   "outputs": [
    {
     "data": {
      "text/plain": [
       "array([[1.040e+00, 1.065e+03],\n",
       "       [1.050e+00, 1.050e+03],\n",
       "       [1.030e+00, 1.185e+03],\n",
       "       [8.600e-01, 1.480e+03],\n",
       "       [1.040e+00, 7.350e+02],\n",
       "       [1.050e+00, 1.450e+03],\n",
       "       [1.020e+00, 1.290e+03],\n",
       "       [1.060e+00, 1.295e+03],\n",
       "       [1.080e+00, 1.045e+03],\n",
       "       [1.010e+00, 1.045e+03],\n",
       "       [1.250e+00, 1.510e+03],\n",
       "       [1.170e+00, 1.280e+03],\n",
       "       [1.150e+00, 1.320e+03],\n",
       "       [1.250e+00, 1.150e+03],\n",
       "       [1.200e+00, 1.547e+03],\n",
       "       [1.280e+00, 1.310e+03],\n",
       "       [1.070e+00, 1.280e+03],\n",
       "       [1.130e+00, 1.130e+03],\n",
       "       [1.230e+00, 1.680e+03],\n",
       "       [9.600e-01, 8.450e+02],\n",
       "       [1.090e+00, 7.800e+02],\n",
       "       [1.030e+00, 7.700e+02],\n",
       "       [1.110e+00, 1.035e+03],\n",
       "       [1.090e+00, 1.015e+03],\n",
       "       [1.120e+00, 8.450e+02],\n",
       "       [1.130e+00, 8.300e+02],\n",
       "       [9.200e-01, 1.195e+03],\n",
       "       [1.020e+00, 1.285e+03],\n",
       "       [1.250e+00, 9.150e+02],\n",
       "       [1.040e+00, 1.035e+03],\n",
       "       [1.190e+00, 1.285e+03],\n",
       "       [1.090e+00, 1.515e+03],\n",
       "       [1.230e+00, 9.900e+02],\n",
       "       [1.250e+00, 1.235e+03],\n",
       "       [1.100e+00, 1.095e+03],\n",
       "       [1.040e+00, 9.200e+02],\n",
       "       [1.090e+00, 8.800e+02],\n",
       "       [1.120e+00, 1.105e+03],\n",
       "       [1.180e+00, 1.020e+03],\n",
       "       [8.900e-01, 7.600e+02],\n",
       "       [9.500e-01, 7.950e+02],\n",
       "       [9.100e-01, 1.035e+03],\n",
       "       [8.800e-01, 1.095e+03],\n",
       "       [8.200e-01, 6.800e+02],\n",
       "       [8.800e-01, 8.850e+02],\n",
       "       [8.700e-01, 1.080e+03],\n",
       "       [1.040e+00, 1.065e+03],\n",
       "       [9.100e-01, 9.850e+02],\n",
       "       [1.070e+00, 1.060e+03],\n",
       "       [1.120e+00, 1.260e+03],\n",
       "       [1.120e+00, 1.150e+03],\n",
       "       [1.240e+00, 1.265e+03],\n",
       "       [1.010e+00, 1.190e+03],\n",
       "       [1.130e+00, 1.375e+03],\n",
       "       [9.200e-01, 1.060e+03],\n",
       "       [9.800e-01, 1.120e+03],\n",
       "       [9.400e-01, 9.700e+02],\n",
       "       [1.070e+00, 1.270e+03],\n",
       "       [8.900e-01, 1.285e+03],\n",
       "       [1.050e+00, 5.200e+02],\n",
       "       [1.250e+00, 6.800e+02],\n",
       "       [9.800e-01, 4.500e+02],\n",
       "       [1.230e+00, 6.300e+02],\n",
       "       [1.220e+00, 4.200e+02],\n",
       "       [1.450e+00, 3.550e+02],\n",
       "       [1.190e+00, 6.780e+02],\n",
       "       [1.120e+00, 5.020e+02],\n",
       "       [1.120e+00, 5.100e+02],\n",
       "       [1.020e+00, 7.500e+02],\n",
       "       [1.280e+00, 7.180e+02],\n",
       "       [9.060e-01, 8.700e+02],\n",
       "       [1.360e+00, 4.100e+02],\n",
       "       [9.800e-01, 4.720e+02],\n",
       "       [1.310e+00, 9.850e+02],\n",
       "       [9.900e-01, 8.860e+02],\n",
       "       [1.230e+00, 4.280e+02],\n",
       "       [1.190e+00, 3.920e+02],\n",
       "       [9.600e-01, 5.000e+02],\n",
       "       [1.060e+00, 7.500e+02],\n",
       "       [1.190e+00, 4.630e+02],\n",
       "       [1.380e+00, 2.780e+02],\n",
       "       [1.160e+00, 7.140e+02],\n",
       "       [1.310e+00, 6.300e+02],\n",
       "       [8.400e-01, 5.150e+02],\n",
       "       [7.900e-01, 5.200e+02],\n",
       "       [1.230e+00, 4.500e+02],\n",
       "       [1.330e+00, 4.950e+02],\n",
       "       [1.360e+00, 5.620e+02],\n",
       "       [1.000e+00, 6.800e+02],\n",
       "       [1.070e+00, 6.250e+02],\n",
       "       [1.080e+00, 4.800e+02],\n",
       "       [1.050e+00, 4.500e+02],\n",
       "       [9.600e-01, 4.950e+02],\n",
       "       [1.150e+00, 2.900e+02],\n",
       "       [1.160e+00, 3.450e+02],\n",
       "       [1.160e+00, 9.370e+02],\n",
       "       [9.500e-01, 6.250e+02],\n",
       "       [1.230e+00, 4.280e+02],\n",
       "       [1.040e+00, 6.600e+02],\n",
       "       [1.420e+00, 4.060e+02],\n",
       "       [1.270e+00, 7.100e+02],\n",
       "       [1.040e+00, 5.620e+02],\n",
       "       [8.000e-01, 4.380e+02],\n",
       "       [9.400e-01, 4.150e+02],\n",
       "       [1.040e+00, 6.720e+02],\n",
       "       [8.600e-01, 3.150e+02],\n",
       "       [1.000e+00, 5.100e+02],\n",
       "       [8.800e-01, 4.880e+02],\n",
       "       [8.600e-01, 3.120e+02],\n",
       "       [9.600e-01, 6.800e+02],\n",
       "       [7.500e-01, 5.620e+02],\n",
       "       [9.000e-01, 3.250e+02],\n",
       "       [1.230e+00, 6.070e+02],\n",
       "       [1.100e+00, 4.340e+02],\n",
       "       [9.300e-01, 3.850e+02],\n",
       "       [1.710e+00, 4.070e+02],\n",
       "       [9.500e-01, 4.950e+02],\n",
       "       [1.060e+00, 3.450e+02],\n",
       "       [7.000e-01, 3.720e+02],\n",
       "       [9.300e-01, 5.640e+02],\n",
       "       [8.000e-01, 6.250e+02],\n",
       "       [9.300e-01, 4.650e+02],\n",
       "       [9.200e-01, 3.650e+02],\n",
       "       [7.300e-01, 3.800e+02],\n",
       "       [7.500e-01, 3.800e+02],\n",
       "       [8.600e-01, 3.780e+02],\n",
       "       [6.900e-01, 3.520e+02],\n",
       "       [9.700e-01, 4.660e+02],\n",
       "       [8.900e-01, 3.420e+02],\n",
       "       [7.900e-01, 5.800e+02],\n",
       "       [7.600e-01, 6.300e+02],\n",
       "       [7.400e-01, 5.300e+02],\n",
       "       [6.600e-01, 5.600e+02],\n",
       "       [7.800e-01, 6.000e+02],\n",
       "       [7.500e-01, 6.500e+02],\n",
       "       [7.300e-01, 6.950e+02],\n",
       "       [7.500e-01, 7.200e+02],\n",
       "       [8.200e-01, 5.150e+02],\n",
       "       [8.100e-01, 5.800e+02],\n",
       "       [8.900e-01, 5.900e+02],\n",
       "       [7.700e-01, 6.000e+02],\n",
       "       [7.000e-01, 7.800e+02],\n",
       "       [8.900e-01, 5.200e+02],\n",
       "       [9.100e-01, 5.500e+02],\n",
       "       [6.500e-01, 8.550e+02],\n",
       "       [6.000e-01, 8.300e+02],\n",
       "       [5.800e-01, 4.150e+02],\n",
       "       [5.400e-01, 6.250e+02],\n",
       "       [5.500e-01, 6.500e+02],\n",
       "       [5.700e-01, 5.500e+02],\n",
       "       [5.900e-01, 5.000e+02],\n",
       "       [4.800e-01, 4.800e+02],\n",
       "       [6.100e-01, 4.250e+02],\n",
       "       [5.600e-01, 6.750e+02],\n",
       "       [5.800e-01, 6.400e+02],\n",
       "       [6.000e-01, 7.250e+02],\n",
       "       [5.700e-01, 4.800e+02],\n",
       "       [6.700e-01, 8.800e+02],\n",
       "       [5.700e-01, 6.600e+02],\n",
       "       [5.700e-01, 6.200e+02],\n",
       "       [5.600e-01, 5.200e+02],\n",
       "       [9.600e-01, 6.800e+02],\n",
       "       [8.700e-01, 5.700e+02],\n",
       "       [6.800e-01, 6.750e+02],\n",
       "       [7.000e-01, 6.150e+02],\n",
       "       [7.800e-01, 5.200e+02],\n",
       "       [8.500e-01, 6.950e+02],\n",
       "       [7.200e-01, 6.850e+02],\n",
       "       [7.400e-01, 7.500e+02],\n",
       "       [6.700e-01, 6.300e+02],\n",
       "       [6.600e-01, 5.100e+02],\n",
       "       [5.700e-01, 4.700e+02],\n",
       "       [6.200e-01, 6.600e+02],\n",
       "       [6.400e-01, 7.400e+02],\n",
       "       [7.000e-01, 7.500e+02],\n",
       "       [5.900e-01, 8.350e+02],\n",
       "       [6.000e-01, 8.400e+02],\n",
       "       [6.100e-01, 5.600e+02]])"
      ]
     },
     "execution_count": 7,
     "metadata": {},
     "output_type": "execute_result"
    }
   ],
   "source": [
    "x"
   ]
  },
  {
   "cell_type": "code",
   "execution_count": 8,
   "metadata": {},
   "outputs": [
    {
     "data": {
      "text/plain": [
       "(178, 2)"
      ]
     },
     "execution_count": 8,
     "metadata": {},
     "output_type": "execute_result"
    }
   ],
   "source": [
    "x.shape"
   ]
  },
  {
   "cell_type": "code",
   "execution_count": 9,
   "metadata": {},
   "outputs": [
    {
     "data": {
      "text/plain": [
       "(178,)"
      ]
     },
     "execution_count": 9,
     "metadata": {},
     "output_type": "execute_result"
    }
   ],
   "source": [
    "y.shape"
   ]
  },
  {
   "cell_type": "code",
   "execution_count": 10,
   "metadata": {},
   "outputs": [],
   "source": [
    "xtrain,xtest,ytrain,ytest = train_test_split(x,y,test_size=0.2)"
   ]
  },
  {
   "cell_type": "code",
   "execution_count": 11,
   "metadata": {},
   "outputs": [
    {
     "data": {
      "text/plain": [
       "2"
      ]
     },
     "execution_count": 11,
     "metadata": {},
     "output_type": "execute_result"
    }
   ],
   "source": [
    "np.ndim(xtrain)"
   ]
  },
  {
   "cell_type": "code",
   "execution_count": 12,
   "metadata": {},
   "outputs": [],
   "source": [
    "# MinMaxScaler - scales features to lie between a given minimum and maximum value, often between zero and one\n",
    "\n",
    "scaler = MinMaxScaler()"
   ]
  },
  {
   "cell_type": "code",
   "execution_count": 13,
   "metadata": {},
   "outputs": [],
   "source": [
    "xtrain = scaler.fit_transform(xtrain)\n",
    "xtest = scaler.fit_transform(xtest)"
   ]
  },
  {
   "cell_type": "code",
   "execution_count": 14,
   "metadata": {},
   "outputs": [
    {
     "data": {
      "text/plain": [
       "[<matplotlib.lines.Line2D at 0x2ab37d22080>,\n",
       " <matplotlib.lines.Line2D at 0x2ab37d22208>]"
      ]
     },
     "execution_count": 14,
     "metadata": {},
     "output_type": "execute_result"
    },
    {
     "data": {
      "image/png": "[encoded data removed]",
      "text/plain": [
       "<matplotlib.figure.Figure at 0x2ab37c1aba8>"
      ]
     },
     "metadata": {},
     "output_type": "display_data"
    }
   ],
   "source": [
    "plt.plot(xtrain,ytrain,'r.')"
   ]
  },
  {
   "cell_type": "code",
   "execution_count": 15,
   "metadata": {},
   "outputs": [
    {
     "data": {
      "text/plain": [
       "11"
      ]
     },
     "execution_count": 15,
     "metadata": {},
     "output_type": "execute_result"
    }
   ],
   "source": [
    "# to calculate the k value i.e the no. of nearest neighbors\n",
    "\n",
    "int(np.sqrt(len(xtrain)))    "
   ]
  },
  {
   "cell_type": "code",
   "execution_count": 16,
   "metadata": {},
   "outputs": [],
   "source": [
    "# n_neighbors indicates k value\n",
    "# minkowski is a parameter to cal. distance instead of euclidean_distance\n",
    "# p - to cal. the euclidean_distance when using minkowski we should set p=2.\n",
    "# p is a power parameter for the Minkowski metric. \n",
    "\n",
    "classifier = KNeighborsClassifier(n_neighbors=11,metric='minkowski',p=2) "
   ]
  },
  {
   "cell_type": "code",
   "execution_count": 17,
   "metadata": {},
   "outputs": [
    {
     "data": {
      "text/plain": [
       "KNeighborsClassifier(algorithm='auto', leaf_size=30, metric='minkowski',\n",
       "           metric_params=None, n_jobs=1, n_neighbors=11, p=2,\n",
       "           weights='uniform')"
      ]
     },
     "execution_count": 17,
     "metadata": {},
     "output_type": "execute_result"
    }
   ],
   "source": [
    "classifier.fit(xtrain,ytrain)"
   ]
  },
  {
   "cell_type": "code",
   "execution_count": 18,
   "metadata": {},
   "outputs": [],
   "source": [
    "ypred = classifier.predict(xtest)"
   ]
  },
  {
   "cell_type": "code",
   "execution_count": 19,
   "metadata": {},
   "outputs": [
    {
     "data": {
      "text/plain": [
       "array([0, 1, 0, 1, 1, 0, 2, 0, 0, 1, 1, 0, 1, 1, 0, 2, 1, 0, 1, 0, 2, 0,\n",
       "       0, 1, 1, 0, 1, 2, 1, 1, 2, 0, 0, 1, 2, 1])"
      ]
     },
     "execution_count": 19,
     "metadata": {},
     "output_type": "execute_result"
    }
   ],
   "source": [
    "ypred"
   ]
  },
  {
   "cell_type": "code",
   "execution_count": 20,
   "metadata": {},
   "outputs": [],
   "source": [
    "cm = confusion_matrix(ytest,ypred)"
   ]
  },
  {
   "cell_type": "code",
   "execution_count": 21,
   "metadata": {},
   "outputs": [
    {
     "data": {
      "text/plain": [
       "array([[11,  1,  0],\n",
       "       [ 1, 13,  0],\n",
       "       [ 2,  2,  6]], dtype=int64)"
      ]
     },
     "execution_count": 21,
     "metadata": {},
     "output_type": "execute_result"
    }
   ],
   "source": [
    "cm"
   ]
  },
  {
   "cell_type": "code",
   "execution_count": null,
   "metadata": {},
   "outputs": [],
   "source": [
    "x_set,y_set = xtrain,ytrain\n",
    "\n",
    "x1,x2 = np.meshgrid(np.arange(start=x_set[:,0].min()-1,stop=x_set[:,0].max()+1,step=0.01),\n",
    "                    np.arange(start=x_set[:,0].min()-1,stop=x_set[:,0].max()+1,step=0.01))\n",
    "                   \n",
    "plt.contourf(x1,x2,classifier.predict(np.array([x1.ravel(),x2.ravel()]).T).reshape(x1.shape),\n",
    "                                     alpha=0.5,cmap=ListedColormap(('red','green','black')))\n",
    "plt.xlim(x1.min(),x1.max())\n",
    "plt.ylim(x2.min(),x2.max())\n",
    "\n",
    "for i,j in enumerate(np.unique(y_set)):\n",
    "    plt.scatter(x_set[y_set == j,0],x_set[y_set == j,1],\n",
    "                c = ListedColormap(('red','green','black'))(i),label=j)\n",
    " \n",
    "# x_\n",
    "\n",
    "plt.title('k-NN(train)')\n",
    "plt.legend()"
   ]
  },
  {
   "cell_type": "code",
   "execution_count": 23,
   "metadata": {},
   "outputs": [
    {
     "name": "stdout",
     "output_type": "stream",
     "text": [
      "0.8333333333333334\n"
     ]
    }
   ],
   "source": [
    "from sklearn.metrics import accuracy_score\n",
    "print(accuracy_score(ytest,ypred))"
   ]
  },
  {
   "cell_type": "code",
   "execution_count": 31,
   "metadata": {},
   "outputs": [
    {
     "name": "stdout",
     "output_type": "stream",
     "text": [
      "0 0\n",
      "[0.47008547 0.29059829 0.29059829 0.43589744 0.47008547 0.60683761\n",
      " 0.44444444 0.28205128 0.4957265  0.55555556 0.42735043 0.58974359\n",
      " 0.58974359 0.42735043 0.56410256 0.46153846 0.32478632 0.43589744\n",
      " 0.60683761 0.41880342 0.27350427 0.35042735 0.47863248 0.5042735\n",
      " 0.47008547 0.45299145 0.4957265  0.5982906  0.41025641 0.52136752\n",
      " 0.45299145 0.34188034 0.45299145 0.23931624 0.41880342 0.4017094\n",
      " 0.60683761 0.5042735  0.5042735  0.42735043 0.63247863 0.2991453\n",
      " 0.35897436 0.2991453  0.60683761 0.4017094  0.47008547]\n",
      "1 1\n",
      "[0.35897436 0.17948718 0.58974359 0.25641026 0.7008547  0.55555556\n",
      " 0.65811966 0.4957265  0.36752137 0.17948718 0.52991453 0.33333333\n",
      " 0.2991453  0.55555556 0.37606838 0.62393162 0.35897436 0.52991453\n",
      " 0.13675214 0.33333333 0.42735043 0.52991453 0.67521368 0.65811966\n",
      " 0.52136752 0.42735043 0.44444444 0.21367521 0.77777778 0.27350427\n",
      " 1.         0.58119658 0.55555556 0.34188034 0.75213675 0.31282051\n",
      " 0.22222222 0.7008547  0.41025641 0.22222222 0.16239316 0.35042735\n",
      " 0.71794872 0.44444444 0.47863248 0.21367521 0.45299145 0.58974359\n",
      " 0.42735043 0.58974359 0.33333333 0.4957265  0.46153846 0.43589744\n",
      " 0.39316239 0.58974359 0.12820513]\n",
      "2 2\n",
      "[0.02564103 0.02564103 0.2991453  0.05982906 0.06837607 0.17948718\n",
      " 0.13675214 0.03418803 0.02564103 0.11111111 0.01709402 0.18803419\n",
      " 0.         0.03418803 0.23076923 0.17094017 0.13675214 0.05128205\n",
      " 0.04273504 0.26495726 0.28205128 0.17094017 0.17948718 0.35897436\n",
      " 0.20512821 0.2991453  0.05128205 0.15384615 0.31623932 0.04273504\n",
      " 0.13675214 0.01709402 0.05982906 0.1025641  0.11965812 0.02564103\n",
      " 0.20512821 0.11111111]\n"
     ]
    },
    {
     "data": {
      "image/png": "[encoded data removed]",
      "text/plain": [
       "<matplotlib.figure.Figure at 0x2ab3829a588>"
      ]
     },
     "metadata": {},
     "output_type": "display_data"
    }
   ],
   "source": [
    "for i,j in enumerate(np.unique(y_set)):\n",
    "    print(i,j)\n",
    "    print(x_set[y_set == j,0])\n",
    "    plt.scatter(x_set[y_set == j,0],x_set[y_set == j,1])"
   ]
  },
  {
   "cell_type": "code",
   "execution_count": null,
   "metadata": {},
   "outputs": [],
   "source": []
  }
 ],
 "metadata": {
  "kernelspec": {
   "display_name": "Python 3",
   "language": "python",
   "name": "python3"
  },
  "language_info": {
   "codemirror_mode": {
    "name": "ipython",
    "version": 3
   },
   "file_extension": ".py",
   "mimetype": "text/x-python",
   "name": "python",
   "nbconvert_exporter": "python",
   "pygments_lexer": "ipython3",
   "version": "3.6.4"
  }
 },
 "nbformat": 4,
 "nbformat_minor": 2
}
