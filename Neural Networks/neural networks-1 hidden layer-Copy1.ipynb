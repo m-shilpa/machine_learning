{
 "cells": [
  {
   "cell_type": "code",
   "execution_count": 30,
   "metadata": {},
   "outputs": [],
   "source": [
    "import numpy as np\n",
    "import pandas as pd\n",
    "import matplotlib.pyplot as plt\n",
    "from sklearn.preprocessing import MinMaxScaler\n",
    "\n",
    "from sklearn.model_selection import train_test_split\n",
    "from sklearn.datasets import load_wine"
   ]
  },
  {
   "cell_type": "code",
   "execution_count": 15,
   "metadata": {},
   "outputs": [],
   "source": [
    "wine = load_wine()"
   ]
  },
  {
   "cell_type": "code",
   "execution_count": 34,
   "metadata": {},
   "outputs": [],
   "source": [
    "x=wine.data"
   ]
  },
  {
   "cell_type": "code",
   "execution_count": 35,
   "metadata": {},
   "outputs": [],
   "source": [
    "target_list = []\n",
    "for i in wine.target:\n",
    "    op = [0,0,0]\n",
    "    op[i] = 1\n",
    "    target_list.append(op)"
   ]
  },
  {
   "cell_type": "code",
   "execution_count": 36,
   "metadata": {},
   "outputs": [],
   "source": [
    "y = target_list"
   ]
  },
  {
   "cell_type": "code",
   "execution_count": 37,
   "metadata": {},
   "outputs": [],
   "source": [
    "scaler = MinMaxScaler()"
   ]
  },
  {
   "cell_type": "code",
   "execution_count": 38,
   "metadata": {},
   "outputs": [],
   "source": [
    "x = scaler.fit_transform(x)"
   ]
  },
  {
   "cell_type": "code",
   "execution_count": 39,
   "metadata": {},
   "outputs": [],
   "source": [
    "y = np.array(y)"
   ]
  },
  {
   "cell_type": "code",
   "execution_count": 40,
   "metadata": {},
   "outputs": [],
   "source": [
    "xtrain,xtest,ytrain,ytest = train_test_split(x,y,test_size=0.2)"
   ]
  },
  {
   "cell_type": "code",
   "execution_count": 41,
   "metadata": {},
   "outputs": [],
   "source": [
    "def sigmoid(x):\n",
    "    return (1)/(1+np.exp(-x))"
   ]
  },
  {
   "cell_type": "code",
   "execution_count": 42,
   "metadata": {},
   "outputs": [],
   "source": [
    "def dsigmoid(x):\n",
    "    return x*(1-x)"
   ]
  },
  {
   "cell_type": "code",
   "execution_count": 44,
   "metadata": {},
   "outputs": [],
   "source": [
    "np.random.seed(3)\n",
    "w0 = np.random.random((13,50))-1\n",
    "w1 = np.random.random((50,26))-1\n",
    "w2 = np.random.random((26,13))-1\n",
    "w3 = np.random.random((13,3))-1\n",
    "\n",
    "b0 = np.random.random((1,1))-1\n",
    "b1 = np.random.random((1,1))-1\n",
    "b2 = np.random.random((1,1))-1\n",
    "b3 = np.random.random((1,1))-1"
   ]
  },
  {
   "cell_type": "code",
   "execution_count": 53,
   "metadata": {},
   "outputs": [],
   "source": [
    "def feed_forward(data_in,w0,w1,w2,w3,b0,b1,b2,b3):\n",
    "    layer0 = data_in\n",
    "    layer1 = sigmoid(np.dot(layer0,w0)+b0)\n",
    "    layer2 = sigmoid(np.dot(layer1,w1)+b1)\n",
    "    layer3 = sigmoid(np.dot(layer2,w2)+b2)\n",
    "    layer4 = sigmoid(np.dot(layer3,w3)+b3)\n",
    "    \n",
    "    return layer0,layer1,layer2,layer3,layer4"
   ]
  },
  {
   "cell_type": "code",
   "execution_count": 63,
   "metadata": {},
   "outputs": [],
   "source": [
    "def back_propagation(layer0,layer1,layer2,layer3,layer4,actual_y,w0,w1,w2,w3,b0,b1,b2,b3,learning_rate,i):\n",
    "    \n",
    "    l4_error = layer4 - actual_y\n",
    "    l4_delta = l4_error * dsigmoid(layer4)\n",
    "    dh4 = np.dot(layer3.T,l4_delta)\n",
    "    \n",
    "    l3_error = np.dot(l4_delta,w3.T)\n",
    "    l3_delta = l3_error * dsigmoid(layer3)\n",
    "    dh3 = np.dot(layer2.T,l3_delta)\n",
    "    \n",
    "    l2_error = np.dot(l3_delta,w2.T)\n",
    "    l2_delta = l2_error * dsigmoid(layer2)\n",
    "    dh2 = np.dot(layer1.T,l2_delta)\n",
    "    \n",
    "    l1_error = np.dot(l2_delta,w1.T)\n",
    "    l1_delta = l1_error * dsigmoid(layer1)\n",
    "    dh1 = np.dot(layer0.T,l1_delta)\n",
    "    \n",
    "    w3 = w3-(learning_rate * dh4)\n",
    "    w2 = w2-(learning_rate * dh3)\n",
    "    w1 = w1-(learning_rate * dh2)\n",
    "    w0 = w0-(learning_rate * dh1)\n",
    "    \n",
    "    b3 = b3 - (learning_rate * np.mean(l4_delta))\n",
    "    b2 = b2 - (learning_rate * np.mean(l3_delta))\n",
    "    b1 = b1 - (learning_rate * np.mean(l2_delta))\n",
    "    b0 = b0 - (learning_rate * np.mean(l1_delta))\n",
    "    \n",
    "   \n",
    "    if i%1==0 and (i!=0):\n",
    "        loss = np.mean(np.power(layer4 - actual_y,2))\n",
    "        loss_curve.append(loss)\n",
    "        iters.append(int(i))\n",
    "        \n",
    "        if i%100==0:\n",
    "            print('\\n',int(i),loss)\n",
    "            \n",
    "    return w0,w1,w2,w3,b0,b1,b2,b3\n",
    "        "
   ]
  },
  {
   "cell_type": "code",
   "execution_count": 64,
   "metadata": {},
   "outputs": [],
   "source": [
    "def accuracy(testx,testy):\n",
    "    correct = 0\n",
    "    layer0,layer1,layer2,layer3,layer4 = feed_forward(testx,w0,w1,w2,w3,b0,b1,b2,b3)\n",
    "    for i in range(len(testx)):\n",
    "        if np.argmax(layer4[i])==np.argmax(testy[i]):\n",
    "            correct += 1\n",
    "            \n",
    "    return f\"Accuracy: {correct*100/len(testy)}\""
   ]
  },
  {
   "cell_type": "code",
   "execution_count": 65,
   "metadata": {},
   "outputs": [],
   "source": [
    "epochs = 1000\n",
    "loss_curve = []\n",
    "iters = []"
   ]
  },
  {
   "cell_type": "code",
   "execution_count": 66,
   "metadata": {},
   "outputs": [
    {
     "name": "stdout",
     "output_type": "stream",
     "text": [
      "\n",
      " 100 0.13724513347515846\n",
      "\n",
      " 200 0.136844953711749\n",
      "\n",
      " 300 0.13649975684908444\n",
      "\n",
      " 400 0.13619774044129151\n",
      "\n",
      " 500 0.1359294240628648\n",
      "\n",
      " 600 0.13568692675446914\n",
      "\n",
      " 700 0.1354636551649211\n",
      "\n",
      " 800 0.13525430105651284\n",
      "\n",
      " 900 0.13505511148441893\n"
     ]
    }
   ],
   "source": [
    "for i in range(epochs):\n",
    "    layer0,layer1,layer2,layer3,layer4 = feed_forward(xtrain,w0,w1,w2,w3,b0,b1,b2,b3)\n",
    "    w0,w1,w2,w3,b0,b1,b2,b3 = back_propagation(layer0,layer1,layer2,layer3,layer4,ytrain,w0,w1,w2,w3,b0,b1,b2,b3,0.05,i)"
   ]
  },
  {
   "cell_type": "code",
   "execution_count": 67,
   "metadata": {},
   "outputs": [
    {
     "data": {
      "text/plain": [
       "[<matplotlib.lines.Line2D at 0x199aed38898>]"
      ]
     },
     "execution_count": 67,
     "metadata": {},
     "output_type": "execute_result"
    },
    {
     "data": {
      "image/png": "[encoded data removed]",
      "text/plain": [
       "<matplotlib.figure.Figure at 0x199ae947278>"
      ]
     },
     "metadata": {},
     "output_type": "display_data"
    }
   ],
   "source": [
    "plt.plot(iters,loss_curve)"
   ]
  },
  {
   "cell_type": "code",
   "execution_count": 69,
   "metadata": {},
   "outputs": [
    {
     "data": {
      "text/plain": [
       "(array([0.32105263, 0.62055336, 0.44919786, 0.40721649, 0.45652174,\n",
       "        0.13793103, 0.092827  , 0.30188679, 0.23028391, 0.59129693,\n",
       "        0.13821138, 0.26739927, 0.41155492]),\n",
       " array([[0.01413558, 0.01210322, 0.01388299, 0.01484407, 0.02055806,\n",
       "         0.01905706, 0.03099802, 0.02121334, 0.02060367, 0.02494422,\n",
       "         0.02628734, 0.02333979, 0.01979238, 0.01759639, 0.01661069,\n",
       "         0.01959093, 0.01488184, 0.01412882, 0.01913941, 0.01332127,\n",
       "         0.02022597, 0.01808653, 0.02444197, 0.02409643, 0.02092062,\n",
       "         0.02029363, 0.02070585, 0.01408593, 0.02264529, 0.01116295,\n",
       "         0.01679237, 0.0097945 , 0.01398859, 0.01498279, 0.01560393,\n",
       "         0.01923216, 0.02258339, 0.01745001, 0.02395349, 0.03093348,\n",
       "         0.02635337, 0.01676007, 0.02120814, 0.02276313, 0.02326745,\n",
       "         0.01888864, 0.02025576, 0.01602729, 0.02503806, 0.01834227]]),\n",
       " array([[0.33695113, 0.32733081, 0.32151504, 0.32087155, 0.32130661,\n",
       "         0.32788624, 0.33786247, 0.3298067 , 0.33026595, 0.31451794,\n",
       "         0.33216223, 0.32388063, 0.33576411, 0.31454518, 0.32798395,\n",
       "         0.3259351 , 0.32415631, 0.34365513, 0.33111918, 0.32247391,\n",
       "         0.3194202 , 0.33181655, 0.33885706, 0.3194474 , 0.32391366,\n",
       "         0.31324953]]),\n",
       " array([[7.83238196e-05, 6.79721100e-05, 8.90652124e-05, 8.07847690e-05,\n",
       "         7.17208297e-05, 7.16330676e-05, 8.42441488e-05, 5.96407512e-05,\n",
       "         8.19503816e-05, 6.07391669e-05, 7.39661918e-05, 6.24685021e-05,\n",
       "         5.92812161e-05]]),\n",
       " array([[0.33573674, 0.33653902, 0.33577121]]))"
      ]
     },
     "execution_count": 69,
     "metadata": {},
     "output_type": "execute_result"
    }
   ],
   "source": [
    "feed_forward(xtest[13],w0,w1,w2,w3,b0,b1,b2,b3)"
   ]
  },
  {
   "cell_type": "code",
   "execution_count": 70,
   "metadata": {},
   "outputs": [
    {
     "data": {
      "text/plain": [
       "array([0, 0, 1])"
      ]
     },
     "execution_count": 70,
     "metadata": {},
     "output_type": "execute_result"
    }
   ],
   "source": [
    "ytest[13]"
   ]
  },
  {
   "cell_type": "code",
   "execution_count": 72,
   "metadata": {},
   "outputs": [
    {
     "data": {
      "text/plain": [
       "'Accuracy: 36.111111111111114'"
      ]
     },
     "execution_count": 72,
     "metadata": {},
     "output_type": "execute_result"
    }
   ],
   "source": [
    "accuracy(xtest,ytest)"
   ]
  },
  {
   "cell_type": "code",
   "execution_count": null,
   "metadata": {},
   "outputs": [],
   "source": []
  }
 ],
 "metadata": {
  "kernelspec": {
   "display_name": "Python 3",
   "language": "python",
   "name": "python3"
  },
  "language_info": {
   "codemirror_mode": {
    "name": "ipython",
    "version": 3
   },
   "file_extension": ".py",
   "mimetype": "text/x-python",
   "name": "python",
   "nbconvert_exporter": "python",
   "pygments_lexer": "ipython3",
   "version": "3.6.4"
  }
 },
 "nbformat": 4,
 "nbformat_minor": 2
}
