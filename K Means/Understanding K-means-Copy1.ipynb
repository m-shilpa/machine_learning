{
 "cells": [
  {
   "cell_type": "code",
   "execution_count": 1,
   "metadata": {},
   "outputs": [],
   "source": [
    "import numpy as np\n",
    "import pandas as pd\n",
    "import matplotlib.pyplot as plt\n",
    "\n"
   ]
  },
  {
   "cell_type": "code",
   "execution_count": 2,
   "metadata": {},
   "outputs": [],
   "source": [
    "k = 2\n",
    "cent_change = 0.0001\n",
    "max_iter = 300"
   ]
  },
  {
   "cell_type": "code",
   "execution_count": 3,
   "metadata": {},
   "outputs": [],
   "source": [
    "colors = ['g','r','c','b','k','y']"
   ]
  },
  {
   "cell_type": "code",
   "execution_count": 100,
   "metadata": {},
   "outputs": [],
   "source": [
    "def fit(data,k,max_iter,tol):\n",
    "    \n",
    "    centroids = {}\n",
    "    for i in range(k):\n",
    "        centroids[i] = data[i]\n",
    "        print('k: ',k,' centroids[',i,'] ',centroids[i],' data[',i,'] ', data[i])\n",
    "        \n",
    "    for i in range(max_iter):\n",
    "        classifications = {}\n",
    "        print('classifications: ',classifications)\n",
    "        \n",
    "        for i in range(k):\n",
    "            classifications[i] = [] \n",
    "            print('classifications[',i,'] ',classifications[i])\n",
    "            \n",
    "        for featureset in data:\n",
    "            distances = [np.linalg.norm(featureset - centroids[centroid]) for centroid in centroids]\n",
    "            print('distances: ',distances,' featureset: ',featureset,'centroids[centroid]',centroids,'[',centroid,']          ',centroids[centroid])\n",
    "            classification = distances.index(min(distances))\n",
    "            classifications[classification].append(featureset)\n",
    "            \n",
    "        prev_centroids = dict(centroids)\n",
    "        \n",
    "        for classification in classifications:\n",
    "            centroids[classification] = np.average(classifications[classification], axis=0)\n",
    "            \n",
    "        optimized = True\n",
    "        \n",
    "        for c in centroids:\n",
    "            original_centroid = prev_centroids[c]\n",
    "            current_centroid = centroids[c]\n",
    "            if np.sum((current_centroid - original_centroid)/original_centroid*100.0) >tol:\n",
    "                optimized = False\n",
    "                \n",
    "            if optimized:\n",
    "                break\n",
    "        return centroids,classifications"
   ]
  },
  {
   "cell_type": "code",
   "execution_count": 101,
   "metadata": {},
   "outputs": [],
   "source": [
    "def predict(data,centroids):\n",
    "    distances = [np.linalg.norm(data - centroids[centroid]) for centroid in centroids]\n",
    "    classification = distances.index(min(distances))\n",
    "    return classification"
   ]
  },
  {
   "cell_type": "code",
   "execution_count": 102,
   "metadata": {},
   "outputs": [
    {
     "name": "stdout",
     "output_type": "stream",
     "text": [
      "x[:,0]  [1.  1.5 5.  1.  9. ] x[:,1]:  [ 2.   1.8  8.   0.6 11. ]\n"
     ]
    }
   ],
   "source": [
    "x = np.array([[1,2],\n",
    "            [1.5,1.8],\n",
    "            [5,8],\n",
    "             [1,0.6],\n",
    "             [9,11]]\n",
    "            )\n",
    "print('x[:,0] ',x[:,0],'x[:,1]: ',x[:,1])"
   ]
  },
  {
   "cell_type": "code",
   "execution_count": 103,
   "metadata": {},
   "outputs": [
    {
     "data": {
      "text/plain": [
       "<matplotlib.collections.PathCollection at 0x1319bf76390>"
      ]
     },
     "execution_count": 103,
     "metadata": {},
     "output_type": "execute_result"
    },
    {
     "data": {
      "image/png": "[encoded data removed]",
      "text/plain": [
       "<matplotlib.figure.Figure at 0x1319bf22198>"
      ]
     },
     "metadata": {},
     "output_type": "display_data"
    }
   ],
   "source": [
    "plt.scatter(x[:,0],x[:,1], s=100)"
   ]
  },
  {
   "cell_type": "code",
   "execution_count": 104,
   "metadata": {
    "scrolled": false
   },
   "outputs": [
    {
     "name": "stdout",
     "output_type": "stream",
     "text": [
      "k:  2  centroids[ 0 ]  [1. 2.]  data[ 0 ]  [1. 2.]\n",
      "k:  2  centroids[ 1 ]  [1.5 1.8]  data[ 1 ]  [1.5 1.8]\n",
      "classifications:  {}\n",
      "classifications[ 0 ]  []\n",
      "classifications[ 1 ]  []\n",
      "distances:  [0.0, 0.5385164807134504]  featureset:  [1. 2.] centroids[centroid] {0: array([1., 2.]), 1: array([1.5, 1.8])} [ 1 ]           [1.5 1.8]\n",
      "distances:  [0.5385164807134504, 0.0]  featureset:  [1.5 1.8] centroids[centroid] {0: array([1., 2.]), 1: array([1.5, 1.8])} [ 1 ]           [1.5 1.8]\n",
      "distances:  [7.211102550927978, 7.119691004531026]  featureset:  [5. 8.] centroids[centroid] {0: array([1., 2.]), 1: array([1.5, 1.8])} [ 1 ]           [1.5 1.8]\n",
      "distances:  [1.4, 1.3]  featureset:  [1.  0.6] centroids[centroid] {0: array([1., 2.]), 1: array([1.5, 1.8])} [ 1 ]           [1.5 1.8]\n",
      "distances:  [12.041594578792296, 11.869709347747316]  featureset:  [ 9. 11.] centroids[centroid] {0: array([1., 2.]), 1: array([1.5, 1.8])} [ 1 ]           [1.5 1.8]\n"
     ]
    }
   ],
   "source": [
    "centroids,classifications = fit(x,k,max_iter,cent_change)"
   ]
  },
  {
   "cell_type": "code",
   "execution_count": 105,
   "metadata": {},
   "outputs": [
    {
     "data": {
      "text/plain": [
       "{0: array([1., 2.]), 1: array([4.125, 5.35 ])}"
      ]
     },
     "execution_count": 105,
     "metadata": {},
     "output_type": "execute_result"
    }
   ],
   "source": [
    "centroids"
   ]
  },
  {
   "cell_type": "code",
   "execution_count": 81,
   "metadata": {},
   "outputs": [
    {
     "data": {
      "text/plain": [
       "{0: [array([1., 2.])],\n",
       " 1: [array([1.5, 1.8]), array([5., 8.]), array([1. , 0.6]), array([ 9., 11.])]}"
      ]
     },
     "execution_count": 81,
     "metadata": {},
     "output_type": "execute_result"
    }
   ],
   "source": [
    "classifications"
   ]
  },
  {
   "cell_type": "code",
   "execution_count": 82,
   "metadata": {},
   "outputs": [
    {
     "data": {
      "image/png": "[encoded data removed]",
      "text/plain": [
       "<matplotlib.figure.Figure at 0x1319c47fc18>"
      ]
     },
     "metadata": {},
     "output_type": "display_data"
    }
   ],
   "source": [
    "for class_1 in centroids:\n",
    "    plt.scatter(centroids[class_1][0],centroids[class_1][1],marker='o',color='k',s=50)\n",
    "    \n",
    "for class_2 in classifications:\n",
    "    color = colors[class_2]\n",
    "    \n",
    "    for featureset in classifications[class_2]:\n",
    "        plt.scatter(featureset[0],featureset[1],marker='.',s=50)\n",
    "        \n",
    "x_test = np.array([[1,3],\n",
    "                   [8,9],\n",
    "                   [0,3],\n",
    "                   [5,4],\n",
    "                   [6,4],\n",
    "                  ])\n",
    "\n",
    "for test in x_test:\n",
    "    classification = predict(test,centroids)\n",
    "    plt.scatter(test[0],test[1],marker = '*')"
   ]
  },
  {
   "cell_type": "code",
   "execution_count": 62,
   "metadata": {},
   "outputs": [],
   "source": [
    "from sklearn.datasets import load_wine\n",
    "from sklearn.model_selection import train_test_split"
   ]
  },
  {
   "cell_type": "code",
   "execution_count": 63,
   "metadata": {},
   "outputs": [],
   "source": [
    "wine = load_wine()\n",
    "x = pd.DataFrame(wine.data, columns=wine.feature_names)"
   ]
  },
  {
   "cell_type": "code",
   "execution_count": 72,
   "metadata": {
    "scrolled": true
   },
   "outputs": [
    {
     "name": "stdout",
     "output_type": "stream",
     "text": [
      "Wine Data Database\n",
      "====================\n",
      "\n",
      "Notes\n",
      "-----\n",
      "Data Set Characteristics:\n",
      "    :Number of Instances: 178 (50 in each of three classes)\n",
      "    :Number of Attributes: 13 numeric, predictive attributes and the class\n",
      "    :Attribute Information:\n",
      " \t\t- 1) Alcohol\n",
      " \t\t- 2) Malic acid\n",
      " \t\t- 3) Ash\n",
      "\t\t- 4) Alcalinity of ash  \n",
      " \t\t- 5) Magnesium\n",
      "\t\t- 6) Total phenols\n",
      " \t\t- 7) Flavanoids\n",
      " \t\t- 8) Nonflavanoid phenols\n",
      " \t\t- 9) Proanthocyanins\n",
      "\t\t- 10)Color intensity\n",
      " \t\t- 11)Hue\n",
      " \t\t- 12)OD280/OD315 of diluted wines\n",
      " \t\t- 13)Proline\n",
      "        \t- class:\n",
      "                - class_0\n",
      "                - class_1\n",
      "                - class_2\n",
      "\t\t\n",
      "    :Summary Statistics:\n",
      "    \n",
      "    ============================= ==== ===== ======= =====\n",
      "                                   Min   Max   Mean     SD\n",
      "    ============================= ==== ===== ======= =====\n",
      "    Alcohol:                      11.0  14.8    13.0   0.8\n",
      "    Malic Acid:                   0.74  5.80    2.34  1.12\n",
      "    Ash:                          1.36  3.23    2.36  0.27\n",
      "    Alcalinity of Ash:            10.6  30.0    19.5   3.3\n",
      "    Magnesium:                    70.0 162.0    99.7  14.3\n",
      "    Total Phenols:                0.98  3.88    2.29  0.63\n",
      "    Flavanoids:                   0.34  5.08    2.03  1.00\n",
      "    Nonflavanoid Phenols:         0.13  0.66    0.36  0.12\n",
      "    Proanthocyanins:              0.41  3.58    1.59  0.57\n",
      "    Colour Intensity:              1.3  13.0     5.1   2.3\n",
      "    Hue:                          0.48  1.71    0.96  0.23\n",
      "    OD280/OD315 of diluted wines: 1.27  4.00    2.61  0.71\n",
      "    Proline:                       278  1680     746   315\n",
      "    ============================= ==== ===== ======= =====\n",
      "\n",
      "    :Missing Attribute Values: None\n",
      "    :Class Distribution: class_0 (59), class_1 (71), class_2 (48)\n",
      "    :Creator: R.A. Fisher\n",
      "    :Donor: Michael Marshall (MARSHALL%PLU@io.arc.nasa.gov)\n",
      "    :Date: July, 1988\n",
      "\n",
      "This is a copy of UCI ML Wine recognition datasets.\n",
      "https://archive.ics.uci.edu/ml/machine-learning-databases/wine/wine.data\n",
      "\n",
      "The data is the results of a chemical analysis of wines grown in the same\n",
      "region in Italy by three different cultivators. There are thirteen different\n",
      "measurements taken for different constituents found in the three types of\n",
      "wine.\n",
      "\n",
      "Original Owners: \n",
      "\n",
      "Forina, M. et al, PARVUS - \n",
      "An Extendible Package for Data Exploration, Classification and Correlation. \n",
      "Institute of Pharmaceutical and Food Analysis and Technologies,\n",
      "Via Brigata Salerno, 16147 Genoa, Italy.\n",
      "\n",
      "Citation:\n",
      "\n",
      "Lichman, M. (2013). UCI Machine Learning Repository\n",
      "[http://archive.ics.uci.edu/ml]. Irvine, CA: University of California,\n",
      "School of Information and Computer Science. \n",
      "\n",
      "References\n",
      "----------\n",
      "(1) \n",
      "S. Aeberhard, D. Coomans and O. de Vel, \n",
      "Comparison of Classifiers in High Dimensional Settings, \n",
      "Tech. Rep. no. 92-02, (1992), Dept. of Computer Science and Dept. of \n",
      "Mathematics and Statistics, James Cook University of North Queensland. \n",
      "(Also submitted to Technometrics). \n",
      "\n",
      "The data was used with many others for comparing various \n",
      "classifiers. The classes are separable, though only RDA \n",
      "has achieved 100% correct classification. \n",
      "(RDA : 100%, QDA 99.4%, LDA 98.9%, 1NN 96.1% (z-transformed data)) \n",
      "(All results using the leave-one-out technique) \n",
      "\n",
      "(2) \n",
      "S. Aeberhard, D. Coomans and O. de Vel, \n",
      "\"THE CLASSIFICATION PERFORMANCE OF RDA\" \n",
      "Tech. Rep. no. 92-01, (1992), Dept. of Computer Science and Dept. of \n",
      "Mathematics and Statistics, James Cook University of North Queensland. \n",
      "(Also submitted to Journal of Chemometrics). \n",
      "\n"
     ]
    }
   ],
   "source": [
    "print(wine.DESCR)"
   ]
  },
  {
   "cell_type": "code",
   "execution_count": 76,
   "metadata": {},
   "outputs": [
    {
     "data": {
      "text/plain": [
       "array([0, 0, 0, 0, 0, 0, 0, 0, 0, 0, 0, 0, 0, 0, 0, 0, 0, 0, 0, 0, 0, 0,\n",
       "       0, 0, 0, 0, 0, 0, 0, 0, 0, 0, 0, 0, 0, 0, 0, 0, 0, 0, 0, 0, 0, 0,\n",
       "       0, 0, 0, 0, 0, 0, 0, 0, 0, 0, 0, 0, 0, 0, 0, 1, 1, 1, 1, 1, 1, 1,\n",
       "       1, 1, 1, 1, 1, 1, 1, 1, 1, 1, 1, 1, 1, 1, 1, 1, 1, 1, 1, 1, 1, 1,\n",
       "       1, 1, 1, 1, 1, 1, 1, 1, 1, 1, 1, 1, 1, 1, 1, 1, 1, 1, 1, 1, 1, 1,\n",
       "       1, 1, 1, 1, 1, 1, 1, 1, 1, 1, 1, 1, 1, 1, 1, 1, 1, 1, 1, 1, 2, 2,\n",
       "       2, 2, 2, 2, 2, 2, 2, 2, 2, 2, 2, 2, 2, 2, 2, 2, 2, 2, 2, 2, 2, 2,\n",
       "       2, 2, 2, 2, 2, 2, 2, 2, 2, 2, 2, 2, 2, 2, 2, 2, 2, 2, 2, 2, 2, 2,\n",
       "       2, 2])"
      ]
     },
     "execution_count": 76,
     "metadata": {},
     "output_type": "execute_result"
    }
   ],
   "source": [
    "wine.target"
   ]
  },
  {
   "cell_type": "code",
   "execution_count": 69,
   "metadata": {},
   "outputs": [
    {
     "data": {
      "text/html": [
       "<div>\n",
       "<style scoped>\n",
       "    .dataframe tbody tr th:only-of-type {\n",
       "        vertical-align: middle;\n",
       "    }\n",
       "\n",
       "    .dataframe tbody tr th {\n",
       "        vertical-align: top;\n",
       "    }\n",
       "\n",
       "    .dataframe thead th {\n",
       "        text-align: right;\n",
       "    }\n",
       "</style>\n",
       "<table border=\"1\" class=\"dataframe\">\n",
       "  <thead>\n",
       "    <tr style=\"text-align: right;\">\n",
       "      <th></th>\n",
       "      <th>alcohol</th>\n",
       "      <th>malic_acid</th>\n",
       "      <th>ash</th>\n",
       "      <th>alcalinity_of_ash</th>\n",
       "      <th>magnesium</th>\n",
       "      <th>total_phenols</th>\n",
       "      <th>flavanoids</th>\n",
       "      <th>nonflavanoid_phenols</th>\n",
       "      <th>proanthocyanins</th>\n",
       "      <th>color_intensity</th>\n",
       "      <th>hue</th>\n",
       "      <th>od280/od315_of_diluted_wines</th>\n",
       "      <th>proline</th>\n",
       "    </tr>\n",
       "  </thead>\n",
       "  <tbody>\n",
       "    <tr>\n",
       "      <th>0</th>\n",
       "      <td>0.842105</td>\n",
       "      <td>0.191700</td>\n",
       "      <td>0.572193</td>\n",
       "      <td>0.257732</td>\n",
       "      <td>0.619565</td>\n",
       "      <td>0.627586</td>\n",
       "      <td>0.573840</td>\n",
       "      <td>0.283019</td>\n",
       "      <td>0.593060</td>\n",
       "      <td>0.372014</td>\n",
       "      <td>0.455285</td>\n",
       "      <td>0.970696</td>\n",
       "      <td>0.561341</td>\n",
       "    </tr>\n",
       "    <tr>\n",
       "      <th>1</th>\n",
       "      <td>0.571053</td>\n",
       "      <td>0.205534</td>\n",
       "      <td>0.417112</td>\n",
       "      <td>0.030928</td>\n",
       "      <td>0.326087</td>\n",
       "      <td>0.575862</td>\n",
       "      <td>0.510549</td>\n",
       "      <td>0.245283</td>\n",
       "      <td>0.274448</td>\n",
       "      <td>0.264505</td>\n",
       "      <td>0.463415</td>\n",
       "      <td>0.780220</td>\n",
       "      <td>0.550642</td>\n",
       "    </tr>\n",
       "    <tr>\n",
       "      <th>2</th>\n",
       "      <td>0.560526</td>\n",
       "      <td>0.320158</td>\n",
       "      <td>0.700535</td>\n",
       "      <td>0.412371</td>\n",
       "      <td>0.336957</td>\n",
       "      <td>0.627586</td>\n",
       "      <td>0.611814</td>\n",
       "      <td>0.320755</td>\n",
       "      <td>0.757098</td>\n",
       "      <td>0.375427</td>\n",
       "      <td>0.447154</td>\n",
       "      <td>0.695971</td>\n",
       "      <td>0.646933</td>\n",
       "    </tr>\n",
       "    <tr>\n",
       "      <th>3</th>\n",
       "      <td>0.878947</td>\n",
       "      <td>0.239130</td>\n",
       "      <td>0.609626</td>\n",
       "      <td>0.319588</td>\n",
       "      <td>0.467391</td>\n",
       "      <td>0.989655</td>\n",
       "      <td>0.664557</td>\n",
       "      <td>0.207547</td>\n",
       "      <td>0.558360</td>\n",
       "      <td>0.556314</td>\n",
       "      <td>0.308943</td>\n",
       "      <td>0.798535</td>\n",
       "      <td>0.857347</td>\n",
       "    </tr>\n",
       "    <tr>\n",
       "      <th>4</th>\n",
       "      <td>0.581579</td>\n",
       "      <td>0.365613</td>\n",
       "      <td>0.807487</td>\n",
       "      <td>0.536082</td>\n",
       "      <td>0.521739</td>\n",
       "      <td>0.627586</td>\n",
       "      <td>0.495781</td>\n",
       "      <td>0.490566</td>\n",
       "      <td>0.444795</td>\n",
       "      <td>0.259386</td>\n",
       "      <td>0.455285</td>\n",
       "      <td>0.608059</td>\n",
       "      <td>0.325963</td>\n",
       "    </tr>\n",
       "  </tbody>\n",
       "</table>\n",
       "</div>"
      ],
      "text/plain": [
       "    alcohol  malic_acid       ash  alcalinity_of_ash  magnesium  \\\n",
       "0  0.842105    0.191700  0.572193           0.257732   0.619565   \n",
       "1  0.571053    0.205534  0.417112           0.030928   0.326087   \n",
       "2  0.560526    0.320158  0.700535           0.412371   0.336957   \n",
       "3  0.878947    0.239130  0.609626           0.319588   0.467391   \n",
       "4  0.581579    0.365613  0.807487           0.536082   0.521739   \n",
       "\n",
       "   total_phenols  flavanoids  nonflavanoid_phenols  proanthocyanins  \\\n",
       "0       0.627586    0.573840              0.283019         0.593060   \n",
       "1       0.575862    0.510549              0.245283         0.274448   \n",
       "2       0.627586    0.611814              0.320755         0.757098   \n",
       "3       0.989655    0.664557              0.207547         0.558360   \n",
       "4       0.627586    0.495781              0.490566         0.444795   \n",
       "\n",
       "   color_intensity       hue  od280/od315_of_diluted_wines   proline  \n",
       "0         0.372014  0.455285                      0.970696  0.561341  \n",
       "1         0.264505  0.463415                      0.780220  0.550642  \n",
       "2         0.375427  0.447154                      0.695971  0.646933  \n",
       "3         0.556314  0.308943                      0.798535  0.857347  \n",
       "4         0.259386  0.455285                      0.608059  0.325963  "
      ]
     },
     "execution_count": 69,
     "metadata": {},
     "output_type": "execute_result"
    }
   ],
   "source": [
    "x.head()"
   ]
  },
  {
   "cell_type": "code",
   "execution_count": 64,
   "metadata": {},
   "outputs": [],
   "source": [
    "x = (x-x.min())/(x.max()-x.min())"
   ]
  },
  {
   "cell_type": "code",
   "execution_count": 65,
   "metadata": {},
   "outputs": [],
   "source": [
    "xtrain,xtest = train_test_split(x,test_size=0.3)"
   ]
  },
  {
   "cell_type": "code",
   "execution_count": 66,
   "metadata": {},
   "outputs": [],
   "source": [
    "f1 = 'hue'\n",
    "f2 = 'proline'\n",
    "\n",
    "basex = np.array(xtrain[[f1,f2]])\n",
    "xtest = np.array(xtest[[f1,f2]])"
   ]
  },
  {
   "cell_type": "code",
   "execution_count": 67,
   "metadata": {},
   "outputs": [
    {
     "name": "stdout",
     "output_type": "stream",
     "text": [
      "k:  2  centroids[ 0 ]  [0.49593496 0.35805991]  data[ 0 ]  [0.49593496 0.35805991]\n",
      "k:  2  centroids[ 1 ]  [0.58536585 0.90513552]  data[ 1 ]  [0.58536585 0.90513552]\n"
     ]
    }
   ],
   "source": [
    "centroids,classifications = fit(basex,k,max_iter,cent_change)"
   ]
  },
  {
   "cell_type": "code",
   "execution_count": 52,
   "metadata": {},
   "outputs": [
    {
     "data": {
      "text/plain": [
       "{0: array([0.54735772, 0.57082739]), 1: array([0.32303523, 0.22991814])}"
      ]
     },
     "execution_count": 52,
     "metadata": {},
     "output_type": "execute_result"
    }
   ],
   "source": [
    "centroids"
   ]
  },
  {
   "cell_type": "code",
   "execution_count": 53,
   "metadata": {},
   "outputs": [
    {
     "data": {
      "text/plain": [
       "{0: [array([0.61788618, 0.70399429]),\n",
       "  array([0.67479675, 0.2510699 ]),\n",
       "  array([0.52845528, 0.78245364]),\n",
       "  array([0.62601626, 0.68259629]),\n",
       "  array([0.49593496, 0.42938659]),\n",
       "  array([0.64227642, 0.30813124]),\n",
       "  array([0.49593496, 0.88231098]),\n",
       "  array([0.43902439, 0.71825963]),\n",
       "  array([1.        , 0.09201141]),\n",
       "  array([0.44715447, 0.64693295]),\n",
       "  array([0.5203252 , 0.70042796]),\n",
       "  array([0.45528455, 0.53994294]),\n",
       "  array([0.62601626, 0.45435093]),\n",
       "  array([0.4796748 , 0.55777461]),\n",
       "  array([0.56910569, 0.52924394]),\n",
       "  array([0.76422764, 0.09129815]),\n",
       "  array([0.47154472, 0.7253923 ]),\n",
       "  array([0.52845528, 0.39372325]),\n",
       "  array([0.6504065, 0.7360913]),\n",
       "  array([0.55284553, 0.4700428 ]),\n",
       "  array([0.62601626, 0.62196862]),\n",
       "  array([0.51219512, 0.53994294]),\n",
       "  array([0.58536585, 0.90513552]),\n",
       "  array([0.43089431, 0.65049929]),\n",
       "  array([0.6504065 , 0.31383738]),\n",
       "  array([0.5203252 , 0.62196862]),\n",
       "  array([0.4796748 , 0.70756063]),\n",
       "  array([0.45528455, 0.56134094]),\n",
       "  array([0.46341463, 0.83594864]),\n",
       "  array([0.52845528, 0.60770328]),\n",
       "  array([0.71544715, 0.20256776]),\n",
       "  array([0.30894309, 0.85734665]),\n",
       "  array([0.48780488, 0.54707561]),\n",
       "  array([0.4796748, 0.7146933]),\n",
       "  array([0.35772358, 0.65406562]),\n",
       "  array([0.50406504, 0.58273894]),\n",
       "  array([0.62601626, 0.87874465]),\n",
       "  array([0.45528455, 0.56134094]),\n",
       "  array([0.78861789, 0.05492154]),\n",
       "  array([0.33333333, 0.71825963])],\n",
       " 1: [array([0.17886179, 0.33666191]),\n",
       "  array([0.2601626 , 0.24750357]),\n",
       "  array([0.41463415, 0.43366619]),\n",
       "  array([0.27642276, 0.28673324]),\n",
       "  array([0.38211382, 0.15477889]),\n",
       "  array([0.14634146, 0.16547789]),\n",
       "  array([0.40650407, 0.13837375]),\n",
       "  array([0.3495935, 0.5042796]),\n",
       "  array([0.30081301, 0.29743224]),\n",
       "  array([0.45528455, 0.20256776]),\n",
       "  array([0.37398374, 0.09771755]),\n",
       "  array([0.17886179, 0.2403709 ]),\n",
       "  array([0.09756098, 0.31883024]),\n",
       "  array([0.07317073, 0.24393723]),\n",
       "  array([0.2601626 , 0.11412268]),\n",
       "  array([0.45528455, 0.32596291]),\n",
       "  array([0.17886179, 0.35805991]),\n",
       "  array([0.6097561 , 0.23466476]),\n",
       "  array([0.26829268, 0.21540656]),\n",
       "  array([0.48780488, 0.14407989]),\n",
       "  array([0.6097561 , 0.12268188]),\n",
       "  array([0.55284553, 0.31098431]),\n",
       "  array([0.10569106, 0.20114123]),\n",
       "  array([0.3902439 , 0.40442225]),\n",
       "  array([0.38211382, 0.36875892]),\n",
       "  array([0.11382114, 0.2724679 ]),\n",
       "  array([0.36585366, 0.20399429]),\n",
       "  array([0.44715447, 0.35092725]),\n",
       "  array([0.1300813 , 0.32952924]),\n",
       "  array([0.20325203, 0.07275321]),\n",
       "  array([0.73170732, 0.        ]),\n",
       "  array([0.08130081, 0.09771755]),\n",
       "  array([0.55284553, 0.04778887]),\n",
       "  array([0.27642276, 0.16904422]),\n",
       "  array([0.42276423, 0.28673324]),\n",
       "  array([0.2195122 , 0.26533524]),\n",
       "  array([0.07317073, 0.13694722]),\n",
       "  array([0.05691057, 0.26533524]),\n",
       "  array([0.5203252 , 0.16547789]),\n",
       "  array([0.24390244, 0.2296719 ]),\n",
       "  array([0.08943089, 0.39728959]),\n",
       "  array([0.50406504, 0.11126961]),\n",
       "  array([0.08130081, 0.25820257]),\n",
       "  array([0.46341463, 0.17261056]),\n",
       "  array([0.10569106, 0.10485021]),\n",
       "  array([0.36585366, 0.13338088]),\n",
       "  array([0.34634146, 0.42225392]),\n",
       "  array([0.2195122 , 0.07275321]),\n",
       "  array([0.06504065, 0.17261056]),\n",
       "  array([0.57723577, 0.13195435]),\n",
       "  array([0.49593496, 0.35805991]),\n",
       "  array([0.33333333, 0.22253923]),\n",
       "  array([0.38211382, 0.24750357]),\n",
       "  array([0.42276423, 0.16547789]),\n",
       "  array([0.46341463, 0.12268188]),\n",
       "  array([0.6097561 , 0.10699001]),\n",
       "  array([0.13821138, 0.41155492]),\n",
       "  array([0.57723577, 0.2853067 ]),\n",
       "  array([0.24390244, 0.17261056]),\n",
       "  array([0.19512195, 0.29029957]),\n",
       "  array([0.33333333, 0.34379458]),\n",
       "  array([0.22764228, 0.2510699 ]),\n",
       "  array([0.32520325, 0.58273894]),\n",
       "  array([0.16260163, 0.2831669 ]),\n",
       "  array([0.        , 0.14407989]),\n",
       "  array([0.15447154, 0.42938659]),\n",
       "  array([0.17073171, 0.05278174]),\n",
       "  array([0.3495935 , 0.53994294]),\n",
       "  array([0.47154472, 0.33666191]),\n",
       "  array([0.47154472, 0.04778887]),\n",
       "  array([0.30894309, 0.07132668]),\n",
       "  array([0.20325203, 0.29743224]),\n",
       "  array([0.31707317, 0.20827389]),\n",
       "  array([0.3902439 , 0.15477889]),\n",
       "  array([0.25203252, 0.17261056]),\n",
       "  array([0.23577236, 0.2296719 ]),\n",
       "  array([0.21138211, 0.17974322]),\n",
       "  array([0.45528455, 0.2724679 ]),\n",
       "  array([0.6097561 , 0.10699001]),\n",
       "  array([0.54471545, 0.0085592 ]),\n",
       "  array([0.33333333, 0.04564907]),\n",
       "  array([0.35772358, 0.55777461]),\n",
       "  array([0.60162602, 0.10128388]),\n",
       "  array([0.33333333, 0.17261056])]}"
      ]
     },
     "execution_count": 53,
     "metadata": {},
     "output_type": "execute_result"
    }
   ],
   "source": [
    "classifications"
   ]
  },
  {
   "cell_type": "code",
   "execution_count": 37,
   "metadata": {},
   "outputs": [
    {
     "data": {
      "image/png": "[encoded data removed]",
      "text/plain": [
       "<matplotlib.figure.Figure at 0x1319badf198>"
      ]
     },
     "metadata": {},
     "output_type": "display_data"
    }
   ],
   "source": [
    "for centroid in centroids:\n",
    "     plt.scatter(centroids[centroid][0],centroids[centroid][1],marker='o',color='k',s=50)\n",
    "        \n",
    "for classification in classifications:\n",
    "    color = colors[classification]\n",
    "    \n",
    "    for next_datapoint in classifications[classification]:\n",
    "        plt.scatter(next_datapoint[0],next_datapoint[1],marker = '.',color= color, s=50)\n",
    "        \n",
    "for test in xtest:\n",
    "    classification = predict(test, centroids)\n",
    "    plt.scatter(test[0],test[1],marker='*',color=colors[classification],s=100)\n",
    "    "
   ]
  },
  {
   "cell_type": "code",
   "execution_count": null,
   "metadata": {},
   "outputs": [],
   "source": []
  },
  {
   "cell_type": "code",
   "execution_count": null,
   "metadata": {},
   "outputs": [],
   "source": []
  }
 ],
 "metadata": {
  "kernelspec": {
   "display_name": "Python 3",
   "language": "python",
   "name": "python3"
  },
  "language_info": {
   "codemirror_mode": {
    "name": "ipython",
    "version": 3
   },
   "file_extension": ".py",
   "mimetype": "text/x-python",
   "name": "python",
   "nbconvert_exporter": "python",
   "pygments_lexer": "ipython3",
   "version": "3.6.4"
  }
 },
 "nbformat": 4,
 "nbformat_minor": 2
}
