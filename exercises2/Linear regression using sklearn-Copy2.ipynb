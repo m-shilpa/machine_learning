{
 "cells": [
  {
   "cell_type": "code",
   "execution_count": 2,
   "metadata": {},
   "outputs": [],
   "source": [
    "import numpy as np\n",
    "import pandas as pd\n",
    "import matplotlib.pyplot as plt\n",
    "\n",
    "from sklearn.datasets import load_boston"
   ]
  },
  {
   "cell_type": "code",
   "execution_count": 15,
   "metadata": {},
   "outputs": [
    {
     "data": {
      "text/html": [
       "<div>\n",
       "<style scoped>\n",
       "    .dataframe tbody tr th:only-of-type {\n",
       "        vertical-align: middle;\n",
       "    }\n",
       "\n",
       "    .dataframe tbody tr th {\n",
       "        vertical-align: top;\n",
       "    }\n",
       "\n",
       "    .dataframe thead th {\n",
       "        text-align: right;\n",
       "    }\n",
       "</style>\n",
       "<table border=\"1\" class=\"dataframe\">\n",
       "  <thead>\n",
       "    <tr style=\"text-align: right;\">\n",
       "      <th></th>\n",
       "      <th>sex/nominal</th>\n",
       "      <th>Length</th>\n",
       "      <th>diameter</th>\n",
       "      <th>height</th>\n",
       "      <th>whole wt</th>\n",
       "      <th>Shucked weight</th>\n",
       "      <th>Viscera weight</th>\n",
       "      <th>Shell weight</th>\n",
       "      <th>Rings</th>\n",
       "    </tr>\n",
       "  </thead>\n",
       "  <tbody>\n",
       "    <tr>\n",
       "      <th>0</th>\n",
       "      <td>M</td>\n",
       "      <td>0.455</td>\n",
       "      <td>0.365</td>\n",
       "      <td>0.095</td>\n",
       "      <td>0.5140</td>\n",
       "      <td>0.2245</td>\n",
       "      <td>0.1010</td>\n",
       "      <td>0.150</td>\n",
       "      <td>15</td>\n",
       "    </tr>\n",
       "    <tr>\n",
       "      <th>1</th>\n",
       "      <td>M</td>\n",
       "      <td>0.350</td>\n",
       "      <td>0.265</td>\n",
       "      <td>0.090</td>\n",
       "      <td>0.2255</td>\n",
       "      <td>0.0995</td>\n",
       "      <td>0.0485</td>\n",
       "      <td>0.070</td>\n",
       "      <td>7</td>\n",
       "    </tr>\n",
       "    <tr>\n",
       "      <th>2</th>\n",
       "      <td>F</td>\n",
       "      <td>0.530</td>\n",
       "      <td>0.420</td>\n",
       "      <td>0.135</td>\n",
       "      <td>0.6770</td>\n",
       "      <td>0.2565</td>\n",
       "      <td>0.1415</td>\n",
       "      <td>0.210</td>\n",
       "      <td>9</td>\n",
       "    </tr>\n",
       "    <tr>\n",
       "      <th>3</th>\n",
       "      <td>M</td>\n",
       "      <td>0.440</td>\n",
       "      <td>0.365</td>\n",
       "      <td>0.125</td>\n",
       "      <td>0.5160</td>\n",
       "      <td>0.2155</td>\n",
       "      <td>0.1140</td>\n",
       "      <td>0.155</td>\n",
       "      <td>10</td>\n",
       "    </tr>\n",
       "    <tr>\n",
       "      <th>4</th>\n",
       "      <td>I</td>\n",
       "      <td>0.330</td>\n",
       "      <td>0.255</td>\n",
       "      <td>0.080</td>\n",
       "      <td>0.2050</td>\n",
       "      <td>0.0895</td>\n",
       "      <td>0.0395</td>\n",
       "      <td>0.055</td>\n",
       "      <td>7</td>\n",
       "    </tr>\n",
       "  </tbody>\n",
       "</table>\n",
       "</div>"
      ],
      "text/plain": [
       "  sex/nominal  Length  diameter  height  whole wt  Shucked weight  \\\n",
       "0           M   0.455     0.365   0.095    0.5140          0.2245   \n",
       "1           M   0.350     0.265   0.090    0.2255          0.0995   \n",
       "2           F   0.530     0.420   0.135    0.6770          0.2565   \n",
       "3           M   0.440     0.365   0.125    0.5160          0.2155   \n",
       "4           I   0.330     0.255   0.080    0.2050          0.0895   \n",
       "\n",
       "   Viscera weight  Shell weight  Rings  \n",
       "0          0.1010         0.150     15  \n",
       "1          0.0485         0.070      7  \n",
       "2          0.1415         0.210      9  \n",
       "3          0.1140         0.155     10  \n",
       "4          0.0395         0.055      7  "
      ]
     },
     "execution_count": 15,
     "metadata": {},
     "output_type": "execute_result"
    }
   ],
   "source": [
    "name= ['sex/nominal','Length','diameter','height','whole wt','Shucked weight','Viscera weight','Shell weight','Rings']\n",
    "abalone = pd.read_csv(\"./datasets/abalonedata.csv\",names=name)\n",
    "abalone.head()"
   ]
  },
  {
   "cell_type": "code",
   "execution_count": 16,
   "metadata": {},
   "outputs": [
    {
     "data": {
      "text/html": [
       "<div>\n",
       "<style scoped>\n",
       "    .dataframe tbody tr th:only-of-type {\n",
       "        vertical-align: middle;\n",
       "    }\n",
       "\n",
       "    .dataframe tbody tr th {\n",
       "        vertical-align: top;\n",
       "    }\n",
       "\n",
       "    .dataframe thead th {\n",
       "        text-align: right;\n",
       "    }\n",
       "</style>\n",
       "<table border=\"1\" class=\"dataframe\">\n",
       "  <thead>\n",
       "    <tr style=\"text-align: right;\">\n",
       "      <th></th>\n",
       "      <th>Length</th>\n",
       "      <th>diameter</th>\n",
       "      <th>height</th>\n",
       "      <th>whole wt</th>\n",
       "      <th>Shucked weight</th>\n",
       "      <th>Viscera weight</th>\n",
       "      <th>Shell weight</th>\n",
       "    </tr>\n",
       "  </thead>\n",
       "  <tbody>\n",
       "    <tr>\n",
       "      <th>0</th>\n",
       "      <td>0.455</td>\n",
       "      <td>0.365</td>\n",
       "      <td>0.095</td>\n",
       "      <td>0.5140</td>\n",
       "      <td>0.2245</td>\n",
       "      <td>0.1010</td>\n",
       "      <td>0.150</td>\n",
       "    </tr>\n",
       "    <tr>\n",
       "      <th>1</th>\n",
       "      <td>0.350</td>\n",
       "      <td>0.265</td>\n",
       "      <td>0.090</td>\n",
       "      <td>0.2255</td>\n",
       "      <td>0.0995</td>\n",
       "      <td>0.0485</td>\n",
       "      <td>0.070</td>\n",
       "    </tr>\n",
       "    <tr>\n",
       "      <th>2</th>\n",
       "      <td>0.530</td>\n",
       "      <td>0.420</td>\n",
       "      <td>0.135</td>\n",
       "      <td>0.6770</td>\n",
       "      <td>0.2565</td>\n",
       "      <td>0.1415</td>\n",
       "      <td>0.210</td>\n",
       "    </tr>\n",
       "    <tr>\n",
       "      <th>3</th>\n",
       "      <td>0.440</td>\n",
       "      <td>0.365</td>\n",
       "      <td>0.125</td>\n",
       "      <td>0.5160</td>\n",
       "      <td>0.2155</td>\n",
       "      <td>0.1140</td>\n",
       "      <td>0.155</td>\n",
       "    </tr>\n",
       "    <tr>\n",
       "      <th>4</th>\n",
       "      <td>0.330</td>\n",
       "      <td>0.255</td>\n",
       "      <td>0.080</td>\n",
       "      <td>0.2050</td>\n",
       "      <td>0.0895</td>\n",
       "      <td>0.0395</td>\n",
       "      <td>0.055</td>\n",
       "    </tr>\n",
       "  </tbody>\n",
       "</table>\n",
       "</div>"
      ],
      "text/plain": [
       "   Length  diameter  height  whole wt  Shucked weight  Viscera weight  \\\n",
       "0   0.455     0.365   0.095    0.5140          0.2245          0.1010   \n",
       "1   0.350     0.265   0.090    0.2255          0.0995          0.0485   \n",
       "2   0.530     0.420   0.135    0.6770          0.2565          0.1415   \n",
       "3   0.440     0.365   0.125    0.5160          0.2155          0.1140   \n",
       "4   0.330     0.255   0.080    0.2050          0.0895          0.0395   \n",
       "\n",
       "   Shell weight  \n",
       "0         0.150  \n",
       "1         0.070  \n",
       "2         0.210  \n",
       "3         0.155  \n",
       "4         0.055  "
      ]
     },
     "execution_count": 16,
     "metadata": {},
     "output_type": "execute_result"
    }
   ],
   "source": [
    "features=abalone.loc[:,'Length':'Shell weight']\n",
    "features.head()"
   ]
  },
  {
   "cell_type": "code",
   "execution_count": 17,
   "metadata": {},
   "outputs": [
    {
     "data": {
      "text/plain": [
       "0    15\n",
       "1     7\n",
       "2     9\n",
       "3    10\n",
       "4     7\n",
       "Name: Rings, dtype: int64"
      ]
     },
     "execution_count": 17,
     "metadata": {},
     "output_type": "execute_result"
    }
   ],
   "source": [
    "target_values = abalone.loc[:,'Rings']\n",
    "target_values.head()"
   ]
  },
  {
   "cell_type": "code",
   "execution_count": 18,
   "metadata": {},
   "outputs": [],
   "source": [
    "nominal_values = abalone['sex/nominal']\n",
    "nominal = []\n",
    "i=0\n",
    "length = len(nominal_values)\n",
    "for i in range(length):\n",
    "    if(nominal_values[i] =='I'):\n",
    "        nominal.append(0)\n",
    "    elif(nominal_values[i] == 'M'):\n",
    "        nominal.append(1)\n",
    "    else:\n",
    "        nominal.append(2)"
   ]
  },
  {
   "cell_type": "code",
   "execution_count": 19,
   "metadata": {},
   "outputs": [],
   "source": [
    "nominal = pd.DataFrame(nominal)"
   ]
  },
  {
   "cell_type": "code",
   "execution_count": 20,
   "metadata": {},
   "outputs": [],
   "source": [
    "features = pd.concat([features])"
   ]
  },
  {
   "cell_type": "code",
   "execution_count": null,
   "metadata": {},
   "outputs": [],
   "source": []
  },
  {
   "cell_type": "code",
   "execution_count": 10,
   "metadata": {},
   "outputs": [],
   "source": [
    "from sklearn.preprocessing import MinMaxScaler"
   ]
  },
  {
   "cell_type": "code",
   "execution_count": 11,
   "metadata": {},
   "outputs": [],
   "source": [
    "scaler = MinMaxScaler()"
   ]
  },
  {
   "cell_type": "code",
   "execution_count": 12,
   "metadata": {},
   "outputs": [],
   "source": [
    "x = x.reshape(-1,1)\n",
    "y = y.reshape(-1,1)"
   ]
  },
  {
   "cell_type": "code",
   "execution_count": 13,
   "metadata": {},
   "outputs": [
    {
     "data": {
      "text/plain": [
       "(506, 1)"
      ]
     },
     "execution_count": 13,
     "metadata": {},
     "output_type": "execute_result"
    }
   ],
   "source": [
    "x.shape"
   ]
  },
  {
   "cell_type": "code",
   "execution_count": 14,
   "metadata": {},
   "outputs": [],
   "source": [
    "x = scaler.fit_transform(x)\n",
    "y = scaler.fit_transform(y)"
   ]
  },
  {
   "cell_type": "code",
   "execution_count": 15,
   "metadata": {},
   "outputs": [
    {
     "data": {
      "text/plain": [
       "[<matplotlib.lines.Line2D at 0x20b326830f0>]"
      ]
     },
     "execution_count": 15,
     "metadata": {},
     "output_type": "execute_result"
    },
    {
     "data": {
      "image/png": "[encoded data removed]",
      "text/plain": [
       "<matplotlib.figure.Figure at 0x20b325bcfd0>"
      ]
     },
     "metadata": {},
     "output_type": "display_data"
    }
   ],
   "source": [
    "plt.plot(x,y,'r.')"
   ]
  },
  {
   "cell_type": "code",
   "execution_count": 16,
   "metadata": {},
   "outputs": [],
   "source": [
    "from sklearn.model_selection import train_test_split "
   ]
  },
  {
   "cell_type": "code",
   "execution_count": 17,
   "metadata": {},
   "outputs": [],
   "source": [
    "x_train,x_test,y_train,y_test = train_test_split(x,y,test_size=0.2)"
   ]
  },
  {
   "cell_type": "code",
   "execution_count": 18,
   "metadata": {},
   "outputs": [],
   "source": [
    "from sklearn.linear_model import LinearRegression"
   ]
  },
  {
   "cell_type": "code",
   "execution_count": 19,
   "metadata": {},
   "outputs": [],
   "source": [
    "regressor = LinearRegression() "
   ]
  },
  {
   "cell_type": "code",
   "execution_count": 20,
   "metadata": {},
   "outputs": [
    {
     "data": {
      "text/plain": [
       "LinearRegression(copy_X=True, fit_intercept=True, n_jobs=1, normalize=False)"
      ]
     },
     "execution_count": 20,
     "metadata": {},
     "output_type": "execute_result"
    }
   ],
   "source": [
    "regressor.fit(x_train,y_train)"
   ]
  },
  {
   "cell_type": "code",
   "execution_count": 21,
   "metadata": {},
   "outputs": [],
   "source": [
    "y_pred = regressor.predict(x_test)"
   ]
  },
  {
   "cell_type": "code",
   "execution_count": 22,
   "metadata": {},
   "outputs": [
    {
     "data": {
      "text/plain": [
       "array([[0.54974126],\n",
       "       [0.29691172],\n",
       "       [0.28678265],\n",
       "       [0.50286949],\n",
       "       [0.3092255 ],\n",
       "       [0.61111151],\n",
       "       [0.32610728],\n",
       "       [0.33444887],\n",
       "       [0.71299804],\n",
       "       [0.40793428],\n",
       "       [0.24984134],\n",
       "       [0.48280996],\n",
       "       [0.43951315],\n",
       "       [0.45401162],\n",
       "       [0.47426976],\n",
       "       [0.57536185],\n",
       "       [0.31260185],\n",
       "       [0.47426976],\n",
       "       [0.51994988],\n",
       "       [0.45222414],\n",
       "       [0.43891732],\n",
       "       [0.35808336],\n",
       "       [0.44030758],\n",
       "       [0.87109099],\n",
       "       [0.36662356],\n",
       "       [0.47446837],\n",
       "       [0.25778571],\n",
       "       [0.34696125],\n",
       "       [0.59065476],\n",
       "       [0.37139018],\n",
       "       [0.3717874 ],\n",
       "       [0.26672312],\n",
       "       [0.43236321],\n",
       "       [0.37933455],\n",
       "       [0.2424928 ],\n",
       "       [0.40455792],\n",
       "       [0.35411118],\n",
       "       [0.37794429],\n",
       "       [0.44169785],\n",
       "       [0.39144971],\n",
       "       [0.37278045],\n",
       "       [0.32312814],\n",
       "       [0.3265045 ],\n",
       "       [0.2512316 ],\n",
       "       [0.16205606],\n",
       "       [0.35133065],\n",
       "       [0.30028808],\n",
       "       [0.53663306],\n",
       "       [0.2490469 ],\n",
       "       [0.49949313],\n",
       "       [0.42660355],\n",
       "       [0.41349534],\n",
       "       [0.41985083],\n",
       "       [0.25599822],\n",
       "       [0.80614577],\n",
       "       [0.30048669],\n",
       "       [0.27148974],\n",
       "       [0.33405165],\n",
       "       [0.30386305],\n",
       "       [0.27188696],\n",
       "       [0.42620633],\n",
       "       [0.30128113],\n",
       "       [0.28201603],\n",
       "       [0.56523278],\n",
       "       [0.31716986],\n",
       "       [0.12392309],\n",
       "       [0.55768563],\n",
       "       [0.51875823],\n",
       "       [0.43812288],\n",
       "       [0.77615578],\n",
       "       [0.28896736],\n",
       "       [0.34894734],\n",
       "       [0.32134066],\n",
       "       [0.27645497],\n",
       "       [0.40435931],\n",
       "       [0.40892733],\n",
       "       [0.39184693],\n",
       "       [0.37973177],\n",
       "       [0.24487611],\n",
       "       [0.36860965],\n",
       "       [0.36821244],\n",
       "       [0.29830199],\n",
       "       [0.21607777],\n",
       "       [0.37754707],\n",
       "       [0.65659303],\n",
       "       [0.35510423],\n",
       "       [0.3717874 ],\n",
       "       [0.35391257],\n",
       "       [0.39800382],\n",
       "       [0.25083438],\n",
       "       [0.41250229],\n",
       "       [0.37854011],\n",
       "       [0.73504367],\n",
       "       [0.33166834],\n",
       "       [0.34279045],\n",
       "       [0.38410117],\n",
       "       [0.30128113],\n",
       "       [0.36205555],\n",
       "       [0.30187695],\n",
       "       [0.37139018],\n",
       "       [0.31101298],\n",
       "       [0.28817292]])"
      ]
     },
     "execution_count": 22,
     "metadata": {},
     "output_type": "execute_result"
    }
   ],
   "source": [
    "y_pred"
   ]
  },
  {
   "cell_type": "code",
   "execution_count": 23,
   "metadata": {},
   "outputs": [
    {
     "name": "stdout",
     "output_type": "stream",
     "text": [
      "(array([0.54974126]), array([0.56222222]))\n",
      "(array([0.29691172]), array([0.33111111]))\n",
      "(array([0.28678265]), array([0.38888889]))\n",
      "(array([0.50286949]), array([0.44]))\n",
      "(array([0.3092255]), array([0.07333333]))\n",
      "(array([0.61111151]), array([0.62666667]))\n",
      "(array([0.32610728]), array([0.42888889]))\n",
      "(array([0.33444887]), array([0.32]))\n",
      "(array([0.71299804]), array([1.]))\n",
      "(array([0.40793428]), array([0.41555556]))\n",
      "(array([0.24984134]), array([0.23111111]))\n",
      "(array([0.48280996]), array([0.48]))\n",
      "(array([0.43951315]), array([0.58888889]))\n",
      "(array([0.45401162]), array([0.52]))\n",
      "(array([0.47426976]), array([0.5]))\n",
      "(array([0.57536185]), array([0.69111111]))\n",
      "(array([0.31260185]), array([0.30666667]))\n",
      "(array([0.47426976]), array([0.51111111]))\n",
      "(array([0.51994988]), array([0.54666667]))\n",
      "(array([0.45222414]), array([0.52]))\n",
      "(array([0.43891732]), array([0.49111111]))\n",
      "(array([0.35808336]), array([0.22666667]))\n",
      "(array([0.44030758]), array([0.55111111]))\n",
      "(array([0.87109099]), array([1.]))\n",
      "(array([0.36662356]), array([0.20222222]))\n",
      "(array([0.47446837]), array([0.22]))\n",
      "(array([0.25778571]), array([0.20666667]))\n",
      "(array([0.34696125]), array([0.42222222]))\n",
      "(array([0.59065476]), array([0.22222222]))\n",
      "(array([0.37139018]), array([0.36444444]))\n",
      "(array([0.3717874]), array([0.44444444]))\n",
      "(array([0.26672312]), array([0.31777778]))\n",
      "(array([0.43236321]), array([0.40222222]))\n",
      "(array([0.37933455]), array([0.34666667]))\n",
      "(array([0.2424928]), array([0.39555556]))\n",
      "(array([0.40455792]), array([0.40222222]))\n",
      "(array([0.35411118]), array([0.36666667]))\n",
      "(array([0.37794429]), array([0.4]))\n",
      "(array([0.44169785]), array([0.61111111]))\n",
      "(array([0.39144971]), array([0.34888889]))\n",
      "(array([0.37278045]), array([1.]))\n",
      "(array([0.32312814]), array([0.24444444]))\n",
      "(array([0.3265045]), array([0.33555556]))\n",
      "(array([0.2512316]), array([0.47555556]))\n",
      "(array([0.16205606]), array([0.25111111]))\n",
      "(array([0.35133065]), array([0.37555556]))\n",
      "(array([0.30028808]), array([0.32222222]))\n",
      "(array([0.53663306]), array([0.53333333]))\n",
      "(array([0.2490469]), array([0.28]))\n",
      "(array([0.49949313]), array([0.6]))\n",
      "(array([0.42660355]), array([0.43111111]))\n",
      "(array([0.41349534]), array([0.36888889]))\n",
      "(array([0.41985083]), array([0.37777778]))\n",
      "(array([0.25599822]), array([0.23555556]))\n",
      "(array([0.80614577]), array([0.97333333]))\n",
      "(array([0.30048669]), array([0.02888889]))\n",
      "(array([0.27148974]), array([0.26888889]))\n",
      "(array([0.33405165]), array([0.31555556]))\n",
      "(array([0.30386305]), array([0.32222222]))\n",
      "(array([0.27188696]), array([0.3]))\n",
      "(array([0.42620633]), array([0.23111111]))\n",
      "(array([0.30128113]), array([0.35777778]))\n",
      "(array([0.28201603]), array([0.33111111]))\n",
      "(array([0.56523278]), array([0.66]))\n",
      "(array([0.31716986]), array([0.34666667]))\n",
      "(array([0.12392309]), array([0.37555556]))\n",
      "(array([0.55768563]), array([0.69333333]))\n",
      "(array([0.51875823]), array([0.48222222]))\n",
      "(array([0.43812288]), array([0.13111111]))\n",
      "(array([0.77615578]), array([0.96222222]))\n",
      "(array([0.28896736]), array([0.29555556]))\n",
      "(array([0.34894734]), array([0.29333333]))\n",
      "(array([0.32134066]), array([0.08444444]))\n",
      "(array([0.27645497]), array([0.31777778]))\n",
      "(array([0.40435931]), array([0.51333333]))\n",
      "(array([0.40892733]), array([0.44444444]))\n",
      "(array([0.39184693]), array([0.36]))\n",
      "(array([0.37973177]), array([0.16888889]))\n",
      "(array([0.24487611]), array([0.40222222]))\n",
      "(array([0.36860965]), array([0.37111111]))\n",
      "(array([0.36821244]), array([0.19555556]))\n",
      "(array([0.29830199]), array([0.33333333]))\n",
      "(array([0.21607777]), array([0.19555556]))\n",
      "(array([0.37754707]), array([0.44888889]))\n",
      "(array([0.65659303]), array([0.91111111]))\n",
      "(array([0.35510423]), array([0.42]))\n",
      "(array([0.3717874]), array([0.43777778]))\n",
      "(array([0.35391257]), array([0.38222222]))\n",
      "(array([0.39800382]), array([0.04888889]))\n",
      "(array([0.25083438]), array([0.32]))\n",
      "(array([0.41250229]), array([0.41333333]))\n",
      "(array([0.37854011]), array([0.40888889]))\n",
      "(array([0.73504367]), array([0.72444444]))\n",
      "(array([0.33166834]), array([0.37111111]))\n",
      "(array([0.34279045]), array([0.39555556]))\n",
      "(array([0.38410117]), array([0.42444444]))\n",
      "(array([0.30128113]), array([0.27333333]))\n",
      "(array([0.36205555]), array([0.18444444]))\n",
      "(array([0.30187695]), array([0.39111111]))\n",
      "(array([0.37139018]), array([0.40444444]))\n",
      "(array([0.31101298]), array([0.34666667]))\n",
      "(array([0.28817292]), array([0.34]))\n"
     ]
    }
   ],
   "source": [
    "for i in zip(y_pred,y_test):\n",
    "    print(i)"
   ]
  },
  {
   "cell_type": "code",
   "execution_count": 24,
   "metadata": {},
   "outputs": [],
   "source": [
    "from sklearn.metrics import mean_squared_error, r2_score"
   ]
  },
  {
   "cell_type": "code",
   "execution_count": 25,
   "metadata": {},
   "outputs": [
    {
     "data": {
      "text/plain": [
       "0.0180265633898767"
      ]
     },
     "execution_count": 25,
     "metadata": {},
     "output_type": "execute_result"
    }
   ],
   "source": [
    "mean_squared_error(y_test,y_pred)"
   ]
  },
  {
   "cell_type": "code",
   "execution_count": 26,
   "metadata": {},
   "outputs": [
    {
     "data": {
      "text/plain": [
       "Text(0.5,1,'Linear Regression(train)')"
      ]
     },
     "execution_count": 26,
     "metadata": {},
     "output_type": "execute_result"
    },
    {
     "data": {
      "image/png": "[encoded data removed]",
      "text/plain": [
       "<matplotlib.figure.Figure at 0x20b32ba62e8>"
      ]
     },
     "metadata": {},
     "output_type": "display_data"
    }
   ],
   "source": [
    "plt.scatter(x_train,y_train,color='red')\n",
    "plt.plot(x_train,regressor.predict(x_train),'b')\n",
    "\n",
    "plt.xlabel(\"RM\")\n",
    "plt.ylabel(\"TARGET\")\n",
    "plt.title(\"Linear Regression(train)\")"
   ]
  },
  {
   "cell_type": "code",
   "execution_count": 27,
   "metadata": {},
   "outputs": [
    {
     "data": {
      "text/plain": [
       "Text(0.5,1,'Linear Regression(test)')"
      ]
     },
     "execution_count": 27,
     "metadata": {},
     "output_type": "execute_result"
    },
    {
     "data": {
      "image/png": "[encoded data removed]",
      "text/plain": [
       "<matplotlib.figure.Figure at 0x20b32b82550>"
      ]
     },
     "metadata": {},
     "output_type": "display_data"
    }
   ],
   "source": [
    "plt.scatter(x_test,y_test,color='red')\n",
    "plt.plot(x_test,regressor.predict(x_test),'b')\n",
    "\n",
    "plt.xlabel(\"RM\")\n",
    "plt.ylabel(\"TARGET\")\n",
    "plt.title(\"Linear Regression(test)\")"
   ]
  },
  {
   "cell_type": "code",
   "execution_count": 28,
   "metadata": {},
   "outputs": [
    {
     "data": {
      "text/plain": [
       "0.5271561235526645"
      ]
     },
     "execution_count": 28,
     "metadata": {},
     "output_type": "execute_result"
    }
   ],
   "source": [
    "r2_score(y_test,y_pred)   # tells how much of data present is fit by the model. it tells that if there are 100 pts then 44 pts are fit correctly"
   ]
  },
  {
   "cell_type": "code",
   "execution_count": null,
   "metadata": {},
   "outputs": [],
   "source": []
  },
  {
   "cell_type": "code",
   "execution_count": null,
   "metadata": {},
   "outputs": [],
   "source": []
  }
 ],
 "metadata": {
  "kernelspec": {
   "display_name": "Python 3",
   "language": "python",
   "name": "python3"
  },
  "language_info": {
   "codemirror_mode": {
    "name": "ipython",
    "version": 3
   },
   "file_extension": ".py",
   "mimetype": "text/x-python",
   "name": "python",
   "nbconvert_exporter": "python",
   "pygments_lexer": "ipython3",
   "version": "3.6.4"
  }
 },
 "nbformat": 4,
 "nbformat_minor": 2
}
