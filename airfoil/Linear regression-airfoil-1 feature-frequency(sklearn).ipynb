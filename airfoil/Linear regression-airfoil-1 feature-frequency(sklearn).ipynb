{
 "cells": [
  {
   "cell_type": "code",
   "execution_count": 1,
   "metadata": {},
   "outputs": [],
   "source": [
    "import numpy as np\n",
    "import pandas as pd\n",
    "import matplotlib.pyplot as plt\n",
    "\n",
    "from sklearn.datasets import load_boston"
   ]
  },
  {
   "cell_type": "code",
   "execution_count": 2,
   "metadata": {},
   "outputs": [],
   "source": [
    "# This problem has the following inputs: \n",
    "# 1. Frequency, in Hertzs. \n",
    "# 2. Angle of attack, in degrees. \n",
    "# 3. Chord length, in meters. \n",
    "# 4. Free-stream velocity, in meters per second. \n",
    "# 5. Suction side displacement thickness, in meters. \n",
    "\n",
    "# The only output is: \n",
    "# 6. Scaled sound pressure level, in decibels. "
   ]
  },
  {
   "cell_type": "code",
   "execution_count": 3,
   "metadata": {},
   "outputs": [],
   "source": [
    "feature_names = ['Frequency','Angle','Chord Length','velocity','displacement thickness','sound pressure']\n",
    "airfoil = pd.read_csv(\"./airfoil_self_noise.csv\",header=None,sep='\\t',names=feature_names)"
   ]
  },
  {
   "cell_type": "code",
   "execution_count": 4,
   "metadata": {},
   "outputs": [
    {
     "data": {
      "text/html": [
       "<div>\n",
       "<style scoped>\n",
       "    .dataframe tbody tr th:only-of-type {\n",
       "        vertical-align: middle;\n",
       "    }\n",
       "\n",
       "    .dataframe tbody tr th {\n",
       "        vertical-align: top;\n",
       "    }\n",
       "\n",
       "    .dataframe thead th {\n",
       "        text-align: right;\n",
       "    }\n",
       "</style>\n",
       "<table border=\"1\" class=\"dataframe\">\n",
       "  <thead>\n",
       "    <tr style=\"text-align: right;\">\n",
       "      <th></th>\n",
       "      <th>Frequency</th>\n",
       "      <th>Angle</th>\n",
       "      <th>Chord Length</th>\n",
       "      <th>velocity</th>\n",
       "      <th>displacement thickness</th>\n",
       "      <th>sound pressure</th>\n",
       "    </tr>\n",
       "  </thead>\n",
       "  <tbody>\n",
       "    <tr>\n",
       "      <th>0</th>\n",
       "      <td>800</td>\n",
       "      <td>0.0</td>\n",
       "      <td>0.3048</td>\n",
       "      <td>71.3</td>\n",
       "      <td>0.002663</td>\n",
       "      <td>126.201</td>\n",
       "    </tr>\n",
       "    <tr>\n",
       "      <th>1</th>\n",
       "      <td>1000</td>\n",
       "      <td>0.0</td>\n",
       "      <td>0.3048</td>\n",
       "      <td>71.3</td>\n",
       "      <td>0.002663</td>\n",
       "      <td>125.201</td>\n",
       "    </tr>\n",
       "    <tr>\n",
       "      <th>2</th>\n",
       "      <td>1250</td>\n",
       "      <td>0.0</td>\n",
       "      <td>0.3048</td>\n",
       "      <td>71.3</td>\n",
       "      <td>0.002663</td>\n",
       "      <td>125.951</td>\n",
       "    </tr>\n",
       "    <tr>\n",
       "      <th>3</th>\n",
       "      <td>1600</td>\n",
       "      <td>0.0</td>\n",
       "      <td>0.3048</td>\n",
       "      <td>71.3</td>\n",
       "      <td>0.002663</td>\n",
       "      <td>127.591</td>\n",
       "    </tr>\n",
       "    <tr>\n",
       "      <th>4</th>\n",
       "      <td>2000</td>\n",
       "      <td>0.0</td>\n",
       "      <td>0.3048</td>\n",
       "      <td>71.3</td>\n",
       "      <td>0.002663</td>\n",
       "      <td>127.461</td>\n",
       "    </tr>\n",
       "  </tbody>\n",
       "</table>\n",
       "</div>"
      ],
      "text/plain": [
       "   Frequency  Angle  Chord Length  velocity  displacement thickness  \\\n",
       "0        800    0.0        0.3048      71.3                0.002663   \n",
       "1       1000    0.0        0.3048      71.3                0.002663   \n",
       "2       1250    0.0        0.3048      71.3                0.002663   \n",
       "3       1600    0.0        0.3048      71.3                0.002663   \n",
       "4       2000    0.0        0.3048      71.3                0.002663   \n",
       "\n",
       "   sound pressure  \n",
       "0         126.201  \n",
       "1         125.201  \n",
       "2         125.951  \n",
       "3         127.591  \n",
       "4         127.461  "
      ]
     },
     "execution_count": 4,
     "metadata": {},
     "output_type": "execute_result"
    }
   ],
   "source": [
    "airfoil.head()"
   ]
  },
  {
   "cell_type": "code",
   "execution_count": 5,
   "metadata": {},
   "outputs": [
    {
     "data": {
      "text/html": [
       "<div>\n",
       "<style scoped>\n",
       "    .dataframe tbody tr th:only-of-type {\n",
       "        vertical-align: middle;\n",
       "    }\n",
       "\n",
       "    .dataframe tbody tr th {\n",
       "        vertical-align: top;\n",
       "    }\n",
       "\n",
       "    .dataframe thead th {\n",
       "        text-align: right;\n",
       "    }\n",
       "</style>\n",
       "<table border=\"1\" class=\"dataframe\">\n",
       "  <thead>\n",
       "    <tr style=\"text-align: right;\">\n",
       "      <th></th>\n",
       "      <th>Frequency</th>\n",
       "      <th>Angle</th>\n",
       "      <th>Chord Length</th>\n",
       "      <th>velocity</th>\n",
       "      <th>displacement thickness</th>\n",
       "      <th>sound pressure</th>\n",
       "    </tr>\n",
       "  </thead>\n",
       "  <tbody>\n",
       "    <tr>\n",
       "      <th>0</th>\n",
       "      <td>800</td>\n",
       "      <td>0.0</td>\n",
       "      <td>0.3048</td>\n",
       "      <td>71.3</td>\n",
       "      <td>0.002663</td>\n",
       "      <td>126.201</td>\n",
       "    </tr>\n",
       "    <tr>\n",
       "      <th>1</th>\n",
       "      <td>1000</td>\n",
       "      <td>0.0</td>\n",
       "      <td>0.3048</td>\n",
       "      <td>71.3</td>\n",
       "      <td>0.002663</td>\n",
       "      <td>125.201</td>\n",
       "    </tr>\n",
       "    <tr>\n",
       "      <th>2</th>\n",
       "      <td>1250</td>\n",
       "      <td>0.0</td>\n",
       "      <td>0.3048</td>\n",
       "      <td>71.3</td>\n",
       "      <td>0.002663</td>\n",
       "      <td>125.951</td>\n",
       "    </tr>\n",
       "    <tr>\n",
       "      <th>3</th>\n",
       "      <td>1600</td>\n",
       "      <td>0.0</td>\n",
       "      <td>0.3048</td>\n",
       "      <td>71.3</td>\n",
       "      <td>0.002663</td>\n",
       "      <td>127.591</td>\n",
       "    </tr>\n",
       "    <tr>\n",
       "      <th>4</th>\n",
       "      <td>2000</td>\n",
       "      <td>0.0</td>\n",
       "      <td>0.3048</td>\n",
       "      <td>71.3</td>\n",
       "      <td>0.002663</td>\n",
       "      <td>127.461</td>\n",
       "    </tr>\n",
       "  </tbody>\n",
       "</table>\n",
       "</div>"
      ],
      "text/plain": [
       "   Frequency  Angle  Chord Length  velocity  displacement thickness  \\\n",
       "0        800    0.0        0.3048      71.3                0.002663   \n",
       "1       1000    0.0        0.3048      71.3                0.002663   \n",
       "2       1250    0.0        0.3048      71.3                0.002663   \n",
       "3       1600    0.0        0.3048      71.3                0.002663   \n",
       "4       2000    0.0        0.3048      71.3                0.002663   \n",
       "\n",
       "   sound pressure  \n",
       "0         126.201  \n",
       "1         125.201  \n",
       "2         125.951  \n",
       "3         127.591  \n",
       "4         127.461  "
      ]
     },
     "execution_count": 5,
     "metadata": {},
     "output_type": "execute_result"
    }
   ],
   "source": [
    "airfoil = pd.DataFrame(airfoil)\n",
    "airfoil.head()"
   ]
  },
  {
   "cell_type": "code",
   "execution_count": 6,
   "metadata": {},
   "outputs": [
    {
     "data": {
      "text/plain": [
       "20000      6\n",
       "16000     13\n",
       "12500     25\n",
       "200       35\n",
       "250       42\n",
       "10000     42\n",
       "8000      52\n",
       "315       56\n",
       "400       69\n",
       "500       78\n",
       "630       88\n",
       "6300      89\n",
       "5000      95\n",
       "800       97\n",
       "1000      99\n",
       "1250     100\n",
       "4000     102\n",
       "1600     103\n",
       "3150     103\n",
       "2500     104\n",
       "2000     105\n",
       "Name: Frequency, dtype: int64"
      ]
     },
     "execution_count": 6,
     "metadata": {},
     "output_type": "execute_result"
    }
   ],
   "source": [
    "frequency = pd.Series(airfoil['Frequency'])\n",
    "frequency.value_counts().sort_values()"
   ]
  },
  {
   "cell_type": "code",
   "execution_count": 7,
   "metadata": {},
   "outputs": [
    {
     "data": {
      "text/plain": [
       "Frequency                   21\n",
       "Angle                       27\n",
       "Chord Length                 6\n",
       "velocity                     4\n",
       "displacement thickness     105\n",
       "sound pressure            1456\n",
       "dtype: int64"
      ]
     },
     "execution_count": 7,
     "metadata": {},
     "output_type": "execute_result"
    }
   ],
   "source": [
    "data = pd.DataFrame(airfoil)\n",
    "data.nunique()  # no. of unique values of each feature"
   ]
  },
  {
   "cell_type": "code",
   "execution_count": 8,
   "metadata": {},
   "outputs": [],
   "source": [
    "corelation = airfoil.corr('pearson') "
   ]
  },
  {
   "cell_type": "code",
   "execution_count": 9,
   "metadata": {},
   "outputs": [
    {
     "data": {
      "text/plain": [
       "Frequency                -0.390711\n",
       "displacement thickness   -0.312670\n",
       "Chord Length             -0.236162\n",
       "Angle                    -0.156108\n",
       "velocity                  0.125103\n",
       "sound pressure            1.000000\n",
       "Name: sound pressure, dtype: float64"
      ]
     },
     "execution_count": 9,
     "metadata": {},
     "output_type": "execute_result"
    }
   ],
   "source": [
    "corelation['sound pressure'].sort_values()"
   ]
  },
  {
   "cell_type": "code",
   "execution_count": 42,
   "metadata": {},
   "outputs": [
    {
     "data": {
      "text/plain": [
       "[<matplotlib.lines.Line2D at 0x21e0c535390>]"
      ]
     },
     "execution_count": 42,
     "metadata": {},
     "output_type": "execute_result"
    },
    {
     "data": {
      "image/png": "[encoded data removed]",
      "text/plain": [
       "<matplotlib.figure.Figure at 0x21e0c47e7f0>"
      ]
     },
     "metadata": {},
     "output_type": "display_data"
    }
   ],
   "source": [
    "x= airfoil['Frequency']\n",
    "x2 = airfoil['velocity']\n",
    "y = airfoil['sound pressure']\n",
    "plt.plot(x,y,'b.')"
   ]
  },
  {
   "cell_type": "code",
   "execution_count": 43,
   "metadata": {},
   "outputs": [],
   "source": [
    "#airfoil.value_counts()"
   ]
  },
  {
   "cell_type": "code",
   "execution_count": 44,
   "metadata": {},
   "outputs": [],
   "source": [
    "from sklearn.preprocessing import MinMaxScaler"
   ]
  },
  {
   "cell_type": "code",
   "execution_count": 45,
   "metadata": {},
   "outputs": [
    {
     "data": {
      "text/plain": [
       "0         800\n",
       "1        1000\n",
       "2        1250\n",
       "3        1600\n",
       "4        2000\n",
       "5        2500\n",
       "6        3150\n",
       "7        4000\n",
       "8        5000\n",
       "9        6300\n",
       "10       8000\n",
       "11      10000\n",
       "12      12500\n",
       "13      16000\n",
       "14        500\n",
       "15        630\n",
       "16        800\n",
       "17       1000\n",
       "18       1250\n",
       "19       1600\n",
       "20       2000\n",
       "21       2500\n",
       "22       3150\n",
       "23       4000\n",
       "24       5000\n",
       "25       6300\n",
       "26       8000\n",
       "27      10000\n",
       "28      12500\n",
       "29        200\n",
       "        ...  \n",
       "1473      200\n",
       "1474      250\n",
       "1475      315\n",
       "1476      400\n",
       "1477      500\n",
       "1478      630\n",
       "1479      800\n",
       "1480     1000\n",
       "1481     1250\n",
       "1482     1600\n",
       "1483     2000\n",
       "1484     2500\n",
       "1485     3150\n",
       "1486     4000\n",
       "1487      200\n",
       "1488      250\n",
       "1489      315\n",
       "1490      400\n",
       "1491      500\n",
       "1492      630\n",
       "1493      800\n",
       "1494     1000\n",
       "1495     1250\n",
       "1496     1600\n",
       "1497     2000\n",
       "1498     2500\n",
       "1499     3150\n",
       "1500     4000\n",
       "1501     5000\n",
       "1502     6300\n",
       "Name: Frequency, Length: 1503, dtype: int64"
      ]
     },
     "execution_count": 45,
     "metadata": {},
     "output_type": "execute_result"
    }
   ],
   "source": [
    "x"
   ]
  },
  {
   "cell_type": "code",
   "execution_count": 48,
   "metadata": {},
   "outputs": [
    {
     "data": {
      "text/plain": [
       "(1503,)"
      ]
     },
     "execution_count": 48,
     "metadata": {},
     "output_type": "execute_result"
    }
   ],
   "source": [
    "x.shape"
   ]
  },
  {
   "cell_type": "code",
   "execution_count": 13,
   "metadata": {},
   "outputs": [],
   "source": [
    "scaler = MinMaxScaler()"
   ]
  },
  {
   "cell_type": "code",
   "execution_count": 40,
   "metadata": {},
   "outputs": [],
   "source": [
    "x = x.reshape(-1,1)\n",
    "y = y.reshape(-1,1)"
   ]
  },
  {
   "cell_type": "code",
   "execution_count": 41,
   "metadata": {},
   "outputs": [
    {
     "data": {
      "text/plain": [
       "array([[0.03030303],\n",
       "       [0.04040404],\n",
       "       [0.0530303 ],\n",
       "       ...,\n",
       "       [0.19191919],\n",
       "       [0.24242424],\n",
       "       [0.30808081]])"
      ]
     },
     "execution_count": 41,
     "metadata": {},
     "output_type": "execute_result"
    }
   ],
   "source": [
    "x"
   ]
  },
  {
   "cell_type": "code",
   "execution_count": 15,
   "metadata": {},
   "outputs": [
    {
     "data": {
      "text/plain": [
       "(1503, 1)"
      ]
     },
     "execution_count": 15,
     "metadata": {},
     "output_type": "execute_result"
    }
   ],
   "source": [
    "x.shape"
   ]
  },
  {
   "cell_type": "code",
   "execution_count": 16,
   "metadata": {},
   "outputs": [
    {
     "name": "stderr",
     "output_type": "stream",
     "text": [
      "C:\\Users\\Shilpa\\AppData\\Local\\Continuum\\anaconda3\\lib\\site-packages\\sklearn\\utils\\validation.py:475: DataConversionWarning: Data with input dtype int64 was converted to float64 by MinMaxScaler.\n",
      "  warnings.warn(msg, DataConversionWarning)\n"
     ]
    }
   ],
   "source": [
    "x = scaler.fit_transform(x)\n",
    "y = scaler.fit_transform(y)"
   ]
  },
  {
   "cell_type": "code",
   "execution_count": 17,
   "metadata": {},
   "outputs": [
    {
     "data": {
      "text/plain": [
       "[<matplotlib.lines.Line2D at 0x21e0bf3e048>]"
      ]
     },
     "execution_count": 17,
     "metadata": {},
     "output_type": "execute_result"
    },
    {
     "data": {
      "image/png": "[encoded data removed]",
      "text/plain": [
       "<matplotlib.figure.Figure at 0x21e0beacd68>"
      ]
     },
     "metadata": {},
     "output_type": "display_data"
    }
   ],
   "source": [
    "plt.plot(x,y,'r.')"
   ]
  },
  {
   "cell_type": "code",
   "execution_count": 18,
   "metadata": {},
   "outputs": [],
   "source": [
    "from sklearn.model_selection import train_test_split "
   ]
  },
  {
   "cell_type": "code",
   "execution_count": 19,
   "metadata": {},
   "outputs": [],
   "source": [
    "x_train,x_test,y_train,y_test = train_test_split(x,y,test_size=0.2)"
   ]
  },
  {
   "cell_type": "code",
   "execution_count": 20,
   "metadata": {},
   "outputs": [],
   "source": [
    "from sklearn.linear_model import LinearRegression"
   ]
  },
  {
   "cell_type": "code",
   "execution_count": 21,
   "metadata": {},
   "outputs": [],
   "source": [
    "regressor = LinearRegression() "
   ]
  },
  {
   "cell_type": "code",
   "execution_count": 22,
   "metadata": {},
   "outputs": [
    {
     "data": {
      "text/plain": [
       "LinearRegression(copy_X=True, fit_intercept=True, n_jobs=1, normalize=False)"
      ]
     },
     "execution_count": 22,
     "metadata": {},
     "output_type": "execute_result"
    }
   ],
   "source": [
    "regressor.fit(x_train,y_train)"
   ]
  },
  {
   "cell_type": "code",
   "execution_count": 23,
   "metadata": {},
   "outputs": [],
   "source": [
    "y_pred = regressor.predict(x_test)"
   ]
  },
  {
   "cell_type": "code",
   "execution_count": null,
   "metadata": {},
   "outputs": [],
   "source": []
  },
  {
   "cell_type": "code",
   "execution_count": 25,
   "metadata": {},
   "outputs": [
    {
     "name": "stdout",
     "output_type": "stream",
     "text": [
      "(array([0.49619552]), array([0.16853245]))\n",
      "(array([0.61772135]), array([0.69431223]))\n",
      "(array([0.59120663]), array([0.55505624]))\n",
      "(array([0.62987394]), array([0.36099662]))\n",
      "(array([0.58015882]), array([0.47666658]))\n",
      "(array([0.52491981]), array([0.43146223]))\n",
      "(array([0.61330223]), array([0.65275082]))\n",
      "(array([0.49619552]), array([0.28901534]))\n",
      "(array([0.6265596]), array([0.64884197]))\n",
      "(array([0.41444178]), array([0.33602787]))\n",
      "(array([0.52491981]), array([0.93671391]))\n",
      "(array([0.35920276]), array([0.41720956]))\n",
      "(array([0.6265596]), array([0.32124339]))\n",
      "(array([0.35920276]), array([0.25670753]))\n",
      "(array([0.59120663]), array([0.55880554]))\n",
      "(array([0.49619552]), array([0.31262797]))\n",
      "(array([0.61330223]), array([0.85231473]))\n",
      "(array([0.60004487]), array([0.78926796]))\n",
      "(array([0.62987394]), array([0.40457893]))\n",
      "(array([0.49619552]), array([0.40519052]))\n",
      "(array([0.28186814]), array([0.25056505]))\n",
      "(array([0.41444178]), array([0.23370649]))\n",
      "(array([0.54701541]), array([0.54317015]))\n",
      "(array([0.61330223]), array([0.78793842]))\n",
      "(array([0.59120663]), array([0.78543888]))\n",
      "(array([0.60004487]), array([0.59714947]))\n",
      "(array([0.61330223]), array([0.72861435]))\n",
      "(array([0.59120663]), array([0.35841732]))\n",
      "(array([0.59120663]), array([0.42877656]))\n",
      "(array([0.59120663]), array([0.3867631]))\n",
      "(array([0.59120663]), array([0.47533704]))\n",
      "(array([0.62843772]), array([0.69229133]))\n",
      "(array([0.59120663]), array([0.65836148]))\n",
      "(array([0.61330223]), array([0.70702263]))\n",
      "(array([0.61330223]), array([0.66365304]))\n",
      "(array([0.63097872]), array([0.48935039]))\n",
      "(array([0.62987394]), array([0.57050549]))\n",
      "(array([0.58015882]), array([0.62823411]))\n",
      "(array([0.58015882]), array([0.18305103]))\n",
      "(array([0.41444178]), array([0.31996703]))\n",
      "(array([0.58015882]), array([0.4312495]))\n",
      "(array([0.6265596]), array([0.68872816]))\n",
      "(array([0.54701541]), array([0.45595235]))\n",
      "(array([0.52491981]), array([0.66423804]))\n",
      "(array([0.59120663]), array([0.41641184]))\n",
      "(array([0.62147761]), array([0.59419789]))\n",
      "(array([0.61772135]), array([0.67670912]))\n",
      "(array([0.19348571]), array([0.16640519]))\n",
      "(array([0.62147761]), array([0.61384849]))\n",
      "(array([0.60777833]), array([0.40561598]))\n",
      "(array([0.35920276]), array([0.79312362]))\n",
      "(array([0.54701541]), array([0.62610684]))\n",
      "(array([0.58015882]), array([0.54231925]))\n",
      "(array([0.62435004]), array([0.31706863]))\n",
      "(array([0.61330223]), array([0.73302843]))\n",
      "(array([0.59120663]), array([0.56457574]))\n",
      "(array([0.62987394]), array([0.74954131]))\n",
      "(array([0.56579668]), array([0.44802829]))\n",
      "(array([0.52491981]), array([0.73938363]))\n",
      "(array([0.62435004]), array([0.61948573]))\n",
      "(array([0.56579668]), array([0.54144175]))\n",
      "(array([0.60004487]), array([0.78950727]))\n",
      "(array([0.61772135]), array([0.62288936]))\n",
      "(array([0.62843772]), array([0.4231659]))\n",
      "(array([0.60777833]), array([0.70784694]))\n",
      "(array([0.54701541]), array([0.79354907]))\n",
      "(array([0.49619552]), array([0.35161007]))\n",
      "(array([0.63097872]), array([0.76911213]))\n",
      "(array([0.59120663]), array([0.38639083]))\n",
      "(array([0.6265596]), array([0.5779775]))\n",
      "(array([0.58015882]), array([0.53354429]))\n",
      "(array([0.6265596]), array([0.32079134]))\n",
      "(array([0.58015882]), array([0.43233972]))\n",
      "(array([0.56579668]), array([0.50559736]))\n",
      "(array([0.56579668]), array([0.53213497]))\n",
      "(array([0.6265596]), array([0.48400564]))\n",
      "(array([0.60777833]), array([0.59621879]))\n",
      "(array([0.60777833]), array([0.68519159]))\n",
      "(array([0.59120663]), array([0.80487675]))\n",
      "(array([0.60004487]), array([0.29712554]))\n",
      "(array([0.61330223]), array([0.58023772]))\n",
      "(array([0.54701541]), array([0.02978169]))\n",
      "(array([0.61772135]), array([0.91560082]))\n",
      "(array([0.62987394]), array([0.53615018]))\n",
      "(array([0.60004487]), array([0.73159252]))\n",
      "(array([0.56579668]), array([0.46315845]))\n",
      "(array([0.62435004]), array([0.61440689]))\n",
      "(array([0.52491981]), array([0.52506182]))\n",
      "(array([0.61330223]), array([0.81421012]))\n",
      "(array([0.59120663]), array([0.44427899]))\n",
      "(array([0.6265596]), array([0.92384397]))\n",
      "(array([0.63097872]), array([0.66915734]))\n",
      "(array([0.56579668]), array([0.42465498]))\n",
      "(array([0.62147761]), array([0.67341186]))\n",
      "(array([0.61330223]), array([0.75299811]))\n",
      "(array([0.52491981]), array([0.32613609]))\n",
      "(array([0.58015882]), array([0.44749648]))\n",
      "(array([0.58015882]), array([0.55556146]))\n",
      "(array([0.58015882]), array([0.70978807]))\n",
      "(array([0.60004487]), array([0.75616242]))\n",
      "(array([0.61330223]), array([0.71601032]))\n",
      "(array([0.49619552]), array([0.45055442]))\n",
      "(array([0.45863299]), array([0.58725769]))\n",
      "(array([0.6265596]), array([0.53859654]))\n",
      "(array([0.62987394]), array([0.7010397]))\n",
      "(array([0.60004487]), array([0.53112452]))\n",
      "(array([0.62147761]), array([0.4769059]))\n",
      "(array([0.59120663]), array([0.49780626]))\n",
      "(array([0.62435004]), array([0.63145159]))\n",
      "(array([0.61772135]), array([0.68436727]))\n",
      "(array([0.54701541]), array([0.89523227]))\n",
      "(array([0.52491981]), array([0.39585715]))\n",
      "(array([0.59120663]), array([0.66524849]))\n",
      "(array([0.6265596]), array([0.86537081]))\n",
      "(array([0.60777833]), array([0.74629723]))\n",
      "(array([0.61772135]), array([0.66120669]))\n",
      "(array([0.54701541]), array([0.46640253]))\n",
      "(array([0.62435004]), array([0.74185657]))\n",
      "(array([0.61330223]), array([0.62717047]))\n",
      "(array([0.56579668]), array([0.31124525]))\n",
      "(array([0.60004487]), array([0.49044061]))\n",
      "(array([0.60777833]), array([0.60018082]))\n",
      "(array([0.45863299]), array([0.70431037]))\n",
      "(array([0.61330223]), array([0.55994895]))\n",
      "(array([0.62843772]), array([0.72268461]))\n",
      "(array([0.62147761]), array([0.6793682]))\n",
      "(array([0.52491981]), array([0.86215332]))\n",
      "(array([0.54701541]), array([0.61576302]))\n",
      "(array([0.61772135]), array([0.61065759]))\n",
      "(array([0.61772135]), array([0.72707209]))\n",
      "(array([0.63097872]), array([0.75983195]))\n",
      "(array([0.62147761]), array([0.51123461]))\n",
      "(array([0.59120663]), array([0.61855506]))\n",
      "(array([0.45863299]), array([0.35309916]))\n",
      "(array([0.58015882]), array([0.09306778]))\n",
      "(array([0.6265596]), array([0.8784003]))\n",
      "(array([0.54701541]), array([0.3818704]))\n",
      "(array([0.60777833]), array([1.]))\n",
      "(array([0.60777833]), array([0.64493312]))\n",
      "(array([0.60004487]), array([0.80498311]))\n",
      "(array([0.49619552]), array([0.46060574]))\n",
      "(array([0.6265596]), array([0.54508469]))\n",
      "(array([0.58015882]), array([0.59794719]))\n",
      "(array([0.61330223]), array([0.62376685]))\n",
      "(array([0.61330223]), array([0.88754753]))\n",
      "(array([0.6265596]), array([0.53277315]))\n",
      "(array([0.61772135]), array([0.56306007]))\n",
      "(array([0.61772135]), array([0.68162842]))\n",
      "(array([0.49619552]), array([0.10381046]))\n",
      "(array([0.61772135]), array([0.65695216]))\n",
      "(array([0.56579668]), array([0.41899115]))\n",
      "(array([0.49619552]), array([0.43970537]))\n",
      "(array([0.58015882]), array([0.46201505]))\n",
      "(array([0.54701541]), array([0.25434095]))\n",
      "(array([0.60777833]), array([0.73031616]))\n",
      "(array([0.60004487]), array([0.81011514]))\n",
      "(array([0.56579668]), array([0.52798681]))\n",
      "(array([0.54701541]), array([0.33193288]))\n",
      "(array([0.60004487]), array([0.54960513]))\n",
      "(array([0.63097872]), array([0.57454729]))\n",
      "(array([0.61330223]), array([0.58776292]))\n",
      "(array([0.62987394]), array([0.71021352]))\n",
      "(array([0.56579668]), array([0.35987981]))\n",
      "(array([0.6265596]), array([0.58744383]))\n",
      "(array([0.45863299]), array([0.38761401]))\n",
      "(array([0.62987394]), array([0.76522988]))\n",
      "(array([0.56579668]), array([0.75517856]))\n",
      "(array([0.58015882]), array([0.54138857]))\n",
      "(array([0.41444178]), array([0.21192863]))\n",
      "(array([0.62435004]), array([0.60922169]))\n",
      "(array([0.59120663]), array([0.71087829]))\n",
      "(array([0.6265596]), array([0.4439599]))\n",
      "(array([0.62843772]), array([0.53000771]))\n",
      "(array([0.62435004]), array([0.37583429]))\n",
      "(array([0.61330223]), array([0.66572713]))\n",
      "(array([0.59120663]), array([0.69861994]))\n",
      "(array([0.61772135]), array([0.95317361]))\n",
      "(array([0.56579668]), array([0.76405988]))\n",
      "(array([0.56579668]), array([0.46470072]))\n",
      "(array([0.62147761]), array([0.70688967]))\n",
      "(array([0.56579668]), array([0.87180578]))\n",
      "(array([0.61330223]), array([0.64352381]))\n",
      "(array([0.62147761]), array([0.83689207]))\n",
      "(array([0.6265596]), array([0.66253623]))\n",
      "(array([0.62147761]), array([0.85058633]))\n",
      "(array([0.60777833]), array([0.71675486]))\n",
      "(array([0.49619552]), array([0.10335842]))\n",
      "(array([0.60777833]), array([0.40915255]))\n",
      "(array([0.62987394]), array([0.84954929]))\n",
      "(array([0.58015882]), array([0.66354668]))\n",
      "(array([0.41444178]), array([0.39232058]))\n",
      "(array([0.62843772]), array([0.53599064]))\n",
      "(array([0.63097872]), array([0.84702316]))\n",
      "(array([0.56579668]), array([0.79921291]))\n",
      "(array([0.35920276]), array([0.42531975]))\n",
      "(array([0.52491981]), array([0.25963252]))\n",
      "(array([0.45863299]), array([0.86382854]))\n",
      "(array([0.6265596]), array([0.45480895]))\n",
      "(array([0.60777833]), array([0.76911213]))\n",
      "(array([0.60004487]), array([0.69933789]))\n",
      "(array([0.45863299]), array([0.38939559]))\n",
      "(array([0.63097872]), array([0.73414524]))\n",
      "(array([0.59120663]), array([0.58183317]))\n",
      "(array([0.61330223]), array([0.59209722]))\n",
      "(array([0.49619552]), array([0.59395857]))\n",
      "(array([0.61772135]), array([0.55723668]))\n",
      "(array([0.62147761]), array([0.68141569]))\n",
      "(array([0.52491981]), array([0.13946872]))\n",
      "(array([0.54701541]), array([0.32515223]))\n",
      "(array([0.41444178]), array([0.7287739]))\n",
      "(array([0.62843772]), array([0.67362459]))\n",
      "(array([0.6265596]), array([0.71111761]))\n",
      "(array([0.62843772]), array([0.44584785]))\n",
      "(array([0.60004487]), array([0.54194698]))\n",
      "(array([0.54701541]), array([0.49216901]))\n",
      "(array([0.60004487]), array([0.72292392]))\n",
      "(array([0.61772135]), array([0.68750499]))\n",
      "(array([0.49619552]), array([0.40769006]))\n",
      "(array([0.62147761]), array([0.73268275]))\n",
      "(array([0.62435004]), array([0.62163959]))\n",
      "(array([0.54701541]), array([0.14103757]))\n",
      "(array([0.58015882]), array([0.71827053]))\n",
      "(array([0.60777833]), array([0.79772383]))\n",
      "(array([0.56579668]), array([0.35815141]))\n",
      "(array([0.58015882]), array([0.8113915]))\n",
      "(array([0.60777833]), array([0.50650145]))\n",
      "(array([0.58015882]), array([0.77685005]))\n",
      "(array([0.49619552]), array([0.25394209]))\n",
      "(array([0.61330223]), array([0.64503949]))\n",
      "(array([0.56579668]), array([0.29061079]))\n",
      "(array([0.54701541]), array([0.53261361]))\n",
      "(array([0.49619552]), array([0.36889409]))\n",
      "(array([0.62843772]), array([0.33177334]))\n",
      "(array([0.60777833]), array([0.87247055]))\n",
      "(array([0.62435004]), array([0.63283431]))\n",
      "(array([0.61330223]), array([0.30021007]))\n",
      "(array([0.6265596]), array([0.33318265]))\n",
      "(array([0.58015882]), array([0.72888026]))\n",
      "(array([0.62147761]), array([0.63754088]))\n",
      "(array([0.60004487]), array([0.47009865]))\n",
      "(array([0.62987394]), array([0.79386816]))\n",
      "(array([0.52491981]), array([0.33844763]))\n",
      "(array([0.62435004]), array([0.7599649]))\n",
      "(array([0.60004487]), array([0.73539501]))\n",
      "(array([0.41444178]), array([0.31752067]))\n",
      "(array([0.56579668]), array([0.65059696]))\n",
      "(array([0.62843772]), array([0.85300609]))\n",
      "(array([0.52491981]), array([0.57606297]))\n",
      "(array([0.49619552]), array([0.57234026]))\n",
      "(array([0.54701541]), array([0.28449491]))\n",
      "(array([0.59120663]), array([0.68883453]))\n",
      "(array([0.60777833]), array([0.39444784]))\n",
      "(array([0.45863299]), array([0.30310846]))\n",
      "(array([0.60004487]), array([0.79402771]))\n",
      "(array([0.58015882]), array([0.44813466]))\n",
      "(array([0.61330223]), array([0.70252878]))\n",
      "(array([0.62435004]), array([0.64487994]))\n",
      "(array([0.52491981]), array([0.44284309]))\n",
      "(array([0.41444178]), array([0.67434254]))\n",
      "(array([0.52491981]), array([0.36315048]))\n",
      "(array([0.61772135]), array([0.66532826]))\n",
      "(array([0.41444178]), array([0.44850693]))\n",
      "(array([0.49619552]), array([0.54402106]))\n",
      "(array([0.49619552]), array([0.28351105]))\n",
      "(array([0.61330223]), array([0.70641104]))\n",
      "(array([0.54701541]), array([0.32281224]))\n",
      "(array([0.59120663]), array([0.70691627]))\n",
      "(array([0.54701541]), array([0.45932938]))\n",
      "(array([0.62435004]), array([0.77852527]))\n",
      "(array([0.59120663]), array([0.81511421]))\n",
      "(array([0.60777833]), array([0.64695402]))\n",
      "(array([0.61330223]), array([0.59047518]))\n",
      "(array([0.63097872]), array([0.57515888]))\n",
      "(array([0.62843772]), array([0.66479645]))\n",
      "(array([0.49619552]), array([0.58547611]))\n",
      "(array([0.60004487]), array([0.73933044]))\n",
      "(array([0.52491981]), array([0.39008695]))\n"
     ]
    },
    {
     "name": "stdout",
     "output_type": "stream",
     "text": [
      "(array([0.62435004]), array([0.64604994]))\n",
      "(array([0.61772135]), array([0.66774803]))\n",
      "(array([0.6265596]), array([0.46230755]))\n",
      "(array([0.58015882]), array([0.47698567]))\n",
      "(array([0.62843772]), array([0.51517005]))\n",
      "(array([0.61330223]), array([0.77246257]))\n",
      "(array([0.58015882]), array([0.72986412]))\n",
      "(array([0.60004487]), array([0.38543356]))\n",
      "(array([0.54701541]), array([0.42446885]))\n",
      "(array([0.60004487]), array([0.62770229]))\n",
      "(array([0.41444178]), array([0.49325923]))\n",
      "(array([0.56579668]), array([0.48219746]))\n",
      "(array([0.6265596]), array([0.54471242]))\n",
      "(array([0.59120663]), array([0.79588906]))\n",
      "(array([0.41444178]), array([0.82024623]))\n",
      "(array([0.6265596]), array([0.55151966]))\n",
      "(array([0.62987394]), array([0.27696971]))\n",
      "(array([0.61772135]), array([0.66040897]))\n",
      "(array([0.49619552]), array([0.28127742]))\n",
      "(array([0.52491981]), array([0.34198421]))\n",
      "(array([0.58015882]), array([0.71013375]))\n",
      "(array([0.62843772]), array([0.88289414]))\n",
      "(array([0.58015882]), array([0.57555774]))\n",
      "(array([0.61772135]), array([0.61499189]))\n"
     ]
    }
   ],
   "source": [
    "for i in zip(y_pred,y_test):\n",
    "    print(i)"
   ]
  },
  {
   "cell_type": "code",
   "execution_count": 26,
   "metadata": {},
   "outputs": [],
   "source": [
    "from sklearn.metrics import mean_squared_error, r2_score"
   ]
  },
  {
   "cell_type": "code",
   "execution_count": 27,
   "metadata": {},
   "outputs": [
    {
     "data": {
      "text/plain": [
       "0.028680431411273816"
      ]
     },
     "execution_count": 27,
     "metadata": {},
     "output_type": "execute_result"
    }
   ],
   "source": [
    "mean_squared_error(y_test,y_pred)"
   ]
  },
  {
   "cell_type": "code",
   "execution_count": 28,
   "metadata": {},
   "outputs": [
    {
     "data": {
      "text/plain": [
       "Text(0.5,1,'Linear Regression(train)')"
      ]
     },
     "execution_count": 28,
     "metadata": {},
     "output_type": "execute_result"
    },
    {
     "data": {
      "image/png": "[encoded data removed]",
      "text/plain": [
       "<matplotlib.figure.Figure at 0x21e0c42d080>"
      ]
     },
     "metadata": {},
     "output_type": "display_data"
    }
   ],
   "source": [
    "plt.scatter(x_train,y_train,color='red')\n",
    "plt.plot(x_train,regressor.predict(x_train),'b')\n",
    "\n",
    "plt.xlabel(\"Frequency\")\n",
    "plt.ylabel(\"TARGET\")\n",
    "plt.title(\"Linear Regression(train)\")"
   ]
  },
  {
   "cell_type": "code",
   "execution_count": 29,
   "metadata": {},
   "outputs": [
    {
     "data": {
      "text/plain": [
       "Text(0.5,1,'Linear Regression(test)')"
      ]
     },
     "execution_count": 29,
     "metadata": {},
     "output_type": "execute_result"
    },
    {
     "data": {
      "image/png": "[encoded data removed]",
      "text/plain": [
       "<matplotlib.figure.Figure at 0x21e0c47e390>"
      ]
     },
     "metadata": {},
     "output_type": "display_data"
    }
   ],
   "source": [
    "plt.scatter(x_test,y_test,color='red')\n",
    "plt.plot(x_test,regressor.predict(x_test),'b')\n",
    "\n",
    "plt.xlabel(\"Frequency\")\n",
    "plt.ylabel(\"TARGET\")\n",
    "plt.title(\"Linear Regression(test)\")"
   ]
  },
  {
   "cell_type": "code",
   "execution_count": 30,
   "metadata": {},
   "outputs": [
    {
     "data": {
      "text/plain": [
       "0.16522343224465985"
      ]
     },
     "execution_count": 30,
     "metadata": {},
     "output_type": "execute_result"
    }
   ],
   "source": [
    "r2_score(y_test,y_pred)   # it tells that if there are 100 pts then 10 pts are fit correctly"
   ]
  },
  {
   "cell_type": "code",
   "execution_count": 31,
   "metadata": {},
   "outputs": [
    {
     "data": {
      "text/plain": [
       "0.9713195685887261"
      ]
     },
     "execution_count": 31,
     "metadata": {},
     "output_type": "execute_result"
    }
   ],
   "source": [
    "1-mean_squared_error(y_test,y_pred)"
   ]
  },
  {
   "cell_type": "code",
   "execution_count": null,
   "metadata": {},
   "outputs": [],
   "source": []
  },
  {
   "cell_type": "code",
   "execution_count": null,
   "metadata": {},
   "outputs": [],
   "source": []
  },
  {
   "cell_type": "code",
   "execution_count": null,
   "metadata": {},
   "outputs": [],
   "source": []
  },
  {
   "cell_type": "code",
   "execution_count": null,
   "metadata": {},
   "outputs": [],
   "source": []
  }
 ],
 "metadata": {
  "kernelspec": {
   "display_name": "Python 3",
   "language": "python",
   "name": "python3"
  },
  "language_info": {
   "codemirror_mode": {
    "name": "ipython",
    "version": 3
   },
   "file_extension": ".py",
   "mimetype": "text/x-python",
   "name": "python",
   "nbconvert_exporter": "python",
   "pygments_lexer": "ipython3",
   "version": "3.6.4"
  }
 },
 "nbformat": 4,
 "nbformat_minor": 2
}
