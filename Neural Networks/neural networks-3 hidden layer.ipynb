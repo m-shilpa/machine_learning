{
 "cells": [
  {
   "cell_type": "code",
   "execution_count": 1,
   "metadata": {},
   "outputs": [],
   "source": [
    "import numpy as np\n",
    "import pandas as pd\n",
    "import matplotlib.pyplot as plt\n",
    "from sklearn.preprocessing import MinMaxScaler\n",
    "\n",
    "from sklearn.model_selection import train_test_split\n",
    "from sklearn.datasets import load_wine"
   ]
  },
  {
   "cell_type": "code",
   "execution_count": 2,
   "metadata": {},
   "outputs": [],
   "source": [
    "wine = load_wine()"
   ]
  },
  {
   "cell_type": "code",
   "execution_count": 3,
   "metadata": {},
   "outputs": [],
   "source": [
    "x=wine.data"
   ]
  },
  {
   "cell_type": "code",
   "execution_count": 4,
   "metadata": {},
   "outputs": [],
   "source": [
    "target_list = []\n",
    "for i in wine.target:\n",
    "    op = [0,0,0]\n",
    "    op[i] = 1\n",
    "    target_list.append(op)"
   ]
  },
  {
   "cell_type": "code",
   "execution_count": 5,
   "metadata": {},
   "outputs": [],
   "source": [
    "y = target_list"
   ]
  },
  {
   "cell_type": "code",
   "execution_count": 6,
   "metadata": {},
   "outputs": [],
   "source": [
    "scaler = MinMaxScaler()"
   ]
  },
  {
   "cell_type": "code",
   "execution_count": 7,
   "metadata": {},
   "outputs": [],
   "source": [
    "x = scaler.fit_transform(x)"
   ]
  },
  {
   "cell_type": "code",
   "execution_count": 8,
   "metadata": {},
   "outputs": [],
   "source": [
    "y = np.array(y)"
   ]
  },
  {
   "cell_type": "code",
   "execution_count": 9,
   "metadata": {},
   "outputs": [],
   "source": [
    "xtrain,xtest,ytrain,ytest = train_test_split(x,y,test_size=0.2)"
   ]
  },
  {
   "cell_type": "code",
   "execution_count": 10,
   "metadata": {},
   "outputs": [],
   "source": [
    "def sigmoid(x):\n",
    "    return (1)/(1+np.exp(-x))"
   ]
  },
  {
   "cell_type": "code",
   "execution_count": 11,
   "metadata": {},
   "outputs": [],
   "source": [
    "def dsigmoid(x):  #differentiation of sigmoid\n",
    "    return x*(1-x)"
   ]
  },
  {
   "cell_type": "code",
   "execution_count": 12,
   "metadata": {},
   "outputs": [],
   "source": [
    "np.random.seed(3)\n",
    "w0 = np.random.random((13,50))-1\n",
    "w1 = np.random.random((50,26))-1\n",
    "w2 = np.random.random((26,13))-1\n",
    "w3 = np.random.random((13,3))-1\n",
    "\n",
    "b0 = np.random.random((1,1))-1\n",
    "b1 = np.random.random((1,1))-1\n",
    "b2 = np.random.random((1,1))-1\n",
    "b3 = np.random.random((1,1))-1"
   ]
  },
  {
   "cell_type": "code",
   "execution_count": 13,
   "metadata": {},
   "outputs": [],
   "source": [
    "def feed_forward(data_in,w0,w1,w2,w3,b0,b1,b2,b3):\n",
    "    layer0 = data_in\n",
    "    layer1 = sigmoid(np.dot(layer0,w0)+b0)\n",
    "    layer2 = sigmoid(np.dot(layer1,w1)+b1)\n",
    "    layer3 = sigmoid(np.dot(layer2,w2)+b2)\n",
    "    layer4 = sigmoid(np.dot(layer3,w3)+b3)\n",
    "    \n",
    "    return layer0,layer1,layer2,layer3,layer4"
   ]
  },
  {
   "cell_type": "code",
   "execution_count": 14,
   "metadata": {},
   "outputs": [],
   "source": [
    "def back_propagation(layer0,layer1,layer2,layer3,layer4,actual_y,w0,w1,w2,w3,b0,b1,b2,b3,learning_rate,i):\n",
    "    \n",
    "    l4_error = layer4 - actual_y  # difference of predicted value - actual value\n",
    "    l4_delta = l4_error * dsigmoid(layer4) #\n",
    "    dh4 = np.dot(layer3.T,l4_delta)\n",
    "    \n",
    "    l3_error = np.dot(l4_delta,w3.T)\n",
    "    l3_delta = l3_error * dsigmoid(layer3)\n",
    "    dh3 = np.dot(layer2.T,l3_delta)\n",
    "    \n",
    "    l2_error = np.dot(l3_delta,w2.T)\n",
    "    l2_delta = l2_error * dsigmoid(layer2)\n",
    "    dh2 = np.dot(layer1.T,l2_delta)\n",
    "    \n",
    "    l1_error = np.dot(l2_delta,w1.T)\n",
    "    l1_delta = l1_error * dsigmoid(layer1)\n",
    "    dh1 = np.dot(layer0.T,l1_delta)\n",
    "    \n",
    "    w3 = w3-(learning_rate * dh4)\n",
    "    w2 = w2-(learning_rate * dh3)\n",
    "    w1 = w1-(learning_rate * dh2)\n",
    "    w0 = w0-(learning_rate * dh1)\n",
    "    \n",
    "    b3 = b3 - (learning_rate * np.mean(l4_delta))\n",
    "    b2 = b2 - (learning_rate * np.mean(l3_delta))\n",
    "    b1 = b1 - (learning_rate * np.mean(l2_delta))\n",
    "    b0 = b0 - (learning_rate * np.mean(l1_delta))\n",
    "    \n",
    "   \n",
    "    if i%1==0 and (i!=0):\n",
    "        loss = np.mean(np.power(layer4 - actual_y,2))\n",
    "        loss_curve.append(loss)\n",
    "        iters.append(int(i))\n",
    "        \n",
    "        if i%100==0:\n",
    "            print('\\n',int(i),loss)\n",
    "            \n",
    "    return w0,w1,w2,w3,b0,b1,b2,b3\n",
    "        "
   ]
  },
  {
   "cell_type": "code",
   "execution_count": 15,
   "metadata": {},
   "outputs": [],
   "source": [
    "def accuracy(testx,testy):\n",
    "    correct = 0\n",
    "    layer0,layer1,layer2,layer3,layer4 = feed_forward(testx,w0,w1,w2,w3,b0,b1,b2,b3)\n",
    "    for i in range(len(testx)):\n",
    "        if np.argmax(layer4[i])==np.argmax(testy[i]):\n",
    "            correct += 1\n",
    "            \n",
    "    return f\"Accuracy: {correct*100/len(testy)}\""
   ]
  },
  {
   "cell_type": "code",
   "execution_count": 16,
   "metadata": {},
   "outputs": [],
   "source": [
    "epochs = 1000\n",
    "loss_curve = []\n",
    "iters = []"
   ]
  },
  {
   "cell_type": "code",
   "execution_count": 17,
   "metadata": {},
   "outputs": [
    {
     "name": "stdout",
     "output_type": "stream",
     "text": [
      "\n",
      " 100 0.21122339082754776\n",
      "\n",
      " 200 0.17737603094708002\n",
      "\n",
      " 300 0.1575921017402776\n",
      "\n",
      " 400 0.1505956982333971\n",
      "\n",
      " 500 0.14710359103482293\n",
      "\n",
      " 600 0.1449058660617673\n",
      "\n",
      " 700 0.14330359310198398\n",
      "\n",
      " 800 0.1420453215318989\n",
      "\n",
      " 900 0.14102864124702597\n"
     ]
    }
   ],
   "source": [
    "for i in range(epochs):\n",
    "    layer0,layer1,layer2,layer3,layer4 = feed_forward(xtrain,w0,w1,w2,w3,b0,b1,b2,b3)\n",
    "    w0,w1,w2,w3,b0,b1,b2,b3 = back_propagation(layer0,layer1,layer2,layer3,layer4,ytrain,w0,w1,w2,w3,b0,b1,b2,b3,0.05,i)"
   ]
  },
  {
   "cell_type": "code",
   "execution_count": 18,
   "metadata": {},
   "outputs": [
    {
     "data": {
      "text/plain": [
       "[<matplotlib.lines.Line2D at 0x2adfb4d2ac8>]"
      ]
     },
     "execution_count": 18,
     "metadata": {},
     "output_type": "execute_result"
    },
    {
     "data": {
      "image/png": "[encoded data removed]",
      "text/plain": [
       "<Figure size 432x288 with 1 Axes>"
      ]
     },
     "metadata": {},
     "output_type": "display_data"
    }
   ],
   "source": [
    "plt.plot(iters,loss_curve)"
   ]
  },
  {
   "cell_type": "code",
   "execution_count": 19,
   "metadata": {},
   "outputs": [
    {
     "data": {
      "text/plain": [
       "(array([0.16315789, 0.18379447, 0.67379679, 0.79381443, 0.19565217,\n",
       "        0.32413793, 0.26793249, 0.50943396, 0.29337539, 0.11262799,\n",
       "        0.71544715, 0.71062271, 0.20256776]),\n",
       " array([[0.03074053, 0.01756401, 0.84517889, 0.07168263, 0.06855376,\n",
       "         0.05702405, 0.24636717, 0.02352423, 0.02428554, 0.13230453,\n",
       "         0.32131576, 0.12750423, 0.09374881, 0.01414008, 0.01906203,\n",
       "         0.13250974, 0.02907295, 0.00933161, 0.01790263, 0.01228238,\n",
       "         0.02651313, 0.05940616, 0.0500518 , 0.04066443, 0.03749629,\n",
       "         0.09636291, 0.38134167, 0.02855581, 0.08909439, 0.01038949,\n",
       "         0.02057204, 0.8012475 , 0.02209619, 0.75550549, 0.01505411,\n",
       "         0.03339461, 0.3534136 , 0.0999624 , 0.29778165, 0.14554327,\n",
       "         0.16391418, 0.01617298, 0.06121562, 0.05272811, 0.14834278,\n",
       "         0.01551379, 0.02908782, 0.02254914, 0.45363204, 0.01329437]]),\n",
       " array([[0.00459449, 0.00629749, 0.01033698, 0.00570741, 0.0055014 ,\n",
       "         0.00460877, 0.00491473, 0.00444396, 0.00598998, 0.00641468,\n",
       "         0.00474418, 0.00449127, 0.00464905, 0.0057308 , 0.00510901,\n",
       "         0.00503897, 0.00771227, 0.00444521, 0.00569791, 0.00447543,\n",
       "         0.00496798, 0.00495427, 0.00430285, 0.00715774, 0.00524324,\n",
       "         0.00603992]]),\n",
       " array([[0.262889  , 0.2625967 , 0.26310892, 0.26286485, 0.26360268,\n",
       "         0.26376138, 0.26311076, 0.26186657, 0.2630849 , 0.2630951 ,\n",
       "         0.26310206, 0.26322414, 0.26262216]]),\n",
       " array([[0.00497904, 0.99755213, 0.00559431]]))"
      ]
     },
     "execution_count": 19,
     "metadata": {},
     "output_type": "execute_result"
    }
   ],
   "source": [
    "feed_forward(xtest[13],w0,w1,w2,w3,b0,b1,b2,b3)"
   ]
  },
  {
   "cell_type": "code",
   "execution_count": 20,
   "metadata": {},
   "outputs": [
    {
     "data": {
      "text/plain": [
       "array([0, 1, 0])"
      ]
     },
     "execution_count": 20,
     "metadata": {},
     "output_type": "execute_result"
    }
   ],
   "source": [
    "ytest[13]"
   ]
  },
  {
   "cell_type": "code",
   "execution_count": 21,
   "metadata": {},
   "outputs": [
    {
     "data": {
      "text/plain": [
       "'Accuracy: 38.888888888888886'"
      ]
     },
     "execution_count": 21,
     "metadata": {},
     "output_type": "execute_result"
    }
   ],
   "source": [
    "accuracy(xtest,ytest)"
   ]
  },
  {
   "cell_type": "code",
   "execution_count": null,
   "metadata": {},
   "outputs": [],
   "source": []
  }
 ],
 "metadata": {
  "kernelspec": {
   "display_name": "Python 3",
   "language": "python",
   "name": "python3"
  },
  "language_info": {
   "codemirror_mode": {
    "name": "ipython",
    "version": 3
   },
   "file_extension": ".py",
   "mimetype": "text/x-python",
   "name": "python",
   "nbconvert_exporter": "python",
   "pygments_lexer": "ipython3",
   "version": "3.6.4"
  }
 },
 "nbformat": 4,
 "nbformat_minor": 2
}
