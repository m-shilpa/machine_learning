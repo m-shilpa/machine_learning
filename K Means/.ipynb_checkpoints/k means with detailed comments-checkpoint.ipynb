{
 "cells": [
  {
   "cell_type": "code",
   "execution_count": 1,
   "metadata": {},
   "outputs": [],
   "source": [
    "# Importing required Packages\n",
    "import pandas as pd\n",
    "import numpy as np\n",
    "import matplotlib.pyplot as plt\n",
    "from sklearn.model_selection import train_test_split\n",
    "\n",
    "#Importing dataset\n",
    "from sklearn.datasets import load_wine"
   ]
  },
  {
   "cell_type": "code",
   "execution_count": 2,
   "metadata": {},
   "outputs": [],
   "source": [
    "k = 3 # defining the number of classes\n",
    "tol = 0.001 #tolerance - This represents the degree of movement that is allowed for the centroids.\n",
    "# this indicates that when the centroids are placed correctly among all data pts there will not be much movement\n",
    "# in the centroids' positions. so to check this saturation pt. we use tol = 0.001 which is a random value which \n",
    "# we assume that at this pt. saturation is reached. it is used just for comparing. we can say saturation pt is reached\n",
    "# when degree of movement of centroids is =< tol\n",
    "max_iter = 300 # maximum number of iterations\n",
    "colors = 10*[\"g\",\"r\",\"c\",\"b\",\"k\",'y'] # color values to plot the graph"
   ]
  },
  {
   "cell_type": "code",
   "execution_count": 27,
   "metadata": {},
   "outputs": [],
   "source": [
    "# Fit function is written to train the centroids. \n",
    "#Basically we are going to find the centroid position with the help of this function\n",
    "def fit(data,k,max_iter,tol):\n",
    "\t\t\n",
    "    centroids = {} # creating an empty dictionary to keep track of the centroid values\n",
    "    \n",
    "    for i in range(k): \n",
    "        centroids[i] = data[i] \n",
    "        # Assigning the initial centroid values based on the input data.\n",
    "        #Here, since the k value is 3, the first 3 values of the data is assigned as centroid\n",
    "        \n",
    "    for i in range(max_iter):\n",
    "        classifications = {} # creating an empty dictionary to keep track of which all points belong to which centroid.\n",
    "\n",
    "        for i in range(k):\n",
    "            classifications[i] = [] \n",
    "            # we are creating 3 empty lists for each class. \n",
    "            #The classification dictionary is going to look something like this classifications = {0:[], 1:[], 2:[]}\n",
    "        for featureset in data: # We are going to go through every data point present. \n",
    "\n",
    "\t\t\t\t\t\t# Here we are calculating the distance of each data point from all the three centroids \n",
    "\t\t\t\t\t\t# and then we are finding the minimum value amongst the calculated distance. The centroid \n",
    "\t\t\t\t\t\t# which gives us the minimum value is assigned with that data point\n",
    "\n",
    "            distances = [np.linalg.norm(featureset-centroids[centroid]) for centroid in centroids] \n",
    "            # on each iteration distances contains the distance of that point from all the 3 centroids \n",
    "            # eg. [a b c] where a,b,c are the distances from 1st,2nd,3rd centroid to one data point respectively.\n",
    "            # the entire distances set contains such [a,b,c] for each data point\n",
    "            \n",
    "            #print(distances)\n",
    "            \n",
    "            # in [a,b,c] if b is the least value among a,b,c then this indicates that this data point lies closest \n",
    "            # to the centroid 2. we can get this value by just refering to the index value of [a,b,c] where\n",
    "            # index 1 represents distance of data pt. from centroid 1  \n",
    "            # index 2 represents distance of data pt. from centroid 2\n",
    "            # index 3 represents distance of data pt. from centroid 3\n",
    "            \n",
    "            # this index value is stored in classification as below:\n",
    "            classification = distances.index(min(distances))\n",
    "            #print(classification)\n",
    "            \n",
    "            # This gives the index value of the position in the list, where the minimum value is present.\n",
    "            # i.e for each eg. [a,b,c] classification will have the index of the value which is min. among a,b,c .\n",
    "            \n",
    "            classifications[classification].append(featureset) \n",
    "            # Appending the minimum value to the respective index value of classifications.\n",
    "            # classifications contains 3 lists, each representing a centroid.\n",
    "            # classification  has, to which centroid does the data pt. lie closest to.\n",
    "            # diatance contains eg. [a,b,c]. classification contains their min. value's index.\n",
    "            # similar to [a,b,c] in distances classification contains [],[],[] each representing each centroid.\n",
    "            # so if classification has an index 2 then classifications[classification] i.e classifications[2] puts the\n",
    "            # featureset i.e the data point in the 2nd list of the classifications indicating that that pt is closest to \n",
    "            # that centroid.\n",
    "            # similarly when done for all the data points, each list of the classifications will contain \n",
    "            # all data points which lie close to the centroid representing the list.  \n",
    "\n",
    "        prev_centroids = dict(centroids) \n",
    "        # Assigning the current centroid values to a new dictionary called prev_centroid\n",
    "        # as the value of the centroid is going to change.\n",
    "        # i.e the centroids come to the center of all the pts which lie close to them.\n",
    "        # prev_centroids is needed to find the pt. when centroid position barely changes.\n",
    "        # for this, we need to subtract the old position of centroids from their new positions.\n",
    "        # old position of centroids is stored in prev_centroids. \n",
    "        \n",
    "\t\t\t\t# Here we are going to update the centroid value by calculating the average of\n",
    "                # all the data values that are assigned to that particular class\n",
    "        for classification in classifications:\n",
    "            centroids[classification] = np.average(classifications[classification],axis=0)\n",
    "            # classifications[classification] contains 2 columns => x-axis nd y-axis.\n",
    "            # axis=0 means the vertical columns.\n",
    "            # classification contains index of each each present in classifications each representing a centroid.\n",
    "            # centroids[classification] will represent each centroid on each iteration.\n",
    "            # np.average(classifications[classification],axis=0) means to add all the values in the x-axis and find\n",
    "            # their average and also add all the values of y-axis and find their average. Finally we get a \n",
    "            # single (x-axis, y-axis) representing the new position of the respective centroid. \n",
    "            \n",
    "            \n",
    "        optimized = True\n",
    "\t\t\t\t\n",
    "\t\t\t\t# In this for loop we are going to calculate by what degree or by what value has the centroid moved.\n",
    "                # this is needed so that we can know when the centroid has reached a stable pt i.e when its degree\n",
    "                # of movement is nearing to tol=0.001.\n",
    "                # to cal. this, we need to subtract the old position of centroids from their new positions.\n",
    "                # thus prev_centroids is needed.\n",
    "                # in the below, c indicates each centroid\n",
    "        for c in centroids: # Calculating the degree of change of position for each centroid \n",
    "            original_centroid = prev_centroids[c]\n",
    "            current_centroid = centroids[c]\n",
    "\t\t\t\t\t\t\n",
    "# the sum operation is summing up the values in the list. We have to perform the sum to basically \n",
    "# calculate the total degree of change and it becomes easy for us to compare with the tolerance value.\n",
    "# This sum value is compared with the tolerance value. If the tolerance value is less than the sum,\n",
    "# then the cycle is continued. \n",
    "# This cycle of operation is carried out until the sum value goes less than the tolerance value.\n",
    "\n",
    "            if np.sum((current_centroid-original_centroid)/original_centroid*100.0) > tol: \n",
    "                optimized = False\n",
    "\t\t\t\t\n",
    "        if optimized:\n",
    "            break\n",
    "    return centroids, classifications\n",
    "\n",
    "# Here we are going to predict to which a particular given data point belongs to\n",
    "def predict(data,centroids):\n",
    "    distances = [np.linalg.norm(data-centroids[centroid]) for centroid in centroids]\n",
    "    classification = distances.index(min(distances))\n",
    "    return classification  "
   ]
  },
  {
   "cell_type": "code",
   "execution_count": 28,
   "metadata": {},
   "outputs": [],
   "source": [
    "# Data initialization\n",
    "wine = load_wine()\n",
    "X = pd.DataFrame(wine.data, columns=wine.feature_names)\n",
    "Y = pd.DataFrame(wine.target, columns=['target'])"
   ]
  },
  {
   "cell_type": "code",
   "execution_count": 29,
   "metadata": {},
   "outputs": [],
   "source": [
    "# Normalization\n",
    "X = (X-X.min()) / (X.max()-X.min())\n",
    "\n",
    "# Data splitting for train and test\n",
    "xtrain, xtest, ytrain, ytest = train_test_split(X,Y, test_size=0.3)"
   ]
  },
  {
   "cell_type": "code",
   "execution_count": 30,
   "metadata": {},
   "outputs": [],
   "source": [
    "# choosing a feature\n",
    "f1 = 'hue'\n",
    "f2 = 'proline'\n",
    "basex = np.array(xtrain[[f1, f2]])\n",
    "basey = np.array(ytrain['target'])\n",
    "\n",
    "xtest = np.array(xtest[[f1, f2]])\n",
    "ytest = np.array(ytest['target'])"
   ]
  },
  {
   "cell_type": "code",
   "execution_count": 31,
   "metadata": {},
   "outputs": [],
   "source": [
    "x = pd.DataFrame(basex)\n",
    "y = basey"
   ]
  },
  {
   "cell_type": "code",
   "execution_count": 32,
   "metadata": {},
   "outputs": [
    {
     "name": "stdout",
     "output_type": "stream",
     "text": [
      "{0: array([0.66260163, 0.14902181]), 1: array([0.49306552, 0.61932533]), 2: array([0.28386821, 0.23415797])}\n",
      "{0: array([0.62173727, 0.14835949]), 1: array([0.49186992, 0.60790141]), 2: array([0.26223636, 0.23530567])}\n"
     ]
    }
   ],
   "source": [
    "centroids, classifications = fit(basex,k,max_iter,tol)"
   ]
  },
  {
   "cell_type": "code",
   "execution_count": 24,
   "metadata": {},
   "outputs": [
    {
     "data": {
      "text/plain": [
       "{0: array([0.52161863, 0.18929127]),\n",
       " 1: array([0.17703667, 0.22846371]),\n",
       " 2: array([0.49331235, 0.64548341])}"
      ]
     },
     "execution_count": 24,
     "metadata": {},
     "output_type": "execute_result"
    }
   ],
   "source": [
    "centroids"
   ]
  },
  {
   "cell_type": "code",
   "execution_count": 25,
   "metadata": {},
   "outputs": [
    {
     "data": {
      "text/plain": [
       "{0: [array([0.6097561, 0.2510699]),\n",
       "  array([0.38211382, 0.24750357]),\n",
       "  array([0.47154472, 0.33666191]),\n",
       "  array([0.6097561 , 0.10699001]),\n",
       "  array([0.6097561 , 0.12268188]),\n",
       "  array([0.76422764, 0.09129815]),\n",
       "  array([0.4796748 , 0.24750357]),\n",
       "  array([0.40650407, 0.13837375]),\n",
       "  array([0.78861789, 0.05492154]),\n",
       "  array([0.39837398, 0.13409415]),\n",
       "  array([0.73170732, 0.        ]),\n",
       "  array([0.57723577, 0.08131241]),\n",
       "  array([0.40650407, 0.12268188]),\n",
       "  array([0.60162602, 0.10128388]),\n",
       "  array([0.43902439, 0.33666191]),\n",
       "  array([0.45528455, 0.2810271 ]),\n",
       "  array([0.6504065 , 0.31383738]),\n",
       "  array([0.3902439 , 0.28673324]),\n",
       "  array([0.3495935 , 0.19400856]),\n",
       "  array([0.36585366, 0.07631954]),\n",
       "  array([0.42276423, 0.28673324]),\n",
       "  array([0.62601626, 0.28673324]),\n",
       "  array([0.71544715, 0.09415121]),\n",
       "  array([0.57723577, 0.2853067 ]),\n",
       "  array([0.67479675, 0.2510699 ]),\n",
       "  array([0.46341463, 0.17261056]),\n",
       "  array([0.42276423, 0.16547789]),\n",
       "  array([1.        , 0.09201141]),\n",
       "  array([0.6097561 , 0.10699001]),\n",
       "  array([0.71544715, 0.20256776]),\n",
       "  array([0.5203252 , 0.16547789]),\n",
       "  array([0.38211382, 0.36875892]),\n",
       "  array([0.45528455, 0.32596291]),\n",
       "  array([0.49593496, 0.35805991]),\n",
       "  array([0.38211382, 0.15477889]),\n",
       "  array([0.33333333, 0.04564907]),\n",
       "  array([0.55284553, 0.04778887]),\n",
       "  array([0.3902439 , 0.28673324]),\n",
       "  array([0.44715447, 0.35092725]),\n",
       "  array([0.54471545, 0.0085592 ]),\n",
       "  array([0.46341463, 0.12268188]),\n",
       "  array([0.52845528, 0.39372325]),\n",
       "  array([0.36585366, 0.13338088]),\n",
       "  array([0.37398374, 0.09771755])],\n",
       " 1: [array([0.20325203, 0.07275321]),\n",
       "  array([0.05691057, 0.26533524]),\n",
       "  array([0.27642276, 0.16904422]),\n",
       "  array([0.2195122 , 0.26533524]),\n",
       "  array([0.17886179, 0.06704708]),\n",
       "  array([0.08130081, 0.09771755]),\n",
       "  array([0.24390244, 0.17261056]),\n",
       "  array([0.        , 0.14407989]),\n",
       "  array([0.10569106, 0.10485021]),\n",
       "  array([0.1300813 , 0.32952924]),\n",
       "  array([0.21138211, 0.33666191]),\n",
       "  array([0.22764228, 0.2510699 ]),\n",
       "  array([0.24390244, 0.2296719 ]),\n",
       "  array([0.07317073, 0.14407989]),\n",
       "  array([0.09756098, 0.31883024]),\n",
       "  array([0.16260163, 0.2831669 ]),\n",
       "  array([0.10569106, 0.20114123]),\n",
       "  array([0.07317073, 0.13694722]),\n",
       "  array([0.30894309, 0.07132668]),\n",
       "  array([0.2601626 , 0.24750357]),\n",
       "  array([0.20325203, 0.29743224]),\n",
       "  array([0.29268293, 0.16904422]),\n",
       "  array([0.2195122 , 0.07275321]),\n",
       "  array([0.30894309, 0.02425107]),\n",
       "  array([0.14634146, 0.20114123]),\n",
       "  array([0.11382114, 0.2724679 ]),\n",
       "  array([0.06504065, 0.2831669 ]),\n",
       "  array([0.15447154, 0.42938659]),\n",
       "  array([0.07317073, 0.19400856]),\n",
       "  array([0.21138211, 0.17974322]),\n",
       "  array([0.08130081, 0.25820257]),\n",
       "  array([0.08943089, 0.15834522]),\n",
       "  array([0.04878049, 0.24750357]),\n",
       "  array([0.07317073, 0.24393723]),\n",
       "  array([0.17886179, 0.33666191]),\n",
       "  array([0.08943089, 0.39728959]),\n",
       "  array([0.23577236, 0.2296719 ]),\n",
       "  array([0.2195122 , 0.31526391]),\n",
       "  array([0.25203252, 0.21540656]),\n",
       "  array([0.26829268, 0.21540656]),\n",
       "  array([0.30081301, 0.29743224]),\n",
       "  array([0.17886179, 0.35805991]),\n",
       "  array([0.15447154, 0.2510699 ]),\n",
       "  array([0.33333333, 0.22253923]),\n",
       "  array([0.14634146, 0.16547789]),\n",
       "  array([0.32520325, 0.43295292]),\n",
       "  array([0.17886179, 0.2403709 ]),\n",
       "  array([0.27642276, 0.28673324]),\n",
       "  array([0.19512195, 0.29029957])],\n",
       " 2: [array([0.56097561, 0.7146933 ]),\n",
       "  array([0.46341463, 0.83594864]),\n",
       "  array([0.3495935, 0.5042796]),\n",
       "  array([0.62601626, 0.87874465]),\n",
       "  array([0.46341463, 0.55064194]),\n",
       "  array([0.4796748 , 0.55777461]),\n",
       "  array([0.6097561, 1.       ]),\n",
       "  array([0.5203252 , 0.70042796]),\n",
       "  array([0.45528455, 0.53994294]),\n",
       "  array([0.4796748, 0.7146933]),\n",
       "  array([0.43902439, 0.71825963]),\n",
       "  array([0.37398374, 0.4935806 ]),\n",
       "  array([0.67479675, 0.5042796 ]),\n",
       "  array([0.35772358, 0.55777461]),\n",
       "  array([0.58536585, 0.90513552]),\n",
       "  array([0.45528455, 0.45791726]),\n",
       "  array([0.5203252 , 0.62196862]),\n",
       "  array([0.43089431, 0.54707561]),\n",
       "  array([0.50406504, 0.58273894]),\n",
       "  array([0.45528455, 0.56134094]),\n",
       "  array([0.31707317, 0.57203994]),\n",
       "  array([0.62601626, 0.62196862]),\n",
       "  array([0.43089431, 0.65049929]),\n",
       "  array([0.6097561 , 0.50784593]),\n",
       "  array([0.54471545, 0.74322397]),\n",
       "  array([0.62601626, 0.68259629]),\n",
       "  array([0.44715447, 0.64693295]),\n",
       "  array([0.52845528, 0.60770328]),\n",
       "  array([0.3495935 , 0.53994294]),\n",
       "  array([0.4796748 , 0.70756063]),\n",
       "  array([0.52845528, 0.78245364])]}"
      ]
     },
     "execution_count": 25,
     "metadata": {},
     "output_type": "execute_result"
    }
   ],
   "source": [
    "classifications"
   ]
  },
  {
   "cell_type": "code",
   "execution_count": 26,
   "metadata": {},
   "outputs": [
    {
     "data": {
      "image/png": "[encoded data removed]",
      "text/plain": [
       "<matplotlib.figure.Figure at 0x2912c352da0>"
      ]
     },
     "metadata": {},
     "output_type": "display_data"
    }
   ],
   "source": [
    "# Code to plot the graph below\n",
    "\n",
    "for centroid in centroids:\n",
    "    plt.scatter(centroids[centroid][0], centroids[centroid][1], marker='o', color='k', s=50)\n",
    "\n",
    "for classification in classifications:\n",
    "    color = colors[classification]\n",
    "    for featureset in classifications[classification]:\n",
    "        plt.scatter(featureset[0], featureset[1], marker='.', color=color, s=50)\n",
    "\n",
    "for unknown in xtest:\n",
    "    classification = predict(unknown,centroids)\n",
    "    plt.scatter(unknown[0], unknown[1], marker='*', color=colors[classification], s=50)"
   ]
  },
  {
   "cell_type": "code",
   "execution_count": null,
   "metadata": {},
   "outputs": [],
   "source": []
  },
  {
   "cell_type": "code",
   "execution_count": null,
   "metadata": {},
   "outputs": [],
   "source": []
  }
 ],
 "metadata": {
  "kernelspec": {
   "display_name": "Python 3",
   "language": "python",
   "name": "python3"
  },
  "language_info": {
   "codemirror_mode": {
    "name": "ipython",
    "version": 3
   },
   "file_extension": ".py",
   "mimetype": "text/x-python",
   "name": "python",
   "nbconvert_exporter": "python",
   "pygments_lexer": "ipython3",
   "version": "3.6.4"
  }
 },
 "nbformat": 4,
 "nbformat_minor": 2
}
