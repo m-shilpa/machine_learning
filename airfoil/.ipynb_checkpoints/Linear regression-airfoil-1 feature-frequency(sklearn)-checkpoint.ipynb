{
 "cells": [
  {
   "cell_type": "code",
   "execution_count": 1,
   "metadata": {},
   "outputs": [],
   "source": [
    "import numpy as np\n",
    "import pandas as pd\n",
    "import matplotlib.pyplot as plt\n",
    "\n",
    "from sklearn.datasets import load_boston"
   ]
  },
  {
   "cell_type": "code",
   "execution_count": 2,
   "metadata": {},
   "outputs": [],
   "source": [
    "# This problem has the following inputs: \n",
    "# 1. Frequency, in Hertzs. \n",
    "# 2. Angle of attack, in degrees. \n",
    "# 3. Chord length, in meters. \n",
    "# 4. Free-stream velocity, in meters per second. \n",
    "# 5. Suction side displacement thickness, in meters. \n",
    "\n",
    "# The only output is: \n",
    "# 6. Scaled sound pressure level, in decibels. "
   ]
  },
  {
   "cell_type": "code",
   "execution_count": 3,
   "metadata": {},
   "outputs": [],
   "source": [
    "feature_names = ['Frequency','Angle','Chord Length','velocity','displacement thickness','sound pressure']\n",
    "airfoil = pd.read_csv(\"./airfoil_self_noise.csv\",header=None,sep='\\t',names=feature_names)"
   ]
  },
  {
   "cell_type": "code",
   "execution_count": 4,
   "metadata": {},
   "outputs": [
    {
     "data": {
      "text/html": [
       "<div>\n",
       "<style scoped>\n",
       "    .dataframe tbody tr th:only-of-type {\n",
       "        vertical-align: middle;\n",
       "    }\n",
       "\n",
       "    .dataframe tbody tr th {\n",
       "        vertical-align: top;\n",
       "    }\n",
       "\n",
       "    .dataframe thead th {\n",
       "        text-align: right;\n",
       "    }\n",
       "</style>\n",
       "<table border=\"1\" class=\"dataframe\">\n",
       "  <thead>\n",
       "    <tr style=\"text-align: right;\">\n",
       "      <th></th>\n",
       "      <th>Frequency</th>\n",
       "      <th>Angle</th>\n",
       "      <th>Chord Length</th>\n",
       "      <th>velocity</th>\n",
       "      <th>displacement thickness</th>\n",
       "      <th>sound pressure</th>\n",
       "    </tr>\n",
       "  </thead>\n",
       "  <tbody>\n",
       "    <tr>\n",
       "      <th>0</th>\n",
       "      <td>800</td>\n",
       "      <td>0.0</td>\n",
       "      <td>0.3048</td>\n",
       "      <td>71.3</td>\n",
       "      <td>0.002663</td>\n",
       "      <td>126.201</td>\n",
       "    </tr>\n",
       "    <tr>\n",
       "      <th>1</th>\n",
       "      <td>1000</td>\n",
       "      <td>0.0</td>\n",
       "      <td>0.3048</td>\n",
       "      <td>71.3</td>\n",
       "      <td>0.002663</td>\n",
       "      <td>125.201</td>\n",
       "    </tr>\n",
       "    <tr>\n",
       "      <th>2</th>\n",
       "      <td>1250</td>\n",
       "      <td>0.0</td>\n",
       "      <td>0.3048</td>\n",
       "      <td>71.3</td>\n",
       "      <td>0.002663</td>\n",
       "      <td>125.951</td>\n",
       "    </tr>\n",
       "    <tr>\n",
       "      <th>3</th>\n",
       "      <td>1600</td>\n",
       "      <td>0.0</td>\n",
       "      <td>0.3048</td>\n",
       "      <td>71.3</td>\n",
       "      <td>0.002663</td>\n",
       "      <td>127.591</td>\n",
       "    </tr>\n",
       "    <tr>\n",
       "      <th>4</th>\n",
       "      <td>2000</td>\n",
       "      <td>0.0</td>\n",
       "      <td>0.3048</td>\n",
       "      <td>71.3</td>\n",
       "      <td>0.002663</td>\n",
       "      <td>127.461</td>\n",
       "    </tr>\n",
       "  </tbody>\n",
       "</table>\n",
       "</div>"
      ],
      "text/plain": [
       "   Frequency  Angle  Chord Length  velocity  displacement thickness  \\\n",
       "0        800    0.0        0.3048      71.3                0.002663   \n",
       "1       1000    0.0        0.3048      71.3                0.002663   \n",
       "2       1250    0.0        0.3048      71.3                0.002663   \n",
       "3       1600    0.0        0.3048      71.3                0.002663   \n",
       "4       2000    0.0        0.3048      71.3                0.002663   \n",
       "\n",
       "   sound pressure  \n",
       "0         126.201  \n",
       "1         125.201  \n",
       "2         125.951  \n",
       "3         127.591  \n",
       "4         127.461  "
      ]
     },
     "execution_count": 4,
     "metadata": {},
     "output_type": "execute_result"
    }
   ],
   "source": [
    "airfoil.head()"
   ]
  },
  {
   "cell_type": "code",
   "execution_count": 5,
   "metadata": {},
   "outputs": [
    {
     "data": {
      "text/html": [
       "<div>\n",
       "<style scoped>\n",
       "    .dataframe tbody tr th:only-of-type {\n",
       "        vertical-align: middle;\n",
       "    }\n",
       "\n",
       "    .dataframe tbody tr th {\n",
       "        vertical-align: top;\n",
       "    }\n",
       "\n",
       "    .dataframe thead th {\n",
       "        text-align: right;\n",
       "    }\n",
       "</style>\n",
       "<table border=\"1\" class=\"dataframe\">\n",
       "  <thead>\n",
       "    <tr style=\"text-align: right;\">\n",
       "      <th></th>\n",
       "      <th>Frequency</th>\n",
       "      <th>Angle</th>\n",
       "      <th>Chord Length</th>\n",
       "      <th>velocity</th>\n",
       "      <th>displacement thickness</th>\n",
       "      <th>sound pressure</th>\n",
       "    </tr>\n",
       "  </thead>\n",
       "  <tbody>\n",
       "    <tr>\n",
       "      <th>0</th>\n",
       "      <td>800</td>\n",
       "      <td>0.0</td>\n",
       "      <td>0.3048</td>\n",
       "      <td>71.3</td>\n",
       "      <td>0.002663</td>\n",
       "      <td>126.201</td>\n",
       "    </tr>\n",
       "    <tr>\n",
       "      <th>1</th>\n",
       "      <td>1000</td>\n",
       "      <td>0.0</td>\n",
       "      <td>0.3048</td>\n",
       "      <td>71.3</td>\n",
       "      <td>0.002663</td>\n",
       "      <td>125.201</td>\n",
       "    </tr>\n",
       "    <tr>\n",
       "      <th>2</th>\n",
       "      <td>1250</td>\n",
       "      <td>0.0</td>\n",
       "      <td>0.3048</td>\n",
       "      <td>71.3</td>\n",
       "      <td>0.002663</td>\n",
       "      <td>125.951</td>\n",
       "    </tr>\n",
       "    <tr>\n",
       "      <th>3</th>\n",
       "      <td>1600</td>\n",
       "      <td>0.0</td>\n",
       "      <td>0.3048</td>\n",
       "      <td>71.3</td>\n",
       "      <td>0.002663</td>\n",
       "      <td>127.591</td>\n",
       "    </tr>\n",
       "    <tr>\n",
       "      <th>4</th>\n",
       "      <td>2000</td>\n",
       "      <td>0.0</td>\n",
       "      <td>0.3048</td>\n",
       "      <td>71.3</td>\n",
       "      <td>0.002663</td>\n",
       "      <td>127.461</td>\n",
       "    </tr>\n",
       "  </tbody>\n",
       "</table>\n",
       "</div>"
      ],
      "text/plain": [
       "   Frequency  Angle  Chord Length  velocity  displacement thickness  \\\n",
       "0        800    0.0        0.3048      71.3                0.002663   \n",
       "1       1000    0.0        0.3048      71.3                0.002663   \n",
       "2       1250    0.0        0.3048      71.3                0.002663   \n",
       "3       1600    0.0        0.3048      71.3                0.002663   \n",
       "4       2000    0.0        0.3048      71.3                0.002663   \n",
       "\n",
       "   sound pressure  \n",
       "0         126.201  \n",
       "1         125.201  \n",
       "2         125.951  \n",
       "3         127.591  \n",
       "4         127.461  "
      ]
     },
     "execution_count": 5,
     "metadata": {},
     "output_type": "execute_result"
    }
   ],
   "source": [
    "airfoil = pd.DataFrame(airfoil)\n",
    "airfoil.head()"
   ]
  },
  {
   "cell_type": "code",
   "execution_count": 6,
   "metadata": {},
   "outputs": [
    {
     "data": {
      "text/plain": [
       "20000      6\n",
       "16000     13\n",
       "12500     25\n",
       "200       35\n",
       "250       42\n",
       "10000     42\n",
       "8000      52\n",
       "315       56\n",
       "400       69\n",
       "500       78\n",
       "630       88\n",
       "6300      89\n",
       "5000      95\n",
       "800       97\n",
       "1000      99\n",
       "1250     100\n",
       "4000     102\n",
       "1600     103\n",
       "3150     103\n",
       "2500     104\n",
       "2000     105\n",
       "Name: Frequency, dtype: int64"
      ]
     },
     "execution_count": 6,
     "metadata": {},
     "output_type": "execute_result"
    }
   ],
   "source": [
    "frequency = pd.Series(airfoil['Frequency'])\n",
    "frequency.value_counts().sort_values()"
   ]
  },
  {
   "cell_type": "code",
   "execution_count": 7,
   "metadata": {},
   "outputs": [
    {
     "data": {
      "text/plain": [
       "Frequency                   21\n",
       "Angle                       27\n",
       "Chord Length                 6\n",
       "velocity                     4\n",
       "displacement thickness     105\n",
       "sound pressure            1456\n",
       "dtype: int64"
      ]
     },
     "execution_count": 7,
     "metadata": {},
     "output_type": "execute_result"
    }
   ],
   "source": [
    "data = pd.DataFrame(airfoil)\n",
    "data.nunique()  # no. of unique values of each feature"
   ]
  },
  {
   "cell_type": "code",
   "execution_count": 8,
   "metadata": {},
   "outputs": [],
   "source": [
    "corelation = airfoil.corr('pearson') "
   ]
  },
  {
   "cell_type": "code",
   "execution_count": 9,
   "metadata": {},
   "outputs": [
    {
     "data": {
      "text/plain": [
       "Frequency                -0.390711\n",
       "displacement thickness   -0.312670\n",
       "Chord Length             -0.236162\n",
       "Angle                    -0.156108\n",
       "velocity                  0.125103\n",
       "sound pressure            1.000000\n",
       "Name: sound pressure, dtype: float64"
      ]
     },
     "execution_count": 9,
     "metadata": {},
     "output_type": "execute_result"
    }
   ],
   "source": [
    "corelation['sound pressure'].sort_values()"
   ]
  },
  {
   "cell_type": "code",
   "execution_count": 10,
   "metadata": {},
   "outputs": [
    {
     "data": {
      "text/plain": [
       "[<matplotlib.lines.Line2D at 0x12733a154e0>]"
      ]
     },
     "execution_count": 10,
     "metadata": {},
     "output_type": "execute_result"
    },
    {
     "data": {
      "image/png": "[encoded data removed]",
      "text/plain": [
       "<matplotlib.figure.Figure at 0x1273293cc88>"
      ]
     },
     "metadata": {},
     "output_type": "display_data"
    }
   ],
   "source": [
    "x= airfoil['Frequency']\n",
    "x2 = airfoil['velocity']\n",
    "y = airfoil['sound pressure']\n",
    "plt.plot(x,y,'b.')"
   ]
  },
  {
   "cell_type": "code",
   "execution_count": 11,
   "metadata": {},
   "outputs": [],
   "source": [
    "#airfoil.value_counts()"
   ]
  },
  {
   "cell_type": "code",
   "execution_count": 12,
   "metadata": {},
   "outputs": [],
   "source": [
    "from sklearn.preprocessing import MinMaxScaler"
   ]
  },
  {
   "cell_type": "code",
   "execution_count": 13,
   "metadata": {},
   "outputs": [],
   "source": [
    "scaler = MinMaxScaler()"
   ]
  },
  {
   "cell_type": "code",
   "execution_count": 14,
   "metadata": {},
   "outputs": [
    {
     "name": "stderr",
     "output_type": "stream",
     "text": [
      "C:\\Users\\Shilpa\\AppData\\Local\\Continuum\\anaconda3\\lib\\site-packages\\ipykernel_launcher.py:1: FutureWarning: reshape is deprecated and will raise in a subsequent release. Please use .values.reshape(...) instead\n",
      "  \"\"\"Entry point for launching an IPython kernel.\n",
      "C:\\Users\\Shilpa\\AppData\\Local\\Continuum\\anaconda3\\lib\\site-packages\\ipykernel_launcher.py:2: FutureWarning: reshape is deprecated and will raise in a subsequent release. Please use .values.reshape(...) instead\n",
      "  \n"
     ]
    }
   ],
   "source": [
    "x = x.reshape(-1,1)\n",
    "y = y.reshape(-1,1)"
   ]
  },
  {
   "cell_type": "code",
   "execution_count": 15,
   "metadata": {},
   "outputs": [
    {
     "data": {
      "text/plain": [
       "(1503, 1)"
      ]
     },
     "execution_count": 15,
     "metadata": {},
     "output_type": "execute_result"
    }
   ],
   "source": [
    "x.shape"
   ]
  },
  {
   "cell_type": "code",
   "execution_count": 16,
   "metadata": {},
   "outputs": [
    {
     "name": "stderr",
     "output_type": "stream",
     "text": [
      "C:\\Users\\Shilpa\\AppData\\Local\\Continuum\\anaconda3\\lib\\site-packages\\sklearn\\utils\\validation.py:475: DataConversionWarning: Data with input dtype int64 was converted to float64 by MinMaxScaler.\n",
      "  warnings.warn(msg, DataConversionWarning)\n"
     ]
    }
   ],
   "source": [
    "x = scaler.fit_transform(x)\n",
    "y = scaler.fit_transform(y)"
   ]
  },
  {
   "cell_type": "code",
   "execution_count": 17,
   "metadata": {},
   "outputs": [
    {
     "data": {
      "text/plain": [
       "[<matplotlib.lines.Line2D at 0x12733acc048>]"
      ]
     },
     "execution_count": 17,
     "metadata": {},
     "output_type": "execute_result"
    },
    {
     "data": {
      "image/png": "[encoded data removed]",
      "text/plain": [
       "<matplotlib.figure.Figure at 0x12733a34c18>"
      ]
     },
     "metadata": {},
     "output_type": "display_data"
    }
   ],
   "source": [
    "plt.plot(x,y,'r.')"
   ]
  },
  {
   "cell_type": "code",
   "execution_count": 18,
   "metadata": {},
   "outputs": [],
   "source": [
    "from sklearn.model_selection import train_test_split "
   ]
  },
  {
   "cell_type": "code",
   "execution_count": 19,
   "metadata": {},
   "outputs": [],
   "source": [
    "x_train,x_test,y_train,y_test = train_test_split(x,y,test_size=0.2)"
   ]
  },
  {
   "cell_type": "code",
   "execution_count": 20,
   "metadata": {},
   "outputs": [],
   "source": [
    "from sklearn.linear_model import LinearRegression"
   ]
  },
  {
   "cell_type": "code",
   "execution_count": 21,
   "metadata": {},
   "outputs": [],
   "source": [
    "regressor = LinearRegression() "
   ]
  },
  {
   "cell_type": "code",
   "execution_count": 22,
   "metadata": {},
   "outputs": [
    {
     "data": {
      "text/plain": [
       "LinearRegression(copy_X=True, fit_intercept=True, n_jobs=1, normalize=False)"
      ]
     },
     "execution_count": 22,
     "metadata": {},
     "output_type": "execute_result"
    }
   ],
   "source": [
    "regressor.fit(x_train,y_train)"
   ]
  },
  {
   "cell_type": "code",
   "execution_count": null,
   "metadata": {},
   "outputs": [],
   "source": []
  },
  {
   "cell_type": "code",
   "execution_count": 23,
   "metadata": {},
   "outputs": [],
   "source": [
    "y_pred = regressor.predict(x_test)"
   ]
  },
  {
   "cell_type": "code",
   "execution_count": 24,
   "metadata": {},
   "outputs": [
    {
     "name": "stdout",
     "output_type": "stream",
     "text": [
      "(array([0.56934186]), array([0.54144175]))\n",
      "(array([0.55074395]), array([0.40707847]))\n",
      "(array([0.36476481]), array([0.28925466]))\n",
      "(array([0.58356379]), array([0.6213205]))\n",
      "(array([0.63388756]), array([0.28356423]))\n",
      "(array([0.50042018]), array([0.82745234]))\n",
      "(array([0.63137137]), array([0.3128141]))\n",
      "(array([0.62951158]), array([0.76206557]))\n",
      "(array([0.62732359]), array([0.69936448]))\n",
      "(array([0.6032557]), array([0.50482623]))\n",
      "(array([0.56934186]), array([0.52870476]))\n",
      "(array([0.50042018]), array([0.40519052]))\n",
      "(array([0.6032557]), array([0.61227963]))\n",
      "(array([0.55074395]), array([0.39157604]))\n",
      "(array([0.50042018]), array([0.02191081]))\n",
      "(array([0.41946455]), array([0.7287739]))\n",
      "(array([0.50042018]), array([0.24779961]))\n",
      "(array([0.56934186]), array([0.5791475]))\n",
      "(array([0.56934186]), array([0.48520222]))\n",
      "(array([0.58356379]), array([0.71013375]))\n",
      "(array([0.62075962]), array([0.84941633]))\n",
      "(array([0.59450374]), array([0.51631345]))\n",
      "(array([0.59450374]), array([0.70380514]))\n",
      "(array([0.52886405]), array([0.34198421]))\n",
      "(array([0.61091367]), array([0.63759406]))\n",
      "(array([0.56934186]), array([0.58023772]))\n",
      "(array([0.59450374]), array([0.79168772]))\n",
      "(array([0.62951158]), array([0.54471242]))\n",
      "(array([0.50042018]), array([0.37453134]))\n",
      "(array([0.55074395]), array([0.21482703]))\n",
      "(array([0.61638364]), array([0.58414657]))\n",
      "(array([0.46322435]), array([0.86382854]))\n",
      "(array([0.46322435]), array([0.2992528]))\n",
      "(array([0.46322435]), array([0.25923365]))\n",
      "(array([0.62075962]), array([0.74190975]))\n",
      "(array([0.52886405]), array([0.22958492]))\n",
      "(array([0.59450374]), array([0.73603319]))\n",
      "(array([0.62951158]), array([0.66253623]))\n",
      "(array([0.56934186]), array([0.45558008]))\n",
      "(array([0.62951158]), array([0.33318265]))\n",
      "(array([0.63388756]), array([0.38889037]))\n",
      "(array([0.62075962]), array([0.71928098]))\n",
      "(array([0.46322435]), array([0.45706916]))\n",
      "(array([0.59450374]), array([0.61855506]))\n",
      "(array([0.52886405]), array([0.38314675]))\n",
      "(array([0.61091367]), array([0.59414471]))\n",
      "(array([0.63388756]), array([0.36735182]))\n",
      "(array([0.46322435]), array([0.36618183]))\n",
      "(array([0.36476481]), array([0.64636903]))\n",
      "(array([0.50042018]), array([0.25394209]))\n",
      "(array([0.63137137]), array([0.49115856]))\n",
      "(array([0.59450374]), array([0.55947031]))\n",
      "(array([0.62951158]), array([0.45480895]))\n",
      "(array([0.62075962]), array([0.67803866]))\n",
      "(array([0.55074395]), array([0.4115989]))\n",
      "(array([0.41946455]), array([0.43026564]))\n",
      "(array([0.62951158]), array([0.56981413]))\n",
      "(array([0.56934186]), array([0.80322812]))\n",
      "(array([0.63388756]), array([0.53753291]))\n",
      "(array([0.6032557]), array([0.49746058]))\n",
      "(array([0.62447921]), array([0.69840721]))\n",
      "(array([0.59450374]), array([0.66115351]))\n",
      "(array([0.58356379]), array([0.74071317]))\n",
      "(array([0.61638364]), array([0.70641104]))\n",
      "(array([0.61638364]), array([0.66237669]))\n",
      "(array([0.58356379]), array([0.35044008]))\n",
      "(array([0.41946455]), array([0.21192863]))\n",
      "(array([0.61091367]), array([0.70784694]))\n",
      "(array([0.58356379]), array([0.33959103]))\n",
      "(array([0.63137137]), array([0.87494349]))\n",
      "(array([0.62951158]), array([0.57608956]))\n",
      "(array([0.50042018]), array([0.57234026]))\n",
      "(array([0.55074395]), array([0.4890313]))\n",
      "(array([0.36476481]), array([0.07261946]))\n",
      "(array([0.6032557]), array([0.73933044]))\n",
      "(array([0.55074395]), array([0.42087909]))\n",
      "(array([0.59450374]), array([0.28465445]))\n",
      "(array([0.58356379]), array([0.78466775]))\n",
      "(array([0.61638364]), array([0.67660276]))\n",
      "(array([0.61091367]), array([0.78929455]))\n",
      "(array([0.63279357]), array([0.27696971]))\n",
      "(array([0.63279357]), array([0.44555535]))\n",
      "(array([0.36476481]), array([0.3708884]))\n",
      "(array([0.61638364]), array([0.63623793]))\n",
      "(array([0.61091367]), array([0.87247055]))\n",
      "(array([0.63388756]), array([0.73172548]))\n",
      "(array([0.46322435]), array([0.61717233]))\n",
      "(array([0.63388756]), array([0.44127423]))\n",
      "(array([0.46322435]), array([0.30310846]))\n",
      "(array([0.61638364]), array([0.4179807]))\n",
      "(array([0.55074395]), array([0.80352062]))\n",
      "(array([0.52886405]), array([0.20621161]))\n",
      "(array([0.62447921]), array([0.4072646]))\n",
      "(array([0.59450374]), array([0.69915175]))\n",
      "(array([0.52886405]), array([0.52506182]))\n",
      "(array([0.61091367]), array([0.50650145]))\n",
      "(array([0.36476481]), array([0.10702795]))\n",
      "(array([0.61091367]), array([0.79772383]))\n",
      "(array([0.61091367]), array([0.65325604]))\n",
      "(array([0.56934186]), array([0.55098785]))\n",
      "(array([0.56934186]), array([0.35987981]))\n",
      "(array([0.62075962]), array([0.71361715]))\n",
      "(array([0.50042018]), array([0.6346159]))\n",
      "(array([0.62732359]), array([0.72481187]))\n",
      "(array([0.61638364]), array([0.49206265]))\n",
      "(array([0.6032557]), array([0.44348127]))\n",
      "(array([0.61638364]), array([0.72366847]))\n",
      "(array([0.63279357]), array([0.55282261]))\n",
      "(array([0.46322435]), array([0.44707102]))\n",
      "(array([0.61091367]), array([0.45547371]))\n",
      "(array([0.62447921]), array([0.83689207]))\n",
      "(array([0.63279357]), array([0.6340309]))\n",
      "(array([0.62732359]), array([0.69037679]))\n",
      "(array([0.6032557]), array([0.62770229]))\n",
      "(array([0.46322435]), array([0.38939559]))\n",
      "(array([0.36476481]), array([0.58074295]))\n",
      "(array([0.41946455]), array([0.18435398]))\n",
      "(array([0.55074395]), array([0.43494562]))\n",
      "(array([0.46322435]), array([0.18972532]))\n",
      "(array([0.62951158]), array([0.68872816]))\n",
      "(array([0.6032557]), array([0.71308533]))\n",
      "(array([0.41946455]), array([0.25782434]))\n",
      "(array([0.50042018]), array([0.52976839]))\n",
      "(array([0.62951158]), array([0.32124339]))\n",
      "(array([0.62951158]), array([0.86537081]))\n",
      "(array([0.62075962]), array([0.72614141]))\n",
      "(array([0.63137137]), array([0.33610764]))\n",
      "(array([0.63137137]), array([0.85872311]))\n",
      "(array([0.55074395]), array([0.7559231]))\n",
      "(array([0.62075962]), array([0.51235142]))\n",
      "(array([0.52886405]), array([0.10016752]))\n",
      "(array([0.52886405]), array([0.82564416]))\n",
      "(array([0.36476481]), array([0.23562103]))\n",
      "(array([0.62075962]), array([0.68162842]))\n",
      "(array([0.62951158]), array([0.46230755]))\n",
      "(array([0.61091367]), array([0.61334326]))\n",
      "(array([0.59450374]), array([0.59855878]))\n",
      "(array([0.56934186]), array([0.46470072]))\n",
      "(array([0.50042018]), array([0.16853245]))\n",
      "(array([0.61638364]), array([0.56226234]))\n",
      "(array([0.61638364]), array([0.78793842]))\n",
      "(array([0.58356379]), array([0.74884995]))\n",
      "(array([0.61091367]), array([0.73988885]))\n",
      "(array([0.56934186]), array([0.45411758]))\n",
      "(array([0.62951158]), array([0.47262478]))\n",
      "(array([0.58356379]), array([0.26417954]))\n",
      "(array([0.46322435]), array([0.26465818]))\n",
      "(array([0.63279357]), array([0.75807695]))\n",
      "(array([0.50042018]), array([0.8451618]))\n",
      "(array([0.6032557]), array([0.78847023]))\n",
      "(array([0.52886405]), array([0.4817986]))\n",
      "(array([0.55074395]), array([0.83888638]))\n",
      "(array([0.41946455]), array([0.44850693]))\n",
      "(array([0.59450374]), array([0.71178238]))\n",
      "(array([0.52886405]), array([0.12375356]))\n",
      "(array([0.59450374]), array([0.4480017]))\n",
      "(array([0.62075962]), array([0.65208605]))\n",
      "(array([0.55074395]), array([0.35663573]))\n",
      "(array([0.62951158]), array([0.32079134]))\n",
      "(array([0.50042018]), array([0.71688781]))\n",
      "(array([0.50042018]), array([0.68944611]))\n",
      "(array([0.46322435]), array([0.50913394]))\n",
      "(array([0.56934186]), array([0.77044167]))\n",
      "(array([0.61091367]), array([0.66280214]))\n",
      "(array([0.62951158]), array([0.60544579]))\n",
      "(array([0.62447921]), array([0.59765469]))\n",
      "(array([0.59450374]), array([0.6158428]))\n",
      "(array([0.6032557]), array([0.68912702]))\n",
      "(array([0.55074395]), array([0.39176217]))\n",
      "(array([0.63137137]), array([0.58526338]))\n",
      "(array([0.61091367]), array([0.63118568]))\n",
      "(array([0.63388756]), array([0.59991491]))\n",
      "(array([0.59450374]), array([0.67878321]))\n",
      "(array([0.61091367]), array([0.60377057]))\n",
      "(array([0.6032557]), array([0.51591459]))\n",
      "(array([0.56934186]), array([0.41829978]))\n",
      "(array([0.59450374]), array([0.76903236]))\n",
      "(array([0.58356379]), array([0.59794719]))\n",
      "(array([0.52886405]), array([0.20339299]))\n",
      "(array([0.61091367]), array([0.51317574]))\n",
      "(array([0.63137137]), array([0.85300609]))\n",
      "(array([0.61638364]), array([0.75326402]))\n",
      "(array([0.59450374]), array([0.53349111]))\n",
      "(array([0.6032557]), array([0.73199138]))\n",
      "(array([0.50042018]), array([0.43970537]))\n",
      "(array([0.63137137]), array([0.62389981]))\n",
      "(array([0.62075962]), array([0.72768368]))\n",
      "(array([0.62732359]), array([0.54144175]))\n",
      "(array([0.61638364]), array([0.694977]))\n",
      "(array([0.46322435]), array([0.49254128]))\n",
      "(array([0.63137137]), array([0.59459675]))\n",
      "(array([0.50042018]), array([0.40769006]))\n",
      "(array([0.63388756]), array([0.66915734]))\n",
      "(array([0.61638364]), array([0.56598506]))\n",
      "(array([0.56934186]), array([0.63182386]))\n",
      "(array([0.61091367]), array([0.68519159]))\n",
      "(array([0.61638364]), array([0.42130454]))\n",
      "(array([0.63388756]), array([0.48935039]))\n",
      "(array([0.61091367]), array([0.76772941]))\n",
      "(array([0.6032557]), array([0.72497141]))\n",
      "(array([0.61091367]), array([0.65227218]))\n",
      "(array([0.61091367]), array([0.75352993]))\n",
      "(array([0.6032557]), array([0.80487675]))\n",
      "(array([0.62447921]), array([0.69665222]))\n",
      "(array([0.46322435]), array([0.37365384]))\n",
      "(array([0.59450374]), array([0.67176324]))\n",
      "(array([0.59450374]), array([0.56457574]))\n",
      "(array([0.62951158]), array([0.56840482]))\n",
      "(array([0.50042018]), array([0.47685271]))\n",
      "(array([0.63279357]), array([0.43390858]))\n",
      "(array([0.59450374]), array([0.73738932]))\n",
      "(array([0.52886405]), array([0.37038317]))\n",
      "(array([0.50042018]), array([0.30528891]))\n",
      "(array([0.6032557]), array([0.43861515]))\n",
      "(array([0.62951158]), array([0.57616933]))\n",
      "(array([0.62075962]), array([0.65695216]))\n",
      "(array([0.6032557]), array([0.29712554]))\n",
      "(array([0.62732359]), array([0.40649347]))\n",
      "(array([0.61638364]), array([0.68008615]))\n",
      "(array([0.55074395]), array([0.5340761]))\n",
      "(array([0.58356379]), array([0.41529502]))\n",
      "(array([0.52886405]), array([0.2579307]))\n",
      "(array([0.62732359]), array([0.65942511]))\n",
      "(array([0.55074395]), array([0.81713511]))\n",
      "(array([0.63279357]), array([0.53615018]))\n",
      "(array([0.62951158]), array([0.85515994]))\n",
      "(array([0.50042018]), array([0.58547611]))\n",
      "(array([0.56934186]), array([0.48913766]))\n",
      "(array([0.61091367]), array([0.40521711]))\n",
      "(array([0.62075962]), array([0.63653043]))\n",
      "(array([0.6032557]), array([0.37822746]))\n",
      "(array([0.59450374]), array([0.84016274]))\n",
      "(array([0.6032557]), array([0.54351583]))\n",
      "(array([0.58356379]), array([0.41518866]))\n",
      "(array([0.52886405]), array([0.32735927]))\n",
      "(array([0.50042018]), array([0.17932832]))\n",
      "(array([0.63279357]), array([0.79386816]))\n",
      "(array([0.55074395]), array([0.25700003]))\n",
      "(array([0.62075962]), array([0.59661765]))\n",
      "(array([0.56934186]), array([0.76405988]))\n",
      "(array([0.52886405]), array([0.39585715]))\n",
      "(array([0.61638364]), array([0.66107374]))\n",
      "(array([0.59450374]), array([0.80487675]))\n",
      "(array([0.55074395]), array([0.33193288]))\n",
      "(array([0.55074395]), array([0.59047518]))\n",
      "(array([0.63137137]), array([0.6675353]))\n",
      "(array([0.62447921]), array([0.67139096]))\n",
      "(array([0.55074395]), array([0.32587018]))\n",
      "(array([0.56934186]), array([0.76012444]))\n",
      "(array([0.55074395]), array([0.85000133]))\n",
      "(array([0.61638364]), array([0.85231473]))\n",
      "(array([0.6032557]), array([0.61828915]))\n",
      "(array([0.50042018]), array([0.19435212]))\n",
      "(array([0.56934186]), array([0.52998112]))\n",
      "(array([0.56934186]), array([0.55380647]))\n",
      "(array([0.6032557]), array([0.59608584]))\n",
      "(array([0.63279357]), array([0.64105087]))\n",
      "(array([0.6032557]), array([0.61400803]))\n",
      "(array([0.59450374]), array([0.54003244]))\n",
      "(array([0.58356379]), array([0.78868296]))\n",
      "(array([0.58356379]), array([0.30177892]))\n",
      "(array([0.62732359]), array([0.62163959]))\n",
      "(array([0.63279357]), array([0.59768128]))\n",
      "(array([0.59450374]), array([0.75150903]))\n",
      "(array([0.58356379]), array([0.65804239]))\n"
     ]
    },
    {
     "name": "stdout",
     "output_type": "stream",
     "text": [
      "(array([0.55074395]), array([0.51437232]))\n",
      "(array([0.46322435]), array([0.45664371]))\n",
      "(array([0.61091367]), array([0.55399261]))\n",
      "(array([0.58356379]), array([0.86622171]))\n",
      "(array([0.56934186]), array([0.69128088]))\n",
      "(array([0.62447921]), array([0.68902066]))\n",
      "(array([0.63137137]), array([0.51583482]))\n",
      "(array([0.56934186]), array([0.39649533]))\n",
      "(array([0.61091367]), array([0.40915255]))\n",
      "(array([0.41946455]), array([0.25809025]))\n",
      "(array([0.6032557]), array([0.45613848]))\n",
      "(array([0.62447921]), array([0.44401308]))\n",
      "(array([0.55074395]), array([0.46640253]))\n",
      "(array([0.50042018]), array([0.16706996]))\n",
      "(array([0.50042018]), array([0.75884809]))\n",
      "(array([0.62951158]), array([0.95854495]))\n",
      "(array([0.50042018]), array([0.21682134]))\n",
      "(array([0.62447921]), array([0.61741165]))\n",
      "(array([0.62075962]), array([0.51612732]))\n",
      "(array([0.52886405]), array([0.33475151]))\n",
      "(array([0.59450374]), array([0.64631585]))\n",
      "(array([0.56934186]), array([0.79432021]))\n",
      "(array([0.50042018]), array([0.30236392]))\n",
      "(array([0.62075962]), array([0.419975]))\n",
      "(array([0.59450374]), array([0.50509214]))\n",
      "(array([0.52886405]), array([0.0199431]))\n",
      "(array([0.59450374]), array([0.77538756]))\n",
      "(array([0.59450374]), array([0.3867631]))\n",
      "(array([0.41946455]), array([0.82918074]))\n",
      "(array([0.28818516]), array([0.5915654]))\n",
      "(array([0.52886405]), array([0.410748]))\n",
      "(array([0.6032557]), array([0.88542027]))\n",
      "(array([0.62732359]), array([0.60049991]))\n",
      "(array([0.62951158]), array([0.6305741]))\n",
      "(array([0.62732359]), array([0.51918526]))\n",
      "(array([0.63279357]), array([0.97157444]))\n"
     ]
    }
   ],
   "source": [
    "for i in zip(y_pred,y_test):\n",
    "    print(i)"
   ]
  },
  {
   "cell_type": "code",
   "execution_count": 25,
   "metadata": {},
   "outputs": [],
   "source": [
    "from sklearn.metrics import mean_squared_error, r2_score"
   ]
  },
  {
   "cell_type": "code",
   "execution_count": 26,
   "metadata": {},
   "outputs": [
    {
     "data": {
      "text/plain": [
       "0.031118277063485654"
      ]
     },
     "execution_count": 26,
     "metadata": {},
     "output_type": "execute_result"
    }
   ],
   "source": [
    "mean_squared_error(y_test,y_pred)"
   ]
  },
  {
   "cell_type": "code",
   "execution_count": 27,
   "metadata": {},
   "outputs": [
    {
     "data": {
      "text/plain": [
       "Text(0.5,1,'Linear Regression(train)')"
      ]
     },
     "execution_count": 27,
     "metadata": {},
     "output_type": "execute_result"
    },
    {
     "data": {
      "image/png": "[encoded data removed]",
      "text/plain": [
       "<matplotlib.figure.Figure at 0x12733fb9ba8>"
      ]
     },
     "metadata": {},
     "output_type": "display_data"
    }
   ],
   "source": [
    "plt.scatter(x_train,y_train,color='red')\n",
    "plt.plot(x_train,regressor.predict(x_train),'b')\n",
    "\n",
    "plt.xlabel(\"Frequency\")\n",
    "plt.ylabel(\"TARGET\")\n",
    "plt.title(\"Linear Regression(train)\")"
   ]
  },
  {
   "cell_type": "code",
   "execution_count": 28,
   "metadata": {},
   "outputs": [
    {
     "data": {
      "text/plain": [
       "Text(0.5,1,'Linear Regression(test)')"
      ]
     },
     "execution_count": 28,
     "metadata": {},
     "output_type": "execute_result"
    },
    {
     "data": {
      "image/png": "[encoded data removed]",
      "text/plain": [
       "<matplotlib.figure.Figure at 0x1273400b8d0>"
      ]
     },
     "metadata": {},
     "output_type": "display_data"
    }
   ],
   "source": [
    "plt.scatter(x_test,y_test,color='red')\n",
    "plt.plot(x_test,regressor.predict(x_test),'b')\n",
    "\n",
    "plt.xlabel(\"Frequency\")\n",
    "plt.ylabel(\"TARGET\")\n",
    "plt.title(\"Linear Regression(test)\")"
   ]
  },
  {
   "cell_type": "code",
   "execution_count": 29,
   "metadata": {},
   "outputs": [
    {
     "data": {
      "text/plain": [
       "0.14941354815121766"
      ]
     },
     "execution_count": 29,
     "metadata": {},
     "output_type": "execute_result"
    }
   ],
   "source": [
    "r2_score(y_test,y_pred)   # it tells that if there are 100 pts then 10 pts are fit correctly"
   ]
  },
  {
   "cell_type": "code",
   "execution_count": 30,
   "metadata": {},
   "outputs": [
    {
     "data": {
      "text/plain": [
       "0.9688817229365143"
      ]
     },
     "execution_count": 30,
     "metadata": {},
     "output_type": "execute_result"
    }
   ],
   "source": [
    "1-mean_squared_error(y_test,y_pred)"
   ]
  },
  {
   "cell_type": "code",
   "execution_count": null,
   "metadata": {},
   "outputs": [],
   "source": []
  }
 ],
 "metadata": {
  "kernelspec": {
   "display_name": "Python 3",
   "language": "python",
   "name": "python3"
  },
  "language_info": {
   "codemirror_mode": {
    "name": "ipython",
    "version": 3
   },
   "file_extension": ".py",
   "mimetype": "text/x-python",
   "name": "python",
   "nbconvert_exporter": "python",
   "pygments_lexer": "ipython3",
   "version": "3.6.4"
  }
 },
 "nbformat": 4,
 "nbformat_minor": 2
}
