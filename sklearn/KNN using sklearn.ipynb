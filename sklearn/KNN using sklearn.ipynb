{
 "cells": [
  {
   "cell_type": "code",
   "execution_count": 1,
   "metadata": {},
   "outputs": [],
   "source": [
    "import numpy as np\n",
    "import pandas as pd\n",
    "import matplotlib.pyplot as plt\n",
    "\n",
    "from sklearn.preprocessing import MinMaxScaler\n",
    "from sklearn.model_selection import train_test_split\n",
    "from sklearn.neighbors import KNeighborsClassifier\n",
    "from matplotlib.colors import ListedColormap\n",
    "from sklearn.metrics import confusion_matrix\n",
    "\n",
    "from sklearn.datasets import load_wine\n",
    "\n"
   ]
  },
  {
   "cell_type": "code",
   "execution_count": 2,
   "metadata": {},
   "outputs": [],
   "source": [
    "wine =load_wine()"
   ]
  },
  {
   "cell_type": "code",
   "execution_count": 3,
   "metadata": {},
   "outputs": [],
   "source": [
    "features = pd.DataFrame(wine.data,columns=wine.feature_names)\n",
    "target = pd.DataFrame(wine.target,columns=['TARGET'])\n",
    "\n",
    "data = pd.concat([features,target],axis=1)\n"
   ]
  },
  {
   "cell_type": "code",
   "execution_count": 4,
   "metadata": {},
   "outputs": [
    {
     "data": {
      "text/plain": [
       "['alcohol',\n",
       " 'malic_acid',\n",
       " 'ash',\n",
       " 'alcalinity_of_ash',\n",
       " 'magnesium',\n",
       " 'total_phenols',\n",
       " 'flavanoids',\n",
       " 'nonflavanoid_phenols',\n",
       " 'proanthocyanins',\n",
       " 'color_intensity',\n",
       " 'hue',\n",
       " 'od280/od315_of_diluted_wines',\n",
       " 'proline']"
      ]
     },
     "execution_count": 4,
     "metadata": {},
     "output_type": "execute_result"
    }
   ],
   "source": [
    "wine.feature_names"
   ]
  },
  {
   "cell_type": "code",
   "execution_count": 5,
   "metadata": {},
   "outputs": [],
   "source": [
    "x1 = np.array(data['hue'])\n",
    "x2 = np.array(data['proline'])\n",
    "y= np.array(data['TARGET'])"
   ]
  },
  {
   "cell_type": "code",
   "execution_count": 32,
   "metadata": {},
   "outputs": [
    {
     "data": {
      "text/plain": [
       "2"
      ]
     },
     "execution_count": 32,
     "metadata": {},
     "output_type": "execute_result"
    }
   ],
   "source": [
    "x1.ndim"
   ]
  },
  {
   "cell_type": "code",
   "execution_count": 6,
   "metadata": {},
   "outputs": [],
   "source": [
    "x = np.column_stack((x1,x2))"
   ]
  },
  {
   "cell_type": "code",
   "execution_count": 7,
   "metadata": {},
   "outputs": [
    {
     "data": {
      "text/plain": [
       "array([[1.040e+00, 1.065e+03],\n",
       "       [1.050e+00, 1.050e+03],\n",
       "       [1.030e+00, 1.185e+03],\n",
       "       [8.600e-01, 1.480e+03],\n",
       "       [1.040e+00, 7.350e+02],\n",
       "       [1.050e+00, 1.450e+03],\n",
       "       [1.020e+00, 1.290e+03],\n",
       "       [1.060e+00, 1.295e+03],\n",
       "       [1.080e+00, 1.045e+03],\n",
       "       [1.010e+00, 1.045e+03],\n",
       "       [1.250e+00, 1.510e+03],\n",
       "       [1.170e+00, 1.280e+03],\n",
       "       [1.150e+00, 1.320e+03],\n",
       "       [1.250e+00, 1.150e+03],\n",
       "       [1.200e+00, 1.547e+03],\n",
       "       [1.280e+00, 1.310e+03],\n",
       "       [1.070e+00, 1.280e+03],\n",
       "       [1.130e+00, 1.130e+03],\n",
       "       [1.230e+00, 1.680e+03],\n",
       "       [9.600e-01, 8.450e+02],\n",
       "       [1.090e+00, 7.800e+02],\n",
       "       [1.030e+00, 7.700e+02],\n",
       "       [1.110e+00, 1.035e+03],\n",
       "       [1.090e+00, 1.015e+03],\n",
       "       [1.120e+00, 8.450e+02],\n",
       "       [1.130e+00, 8.300e+02],\n",
       "       [9.200e-01, 1.195e+03],\n",
       "       [1.020e+00, 1.285e+03],\n",
       "       [1.250e+00, 9.150e+02],\n",
       "       [1.040e+00, 1.035e+03],\n",
       "       [1.190e+00, 1.285e+03],\n",
       "       [1.090e+00, 1.515e+03],\n",
       "       [1.230e+00, 9.900e+02],\n",
       "       [1.250e+00, 1.235e+03],\n",
       "       [1.100e+00, 1.095e+03],\n",
       "       [1.040e+00, 9.200e+02],\n",
       "       [1.090e+00, 8.800e+02],\n",
       "       [1.120e+00, 1.105e+03],\n",
       "       [1.180e+00, 1.020e+03],\n",
       "       [8.900e-01, 7.600e+02],\n",
       "       [9.500e-01, 7.950e+02],\n",
       "       [9.100e-01, 1.035e+03],\n",
       "       [8.800e-01, 1.095e+03],\n",
       "       [8.200e-01, 6.800e+02],\n",
       "       [8.800e-01, 8.850e+02],\n",
       "       [8.700e-01, 1.080e+03],\n",
       "       [1.040e+00, 1.065e+03],\n",
       "       [9.100e-01, 9.850e+02],\n",
       "       [1.070e+00, 1.060e+03],\n",
       "       [1.120e+00, 1.260e+03],\n",
       "       [1.120e+00, 1.150e+03],\n",
       "       [1.240e+00, 1.265e+03],\n",
       "       [1.010e+00, 1.190e+03],\n",
       "       [1.130e+00, 1.375e+03],\n",
       "       [9.200e-01, 1.060e+03],\n",
       "       [9.800e-01, 1.120e+03],\n",
       "       [9.400e-01, 9.700e+02],\n",
       "       [1.070e+00, 1.270e+03],\n",
       "       [8.900e-01, 1.285e+03],\n",
       "       [1.050e+00, 5.200e+02],\n",
       "       [1.250e+00, 6.800e+02],\n",
       "       [9.800e-01, 4.500e+02],\n",
       "       [1.230e+00, 6.300e+02],\n",
       "       [1.220e+00, 4.200e+02],\n",
       "       [1.450e+00, 3.550e+02],\n",
       "       [1.190e+00, 6.780e+02],\n",
       "       [1.120e+00, 5.020e+02],\n",
       "       [1.120e+00, 5.100e+02],\n",
       "       [1.020e+00, 7.500e+02],\n",
       "       [1.280e+00, 7.180e+02],\n",
       "       [9.060e-01, 8.700e+02],\n",
       "       [1.360e+00, 4.100e+02],\n",
       "       [9.800e-01, 4.720e+02],\n",
       "       [1.310e+00, 9.850e+02],\n",
       "       [9.900e-01, 8.860e+02],\n",
       "       [1.230e+00, 4.280e+02],\n",
       "       [1.190e+00, 3.920e+02],\n",
       "       [9.600e-01, 5.000e+02],\n",
       "       [1.060e+00, 7.500e+02],\n",
       "       [1.190e+00, 4.630e+02],\n",
       "       [1.380e+00, 2.780e+02],\n",
       "       [1.160e+00, 7.140e+02],\n",
       "       [1.310e+00, 6.300e+02],\n",
       "       [8.400e-01, 5.150e+02],\n",
       "       [7.900e-01, 5.200e+02],\n",
       "       [1.230e+00, 4.500e+02],\n",
       "       [1.330e+00, 4.950e+02],\n",
       "       [1.360e+00, 5.620e+02],\n",
       "       [1.000e+00, 6.800e+02],\n",
       "       [1.070e+00, 6.250e+02],\n",
       "       [1.080e+00, 4.800e+02],\n",
       "       [1.050e+00, 4.500e+02],\n",
       "       [9.600e-01, 4.950e+02],\n",
       "       [1.150e+00, 2.900e+02],\n",
       "       [1.160e+00, 3.450e+02],\n",
       "       [1.160e+00, 9.370e+02],\n",
       "       [9.500e-01, 6.250e+02],\n",
       "       [1.230e+00, 4.280e+02],\n",
       "       [1.040e+00, 6.600e+02],\n",
       "       [1.420e+00, 4.060e+02],\n",
       "       [1.270e+00, 7.100e+02],\n",
       "       [1.040e+00, 5.620e+02],\n",
       "       [8.000e-01, 4.380e+02],\n",
       "       [9.400e-01, 4.150e+02],\n",
       "       [1.040e+00, 6.720e+02],\n",
       "       [8.600e-01, 3.150e+02],\n",
       "       [1.000e+00, 5.100e+02],\n",
       "       [8.800e-01, 4.880e+02],\n",
       "       [8.600e-01, 3.120e+02],\n",
       "       [9.600e-01, 6.800e+02],\n",
       "       [7.500e-01, 5.620e+02],\n",
       "       [9.000e-01, 3.250e+02],\n",
       "       [1.230e+00, 6.070e+02],\n",
       "       [1.100e+00, 4.340e+02],\n",
       "       [9.300e-01, 3.850e+02],\n",
       "       [1.710e+00, 4.070e+02],\n",
       "       [9.500e-01, 4.950e+02],\n",
       "       [1.060e+00, 3.450e+02],\n",
       "       [7.000e-01, 3.720e+02],\n",
       "       [9.300e-01, 5.640e+02],\n",
       "       [8.000e-01, 6.250e+02],\n",
       "       [9.300e-01, 4.650e+02],\n",
       "       [9.200e-01, 3.650e+02],\n",
       "       [7.300e-01, 3.800e+02],\n",
       "       [7.500e-01, 3.800e+02],\n",
       "       [8.600e-01, 3.780e+02],\n",
       "       [6.900e-01, 3.520e+02],\n",
       "       [9.700e-01, 4.660e+02],\n",
       "       [8.900e-01, 3.420e+02],\n",
       "       [7.900e-01, 5.800e+02],\n",
       "       [7.600e-01, 6.300e+02],\n",
       "       [7.400e-01, 5.300e+02],\n",
       "       [6.600e-01, 5.600e+02],\n",
       "       [7.800e-01, 6.000e+02],\n",
       "       [7.500e-01, 6.500e+02],\n",
       "       [7.300e-01, 6.950e+02],\n",
       "       [7.500e-01, 7.200e+02],\n",
       "       [8.200e-01, 5.150e+02],\n",
       "       [8.100e-01, 5.800e+02],\n",
       "       [8.900e-01, 5.900e+02],\n",
       "       [7.700e-01, 6.000e+02],\n",
       "       [7.000e-01, 7.800e+02],\n",
       "       [8.900e-01, 5.200e+02],\n",
       "       [9.100e-01, 5.500e+02],\n",
       "       [6.500e-01, 8.550e+02],\n",
       "       [6.000e-01, 8.300e+02],\n",
       "       [5.800e-01, 4.150e+02],\n",
       "       [5.400e-01, 6.250e+02],\n",
       "       [5.500e-01, 6.500e+02],\n",
       "       [5.700e-01, 5.500e+02],\n",
       "       [5.900e-01, 5.000e+02],\n",
       "       [4.800e-01, 4.800e+02],\n",
       "       [6.100e-01, 4.250e+02],\n",
       "       [5.600e-01, 6.750e+02],\n",
       "       [5.800e-01, 6.400e+02],\n",
       "       [6.000e-01, 7.250e+02],\n",
       "       [5.700e-01, 4.800e+02],\n",
       "       [6.700e-01, 8.800e+02],\n",
       "       [5.700e-01, 6.600e+02],\n",
       "       [5.700e-01, 6.200e+02],\n",
       "       [5.600e-01, 5.200e+02],\n",
       "       [9.600e-01, 6.800e+02],\n",
       "       [8.700e-01, 5.700e+02],\n",
       "       [6.800e-01, 6.750e+02],\n",
       "       [7.000e-01, 6.150e+02],\n",
       "       [7.800e-01, 5.200e+02],\n",
       "       [8.500e-01, 6.950e+02],\n",
       "       [7.200e-01, 6.850e+02],\n",
       "       [7.400e-01, 7.500e+02],\n",
       "       [6.700e-01, 6.300e+02],\n",
       "       [6.600e-01, 5.100e+02],\n",
       "       [5.700e-01, 4.700e+02],\n",
       "       [6.200e-01, 6.600e+02],\n",
       "       [6.400e-01, 7.400e+02],\n",
       "       [7.000e-01, 7.500e+02],\n",
       "       [5.900e-01, 8.350e+02],\n",
       "       [6.000e-01, 8.400e+02],\n",
       "       [6.100e-01, 5.600e+02]])"
      ]
     },
     "execution_count": 7,
     "metadata": {},
     "output_type": "execute_result"
    }
   ],
   "source": [
    "x"
   ]
  },
  {
   "cell_type": "code",
   "execution_count": 8,
   "metadata": {},
   "outputs": [
    {
     "data": {
      "text/plain": [
       "(178, 2)"
      ]
     },
     "execution_count": 8,
     "metadata": {},
     "output_type": "execute_result"
    }
   ],
   "source": [
    "x.shape"
   ]
  },
  {
   "cell_type": "code",
   "execution_count": 9,
   "metadata": {},
   "outputs": [
    {
     "data": {
      "text/plain": [
       "(178,)"
      ]
     },
     "execution_count": 9,
     "metadata": {},
     "output_type": "execute_result"
    }
   ],
   "source": [
    "y.shape"
   ]
  },
  {
   "cell_type": "code",
   "execution_count": 10,
   "metadata": {},
   "outputs": [],
   "source": [
    "xtrain,xtest,ytrain,ytest = train_test_split(x,y,test_size=0.2)"
   ]
  },
  {
   "cell_type": "code",
   "execution_count": 11,
   "metadata": {},
   "outputs": [
    {
     "data": {
      "text/plain": [
       "2"
      ]
     },
     "execution_count": 11,
     "metadata": {},
     "output_type": "execute_result"
    }
   ],
   "source": [
    "np.ndim(xtrain)"
   ]
  },
  {
   "cell_type": "code",
   "execution_count": 12,
   "metadata": {},
   "outputs": [],
   "source": [
    "# MinMaxScaler - scales features to lie between a given minimum and maximum value, often between zero and one\n",
    "\n",
    "scaler = MinMaxScaler()"
   ]
  },
  {
   "cell_type": "code",
   "execution_count": 13,
   "metadata": {},
   "outputs": [],
   "source": [
    "xtrain = scaler.fit_transform(xtrain)\n",
    "xtest = scaler.fit_transform(xtest)"
   ]
  },
  {
   "cell_type": "code",
   "execution_count": 14,
   "metadata": {},
   "outputs": [
    {
     "data": {
      "text/plain": [
       "[<matplotlib.lines.Line2D at 0x211aed81080>,\n",
       " <matplotlib.lines.Line2D at 0x211aed81208>]"
      ]
     },
     "execution_count": 14,
     "metadata": {},
     "output_type": "execute_result"
    },
    {
     "data": {
      "image/png": "[encoded data removed]",
      "text/plain": [
       "<matplotlib.figure.Figure at 0x211aea38940>"
      ]
     },
     "metadata": {},
     "output_type": "display_data"
    }
   ],
   "source": [
    "plt.plot(xtrain,ytrain,'r.')"
   ]
  },
  {
   "cell_type": "code",
   "execution_count": 15,
   "metadata": {},
   "outputs": [
    {
     "data": {
      "text/plain": [
       "11"
      ]
     },
     "execution_count": 15,
     "metadata": {},
     "output_type": "execute_result"
    }
   ],
   "source": [
    "# to calculate the k value i.e the no. of nearest neighbors\n",
    "\n",
    "int(np.sqrt(len(xtrain)))    "
   ]
  },
  {
   "cell_type": "code",
   "execution_count": 16,
   "metadata": {},
   "outputs": [],
   "source": [
    "# n_neighbors indicates k value\n",
    "# minkowski is a parameter to cal. distance instead of euclidean_distance\n",
    "# p - to cal. the euclidean_distance when using minkowski we should set p=2.\n",
    "# p is a power parameter for the Minkowski metric. \n",
    "\n",
    "classifier = KNeighborsClassifier(n_neighbors=11,metric='minkowski',p=2) "
   ]
  },
  {
   "cell_type": "code",
   "execution_count": 17,
   "metadata": {},
   "outputs": [
    {
     "data": {
      "text/plain": [
       "KNeighborsClassifier(algorithm='auto', leaf_size=30, metric='minkowski',\n",
       "           metric_params=None, n_jobs=1, n_neighbors=11, p=2,\n",
       "           weights='uniform')"
      ]
     },
     "execution_count": 17,
     "metadata": {},
     "output_type": "execute_result"
    }
   ],
   "source": [
    "classifier.fit(xtrain,ytrain)"
   ]
  },
  {
   "cell_type": "code",
   "execution_count": 18,
   "metadata": {},
   "outputs": [],
   "source": [
    "ypred = classifier.predict(xtest)"
   ]
  },
  {
   "cell_type": "code",
   "execution_count": 19,
   "metadata": {},
   "outputs": [
    {
     "data": {
      "text/plain": [
       "array([1, 1, 1, 1, 2, 0, 1, 1, 2, 0, 0, 2, 1, 1, 2, 0, 1, 2, 0, 1, 1, 1,\n",
       "       2, 2, 2, 1, 0, 1, 0, 0, 2, 0, 2, 1, 0, 1])"
      ]
     },
     "execution_count": 19,
     "metadata": {},
     "output_type": "execute_result"
    }
   ],
   "source": [
    "ypred"
   ]
  },
  {
   "cell_type": "code",
   "execution_count": 20,
   "metadata": {},
   "outputs": [],
   "source": [
    "cm = confusion_matrix(ytest,ypred)"
   ]
  },
  {
   "cell_type": "code",
   "execution_count": 21,
   "metadata": {},
   "outputs": [
    {
     "data": {
      "text/plain": [
       "array([[10,  4,  1],\n",
       "       [ 0, 12,  2],\n",
       "       [ 0,  0,  7]], dtype=int64)"
      ]
     },
     "execution_count": 21,
     "metadata": {},
     "output_type": "execute_result"
    }
   ],
   "source": [
    "cm"
   ]
  },
  {
   "cell_type": "code",
   "execution_count": 48,
   "metadata": {},
   "outputs": [
    {
     "name": "stdout",
     "output_type": "stream",
     "text": [
      "[[-1.   -0.99 -0.98 ...  1.97  1.98  1.99]\n",
      " [-1.   -0.99 -0.98 ...  1.97  1.98  1.99]\n",
      " [-1.   -0.99 -0.98 ...  1.97  1.98  1.99]\n",
      " ...\n",
      " [-1.   -0.99 -0.98 ...  1.97  1.98  1.99]\n",
      " [-1.   -0.99 -0.98 ...  1.97  1.98  1.99]\n",
      " [-1.   -0.99 -0.98 ...  1.97  1.98  1.99]]\n"
     ]
    },
    {
     "data": {
      "text/plain": [
       "<matplotlib.legend.Legend at 0x211afc90160>"
      ]
     },
     "execution_count": 48,
     "metadata": {},
     "output_type": "execute_result"
    },
    {
     "data": {
      "image/png": "[encoded data removed]",
      "text/plain": [
       "<matplotlib.figure.Figure at 0x211afc90da0>"
      ]
     },
     "metadata": {},
     "output_type": "display_data"
    }
   ],
   "source": [
    "x_set,y_set = xtrain,ytrain\n",
    "\n",
    "x1,x2 = np.meshgrid(np.arange(start=x_set[:,0].min()-1,stop=x_set[:,0].max()+1,step=0.01),\n",
    "                    np.arange(start=x_set[:,0].min()-1,stop=x_set[:,0].max()+1,step=0.01))\n",
    "print(x1)                  \n",
    "plt.contourf(x1,x2,classifier.predict(np.array([x1.ravel(),x2.ravel()]).T).reshape(x1.shape),\n",
    "                                     alpha=0.5,cmap=ListedColormap(('red','green','black')))\n",
    "plt.xlim(x1.min(),x1.max())\n",
    "plt.ylim(x2.min(),x2.max())\n",
    "\n",
    "for i,j in enumerate(np.unique(y_set)):\n",
    "    plt.scatter(x_set[y_set == j,0],x_set[y_set == j,1],\n",
    "                c = ListedColormap(('red','green','black'))(i),label=j)\n",
    "\n",
    "# np.unique(y_set) will contain the no. of classes i.e 0,1,2\n",
    "# for j=0, y_set == 0 will contain all the points whose y_set value is equal to 0. \n",
    "# x_set[y_set == j] indicates all the points whose x values correspond to the class 0 when j=0.\n",
    "\n",
    "plt.title('k-NN(train)')\n",
    "plt.legend()"
   ]
  },
  {
   "cell_type": "code",
   "execution_count": 39,
   "metadata": {},
   "outputs": [
    {
     "data": {
      "text/plain": [
       "array([[0.22988506, 0.07377049],\n",
       "       [0.55172414, 0.73360656],\n",
       "       [0.43678161, 0.07786885],\n",
       "       [0.03448276, 0.10245902],\n",
       "       [0.56321839, 0.6352459 ],\n",
       "       [0.35632184, 0.01803279],\n",
       "       [1.        , 0.09508197],\n",
       "       [0.06896552, 0.11065574],\n",
       "       [0.37931034, 0.48770492],\n",
       "       [0.8045977 , 0.31967213],\n",
       "       [0.62068966, 0.5942623 ],\n",
       "       [0.26436782, 0.25409836],\n",
       "       [0.5862069 , 0.04508197],\n",
       "       [0.20689655, 0.33196721],\n",
       "       [0.56321839, 0.6352459 ],\n",
       "       [0.8045977 , 0.70491803],\n",
       "       [0.08045977, 0.30327869],\n",
       "       [0.7816092 , 0.11311475],\n",
       "       [0.43678161, 0.22459016],\n",
       "       [0.56321839, 0.61065574],\n",
       "       [0.73563218, 0.08360656],\n",
       "       [0.17241379, 0.26639344],\n",
       "       [0.04597701, 0.17213115],\n",
       "       [0.16091954, 0.05081967],\n",
       "       [0.8045977 , 0.77459016],\n",
       "       [0.17241379, 0.40163934],\n",
       "       [0.6091954 , 0.61885246],\n",
       "       [0.54022989, 0.81557377],\n",
       "       [0.4137931 , 0.56967213],\n",
       "       [0.52873563, 0.61885246],\n",
       "       [0.5862069 , 0.82377049],\n",
       "       [0.02298851, 0.14754098],\n",
       "       [0.87356322, 0.56967213],\n",
       "       [0.17241379, 0.06721311],\n",
       "       [0.8045977 , 1.        ],\n",
       "       [0.14942529, 0.31557377],\n",
       "       [0.66666667, 0.68852459],\n",
       "       [0.28735632, 0.12131148],\n",
       "       [0.47126437, 0.31967213],\n",
       "       [0.45977011, 0.16803279],\n",
       "       [0.44827586, 0.10245902],\n",
       "       [0.3908046 , 0.24590164],\n",
       "       [0.3908046 , 0.04262295],\n",
       "       [0.2183908 , 0.37704918],\n",
       "       [0.12643678, 0.22131148],\n",
       "       [0.45977011, 0.41393443],\n",
       "       [0.22988506, 0.22295082],\n",
       "       [0.11494253, 0.46311475],\n",
       "       [0.22988506, 0.35245902],\n",
       "       [0.48275862, 0.1442623 ],\n",
       "       [0.83908046, 0.35081967],\n",
       "       [0.52873563, 0.73770492],\n",
       "       [0.57471264, 0.95081967],\n",
       "       [0.7816092 , 0.25983607],\n",
       "       [0.47126437, 0.45491803],\n",
       "       [0.82758621, 0.3442623 ],\n",
       "       [0.73563218, 0.31803279],\n",
       "       [0.47126437, 0.17213115],\n",
       "       [0.59770115, 0.27459016],\n",
       "       [0.66666667, 0.44262295],\n",
       "       [0.13793103, 0.27868852],\n",
       "       [0.17241379, 0.37704918],\n",
       "       [0.73563218, 0.14180328],\n",
       "       [0.89655172, 0.16803279],\n",
       "       [0.45977011, 0.27459016],\n",
       "       [0.7816092 , 0.27868852],\n",
       "       [0.24137931, 0.27868852],\n",
       "       [0.51724138, 0.18032787],\n",
       "       [0.1954023 , 0.32377049],\n",
       "       [0.10344828, 0.36885246],\n",
       "       [0.65517241, 0.18032787],\n",
       "       [0.3908046 , 0.3852459 ],\n",
       "       [0.36781609, 0.2295082 ],\n",
       "       [0.65517241, 0.79508197],\n",
       "       [0.56321839, 0.30327869],\n",
       "       [0.20689655, 0.07377049],\n",
       "       [0.05747126, 0.35655738],\n",
       "       [0.49425287, 0.13114754],\n",
       "       [0.01149425, 0.31557377],\n",
       "       [0.29885057, 0.23770492],\n",
       "       [0.3908046 , 0.18852459],\n",
       "       [0.65517241, 0.66803279],\n",
       "       [0.27586207, 0.18852459],\n",
       "       [0.63218391, 0.11803279],\n",
       "       [0.4137931 , 0.61065574],\n",
       "       [0.51724138, 0.31967213],\n",
       "       [0.65517241, 0.70491803],\n",
       "       [0.02298851, 0.1557377 ],\n",
       "       [0.28735632, 0.27459016],\n",
       "       [0.59770115, 0.81147541],\n",
       "       [0.68965517, 0.8442623 ],\n",
       "       [0.02298851, 0.21311475],\n",
       "       [0.68965517, 0.        ],\n",
       "       [0.49425287, 0.14918033],\n",
       "       [0.59770115, 0.80327869],\n",
       "       [0.56321839, 0.22295082],\n",
       "       [0.55172414, 0.39344262],\n",
       "       [0.37931034, 0.16229508],\n",
       "       [0.7816092 , 0.11311475],\n",
       "       [0.57471264, 0.18852459],\n",
       "       [0.05747126, 0.45081967],\n",
       "       [0.6091954 , 0.1557377 ],\n",
       "       [0.02298851, 0.30327869],\n",
       "       [0.31034483, 0.18442623],\n",
       "       [0.42528736, 0.06147541],\n",
       "       [0.83908046, 0.83606557],\n",
       "       [0.35632184, 0.97540984],\n",
       "       [0.35632184, 0.0204918 ],\n",
       "       [0.5862069 , 0.37704918],\n",
       "       [0.47126437, 0.31967213],\n",
       "       [0.66666667, 0.88934426],\n",
       "       [0.42528736, 0.74180328],\n",
       "       [0.7816092 , 0.57377049],\n",
       "       [0.36781609, 0.64754098],\n",
       "       [0.3908046 , 0.81557377],\n",
       "       [0.4091954 , 0.47540984],\n",
       "       [0.12643678, 0.18032787],\n",
       "       [0.65517241, 0.17377049],\n",
       "       [0.59770115, 0.63114754],\n",
       "       [0.44827586, 0.55737705],\n",
       "       [0.05747126, 0.44262295],\n",
       "       [0.01149425, 0.18852459],\n",
       "       [0.57471264, 0.62295082],\n",
       "       [0.50574713, 0.48852459],\n",
       "       [0.04597701, 0.44672131],\n",
       "       [0.64367816, 0.61065574],\n",
       "       [0.49425287, 0.68032787],\n",
       "       [0.70114943, 0.04508197],\n",
       "       [0.87356322, 0.27868852],\n",
       "       [0.13793103, 0.48360656],\n",
       "       [0.54022989, 0.81967213],\n",
       "       [0.77011494, 0.10655738],\n",
       "       [0.54022989, 0.37704918],\n",
       "       [0.2183908 , 0.19672131],\n",
       "       [0.79310345, 0.79918033],\n",
       "       [0.70114943, 0.53032787],\n",
       "       [0.26436782, 0.18852459],\n",
       "       [0.35632184, 0.07213115],\n",
       "       [0.02298851, 0.2704918 ],\n",
       "       [0.34482759, 0.33196721],\n",
       "       [0.        , 0.29508197],\n",
       "       [0.71264368, 0.81147541]])"
      ]
     },
     "execution_count": 39,
     "metadata": {},
     "output_type": "execute_result"
    }
   ],
   "source": [
    "x_set"
   ]
  },
  {
   "cell_type": "code",
   "execution_count": 23,
   "metadata": {},
   "outputs": [
    {
     "name": "stdout",
     "output_type": "stream",
     "text": [
      "0.8055555555555556\n"
     ]
    }
   ],
   "source": [
    "from sklearn.metrics import accuracy_score\n",
    "print(accuracy_score(ytest,ypred))"
   ]
  },
  {
   "cell_type": "code",
   "execution_count": 24,
   "metadata": {},
   "outputs": [
    {
     "name": "stdout",
     "output_type": "stream",
     "text": [
      "0 0\n",
      "[0.55172414 0.56321839 0.37931034 0.62068966 0.56321839 0.8045977\n",
      " 0.56321839 0.8045977  0.6091954  0.54022989 0.4137931  0.52873563\n",
      " 0.5862069  0.8045977  0.66666667 0.45977011 0.52873563 0.57471264\n",
      " 0.47126437 0.66666667 0.3908046  0.65517241 0.65517241 0.4137931\n",
      " 0.65517241 0.59770115 0.68965517 0.59770115 0.55172414 0.83908046\n",
      " 0.35632184 0.66666667 0.42528736 0.7816092  0.36781609 0.3908046\n",
      " 0.59770115 0.44827586 0.57471264 0.64367816 0.49425287 0.54022989\n",
      " 0.79310345 0.71264368]\n",
      "1 1\n",
      "[0.22988506 0.43678161 0.35632184 1.         0.8045977  0.5862069\n",
      " 0.7816092  0.43678161 0.73563218 0.16091954 0.87356322 0.17241379\n",
      " 0.28735632 0.47126437 0.45977011 0.44827586 0.3908046  0.22988506\n",
      " 0.48275862 0.83908046 0.7816092  0.82758621 0.73563218 0.47126437\n",
      " 0.59770115 0.73563218 0.89655172 0.45977011 0.7816092  0.51724138\n",
      " 0.65517241 0.56321839 0.20689655 0.49425287 0.27586207 0.63218391\n",
      " 0.51724138 0.28735632 0.68965517 0.49425287 0.56321839 0.37931034\n",
      " 0.7816092  0.57471264 0.6091954  0.42528736 0.35632184 0.5862069\n",
      " 0.4091954  0.65517241 0.50574713 0.70114943 0.87356322 0.77011494\n",
      " 0.54022989 0.70114943 0.35632184]\n",
      "2 2\n",
      "[0.03448276 0.06896552 0.26436782 0.20689655 0.08045977 0.17241379\n",
      " 0.04597701 0.17241379 0.02298851 0.14942529 0.3908046  0.2183908\n",
      " 0.12643678 0.11494253 0.22988506 0.13793103 0.17241379 0.24137931\n",
      " 0.1954023  0.10344828 0.36781609 0.05747126 0.01149425 0.29885057\n",
      " 0.3908046  0.02298851 0.02298851 0.05747126 0.02298851 0.31034483\n",
      " 0.47126437 0.12643678 0.05747126 0.01149425 0.04597701 0.13793103\n",
      " 0.2183908  0.26436782 0.02298851 0.34482759 0.        ]\n"
     ]
    },
    {
     "data": {
      "image/png": "[encoded data removed]",
      "text/plain": [
       "<matplotlib.figure.Figure at 0x211aed81a90>"
      ]
     },
     "metadata": {},
     "output_type": "display_data"
    }
   ],
   "source": [
    "for i,j in enumerate(np.unique(y_set)):\n",
    "    print(i,j)\n",
    "    print(x_set[y_set == j,0])\n",
    "    plt.scatter(x_set[y_set == j,0],x_set[y_set == j,1])"
   ]
  },
  {
   "cell_type": "code",
   "execution_count": 37,
   "metadata": {},
   "outputs": [
    {
     "data": {
      "text/plain": [
       "2"
      ]
     },
     "execution_count": 37,
     "metadata": {},
     "output_type": "execute_result"
    }
   ],
   "source": [
    "arr1=np.array([x1.ravel(),x2.ravel()])\n",
    "arr1.ndim"
   ]
  },
  {
   "cell_type": "code",
   "execution_count": 36,
   "metadata": {},
   "outputs": [
    {
     "data": {
      "text/plain": [
       "3"
      ]
     },
     "execution_count": 36,
     "metadata": {},
     "output_type": "execute_result"
    }
   ],
   "source": [
    "arr=np.array([x1,x2])\n",
    "arr.ndim"
   ]
  },
  {
   "cell_type": "code",
   "execution_count": 38,
   "metadata": {},
   "outputs": [
    {
     "data": {
      "text/plain": [
       "2"
      ]
     },
     "execution_count": 38,
     "metadata": {},
     "output_type": "execute_result"
    }
   ],
   "source": [
    "x1.ndim"
   ]
  },
  {
   "cell_type": "code",
   "execution_count": null,
   "metadata": {},
   "outputs": [],
   "source": []
  }
 ],
 "metadata": {
  "kernelspec": {
   "display_name": "Python 3",
   "language": "python",
   "name": "python3"
  },
  "language_info": {
   "codemirror_mode": {
    "name": "ipython",
    "version": 3
   },
   "file_extension": ".py",
   "mimetype": "text/x-python",
   "name": "python",
   "nbconvert_exporter": "python",
   "pygments_lexer": "ipython3",
   "version": "3.6.4"
  }
 },
 "nbformat": 4,
 "nbformat_minor": 2
}
