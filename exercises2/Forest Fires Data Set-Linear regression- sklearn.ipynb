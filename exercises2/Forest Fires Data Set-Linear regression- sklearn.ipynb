{
 "cells": [
  {
   "cell_type": "code",
   "execution_count": 47,
   "metadata": {},
   "outputs": [],
   "source": [
    "import numpy as np\n",
    "import pandas as pd\n",
    "import matplotlib.pyplot as plt\n",
    "from sklearn.model_selection import train_test_split\n",
    "\n",
    "from sklearn.preprocessing import MinMaxScaler\n",
    "from sklearn.linear_model import LinearRegression\n",
    "from sklearn.metrics import mean_squared_error, r2_score"
   ]
  },
  {
   "cell_type": "code",
   "execution_count": 31,
   "metadata": {},
   "outputs": [
    {
     "data": {
      "text/html": [
       "<div>\n",
       "<style scoped>\n",
       "    .dataframe tbody tr th:only-of-type {\n",
       "        vertical-align: middle;\n",
       "    }\n",
       "\n",
       "    .dataframe tbody tr th {\n",
       "        vertical-align: top;\n",
       "    }\n",
       "\n",
       "    .dataframe thead th {\n",
       "        text-align: right;\n",
       "    }\n",
       "</style>\n",
       "<table border=\"1\" class=\"dataframe\">\n",
       "  <thead>\n",
       "    <tr style=\"text-align: right;\">\n",
       "      <th></th>\n",
       "      <th>X</th>\n",
       "      <th>Y</th>\n",
       "      <th>month</th>\n",
       "      <th>day</th>\n",
       "      <th>FFMC</th>\n",
       "      <th>DMC</th>\n",
       "      <th>DC</th>\n",
       "      <th>ISI</th>\n",
       "      <th>temp</th>\n",
       "      <th>RH</th>\n",
       "      <th>wind</th>\n",
       "      <th>rain</th>\n",
       "      <th>area</th>\n",
       "    </tr>\n",
       "  </thead>\n",
       "  <tbody>\n",
       "    <tr>\n",
       "      <th>0</th>\n",
       "      <td>7</td>\n",
       "      <td>5</td>\n",
       "      <td>mar</td>\n",
       "      <td>fri</td>\n",
       "      <td>86.2</td>\n",
       "      <td>26.2</td>\n",
       "      <td>94.3</td>\n",
       "      <td>5.1</td>\n",
       "      <td>8.2</td>\n",
       "      <td>51</td>\n",
       "      <td>6.7</td>\n",
       "      <td>0.0</td>\n",
       "      <td>0.0</td>\n",
       "    </tr>\n",
       "    <tr>\n",
       "      <th>1</th>\n",
       "      <td>7</td>\n",
       "      <td>4</td>\n",
       "      <td>oct</td>\n",
       "      <td>tue</td>\n",
       "      <td>90.6</td>\n",
       "      <td>35.4</td>\n",
       "      <td>669.1</td>\n",
       "      <td>6.7</td>\n",
       "      <td>18.0</td>\n",
       "      <td>33</td>\n",
       "      <td>0.9</td>\n",
       "      <td>0.0</td>\n",
       "      <td>0.0</td>\n",
       "    </tr>\n",
       "    <tr>\n",
       "      <th>2</th>\n",
       "      <td>7</td>\n",
       "      <td>4</td>\n",
       "      <td>oct</td>\n",
       "      <td>sat</td>\n",
       "      <td>90.6</td>\n",
       "      <td>43.7</td>\n",
       "      <td>686.9</td>\n",
       "      <td>6.7</td>\n",
       "      <td>14.6</td>\n",
       "      <td>33</td>\n",
       "      <td>1.3</td>\n",
       "      <td>0.0</td>\n",
       "      <td>0.0</td>\n",
       "    </tr>\n",
       "    <tr>\n",
       "      <th>3</th>\n",
       "      <td>8</td>\n",
       "      <td>6</td>\n",
       "      <td>mar</td>\n",
       "      <td>fri</td>\n",
       "      <td>91.7</td>\n",
       "      <td>33.3</td>\n",
       "      <td>77.5</td>\n",
       "      <td>9.0</td>\n",
       "      <td>8.3</td>\n",
       "      <td>97</td>\n",
       "      <td>4.0</td>\n",
       "      <td>0.2</td>\n",
       "      <td>0.0</td>\n",
       "    </tr>\n",
       "    <tr>\n",
       "      <th>4</th>\n",
       "      <td>8</td>\n",
       "      <td>6</td>\n",
       "      <td>mar</td>\n",
       "      <td>sun</td>\n",
       "      <td>89.3</td>\n",
       "      <td>51.3</td>\n",
       "      <td>102.2</td>\n",
       "      <td>9.6</td>\n",
       "      <td>11.4</td>\n",
       "      <td>99</td>\n",
       "      <td>1.8</td>\n",
       "      <td>0.0</td>\n",
       "      <td>0.0</td>\n",
       "    </tr>\n",
       "  </tbody>\n",
       "</table>\n",
       "</div>"
      ],
      "text/plain": [
       "   X  Y month  day  FFMC   DMC     DC  ISI  temp  RH  wind  rain  area\n",
       "0  7  5   mar  fri  86.2  26.2   94.3  5.1   8.2  51   6.7   0.0   0.0\n",
       "1  7  4   oct  tue  90.6  35.4  669.1  6.7  18.0  33   0.9   0.0   0.0\n",
       "2  7  4   oct  sat  90.6  43.7  686.9  6.7  14.6  33   1.3   0.0   0.0\n",
       "3  8  6   mar  fri  91.7  33.3   77.5  9.0   8.3  97   4.0   0.2   0.0\n",
       "4  8  6   mar  sun  89.3  51.3  102.2  9.6  11.4  99   1.8   0.0   0.0"
      ]
     },
     "execution_count": 31,
     "metadata": {},
     "output_type": "execute_result"
    }
   ],
   "source": [
    "data = pd.read_csv(\"forestfires.csv\")\n",
    "data.head()"
   ]
  },
  {
   "cell_type": "code",
   "execution_count": 17,
   "metadata": {},
   "outputs": [],
   "source": [
    "correlation = data.corr('pearson')"
   ]
  },
  {
   "cell_type": "code",
   "execution_count": 18,
   "metadata": {},
   "outputs": [
    {
     "data": {
      "text/plain": [
       "RH     -0.075519\n",
       "rain   -0.007366\n",
       "ISI     0.008258\n",
       "wind    0.012317\n",
       "FFMC    0.040122\n",
       "Y       0.044873\n",
       "DC      0.049383\n",
       "X       0.063385\n",
       "DMC     0.072994\n",
       "temp    0.097844\n",
       "area    1.000000\n",
       "Name: area, dtype: float64"
      ]
     },
     "execution_count": 18,
     "metadata": {},
     "output_type": "execute_result"
    }
   ],
   "source": [
    "correlation['area'].sort_values()"
   ]
  },
  {
   "cell_type": "code",
   "execution_count": 27,
   "metadata": {},
   "outputs": [],
   "source": [
    "x = data['DMC']\n",
    "y = data['area']"
   ]
  },
  {
   "cell_type": "code",
   "execution_count": 28,
   "metadata": {},
   "outputs": [
    {
     "data": {
      "text/plain": [
       "[<matplotlib.lines.Line2D at 0x1db041fa160>]"
      ]
     },
     "execution_count": 28,
     "metadata": {},
     "output_type": "execute_result"
    },
    {
     "data": {
      "image/png": "[encoded data removed]",
      "text/plain": [
       "<matplotlib.figure.Figure at 0x1db0416e128>"
      ]
     },
     "metadata": {},
     "output_type": "display_data"
    }
   ],
   "source": [
    "plt.plot(x,y,'r.')"
   ]
  },
  {
   "cell_type": "code",
   "execution_count": 30,
   "metadata": {},
   "outputs": [],
   "source": [
    "x = np.array(x)\n",
    "y = np.array(y)"
   ]
  },
  {
   "cell_type": "code",
   "execution_count": 33,
   "metadata": {},
   "outputs": [],
   "source": [
    "scaler = MinMaxScaler()"
   ]
  },
  {
   "cell_type": "code",
   "execution_count": 34,
   "metadata": {},
   "outputs": [],
   "source": [
    "x = x.reshape(-1,1)\n",
    "y = y.reshape(-1,1)"
   ]
  },
  {
   "cell_type": "code",
   "execution_count": 35,
   "metadata": {},
   "outputs": [
    {
     "data": {
      "text/plain": [
       "(517, 1)"
      ]
     },
     "execution_count": 35,
     "metadata": {},
     "output_type": "execute_result"
    }
   ],
   "source": [
    "x.shape"
   ]
  },
  {
   "cell_type": "code",
   "execution_count": 36,
   "metadata": {},
   "outputs": [],
   "source": [
    "x = scaler.fit_transform(x)\n",
    "y = scaler.fit_transform(y)"
   ]
  },
  {
   "cell_type": "code",
   "execution_count": 37,
   "metadata": {},
   "outputs": [
    {
     "data": {
      "text/plain": [
       "[<matplotlib.lines.Line2D at 0x1db04262400>]"
      ]
     },
     "execution_count": 37,
     "metadata": {},
     "output_type": "execute_result"
    },
    {
     "data": {
      "image/png": "[encoded data removed]",
      "text/plain": [
       "<matplotlib.figure.Figure at 0x1db0421b7f0>"
      ]
     },
     "metadata": {},
     "output_type": "display_data"
    }
   ],
   "source": [
    "plt.plot(x,y,'r.')"
   ]
  },
  {
   "cell_type": "code",
   "execution_count": 40,
   "metadata": {},
   "outputs": [],
   "source": [
    "x_train,x_test,y_train,y_test = train_test_split(x,y,test_size=0.2)"
   ]
  },
  {
   "cell_type": "code",
   "execution_count": 42,
   "metadata": {},
   "outputs": [],
   "source": [
    "regressor = LinearRegression() "
   ]
  },
  {
   "cell_type": "code",
   "execution_count": 43,
   "metadata": {},
   "outputs": [
    {
     "data": {
      "text/plain": [
       "LinearRegression(copy_X=True, fit_intercept=True, n_jobs=1, normalize=False)"
      ]
     },
     "execution_count": 43,
     "metadata": {},
     "output_type": "execute_result"
    }
   ],
   "source": [
    "regressor.fit(x_train,y_train)"
   ]
  },
  {
   "cell_type": "code",
   "execution_count": 44,
   "metadata": {},
   "outputs": [],
   "source": [
    "y_pred = regressor.predict(x_test)"
   ]
  },
  {
   "cell_type": "code",
   "execution_count": 45,
   "metadata": {},
   "outputs": [
    {
     "data": {
      "text/plain": [
       "array([[0.01466545],\n",
       "       [0.01517611],\n",
       "       [0.01132399],\n",
       "       [0.00882676],\n",
       "       [0.01248701],\n",
       "       [0.00808585],\n",
       "       [0.00810946],\n",
       "       [0.01201472],\n",
       "       [0.00860242],\n",
       "       [0.01070411],\n",
       "       [0.01357328],\n",
       "       [0.00930495],\n",
       "       [0.01080152],\n",
       "       [0.00863194],\n",
       "       [0.00926953],\n",
       "       [0.01277038],\n",
       "       [0.01104357],\n",
       "       [0.01204719],\n",
       "       [0.01050044],\n",
       "       [0.00804452],\n",
       "       [0.01204719],\n",
       "       [0.01279105],\n",
       "       [0.01157785],\n",
       "       [0.00840169],\n",
       "       [0.01466545],\n",
       "       [0.01112622],\n",
       "       [0.01023182],\n",
       "       [0.01055357],\n",
       "       [0.01059785],\n",
       "       [0.01132399],\n",
       "       [0.00993369],\n",
       "       [0.01096682],\n",
       "       [0.01201177],\n",
       "       [0.01517611],\n",
       "       [0.01144502],\n",
       "       [0.01204719],\n",
       "       [0.01319544],\n",
       "       [0.01144502],\n",
       "       [0.01318954],\n",
       "       [0.01104062],\n",
       "       [0.0107661 ],\n",
       "       [0.01078381],\n",
       "       [0.01086056],\n",
       "       [0.01089008],\n",
       "       [0.01302424],\n",
       "       [0.00882676],\n",
       "       [0.01114098],\n",
       "       [0.0096326 ],\n",
       "       [0.01132399],\n",
       "       [0.01219183],\n",
       "       [0.01188779],\n",
       "       [0.01104062],\n",
       "       [0.01059785],\n",
       "       [0.00935808],\n",
       "       [0.01070411],\n",
       "       [0.00951748],\n",
       "       [0.01025839],\n",
       "       [0.01324858],\n",
       "       [0.0084194 ],\n",
       "       [0.00930495],\n",
       "       [0.01349358],\n",
       "       [0.01426991],\n",
       "       [0.00890055],\n",
       "       [0.00812422],\n",
       "       [0.00860242],\n",
       "       [0.01318954],\n",
       "       [0.01592588],\n",
       "       [0.01599967],\n",
       "       [0.00807995],\n",
       "       [0.01029086],\n",
       "       [0.00895368],\n",
       "       [0.01069821],\n",
       "       [0.0104414 ],\n",
       "       [0.01466545],\n",
       "       [0.01141845],\n",
       "       [0.01073363],\n",
       "       [0.01201177],\n",
       "       [0.00913374],\n",
       "       [0.01188779],\n",
       "       [0.00896254],\n",
       "       [0.01220659],\n",
       "       [0.01213574],\n",
       "       [0.01248701],\n",
       "       [0.0103558 ],\n",
       "       [0.01001043],\n",
       "       [0.0094732 ],\n",
       "       [0.01301243],\n",
       "       [0.01122068],\n",
       "       [0.01062736],\n",
       "       [0.00867031],\n",
       "       [0.00795302],\n",
       "       [0.0103558 ],\n",
       "       [0.01440864],\n",
       "       [0.01034694],\n",
       "       [0.01150701],\n",
       "       [0.01069821],\n",
       "       [0.01157785],\n",
       "       [0.01132399],\n",
       "       [0.00859356],\n",
       "       [0.01001043],\n",
       "       [0.01234827],\n",
       "       [0.01213574],\n",
       "       [0.00835446],\n",
       "       [0.00838103]])"
      ]
     },
     "execution_count": 45,
     "metadata": {},
     "output_type": "execute_result"
    }
   ],
   "source": [
    "y_pred"
   ]
  },
  {
   "cell_type": "code",
   "execution_count": 46,
   "metadata": {},
   "outputs": [
    {
     "name": "stdout",
     "output_type": "stream",
     "text": [
      "(array([0.01466545]), array([0.]))\n",
      "(array([0.01517611]), array([0.]))\n",
      "(array([0.01132399]), array([0.00154926]))\n",
      "(array([0.00882676]), array([0.]))\n",
      "(array([0.01248701]), array([0.]))\n",
      "(array([0.00808585]), array([0.]))\n",
      "(array([0.00810946]), array([0.04746801]))\n",
      "(array([0.01201472]), array([0.]))\n",
      "(array([0.00860242]), array([0.]))\n",
      "(array([0.01070411]), array([0.]))\n",
      "(array([0.01357328]), array([0.01497011]))\n",
      "(array([0.00930495]), array([0.00748047]))\n",
      "(array([0.01080152]), array([0.00242015]))\n",
      "(array([0.00863194]), array([0.00849804]))\n",
      "(array([0.00926953]), array([0.00761798]))\n",
      "(array([0.01277038]), array([0.]))\n",
      "(array([0.01104357]), array([0.]))\n",
      "(array([0.01204719]), array([0.]))\n",
      "(array([0.01050044]), array([0.00184262]))\n",
      "(array([0.00804452]), array([0.]))\n",
      "(array([0.01204719]), array([0.18011807]))\n",
      "(array([0.01279105]), array([0.00599538]))\n",
      "(array([0.01157785]), array([0.00043086]))\n",
      "(array([0.00840169]), array([0.]))\n",
      "(array([0.01466545]), array([0.]))\n",
      "(array([0.01112622]), array([0.00150343]))\n",
      "(array([0.01023182]), array([0.02146053]))\n",
      "(array([0.01055357]), array([0.]))\n",
      "(array([0.01059785]), array([0.00322687]))\n",
      "(array([0.01132399]), array([0.]))\n",
      "(array([0.00993369]), array([0.01037732]))\n",
      "(array([0.01096682]), array([0.]))\n",
      "(array([0.01201177]), array([0.]))\n",
      "(array([0.01517611]), array([0.]))\n",
      "(array([0.01144502]), array([0.0074438]))\n",
      "(array([0.01204719]), array([0.]))\n",
      "(array([0.01319544]), array([0.0146676]))\n",
      "(array([0.01144502]), array([0.]))\n",
      "(array([0.01318954]), array([0.03716402]))\n",
      "(array([0.01104062]), array([0.00798467]))\n",
      "(array([0.0107661]), array([0.]))\n",
      "(array([0.01078381]), array([0.]))\n",
      "(array([0.01086056]), array([0.00072421]))\n",
      "(array([0.01089008]), array([0.]))\n",
      "(array([0.01302424]), array([0.00253933]))\n",
      "(array([0.00882676]), array([0.]))\n",
      "(array([0.01114098]), array([0.]))\n",
      "(array([0.0096326]), array([0.]))\n",
      "(array([0.01132399]), array([0.01762862]))\n",
      "(array([0.01219183]), array([0.00479447]))\n",
      "(array([0.01188779]), array([0.]))\n",
      "(array([0.01104062]), array([0.00917641]))\n",
      "(array([0.01059785]), array([0.]))\n",
      "(array([0.00935808]), array([0.00065087]))\n",
      "(array([0.01070411]), array([0.]))\n",
      "(array([0.00951748]), array([0.]))\n",
      "(array([0.01025839]), array([0.06536247]))\n",
      "(array([0.01324858]), array([0.]))\n",
      "(array([0.0084194]), array([0.]))\n",
      "(array([0.00930495]), array([0.]))\n",
      "(array([0.01349358]), array([0.17029079]))\n",
      "(array([0.01426991]), array([0.]))\n",
      "(array([0.00890055]), array([0.]))\n",
      "(array([0.00812422]), array([0.00913058]))\n",
      "(array([0.00860242]), array([0.]))\n",
      "(array([0.01318954]), array([0.01345752]))\n",
      "(array([0.01592588]), array([0.00177845]))\n",
      "(array([0.01599967]), array([0.00340105]))\n",
      "(array([0.00807995]), array([0.]))\n",
      "(array([0.01029086]), array([0.]))\n",
      "(array([0.00895368]), array([0.01109237]))\n",
      "(array([0.01069821]), array([0.02254226]))\n",
      "(array([0.0104414]), array([0.]))\n",
      "(array([0.01466545]), array([0.]))\n",
      "(array([0.01141845]), array([0.]))\n",
      "(array([0.01073363]), array([0.00811301]))\n",
      "(array([0.01201177]), array([0.]))\n",
      "(array([0.00913374]), array([0.]))\n",
      "(array([0.01188779]), array([0.01013898]))\n",
      "(array([0.00896254]), array([0.01255913]))\n",
      "(array([0.01220659]), array([0.]))\n",
      "(array([0.01213574]), array([0.]))\n",
      "(array([0.01248701]), array([0.00022001]))\n",
      "(array([0.0103558]), array([0.]))\n",
      "(array([0.01001043]), array([0.]))\n",
      "(array([0.0094732]), array([0.0004767]))\n",
      "(array([0.01301243]), array([8.25052253e-05]))\n",
      "(array([0.01122068]), array([0.00252099]))\n",
      "(array([0.01062736]), array([0.00066004]))\n",
      "(array([0.00867031]), array([0.]))\n",
      "(array([0.00795302]), array([0.]))\n",
      "(array([0.0103558]), array([0.]))\n",
      "(array([0.01440864]), array([0.68413333]))\n",
      "(array([0.01034694]), array([0.00553702]))\n",
      "(array([0.01150701]), array([0.]))\n",
      "(array([0.01069821]), array([0.00333688]))\n",
      "(array([0.01157785]), array([0.]))\n",
      "(array([0.01132399]), array([0.]))\n",
      "(array([0.00859356]), array([0.03527557]))\n",
      "(array([0.01001043]), array([0.00088006]))\n",
      "(array([0.01234827]), array([0.00849804]))\n",
      "(array([0.01213574]), array([0.]))\n",
      "(array([0.00835446]), array([0.]))\n",
      "(array([0.00838103]), array([0.00196179]))\n"
     ]
    }
   ],
   "source": [
    "for i in zip(y_pred,y_test):\n",
    "    print(i)"
   ]
  },
  {
   "cell_type": "code",
   "execution_count": 56,
   "metadata": {},
   "outputs": [
    {
     "data": {
      "text/plain": [
       "0.004966716276553581"
      ]
     },
     "execution_count": 56,
     "metadata": {},
     "output_type": "execute_result"
    }
   ],
   "source": [
    "mean_squared_error(y_test,y_pred)"
   ]
  },
  {
   "cell_type": "code",
   "execution_count": 49,
   "metadata": {},
   "outputs": [
    {
     "data": {
      "text/plain": [
       "Text(0.5,1,'Linear Regression(train)')"
      ]
     },
     "execution_count": 49,
     "metadata": {},
     "output_type": "execute_result"
    },
    {
     "data": {
      "image/png": "[encoded data removed]",
      "text/plain": [
       "<matplotlib.figure.Figure at 0x1db0446c470>"
      ]
     },
     "metadata": {},
     "output_type": "display_data"
    }
   ],
   "source": [
    "plt.scatter(x_train,y_train,color='red')\n",
    "plt.plot(x_train,regressor.predict(x_train),'b')\n",
    "\n",
    "plt.xlabel(\"DMC\")\n",
    "plt.ylabel(\"area\")\n",
    "plt.title(\"Linear Regression(train)\")"
   ]
  },
  {
   "cell_type": "code",
   "execution_count": 50,
   "metadata": {},
   "outputs": [
    {
     "data": {
      "text/plain": [
       "0.007550528152944214"
      ]
     },
     "execution_count": 50,
     "metadata": {},
     "output_type": "execute_result"
    }
   ],
   "source": [
    "r2_score(y_test,y_pred) "
   ]
  },
  {
   "cell_type": "code",
   "execution_count": 57,
   "metadata": {},
   "outputs": [
    {
     "data": {
      "text/plain": [
       "0.9950332837234465"
      ]
     },
     "execution_count": 57,
     "metadata": {},
     "output_type": "execute_result"
    }
   ],
   "source": [
    "accuracy = 1- mean_squared_error(y_test,y_pred)\n",
    "accuracy"
   ]
  },
  {
   "cell_type": "code",
   "execution_count": null,
   "metadata": {},
   "outputs": [],
   "source": []
  }
 ],
 "metadata": {
  "kernelspec": {
   "display_name": "Python 3",
   "language": "python",
   "name": "python3"
  },
  "language_info": {
   "codemirror_mode": {
    "name": "ipython",
    "version": 3
   },
   "file_extension": ".py",
   "mimetype": "text/x-python",
   "name": "python",
   "nbconvert_exporter": "python",
   "pygments_lexer": "ipython3",
   "version": "3.6.4"
  }
 },
 "nbformat": 4,
 "nbformat_minor": 2
}
