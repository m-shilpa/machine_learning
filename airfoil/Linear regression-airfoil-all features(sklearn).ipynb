{
 "cells": [
  {
   "cell_type": "code",
   "execution_count": 1,
   "metadata": {},
   "outputs": [],
   "source": [
    "import numpy as np\n",
    "import pandas as pd\n",
    "import matplotlib.pyplot as plt\n",
    "\n",
    "from sklearn.datasets import load_boston"
   ]
  },
  {
   "cell_type": "code",
   "execution_count": 2,
   "metadata": {},
   "outputs": [],
   "source": [
    "# This problem has the following features: \n",
    "# 1. Frequency, in Hertzs. \n",
    "# 2. Angle of attack, in degrees. \n",
    "# 3. Chord length, in meters. \n",
    "# 4. Free-stream velocity, in meters per second. \n",
    "# 5. Suction side displacement thickness, in meters. \n",
    "\n",
    "# The only output is: \n",
    "# 6. Scaled sound pressure level, in decibels. "
   ]
  },
  {
   "cell_type": "code",
   "execution_count": 3,
   "metadata": {},
   "outputs": [],
   "source": [
    "feature_names = ['Frequency','Angle','Chord Length','velocity','displacement thickness','sound pressure']\n",
    "airfoil = pd.read_csv(\"./airfoil_self_noise.csv\",header=None,sep='\\t',names=feature_names)"
   ]
  },
  {
   "cell_type": "code",
   "execution_count": 4,
   "metadata": {},
   "outputs": [
    {
     "data": {
      "text/html": [
       "<div>\n",
       "<style scoped>\n",
       "    .dataframe tbody tr th:only-of-type {\n",
       "        vertical-align: middle;\n",
       "    }\n",
       "\n",
       "    .dataframe tbody tr th {\n",
       "        vertical-align: top;\n",
       "    }\n",
       "\n",
       "    .dataframe thead th {\n",
       "        text-align: right;\n",
       "    }\n",
       "</style>\n",
       "<table border=\"1\" class=\"dataframe\">\n",
       "  <thead>\n",
       "    <tr style=\"text-align: right;\">\n",
       "      <th></th>\n",
       "      <th>Frequency</th>\n",
       "      <th>Angle</th>\n",
       "      <th>Chord Length</th>\n",
       "      <th>velocity</th>\n",
       "      <th>displacement thickness</th>\n",
       "      <th>sound pressure</th>\n",
       "    </tr>\n",
       "  </thead>\n",
       "  <tbody>\n",
       "    <tr>\n",
       "      <th>0</th>\n",
       "      <td>800</td>\n",
       "      <td>0.0</td>\n",
       "      <td>0.3048</td>\n",
       "      <td>71.3</td>\n",
       "      <td>0.002663</td>\n",
       "      <td>126.201</td>\n",
       "    </tr>\n",
       "    <tr>\n",
       "      <th>1</th>\n",
       "      <td>1000</td>\n",
       "      <td>0.0</td>\n",
       "      <td>0.3048</td>\n",
       "      <td>71.3</td>\n",
       "      <td>0.002663</td>\n",
       "      <td>125.201</td>\n",
       "    </tr>\n",
       "    <tr>\n",
       "      <th>2</th>\n",
       "      <td>1250</td>\n",
       "      <td>0.0</td>\n",
       "      <td>0.3048</td>\n",
       "      <td>71.3</td>\n",
       "      <td>0.002663</td>\n",
       "      <td>125.951</td>\n",
       "    </tr>\n",
       "    <tr>\n",
       "      <th>3</th>\n",
       "      <td>1600</td>\n",
       "      <td>0.0</td>\n",
       "      <td>0.3048</td>\n",
       "      <td>71.3</td>\n",
       "      <td>0.002663</td>\n",
       "      <td>127.591</td>\n",
       "    </tr>\n",
       "    <tr>\n",
       "      <th>4</th>\n",
       "      <td>2000</td>\n",
       "      <td>0.0</td>\n",
       "      <td>0.3048</td>\n",
       "      <td>71.3</td>\n",
       "      <td>0.002663</td>\n",
       "      <td>127.461</td>\n",
       "    </tr>\n",
       "  </tbody>\n",
       "</table>\n",
       "</div>"
      ],
      "text/plain": [
       "   Frequency  Angle  Chord Length  velocity  displacement thickness  \\\n",
       "0        800    0.0        0.3048      71.3                0.002663   \n",
       "1       1000    0.0        0.3048      71.3                0.002663   \n",
       "2       1250    0.0        0.3048      71.3                0.002663   \n",
       "3       1600    0.0        0.3048      71.3                0.002663   \n",
       "4       2000    0.0        0.3048      71.3                0.002663   \n",
       "\n",
       "   sound pressure  \n",
       "0         126.201  \n",
       "1         125.201  \n",
       "2         125.951  \n",
       "3         127.591  \n",
       "4         127.461  "
      ]
     },
     "execution_count": 4,
     "metadata": {},
     "output_type": "execute_result"
    }
   ],
   "source": [
    "airfoil.head()"
   ]
  },
  {
   "cell_type": "code",
   "execution_count": 5,
   "metadata": {},
   "outputs": [
    {
     "data": {
      "text/html": [
       "<div>\n",
       "<style scoped>\n",
       "    .dataframe tbody tr th:only-of-type {\n",
       "        vertical-align: middle;\n",
       "    }\n",
       "\n",
       "    .dataframe tbody tr th {\n",
       "        vertical-align: top;\n",
       "    }\n",
       "\n",
       "    .dataframe thead th {\n",
       "        text-align: right;\n",
       "    }\n",
       "</style>\n",
       "<table border=\"1\" class=\"dataframe\">\n",
       "  <thead>\n",
       "    <tr style=\"text-align: right;\">\n",
       "      <th></th>\n",
       "      <th>Frequency</th>\n",
       "      <th>Angle</th>\n",
       "      <th>Chord Length</th>\n",
       "      <th>velocity</th>\n",
       "      <th>displacement thickness</th>\n",
       "      <th>sound pressure</th>\n",
       "    </tr>\n",
       "  </thead>\n",
       "  <tbody>\n",
       "    <tr>\n",
       "      <th>0</th>\n",
       "      <td>800</td>\n",
       "      <td>0.0</td>\n",
       "      <td>0.3048</td>\n",
       "      <td>71.3</td>\n",
       "      <td>0.002663</td>\n",
       "      <td>126.201</td>\n",
       "    </tr>\n",
       "    <tr>\n",
       "      <th>1</th>\n",
       "      <td>1000</td>\n",
       "      <td>0.0</td>\n",
       "      <td>0.3048</td>\n",
       "      <td>71.3</td>\n",
       "      <td>0.002663</td>\n",
       "      <td>125.201</td>\n",
       "    </tr>\n",
       "    <tr>\n",
       "      <th>2</th>\n",
       "      <td>1250</td>\n",
       "      <td>0.0</td>\n",
       "      <td>0.3048</td>\n",
       "      <td>71.3</td>\n",
       "      <td>0.002663</td>\n",
       "      <td>125.951</td>\n",
       "    </tr>\n",
       "    <tr>\n",
       "      <th>3</th>\n",
       "      <td>1600</td>\n",
       "      <td>0.0</td>\n",
       "      <td>0.3048</td>\n",
       "      <td>71.3</td>\n",
       "      <td>0.002663</td>\n",
       "      <td>127.591</td>\n",
       "    </tr>\n",
       "    <tr>\n",
       "      <th>4</th>\n",
       "      <td>2000</td>\n",
       "      <td>0.0</td>\n",
       "      <td>0.3048</td>\n",
       "      <td>71.3</td>\n",
       "      <td>0.002663</td>\n",
       "      <td>127.461</td>\n",
       "    </tr>\n",
       "  </tbody>\n",
       "</table>\n",
       "</div>"
      ],
      "text/plain": [
       "   Frequency  Angle  Chord Length  velocity  displacement thickness  \\\n",
       "0        800    0.0        0.3048      71.3                0.002663   \n",
       "1       1000    0.0        0.3048      71.3                0.002663   \n",
       "2       1250    0.0        0.3048      71.3                0.002663   \n",
       "3       1600    0.0        0.3048      71.3                0.002663   \n",
       "4       2000    0.0        0.3048      71.3                0.002663   \n",
       "\n",
       "   sound pressure  \n",
       "0         126.201  \n",
       "1         125.201  \n",
       "2         125.951  \n",
       "3         127.591  \n",
       "4         127.461  "
      ]
     },
     "execution_count": 5,
     "metadata": {},
     "output_type": "execute_result"
    }
   ],
   "source": [
    "airfoil = pd.DataFrame(airfoil)\n",
    "airfoil.head()"
   ]
  },
  {
   "cell_type": "code",
   "execution_count": 6,
   "metadata": {},
   "outputs": [
    {
     "data": {
      "text/html": [
       "<div>\n",
       "<style scoped>\n",
       "    .dataframe tbody tr th:only-of-type {\n",
       "        vertical-align: middle;\n",
       "    }\n",
       "\n",
       "    .dataframe tbody tr th {\n",
       "        vertical-align: top;\n",
       "    }\n",
       "\n",
       "    .dataframe thead th {\n",
       "        text-align: right;\n",
       "    }\n",
       "</style>\n",
       "<table border=\"1\" class=\"dataframe\">\n",
       "  <thead>\n",
       "    <tr style=\"text-align: right;\">\n",
       "      <th></th>\n",
       "      <th>Frequency</th>\n",
       "      <th>Angle</th>\n",
       "      <th>Chord Length</th>\n",
       "      <th>velocity</th>\n",
       "      <th>displacement thickness</th>\n",
       "    </tr>\n",
       "  </thead>\n",
       "  <tbody>\n",
       "    <tr>\n",
       "      <th>0</th>\n",
       "      <td>800</td>\n",
       "      <td>0.0</td>\n",
       "      <td>0.3048</td>\n",
       "      <td>71.3</td>\n",
       "      <td>0.002663</td>\n",
       "    </tr>\n",
       "    <tr>\n",
       "      <th>1</th>\n",
       "      <td>1000</td>\n",
       "      <td>0.0</td>\n",
       "      <td>0.3048</td>\n",
       "      <td>71.3</td>\n",
       "      <td>0.002663</td>\n",
       "    </tr>\n",
       "    <tr>\n",
       "      <th>2</th>\n",
       "      <td>1250</td>\n",
       "      <td>0.0</td>\n",
       "      <td>0.3048</td>\n",
       "      <td>71.3</td>\n",
       "      <td>0.002663</td>\n",
       "    </tr>\n",
       "    <tr>\n",
       "      <th>3</th>\n",
       "      <td>1600</td>\n",
       "      <td>0.0</td>\n",
       "      <td>0.3048</td>\n",
       "      <td>71.3</td>\n",
       "      <td>0.002663</td>\n",
       "    </tr>\n",
       "    <tr>\n",
       "      <th>4</th>\n",
       "      <td>2000</td>\n",
       "      <td>0.0</td>\n",
       "      <td>0.3048</td>\n",
       "      <td>71.3</td>\n",
       "      <td>0.002663</td>\n",
       "    </tr>\n",
       "  </tbody>\n",
       "</table>\n",
       "</div>"
      ],
      "text/plain": [
       "   Frequency  Angle  Chord Length  velocity  displacement thickness\n",
       "0        800    0.0        0.3048      71.3                0.002663\n",
       "1       1000    0.0        0.3048      71.3                0.002663\n",
       "2       1250    0.0        0.3048      71.3                0.002663\n",
       "3       1600    0.0        0.3048      71.3                0.002663\n",
       "4       2000    0.0        0.3048      71.3                0.002663"
      ]
     },
     "execution_count": 6,
     "metadata": {},
     "output_type": "execute_result"
    }
   ],
   "source": [
    "features = airfoil.loc[:,:'displacement thickness']\n",
    "features.head()"
   ]
  },
  {
   "cell_type": "code",
   "execution_count": 7,
   "metadata": {},
   "outputs": [
    {
     "data": {
      "text/plain": [
       "20000      6\n",
       "16000     13\n",
       "12500     25\n",
       "200       35\n",
       "250       42\n",
       "10000     42\n",
       "8000      52\n",
       "315       56\n",
       "400       69\n",
       "500       78\n",
       "630       88\n",
       "6300      89\n",
       "5000      95\n",
       "800       97\n",
       "1000      99\n",
       "1250     100\n",
       "4000     102\n",
       "1600     103\n",
       "3150     103\n",
       "2500     104\n",
       "2000     105\n",
       "Name: Frequency, dtype: int64"
      ]
     },
     "execution_count": 7,
     "metadata": {},
     "output_type": "execute_result"
    }
   ],
   "source": [
    "frequency = pd.Series(airfoil['Frequency'])\n",
    "frequency.value_counts().sort_values()"
   ]
  },
  {
   "cell_type": "code",
   "execution_count": 8,
   "metadata": {},
   "outputs": [
    {
     "data": {
      "text/plain": [
       "Frequency                   21\n",
       "Angle                       27\n",
       "Chord Length                 6\n",
       "velocity                     4\n",
       "displacement thickness     105\n",
       "sound pressure            1456\n",
       "dtype: int64"
      ]
     },
     "execution_count": 8,
     "metadata": {},
     "output_type": "execute_result"
    }
   ],
   "source": [
    "data = pd.DataFrame(airfoil)\n",
    "data.nunique()  # no. of unique values of each feature"
   ]
  },
  {
   "cell_type": "code",
   "execution_count": 9,
   "metadata": {},
   "outputs": [],
   "source": [
    "corelation = airfoil.corr('pearson') "
   ]
  },
  {
   "cell_type": "code",
   "execution_count": 10,
   "metadata": {},
   "outputs": [
    {
     "data": {
      "text/plain": [
       "Frequency                -0.390711\n",
       "displacement thickness   -0.312670\n",
       "Chord Length             -0.236162\n",
       "Angle                    -0.156108\n",
       "velocity                  0.125103\n",
       "sound pressure            1.000000\n",
       "Name: sound pressure, dtype: float64"
      ]
     },
     "execution_count": 10,
     "metadata": {},
     "output_type": "execute_result"
    }
   ],
   "source": [
    "corelation['sound pressure'].sort_values()"
   ]
  },
  {
   "cell_type": "code",
   "execution_count": 11,
   "metadata": {},
   "outputs": [],
   "source": [
    "from sklearn.preprocessing import MinMaxScaler"
   ]
  },
  {
   "cell_type": "code",
   "execution_count": 12,
   "metadata": {},
   "outputs": [],
   "source": [
    "scaler = MinMaxScaler()"
   ]
  },
  {
   "cell_type": "code",
   "execution_count": 13,
   "metadata": {},
   "outputs": [
    {
     "name": "stderr",
     "output_type": "stream",
     "text": [
      "C:\\Users\\Shilpa\\AppData\\Local\\Continuum\\anaconda3\\lib\\site-packages\\ipykernel_launcher.py:2: FutureWarning: reshape is deprecated and will raise in a subsequent release. Please use .values.reshape(...) instead\n",
      "  \n"
     ]
    }
   ],
   "source": [
    "y = airfoil['sound pressure']\n",
    "y = y.reshape(-1,1)"
   ]
  },
  {
   "cell_type": "code",
   "execution_count": 14,
   "metadata": {},
   "outputs": [],
   "source": [
    "y = scaler.fit_transform(y)"
   ]
  },
  {
   "cell_type": "code",
   "execution_count": 15,
   "metadata": {},
   "outputs": [],
   "source": [
    "from sklearn.model_selection import train_test_split "
   ]
  },
  {
   "cell_type": "code",
   "execution_count": 16,
   "metadata": {},
   "outputs": [],
   "source": [
    "x_train,x_test,y_train,y_test = train_test_split(features,y,test_size=0.2)"
   ]
  },
  {
   "cell_type": "code",
   "execution_count": 17,
   "metadata": {},
   "outputs": [],
   "source": [
    "from sklearn.linear_model import LinearRegression"
   ]
  },
  {
   "cell_type": "code",
   "execution_count": 18,
   "metadata": {},
   "outputs": [],
   "source": [
    "regressor = LinearRegression() "
   ]
  },
  {
   "cell_type": "code",
   "execution_count": 19,
   "metadata": {},
   "outputs": [
    {
     "data": {
      "text/plain": [
       "LinearRegression(copy_X=True, fit_intercept=True, n_jobs=1, normalize=False)"
      ]
     },
     "execution_count": 19,
     "metadata": {},
     "output_type": "execute_result"
    }
   ],
   "source": [
    "regressor.fit(x_train,y_train)"
   ]
  },
  {
   "cell_type": "code",
   "execution_count": 20,
   "metadata": {},
   "outputs": [],
   "source": [
    "y_pred = regressor.predict(x_test)"
   ]
  },
  {
   "cell_type": "code",
   "execution_count": 21,
   "metadata": {},
   "outputs": [
    {
     "name": "stdout",
     "output_type": "stream",
     "text": [
      "(array([0.58482202]), array([0.85058633]))\n",
      "(array([0.65195784]), array([0.75589651]))\n",
      "(array([0.46604746]), array([0.410748]))\n",
      "(array([0.47736286]), array([0.54609514]))\n",
      "(array([0.78540538]), array([0.73199138]))\n",
      "(array([0.78956688]), array([0.77685005]))\n",
      "(array([0.65569139]), array([0.58411998]))\n",
      "(array([0.70968333]), array([0.67362459]))\n",
      "(array([0.42758262]), array([0.25872843]))\n",
      "(array([0.44414157]), array([0.35841732]))\n",
      "(array([0.56846611]), array([0.73268275]))\n",
      "(array([0.35192827]), array([0.4104555]))\n",
      "(array([0.44485719]), array([0.42531975]))\n",
      "(array([0.61239076]), array([0.55728987]))\n",
      "(array([0.6398071]), array([0.47241205]))\n",
      "(array([0.76347208]), array([0.58691201]))\n",
      "(array([0.61418137]), array([0.75743877]))\n",
      "(array([0.57464906]), array([0.54402106]))\n",
      "(array([0.80026347]), array([0.72122211]))\n",
      "(array([0.64261226]), array([0.58023772]))\n",
      "(array([0.70737401]), array([0.7177919]))\n",
      "(array([0.77993535]), array([0.75666764]))\n",
      "(array([0.72375528]), array([0.8038663]))\n",
      "(array([0.65780516]), array([0.58890632]))\n",
      "(array([0.5665397]), array([0.51394687]))\n",
      "(array([0.46784526]), array([0.60079241]))\n",
      "(array([0.46588193]), array([0.36360252]))\n",
      "(array([0.71329144]), array([0.41923046]))\n",
      "(array([0.51442728]), array([0.61065759]))\n",
      "(array([0.79234732]), array([0.34530805]))\n",
      "(array([0.69016582]), array([0.68436727]))\n",
      "(array([0.71077818]), array([0.91560082]))\n",
      "(array([0.56874209]), array([0.71848326]))\n",
      "(array([0.58758672]), array([0.55947031]))\n",
      "(array([0.65006667]), array([0.73151275]))\n",
      "(array([0.57776413]), array([0.58183317]))\n",
      "(array([0.62858745]), array([0.94072912]))\n",
      "(array([0.59631887]), array([0.52011594]))\n",
      "(array([0.43550492]), array([0.3070439]))\n",
      "(array([0.49135155]), array([0.28925466]))\n",
      "(array([0.60644041]), array([0.65695216]))\n",
      "(array([0.30082638]), array([0.19435212]))\n",
      "(array([0.65813923]), array([0.68944611]))\n",
      "(array([0.82059076]), array([0.75371606]))\n",
      "(array([0.52334702]), array([0.62397958]))\n",
      "(array([0.45442644]), array([0.52641795]))\n",
      "(array([0.74546372]), array([0.83936501]))\n",
      "(array([0.52533488]), array([0.44127423]))\n",
      "(array([0.47055257]), array([0.45536735]))\n",
      "(array([0.69901137]), array([0.81825192]))\n",
      "(array([0.75191613]), array([0.54144175]))\n",
      "(array([0.52137072]), array([0.51758981]))\n",
      "(array([0.2959164]), array([0.14117053]))\n",
      "(array([0.52689809]), array([0.45411758]))\n",
      "(array([0.61748687]), array([0.7019172]))\n",
      "(array([0.63929491]), array([0.67492754]))\n",
      "(array([0.59446123]), array([0.68277182]))\n",
      "(array([0.66201494]), array([0.72888026]))\n",
      "(array([0.58614672]), array([0.50650145]))\n",
      "(array([0.66055485]), array([0.66423804]))\n",
      "(array([0.53512005]), array([0.54960513]))\n",
      "(array([0.72823651]), array([0.71611668]))\n",
      "(array([0.37641142]), array([0.33004494]))\n",
      "(array([0.74660357]), array([0.61246576]))\n",
      "(array([0.6358055]), array([0.61227963]))\n",
      "(array([0.5797104]), array([0.68883453]))\n",
      "(array([0.47013296]), array([0.50610259]))\n",
      "(array([0.63981188]), array([0.17472811]))\n",
      "(array([0.5509238]), array([0.95317361]))\n",
      "(array([0.58328862]), array([0.84702316]))\n",
      "(array([0.56471219]), array([0.46230755]))\n",
      "(array([0.62461392]), array([0.49902944]))\n",
      "(array([0.53790792]), array([0.53000771]))\n",
      "(array([0.52514577]), array([0.55774191]))\n",
      "(array([0.70511197]), array([0.70872444]))\n",
      "(array([0.56507525]), array([0.6178637]))\n",
      "(array([0.75442925]), array([0.60057968]))\n",
      "(array([0.59034502]), array([0.86382854]))\n",
      "(array([0.76412381]), array([0.73470365]))\n",
      "(array([0.64880066]), array([0.67878321]))\n",
      "(array([0.60165865]), array([0.77054804]))\n",
      "(array([0.56767397]), array([0.58882655]))\n",
      "(array([0.45666552]), array([0.25434095]))\n",
      "(array([0.79360302]), array([0.69604063]))\n",
      "(array([0.76649409]), array([0.57558433]))\n",
      "(array([0.64314021]), array([0.67341186]))\n",
      "(array([0.58792229]), array([0.48950993]))\n",
      "(array([0.29966614]), array([0.15619433]))\n",
      "(array([0.52028734]), array([0.61384849]))\n",
      "(array([0.61704992]), array([0.5473715]))\n",
      "(array([0.76795331]), array([0.52389183]))\n",
      "(array([0.55146069]), array([0.48541495]))\n",
      "(array([0.63897297]), array([0.78115776]))\n",
      "(array([0.71362932]), array([0.86614194]))\n",
      "(array([0.74622756]), array([0.57616933]))\n",
      "(array([0.52241584]), array([0.47685271]))\n",
      "(array([0.5311457]), array([0.67048688]))\n",
      "(array([0.58775387]), array([0.59151222]))\n",
      "(array([0.7759263]), array([0.72638073]))\n",
      "(array([0.46532918]), array([0.46640253]))\n",
      "(array([0.51682106]), array([0.71244715]))\n",
      "(array([0.47389899]), array([0.38367857]))\n",
      "(array([0.47178842]), array([0.4769059]))\n",
      "(array([0.64056425]), array([0.71827053]))\n",
      "(array([0.30905834]), array([0.16853245]))\n",
      "(array([0.56910049]), array([0.8994868]))\n",
      "(array([0.54350961]), array([0.61717233]))\n",
      "(array([0.58165586]), array([0.42383067]))\n",
      "(array([0.80635728]), array([0.59419789]))\n",
      "(array([0.5741339]), array([0.46265323]))\n",
      "(array([0.4194488]), array([0.33913899]))\n",
      "(array([0.82819405]), array([0.66998165]))\n",
      "(array([0.73168361]), array([0.68872816]))\n",
      "(array([0.63207878]), array([0.72132848]))\n",
      "(array([0.38856203]), array([0.34046853]))\n",
      "(array([0.51615174]), array([0.45613848]))\n",
      "(array([0.2776666]), array([0.20009573]))\n",
      "(array([0.73323083]), array([0.68048502]))\n",
      "(array([0.71934751]), array([0.71178238]))\n",
      "(array([0.69914048]), array([0.74661632]))\n",
      "(array([0.61717295]), array([0.73284229]))\n",
      "(array([0.66539744]), array([0.65227218]))\n",
      "(array([0.39487325]), array([0.31996703]))\n",
      "(array([0.51864478]), array([0.32281224]))\n",
      "(array([0.66258822]), array([0.62951046]))\n",
      "(array([0.44938264]), array([0.35357779]))\n",
      "(array([0.57075664]), array([0.67963411]))\n",
      "(array([0.50666318]), array([0.55167921]))\n",
      "(array([0.71412915]), array([0.69915175]))\n",
      "(array([0.40520919]), array([0.3399633]))\n",
      "(array([0.44605165]), array([0.44047651]))\n",
      "(array([0.61938043]), array([0.66673758]))\n",
      "(array([0.39759488]), array([0.34198421]))\n",
      "(array([0.67099141]), array([0.72614141]))\n",
      "(array([0.40967181]), array([0.54798309]))\n",
      "(array([0.68327163]), array([0.73409206]))\n",
      "(array([0.49232315]), array([0.55271625]))\n",
      "(array([0.75536323]), array([0.48400564]))\n",
      "(array([0.57936389]), array([0.6057117]))\n",
      "(array([0.4552684]), array([0.40707847]))\n",
      "(array([0.64791265]), array([0.68130933]))\n",
      "(array([0.39920115]), array([0.18791714]))\n",
      "(array([0.81095922]), array([0.55245034]))\n",
      "(array([0.47306212]), array([0.3867631]))\n",
      "(array([0.61837707]), array([0.72268461]))\n",
      "(array([0.61644]), array([0.70723536]))\n",
      "(array([0.62770113]), array([0.93485255]))\n",
      "(array([0.44289189]), array([0.59422448]))\n",
      "(array([0.35309615]), array([0.29712554]))\n",
      "(array([0.65566756]), array([0.74065998]))\n",
      "(array([0.56134029]), array([0.36735182]))\n",
      "(array([0.60751872]), array([0.7928843]))\n",
      "(array([0.69649423]), array([0.73504933]))\n",
      "(array([0.66820408]), array([0.82240009]))\n",
      "(array([0.47861254]), array([0.49908262]))\n",
      "(array([0.58337941]), array([0.39218762]))\n",
      "(array([0.70502496]), array([0.67997979]))\n",
      "(array([0.46592835]), array([0.50349669]))\n",
      "(array([0.36011642]), array([0.24487462]))\n",
      "(array([0.64692011]), array([0.78458798]))\n",
      "(array([0.77978952]), array([0.80527561]))\n",
      "(array([0.50730334]), array([0.49254128]))\n",
      "(array([0.54117468]), array([0.45071396]))\n",
      "(array([0.84127334]), array([0.67660276]))\n",
      "(array([0.4303506]), array([0.39261308]))\n",
      "(array([0.67169893]), array([0.84069455]))\n",
      "(array([0.49033049]), array([0.6640785]))\n",
      "(array([0.60881307]), array([0.58624724]))\n",
      "(array([0.49410557]), array([0.36979818]))\n",
      "(array([0.63781939]), array([0.63642407]))\n",
      "(array([0.72973721]), array([0.82838301]))\n",
      "(array([0.65178644]), array([0.64937379]))\n",
      "(array([0.55833896]), array([0.47477863]))\n",
      "(array([0.77105397]), array([0.33897945]))\n",
      "(array([0.62119071]), array([0.69362087]))\n",
      "(array([0.60238955]), array([0.53279974]))\n",
      "(array([0.67448754]), array([0.64809743]))\n",
      "(array([0.60860487]), array([0.61076395]))\n",
      "(array([0.63728014]), array([0.71329806]))\n",
      "(array([0.68759063]), array([0.46876911]))\n",
      "(array([0.38395554]), array([0.29443986]))\n",
      "(array([0.7474349]), array([0.60552557]))\n",
      "(array([0.55571185]), array([0.58005159]))\n",
      "(array([0.48456873]), array([0.44696466]))\n",
      "(array([0.66877012]), array([0.64378972]))\n",
      "(array([0.55021242]), array([0.50913394]))\n",
      "(array([0.43131344]), array([0.25700003]))\n",
      "(array([0.38088875]), array([0.25809025]))\n",
      "(array([0.7137214]), array([0.7602574]))\n",
      "(array([0.55575023]), array([0.59034222]))\n",
      "(array([0.57985872]), array([0.54317015]))\n",
      "(array([0.72397061]), array([0.69037679]))\n",
      "(array([0.63141685]), array([0.63565294]))\n",
      "(array([0.76716075]), array([0.75983195]))\n",
      "(array([0.5018147]), array([0.44749648]))\n",
      "(array([0.62754395]), array([0.44558194]))\n",
      "(array([0.53506765]), array([0.52386524]))\n",
      "(array([0.71692724]), array([0.78889568]))\n",
      "(array([0.4992387]), array([0.57773819]))\n",
      "(array([0.43418388]), array([0.33844763]))\n",
      "(array([0.60137511]), array([0.6158428]))\n",
      "(array([0.53510986]), array([0.63645066]))\n",
      "(array([0.32207227]), array([0.18305103]))\n",
      "(array([0.63400821]), array([0.71013375]))\n",
      "(array([0.62693563]), array([0.69840721]))\n",
      "(array([0.63688844]), array([0.63182386]))\n",
      "(array([0.75869082]), array([0.78488047]))\n",
      "(array([0.74189657]), array([0.86622171]))\n",
      "(array([0.68125816]), array([0.80322812]))\n",
      "(array([0.7407435]), array([0.68266546]))\n",
      "(array([0.64967257]), array([0.70914989]))\n",
      "(array([0.56694224]), array([0.49216901]))\n",
      "(array([0.37288458]), array([0.24716143]))\n",
      "(array([0.54783976]), array([0.5511208]))\n",
      "(array([0.39963196]), array([0.56542665]))\n",
      "(array([0.83990508]), array([0.64464063]))\n",
      "(array([0.61731547]), array([0.60204217]))\n",
      "(array([0.88274571]), array([0.6695562]))\n",
      "(array([0.32901002]), array([0.23346717]))\n",
      "(array([0.65611913]), array([0.72292392]))\n",
      "(array([0.53619888]), array([0.54231925]))\n",
      "(array([0.46612171]), array([0.6340309]))\n",
      "(array([0.517171]), array([0.45932938]))\n",
      "(array([0.57396548]), array([0.53381019]))\n",
      "(array([0.24619611]), array([0.23562103]))\n",
      "(array([0.54783079]), array([0.55962986]))\n",
      "(array([0.41782797]), array([0.25963252]))\n",
      "(array([0.48486382]), array([0.43215359]))\n",
      "(array([0.42150168]), array([0.57739251]))\n",
      "(array([0.35106737]), array([0.27641131]))\n",
      "(array([0.42093324]), array([0.34802032]))\n",
      "(array([0.89136345]), array([0.69322201]))\n",
      "(array([0.38010961]), array([0.24620416]))\n",
      "(array([0.72297756]), array([0.71087829]))\n",
      "(array([0.59353003]), array([0.45940915]))\n",
      "(array([0.40614573]), array([0.38865105]))\n",
      "(array([0.49023337]), array([0.35402983]))\n",
      "(array([0.65502867]), array([0.55556146]))\n",
      "(array([0.64341463]), array([0.69370064]))\n",
      "(array([0.5390749]), array([0.60049991]))\n",
      "(array([0.56012435]), array([0.70784694]))\n",
      "(array([0.51342476]), array([0.46097801]))\n",
      "(array([0.43206585]), array([0.3818704]))\n",
      "(array([0.63712258]), array([0.73302843]))\n",
      "(array([0.59596543]), array([0.55875236]))\n",
      "(array([0.52112422]), array([0.6793682]))\n",
      "(array([0.61011662]), array([0.59855878]))\n",
      "(array([0.52361133]), array([0.47451272]))\n",
      "(array([0.58790533]), array([0.7348366]))\n",
      "(array([0.5953136]), array([0.66149919]))\n",
      "(array([0.61359876]), array([0.59680379]))\n",
      "(array([0.62346103]), array([0.63118568]))\n",
      "(array([0.65148179]), array([0.80038291]))\n",
      "(array([0.45728351]), array([0.44427899]))\n",
      "(array([0.70366429]), array([0.81014173]))\n",
      "(array([0.60268913]), array([0.48413859]))\n",
      "(array([0.62205769]), array([0.77246257]))\n",
      "(array([0.68571467]), array([0.74363815]))\n",
      "(array([0.31738452]), array([0.27704949]))\n",
      "(array([0.48352252]), array([0.4179807]))\n",
      "(array([0.57662104]), array([0.76592124]))\n",
      "(array([0.45582663]), array([0.34342011]))\n",
      "(array([0.64401678]), array([0.71361715]))\n",
      "(array([0.55540893]), array([0.54471242]))\n",
      "(array([0.49462951]), array([0.53394315]))\n",
      "(array([0.6344581]), array([0.84954929]))\n",
      "(array([0.67745298]), array([0.77466961]))\n",
      "(array([0.61027876]), array([0.69667881]))\n",
      "(array([0.47435122]), array([0.41377935]))\n",
      "(array([0.70698436]), array([0.89523227]))\n",
      "(array([0.77775615]), array([0.76235807]))\n",
      "(array([0.47829406]), array([0.45595235]))\n",
      "(array([0.50837198]), array([0.39846305]))\n",
      "(array([0.55714194]), array([0.56026804]))\n",
      "(array([0.4949473]), array([0.58074295]))\n",
      "(array([0.54769264]), array([0.51886617]))\n",
      "(array([0.49041671]), array([0.52726886]))\n",
      "(array([0.53541186]), array([0.66280214]))\n",
      "(array([0.74380524]), array([0.77044167]))\n",
      "(array([0.57380007]), array([0.54144175]))\n",
      "(array([0.63291768]), array([0.32124339]))\n",
      "(array([0.35278262]), array([0.30236392]))\n",
      "(array([0.57143557]), array([0.69638631]))\n",
      "(array([0.550999]), array([0.63645066]))\n",
      "(array([0.48860694]), array([0.7010397]))\n",
      "(array([0.74064087]), array([0.67902252]))\n",
      "(array([0.68669143]), array([0.73933044]))\n",
      "(array([0.60556363]), array([0.73031616]))\n",
      "(array([0.51499359]), array([0.54019199]))\n",
      "(array([0.58593166]), array([0.79386816]))\n",
      "(array([0.44716268]), array([0.419975]))\n",
      "(array([0.16296941]), array([0.47608158]))\n",
      "(array([0.68605255]), array([0.80498311]))\n",
      "(array([0.5962062]), array([0.54463265]))\n",
      "(array([0.59591498]), array([0.58300316]))\n",
      "(array([0.72523157]), array([0.78929455]))\n",
      "(array([0.54284884]), array([0.58547611]))\n",
      "(array([0.62509526]), array([0.55034967]))\n",
      "(array([0.54006879]), array([0.59390539]))\n",
      "(array([0.68250974]), array([0.67636344]))\n",
      "(array([0.63960881]), array([0.66532826]))\n"
     ]
    }
   ],
   "source": [
    "for i in zip(y_pred,y_test):\n",
    "    print(i)"
   ]
  },
  {
   "cell_type": "code",
   "execution_count": 22,
   "metadata": {},
   "outputs": [],
   "source": [
    "from sklearn.metrics import mean_squared_error, r2_score"
   ]
  },
  {
   "cell_type": "code",
   "execution_count": 23,
   "metadata": {},
   "outputs": [
    {
     "data": {
      "text/plain": [
       "0.015195555745223145"
      ]
     },
     "execution_count": 23,
     "metadata": {},
     "output_type": "execute_result"
    }
   ],
   "source": [
    "mean_squared_error(y_test,y_pred)"
   ]
  },
  {
   "cell_type": "code",
   "execution_count": 24,
   "metadata": {},
   "outputs": [
    {
     "data": {
      "text/plain": [
       "0.4796085537360655"
      ]
     },
     "execution_count": 24,
     "metadata": {},
     "output_type": "execute_result"
    }
   ],
   "source": [
    "r2_score(y_test,y_pred)   # it tells that if there are 100 pts then 56 pts are fit correctly"
   ]
  },
  {
   "cell_type": "code",
   "execution_count": null,
   "metadata": {},
   "outputs": [],
   "source": []
  },
  {
   "cell_type": "code",
   "execution_count": 25,
   "metadata": {},
   "outputs": [
    {
     "data": {
      "text/plain": [
       "(301, 1)"
      ]
     },
     "execution_count": 25,
     "metadata": {},
     "output_type": "execute_result"
    }
   ],
   "source": [
    "y_pred.shape"
   ]
  },
  {
   "cell_type": "code",
   "execution_count": 26,
   "metadata": {},
   "outputs": [
    {
     "data": {
      "text/plain": [
       "(301, 1)"
      ]
     },
     "execution_count": 26,
     "metadata": {},
     "output_type": "execute_result"
    }
   ],
   "source": [
    "y_test.shape"
   ]
  },
  {
   "cell_type": "code",
   "execution_count": null,
   "metadata": {},
   "outputs": [],
   "source": []
  }
 ],
 "metadata": {
  "kernelspec": {
   "display_name": "Python 3",
   "language": "python",
   "name": "python3"
  },
  "language_info": {
   "codemirror_mode": {
    "name": "ipython",
    "version": 3
   },
   "file_extension": ".py",
   "mimetype": "text/x-python",
   "name": "python",
   "nbconvert_exporter": "python",
   "pygments_lexer": "ipython3",
   "version": "3.6.4"
  }
 },
 "nbformat": 4,
 "nbformat_minor": 2
}
