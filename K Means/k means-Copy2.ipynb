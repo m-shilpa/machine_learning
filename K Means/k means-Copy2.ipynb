{
 "cells": [
  {
   "cell_type": "code",
   "execution_count": 1,
   "metadata": {},
   "outputs": [],
   "source": [
    "import pandas as pd\n",
    "import numpy as np\n",
    "import matplotlib.pyplot as plt\n",
    "from sklearn.model_selection import train_test_split\n",
    "\n",
    "from sklearn.datasets import load_wine"
   ]
  },
  {
   "cell_type": "code",
   "execution_count": 2,
   "metadata": {},
   "outputs": [],
   "source": [
    "k = 3 \n",
    "tol = 0.001 \n",
    "max_iter = 300 \n",
    "colors = 10*[\"g\",\"r\",\"c\",\"b\",\"k\",'y'] "
   ]
  },
  {
   "cell_type": "code",
   "execution_count": 35,
   "metadata": {},
   "outputs": [],
   "source": [
    "\n",
    "def fit(data,k,max_iter,tol):\n",
    "\n",
    "    centroids = {} \n",
    "    \n",
    "    for i in range(k): \n",
    "        centroids[i] = data[i] \n",
    "     \n",
    "    for i in range(max_iter):\n",
    "        classifications = {} \n",
    "        for i in range(k):\n",
    "            classifications[i] = [] \n",
    "           \n",
    "        for featureset in data: \n",
    "            distances = [np.linalg.norm(featureset-centroids[centroid]) for centroid in centroids] \n",
    "            classification = distances.index(min(distances))           \n",
    "            classifications[classification].append(featureset) \n",
    "#             print(classifications[classification])\n",
    "        \n",
    "        print(classifications[0])\n",
    "        prev_centroids = dict(centroids) \n",
    "\n",
    "        for classification in classifications:\n",
    "            centroids[classification] = np.average(classifications[classification],axis=0)\n",
    "            \n",
    "        optimized = True\n",
    "\n",
    "        for c in centroids: \n",
    "            original_centroid = prev_centroids[c]\n",
    "            current_centroid = centroids[c]\n",
    "\n",
    "\n",
    "            if np.sum((current_centroid-original_centroid)/original_centroid*100.0) > tol: \n",
    "                optimized = False\n",
    "\n",
    "        if optimized:\n",
    "            break\n",
    "    return centroids, classifications\n",
    "\n",
    "\n",
    "def predict(data,centroids):\n",
    "    distances = [np.linalg.norm(data-centroids[centroid]) for centroid in centroids]\n",
    "    classification = distances.index(min(distances))\n",
    "    return classification  "
   ]
  },
  {
   "cell_type": "code",
   "execution_count": 36,
   "metadata": {},
   "outputs": [],
   "source": [
    "\n",
    "wine = load_wine()\n",
    "X = pd.DataFrame(wine.data, columns=wine.feature_names)\n",
    "Y = pd.DataFrame(wine.target, columns=['target'])"
   ]
  },
  {
   "cell_type": "code",
   "execution_count": 37,
   "metadata": {},
   "outputs": [],
   "source": [
    "\n",
    "X = (X-X.min()) / (X.max()-X.min())\n",
    "\n",
    "\n",
    "xtrain, xtest, ytrain, ytest = train_test_split(X,Y, test_size=0.3)"
   ]
  },
  {
   "cell_type": "code",
   "execution_count": 38,
   "metadata": {},
   "outputs": [],
   "source": [
    "\n",
    "f1 = 'hue'\n",
    "f2 = 'proline'\n",
    "basex = np.array(xtrain[[f1, f2]])\n",
    "basey = np.array(ytrain['target'])\n",
    "\n",
    "xtest = np.array(xtest[[f1, f2]])\n",
    "ytest = np.array(ytest['target'])"
   ]
  },
  {
   "cell_type": "code",
   "execution_count": 39,
   "metadata": {},
   "outputs": [],
   "source": [
    "x = pd.DataFrame(basex)\n",
    "y = basey"
   ]
  },
  {
   "cell_type": "code",
   "execution_count": 40,
   "metadata": {},
   "outputs": [
    {
     "name": "stdout",
     "output_type": "stream",
     "text": [
      "[array([0.05691057, 0.26533524]), array([0.17886179, 0.2403709 ]), array([0.14634146, 0.20114123]), array([0.24390244, 0.2296719 ]), array([0.13821138, 0.41155492]), array([0.2601626 , 0.11412268]), array([0.32520325, 0.14978602]), array([0.14634146, 0.16547789]), array([0.30894309, 0.02639087]), array([0.16260163, 0.2831669 ]), array([0.17886179, 0.06704708]), array([0.15447154, 0.42938659]), array([0.27642276, 0.16904422]), array([0.36585366, 0.13338088]), array([0.17073171, 0.05278174]), array([0.31707317, 0.20827389]), array([0.27642276, 0.28673324]), array([0.21138211, 0.17974322]), array([0.10569106, 0.20114123]), array([0.07317073, 0.2724679 ]), array([0.31707317, 0.57203994]), array([0.07317073, 0.14407989]), array([0.17886179, 0.33666191]), array([0.25203252, 0.21540656]), array([0.33333333, 0.34379458]), array([0.2195122 , 0.07275321]), array([0.10569106, 0.10485021]), array([0.32520325, 0.43295292]), array([0.06504065, 0.17261056]), array([0.20325203, 0.07275321]), array([0.21138211, 0.33666191]), array([0.07317073, 0.13694722]), array([0.08130081, 0.09771755]), array([0.3495935 , 0.19400856]), array([0.08943089, 0.15834522]), array([0.17886179, 0.35805991]), array([0.20325203, 0.29743224]), array([0.06504065, 0.2831669 ]), array([0.08130081, 0.25820257]), array([0.29268293, 0.16904422]), array([0.07317073, 0.19400856]), array([0.33333333, 0.22253923]), array([0.22764228, 0.2510699 ]), array([0.35772358, 0.06205421]), array([0.2195122 , 0.20256776]), array([0.34146341, 0.03352354])]\n",
      "[array([0.05691057, 0.26533524]), array([0.17886179, 0.2403709 ]), array([0.3902439 , 0.15834522]), array([0.38211382, 0.24750357]), array([0.14634146, 0.20114123]), array([0.24390244, 0.2296719 ]), array([0.13821138, 0.41155492]), array([0.2601626 , 0.11412268]), array([0.32520325, 0.14978602]), array([0.14634146, 0.16547789]), array([0.30894309, 0.02639087]), array([0.16260163, 0.2831669 ]), array([0.17886179, 0.06704708]), array([0.15447154, 0.42938659]), array([0.27642276, 0.16904422]), array([0.40650407, 0.13837375]), array([0.38211382, 0.15477889]), array([0.36585366, 0.13338088]), array([0.17073171, 0.05278174]), array([0.31707317, 0.20827389]), array([0.27642276, 0.28673324]), array([0.21138211, 0.17974322]), array([0.10569106, 0.20114123]), array([0.07317073, 0.2724679 ]), array([0.07317073, 0.14407989]), array([0.17886179, 0.33666191]), array([0.25203252, 0.21540656]), array([0.2195122 , 0.07275321]), array([0.10569106, 0.10485021]), array([0.06504065, 0.17261056]), array([0.20325203, 0.07275321]), array([0.21138211, 0.33666191]), array([0.07317073, 0.13694722]), array([0.42276423, 0.16547789]), array([0.08130081, 0.09771755]), array([0.3495935 , 0.19400856]), array([0.08943089, 0.15834522]), array([0.17886179, 0.35805991]), array([0.20325203, 0.29743224]), array([0.06504065, 0.2831669 ]), array([0.37398374, 0.09771755]), array([0.08130081, 0.25820257]), array([0.29268293, 0.16904422]), array([0.07317073, 0.19400856]), array([0.33333333, 0.22253923]), array([0.36585366, 0.20399429]), array([0.22764228, 0.2510699 ]), array([0.35772358, 0.06205421]), array([0.2195122 , 0.20256776]), array([0.34146341, 0.03352354]), array([0.40650407, 0.12268188])]\n",
      "[array([0.05691057, 0.26533524]), array([0.17886179, 0.2403709 ]), array([0.3902439 , 0.15834522]), array([0.38211382, 0.24750357]), array([0.14634146, 0.20114123]), array([0.24390244, 0.2296719 ]), array([0.13821138, 0.41155492]), array([0.2601626 , 0.11412268]), array([0.32520325, 0.14978602]), array([0.14634146, 0.16547789]), array([0.30894309, 0.02639087]), array([0.16260163, 0.2831669 ]), array([0.17886179, 0.06704708]), array([0.15447154, 0.42938659]), array([0.27642276, 0.16904422]), array([0.40650407, 0.13837375]), array([0.38211382, 0.15477889]), array([0.36585366, 0.13338088]), array([0.17073171, 0.05278174]), array([0.31707317, 0.20827389]), array([0.27642276, 0.28673324]), array([0.21138211, 0.17974322]), array([0.10569106, 0.20114123]), array([0.07317073, 0.2724679 ]), array([0.07317073, 0.14407989]), array([0.17886179, 0.33666191]), array([0.25203252, 0.21540656]), array([0.33333333, 0.34379458]), array([0.2195122 , 0.07275321]), array([0.10569106, 0.10485021]), array([0.06504065, 0.17261056]), array([0.20325203, 0.07275321]), array([0.21138211, 0.33666191]), array([0.07317073, 0.13694722]), array([0.42276423, 0.16547789]), array([0.08130081, 0.09771755]), array([0.3495935 , 0.19400856]), array([0.08943089, 0.15834522]), array([0.17886179, 0.35805991]), array([0.20325203, 0.29743224]), array([0.06504065, 0.2831669 ]), array([0.37398374, 0.09771755]), array([0.3902439 , 0.28673324]), array([0.08130081, 0.25820257]), array([0.29268293, 0.16904422]), array([0.07317073, 0.19400856]), array([0.33333333, 0.22253923]), array([0.36585366, 0.20399429]), array([0.22764228, 0.2510699 ]), array([0.35772358, 0.06205421]), array([0.2195122 , 0.20256776]), array([0.34146341, 0.03352354]), array([0.40650407, 0.12268188])]\n",
      "[array([0.05691057, 0.26533524]), array([0.17886179, 0.2403709 ]), array([0.3902439 , 0.15834522]), array([0.38211382, 0.24750357]), array([0.14634146, 0.20114123]), array([0.24390244, 0.2296719 ]), array([0.13821138, 0.41155492]), array([0.2601626 , 0.11412268]), array([0.32520325, 0.14978602]), array([0.14634146, 0.16547789]), array([0.30894309, 0.02639087]), array([0.16260163, 0.2831669 ]), array([0.17886179, 0.06704708]), array([0.15447154, 0.42938659]), array([0.27642276, 0.16904422]), array([0.40650407, 0.13837375]), array([0.38211382, 0.15477889]), array([0.36585366, 0.13338088]), array([0.17073171, 0.05278174]), array([0.31707317, 0.20827389]), array([0.27642276, 0.28673324]), array([0.21138211, 0.17974322]), array([0.10569106, 0.20114123]), array([0.07317073, 0.2724679 ]), array([0.07317073, 0.14407989]), array([0.17886179, 0.33666191]), array([0.25203252, 0.21540656]), array([0.33333333, 0.34379458]), array([0.2195122 , 0.07275321]), array([0.10569106, 0.10485021]), array([0.06504065, 0.17261056]), array([0.20325203, 0.07275321]), array([0.21138211, 0.33666191]), array([0.07317073, 0.13694722]), array([0.08130081, 0.09771755]), array([0.3495935 , 0.19400856]), array([0.08943089, 0.15834522]), array([0.17886179, 0.35805991]), array([0.20325203, 0.29743224]), array([0.06504065, 0.2831669 ]), array([0.37398374, 0.09771755]), array([0.3902439 , 0.28673324]), array([0.08130081, 0.25820257]), array([0.29268293, 0.16904422]), array([0.07317073, 0.19400856]), array([0.33333333, 0.22253923]), array([0.36585366, 0.20399429]), array([0.22764228, 0.2510699 ]), array([0.35772358, 0.06205421]), array([0.2195122 , 0.20256776]), array([0.34146341, 0.03352354]), array([0.40650407, 0.12268188])]\n",
      "[array([0.05691057, 0.26533524]), array([0.17886179, 0.2403709 ]), array([0.3902439 , 0.15834522]), array([0.38211382, 0.24750357]), array([0.14634146, 0.20114123]), array([0.24390244, 0.2296719 ]), array([0.13821138, 0.41155492]), array([0.2601626 , 0.11412268]), array([0.32520325, 0.14978602]), array([0.14634146, 0.16547789]), array([0.30894309, 0.02639087]), array([0.16260163, 0.2831669 ]), array([0.17886179, 0.06704708]), array([0.15447154, 0.42938659]), array([0.27642276, 0.16904422]), array([0.38211382, 0.15477889]), array([0.36585366, 0.13338088]), array([0.17073171, 0.05278174]), array([0.31707317, 0.20827389]), array([0.27642276, 0.28673324]), array([0.21138211, 0.17974322]), array([0.10569106, 0.20114123]), array([0.07317073, 0.2724679 ]), array([0.07317073, 0.14407989]), array([0.17886179, 0.33666191]), array([0.25203252, 0.21540656]), array([0.33333333, 0.34379458]), array([0.2195122 , 0.07275321]), array([0.38211382, 0.36875892]), array([0.10569106, 0.10485021]), array([0.06504065, 0.17261056]), array([0.20325203, 0.07275321]), array([0.21138211, 0.33666191]), array([0.07317073, 0.13694722]), array([0.08130081, 0.09771755]), array([0.3495935 , 0.19400856]), array([0.08943089, 0.15834522]), array([0.17886179, 0.35805991]), array([0.20325203, 0.29743224]), array([0.06504065, 0.2831669 ]), array([0.37398374, 0.09771755]), array([0.3902439 , 0.28673324]), array([0.08130081, 0.25820257]), array([0.29268293, 0.16904422]), array([0.07317073, 0.19400856]), array([0.33333333, 0.22253923]), array([0.36585366, 0.20399429]), array([0.22764228, 0.2510699 ]), array([0.35772358, 0.06205421]), array([0.2195122 , 0.20256776]), array([0.34146341, 0.03352354])]\n",
      "[array([0.05691057, 0.26533524]), array([0.17886179, 0.2403709 ]), array([0.3902439 , 0.15834522]), array([0.38211382, 0.24750357]), array([0.14634146, 0.20114123]), array([0.24390244, 0.2296719 ]), array([0.13821138, 0.41155492]), array([0.2601626 , 0.11412268]), array([0.32520325, 0.14978602]), array([0.14634146, 0.16547789]), array([0.30894309, 0.02639087]), array([0.16260163, 0.2831669 ]), array([0.17886179, 0.06704708]), array([0.15447154, 0.42938659]), array([0.27642276, 0.16904422]), array([0.38211382, 0.15477889]), array([0.36585366, 0.13338088]), array([0.17073171, 0.05278174]), array([0.31707317, 0.20827389]), array([0.27642276, 0.28673324]), array([0.21138211, 0.17974322]), array([0.10569106, 0.20114123]), array([0.07317073, 0.2724679 ]), array([0.07317073, 0.14407989]), array([0.17886179, 0.33666191]), array([0.25203252, 0.21540656]), array([0.33333333, 0.34379458]), array([0.2195122 , 0.07275321]), array([0.38211382, 0.36875892]), array([0.10569106, 0.10485021]), array([0.06504065, 0.17261056]), array([0.20325203, 0.07275321]), array([0.21138211, 0.33666191]), array([0.07317073, 0.13694722]), array([0.08130081, 0.09771755]), array([0.3495935 , 0.19400856]), array([0.08943089, 0.15834522]), array([0.17886179, 0.35805991]), array([0.20325203, 0.29743224]), array([0.06504065, 0.2831669 ]), array([0.37398374, 0.09771755]), array([0.3902439 , 0.28673324]), array([0.08130081, 0.25820257]), array([0.29268293, 0.16904422]), array([0.07317073, 0.19400856]), array([0.33333333, 0.22253923]), array([0.36585366, 0.20399429]), array([0.22764228, 0.2510699 ]), array([0.35772358, 0.06205421]), array([0.2195122 , 0.20256776]), array([0.34146341, 0.03352354])]\n",
      "[array([0.05691057, 0.26533524]), array([0.17886179, 0.2403709 ]), array([0.3902439 , 0.15834522]), array([0.38211382, 0.24750357]), array([0.14634146, 0.20114123]), array([0.24390244, 0.2296719 ]), array([0.13821138, 0.41155492]), array([0.2601626 , 0.11412268]), array([0.32520325, 0.14978602]), array([0.14634146, 0.16547789]), array([0.30894309, 0.02639087]), array([0.16260163, 0.2831669 ]), array([0.17886179, 0.06704708]), array([0.15447154, 0.42938659]), array([0.27642276, 0.16904422]), array([0.38211382, 0.15477889]), array([0.36585366, 0.13338088]), array([0.17073171, 0.05278174]), array([0.31707317, 0.20827389]), array([0.27642276, 0.28673324]), array([0.21138211, 0.17974322]), array([0.10569106, 0.20114123]), array([0.07317073, 0.2724679 ]), array([0.07317073, 0.14407989]), array([0.17886179, 0.33666191]), array([0.25203252, 0.21540656]), array([0.33333333, 0.34379458]), array([0.2195122 , 0.07275321]), array([0.38211382, 0.36875892]), array([0.10569106, 0.10485021]), array([0.06504065, 0.17261056]), array([0.20325203, 0.07275321]), array([0.21138211, 0.33666191]), array([0.07317073, 0.13694722]), array([0.08130081, 0.09771755]), array([0.3495935 , 0.19400856]), array([0.08943089, 0.15834522]), array([0.17886179, 0.35805991]), array([0.20325203, 0.29743224]), array([0.06504065, 0.2831669 ]), array([0.37398374, 0.09771755]), array([0.3902439 , 0.28673324]), array([0.08130081, 0.25820257]), array([0.29268293, 0.16904422]), array([0.07317073, 0.19400856]), array([0.33333333, 0.22253923]), array([0.36585366, 0.20399429]), array([0.22764228, 0.2510699 ]), array([0.35772358, 0.06205421]), array([0.2195122 , 0.20256776]), array([0.34146341, 0.03352354])]\n"
     ]
    }
   ],
   "source": [
    "centroids, classifications = fit(basex,k,max_iter,tol)"
   ]
  },
  {
   "cell_type": "code",
   "execution_count": 34,
   "metadata": {},
   "outputs": [
    {
     "data": {
      "image/png": "[encoded data removed]",
      "text/plain": [
       "<matplotlib.figure.Figure at 0x19a851e85f8>"
      ]
     },
     "metadata": {},
     "output_type": "display_data"
    }
   ],
   "source": [
    "\n",
    "\n",
    "for centroid in centroids:\n",
    "    plt.scatter(centroids[centroid][0], centroids[centroid][1], marker='o', color='k', s=50)\n",
    "\n",
    "for classification in classifications:\n",
    "    color = colors[classification]\n",
    "    for featureset in classifications[classification]:\n",
    "        plt.scatter(featureset[0], featureset[1], marker='.', color=color, s=50)\n",
    "\n",
    "for unknown in xtest:\n",
    "    classification = predict(unknown,centroids)\n",
    "    plt.scatter(unknown[0], unknown[1], marker='*', color=colors[classification], s=50)"
   ]
  },
  {
   "cell_type": "code",
   "execution_count": null,
   "metadata": {},
   "outputs": [],
   "source": []
  }
 ],
 "metadata": {
  "kernelspec": {
   "display_name": "Python 3",
   "language": "python",
   "name": "python3"
  },
  "language_info": {
   "codemirror_mode": {
    "name": "ipython",
    "version": 3
   },
   "file_extension": ".py",
   "mimetype": "text/x-python",
   "name": "python",
   "nbconvert_exporter": "python",
   "pygments_lexer": "ipython3",
   "version": "3.6.4"
  }
 },
 "nbformat": 4,
 "nbformat_minor": 2
}
