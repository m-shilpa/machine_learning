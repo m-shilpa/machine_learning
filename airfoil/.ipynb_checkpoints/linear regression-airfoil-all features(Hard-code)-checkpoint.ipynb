{
 "cells": [
  {
   "cell_type": "code",
   "execution_count": 2,
   "metadata": {},
   "outputs": [],
   "source": [
    "import numpy as np\n",
    "import matplotlib.pyplot as plt\n",
    "import pandas as pd\n",
    "from sklearn.model_selection import train_test_split"
   ]
  },
  {
   "cell_type": "code",
   "execution_count": 3,
   "metadata": {},
   "outputs": [],
   "source": [
    "feature_names = ['Frequency','Angle','Chord Length','velocity','displacement thickness','sound pressure']\n",
    "airfoil = pd.read_csv(\"./airfoil_self_noise.csv\",header=None,sep='\\t',names=feature_names)"
   ]
  },
  {
   "cell_type": "code",
   "execution_count": 4,
   "metadata": {},
   "outputs": [
    {
     "data": {
      "text/html": [
       "<div>\n",
       "<style scoped>\n",
       "    .dataframe tbody tr th:only-of-type {\n",
       "        vertical-align: middle;\n",
       "    }\n",
       "\n",
       "    .dataframe tbody tr th {\n",
       "        vertical-align: top;\n",
       "    }\n",
       "\n",
       "    .dataframe thead th {\n",
       "        text-align: right;\n",
       "    }\n",
       "</style>\n",
       "<table border=\"1\" class=\"dataframe\">\n",
       "  <thead>\n",
       "    <tr style=\"text-align: right;\">\n",
       "      <th></th>\n",
       "      <th>Frequency</th>\n",
       "      <th>Angle</th>\n",
       "      <th>Chord Length</th>\n",
       "      <th>velocity</th>\n",
       "      <th>displacement thickness</th>\n",
       "      <th>sound pressure</th>\n",
       "    </tr>\n",
       "  </thead>\n",
       "  <tbody>\n",
       "    <tr>\n",
       "      <th>0</th>\n",
       "      <td>800</td>\n",
       "      <td>0.0</td>\n",
       "      <td>0.3048</td>\n",
       "      <td>71.3</td>\n",
       "      <td>0.002663</td>\n",
       "      <td>126.201</td>\n",
       "    </tr>\n",
       "    <tr>\n",
       "      <th>1</th>\n",
       "      <td>1000</td>\n",
       "      <td>0.0</td>\n",
       "      <td>0.3048</td>\n",
       "      <td>71.3</td>\n",
       "      <td>0.002663</td>\n",
       "      <td>125.201</td>\n",
       "    </tr>\n",
       "    <tr>\n",
       "      <th>2</th>\n",
       "      <td>1250</td>\n",
       "      <td>0.0</td>\n",
       "      <td>0.3048</td>\n",
       "      <td>71.3</td>\n",
       "      <td>0.002663</td>\n",
       "      <td>125.951</td>\n",
       "    </tr>\n",
       "    <tr>\n",
       "      <th>3</th>\n",
       "      <td>1600</td>\n",
       "      <td>0.0</td>\n",
       "      <td>0.3048</td>\n",
       "      <td>71.3</td>\n",
       "      <td>0.002663</td>\n",
       "      <td>127.591</td>\n",
       "    </tr>\n",
       "    <tr>\n",
       "      <th>4</th>\n",
       "      <td>2000</td>\n",
       "      <td>0.0</td>\n",
       "      <td>0.3048</td>\n",
       "      <td>71.3</td>\n",
       "      <td>0.002663</td>\n",
       "      <td>127.461</td>\n",
       "    </tr>\n",
       "  </tbody>\n",
       "</table>\n",
       "</div>"
      ],
      "text/plain": [
       "   Frequency  Angle  Chord Length  velocity  displacement thickness  \\\n",
       "0        800    0.0        0.3048      71.3                0.002663   \n",
       "1       1000    0.0        0.3048      71.3                0.002663   \n",
       "2       1250    0.0        0.3048      71.3                0.002663   \n",
       "3       1600    0.0        0.3048      71.3                0.002663   \n",
       "4       2000    0.0        0.3048      71.3                0.002663   \n",
       "\n",
       "   sound pressure  \n",
       "0         126.201  \n",
       "1         125.201  \n",
       "2         125.951  \n",
       "3         127.591  \n",
       "4         127.461  "
      ]
     },
     "execution_count": 4,
     "metadata": {},
     "output_type": "execute_result"
    }
   ],
   "source": [
    "airfoil.head()"
   ]
  },
  {
   "cell_type": "code",
   "execution_count": 5,
   "metadata": {},
   "outputs": [
    {
     "data": {
      "text/html": [
       "<div>\n",
       "<style scoped>\n",
       "    .dataframe tbody tr th:only-of-type {\n",
       "        vertical-align: middle;\n",
       "    }\n",
       "\n",
       "    .dataframe tbody tr th {\n",
       "        vertical-align: top;\n",
       "    }\n",
       "\n",
       "    .dataframe thead th {\n",
       "        text-align: right;\n",
       "    }\n",
       "</style>\n",
       "<table border=\"1\" class=\"dataframe\">\n",
       "  <thead>\n",
       "    <tr style=\"text-align: right;\">\n",
       "      <th></th>\n",
       "      <th>Frequency</th>\n",
       "      <th>Angle</th>\n",
       "      <th>Chord Length</th>\n",
       "      <th>velocity</th>\n",
       "      <th>displacement thickness</th>\n",
       "      <th>sound pressure</th>\n",
       "    </tr>\n",
       "  </thead>\n",
       "  <tbody>\n",
       "    <tr>\n",
       "      <th>0</th>\n",
       "      <td>800</td>\n",
       "      <td>0.0</td>\n",
       "      <td>0.3048</td>\n",
       "      <td>71.3</td>\n",
       "      <td>0.002663</td>\n",
       "      <td>126.201</td>\n",
       "    </tr>\n",
       "    <tr>\n",
       "      <th>1</th>\n",
       "      <td>1000</td>\n",
       "      <td>0.0</td>\n",
       "      <td>0.3048</td>\n",
       "      <td>71.3</td>\n",
       "      <td>0.002663</td>\n",
       "      <td>125.201</td>\n",
       "    </tr>\n",
       "    <tr>\n",
       "      <th>2</th>\n",
       "      <td>1250</td>\n",
       "      <td>0.0</td>\n",
       "      <td>0.3048</td>\n",
       "      <td>71.3</td>\n",
       "      <td>0.002663</td>\n",
       "      <td>125.951</td>\n",
       "    </tr>\n",
       "    <tr>\n",
       "      <th>3</th>\n",
       "      <td>1600</td>\n",
       "      <td>0.0</td>\n",
       "      <td>0.3048</td>\n",
       "      <td>71.3</td>\n",
       "      <td>0.002663</td>\n",
       "      <td>127.591</td>\n",
       "    </tr>\n",
       "    <tr>\n",
       "      <th>4</th>\n",
       "      <td>2000</td>\n",
       "      <td>0.0</td>\n",
       "      <td>0.3048</td>\n",
       "      <td>71.3</td>\n",
       "      <td>0.002663</td>\n",
       "      <td>127.461</td>\n",
       "    </tr>\n",
       "  </tbody>\n",
       "</table>\n",
       "</div>"
      ],
      "text/plain": [
       "   Frequency  Angle  Chord Length  velocity  displacement thickness  \\\n",
       "0        800    0.0        0.3048      71.3                0.002663   \n",
       "1       1000    0.0        0.3048      71.3                0.002663   \n",
       "2       1250    0.0        0.3048      71.3                0.002663   \n",
       "3       1600    0.0        0.3048      71.3                0.002663   \n",
       "4       2000    0.0        0.3048      71.3                0.002663   \n",
       "\n",
       "   sound pressure  \n",
       "0         126.201  \n",
       "1         125.201  \n",
       "2         125.951  \n",
       "3         127.591  \n",
       "4         127.461  "
      ]
     },
     "execution_count": 5,
     "metadata": {},
     "output_type": "execute_result"
    }
   ],
   "source": [
    "airfoil = pd.DataFrame(airfoil)\n",
    "airfoil.head()"
   ]
  },
  {
   "cell_type": "code",
   "execution_count": 6,
   "metadata": {},
   "outputs": [
    {
     "data": {
      "text/plain": [
       "20000      6\n",
       "16000     13\n",
       "12500     25\n",
       "200       35\n",
       "250       42\n",
       "10000     42\n",
       "8000      52\n",
       "315       56\n",
       "400       69\n",
       "500       78\n",
       "630       88\n",
       "6300      89\n",
       "5000      95\n",
       "800       97\n",
       "1000      99\n",
       "1250     100\n",
       "4000     102\n",
       "1600     103\n",
       "3150     103\n",
       "2500     104\n",
       "2000     105\n",
       "Name: Frequency, dtype: int64"
      ]
     },
     "execution_count": 6,
     "metadata": {},
     "output_type": "execute_result"
    }
   ],
   "source": [
    "frequency = pd.Series(airfoil['Frequency'])\n",
    "frequency.value_counts().sort_values()"
   ]
  },
  {
   "cell_type": "code",
   "execution_count": 7,
   "metadata": {},
   "outputs": [
    {
     "data": {
      "text/plain": [
       "Frequency                   21\n",
       "Angle                       27\n",
       "Chord Length                 6\n",
       "velocity                     4\n",
       "displacement thickness     105\n",
       "sound pressure            1456\n",
       "dtype: int64"
      ]
     },
     "execution_count": 7,
     "metadata": {},
     "output_type": "execute_result"
    }
   ],
   "source": [
    "data = pd.DataFrame(airfoil)\n",
    "data.nunique()  # no. of unique values of each feature"
   ]
  },
  {
   "cell_type": "code",
   "execution_count": 8,
   "metadata": {},
   "outputs": [],
   "source": [
    "corelation = airfoil.corr('pearson') "
   ]
  },
  {
   "cell_type": "code",
   "execution_count": 9,
   "metadata": {},
   "outputs": [
    {
     "data": {
      "text/plain": [
       "Frequency                -0.390711\n",
       "displacement thickness   -0.312670\n",
       "Chord Length             -0.236162\n",
       "Angle                    -0.156108\n",
       "velocity                  0.125103\n",
       "sound pressure            1.000000\n",
       "Name: sound pressure, dtype: float64"
      ]
     },
     "execution_count": 9,
     "metadata": {},
     "output_type": "execute_result"
    }
   ],
   "source": [
    "corelation['sound pressure'].sort_values()"
   ]
  },
  {
   "cell_type": "code",
   "execution_count": 96,
   "metadata": {},
   "outputs": [
    {
     "data": {
      "text/plain": [
       "[<matplotlib.lines.Line2D at 0x24474d81a20>,\n",
       " <matplotlib.lines.Line2D at 0x24474d81be0>,\n",
       " <matplotlib.lines.Line2D at 0x24474d88128>,\n",
       " <matplotlib.lines.Line2D at 0x24474d88550>,\n",
       " <matplotlib.lines.Line2D at 0x24474d88978>]"
      ]
     },
     "execution_count": 96,
     "metadata": {},
     "output_type": "execute_result"
    },
    {
     "data": {
      "image/png": "[encoded data removed]",
      "text/plain": [
       "<matplotlib.figure.Figure at 0x24474d5cf98>"
      ]
     },
     "metadata": {},
     "output_type": "display_data"
    }
   ],
   "source": [
    "x1= airfoil['Frequency']\n",
    "x2 = airfoil['displacement thickness']\n",
    "x3 = airfoil['Chord Length']\n",
    "x4 = airfoil['Angle']\n",
    "x5 = airfoil['velocity']\n",
    "y = airfoil['sound pressure']\n",
    "plt.plot(x1,y,'b.',x2,y,'r.',x3,y,'y.',x4,y,'g.',x5,y,'m.')"
   ]
  },
  {
   "cell_type": "code",
   "execution_count": 11,
   "metadata": {},
   "outputs": [],
   "source": [
    "x1 = (x1 - x1.min())/(x1.max()-x1.min())\n",
    "x2 = (x2 - x2.min())/(x2.max()-x2.min())\n",
    "x3 = (x3 - x3.min())/(x3.max()-x3.min())\n",
    "x4 = (x4 - x4.min())/(x4.max()-x4.min())\n",
    "x5 = (x5 - x5.min())/(x5.max()-x5.min())\n",
    "y = (y - y.min())/(y.max()-y.min())"
   ]
  },
  {
   "cell_type": "code",
   "execution_count": 14,
   "metadata": {},
   "outputs": [
    {
     "data": {
      "text/plain": [
       "[<matplotlib.lines.Line2D at 0x24474ce4828>,\n",
       " <matplotlib.lines.Line2D at 0x24474ce49e8>,\n",
       " <matplotlib.lines.Line2D at 0x24474ce4ef0>,\n",
       " <matplotlib.lines.Line2D at 0x24474cec358>,\n",
       " <matplotlib.lines.Line2D at 0x24474cec780>]"
      ]
     },
     "execution_count": 14,
     "metadata": {},
     "output_type": "execute_result"
    },
    {
     "data": {
      "image/png": "[encoded data removed]",
      "text/plain": [
       "<matplotlib.figure.Figure at 0x24474c944e0>"
      ]
     },
     "metadata": {},
     "output_type": "display_data"
    }
   ],
   "source": [
    "plt.plot(x1,y,'b.',x2,y,'r.',x3,y,'y.',x4,y,'g.',x5,y,'m.')"
   ]
  },
  {
   "cell_type": "code",
   "execution_count": 16,
   "metadata": {},
   "outputs": [],
   "source": [
    "x1= np.array(x1)\n",
    "x2= np.array(x2)\n",
    "x3= np.array(x3)\n",
    "x4= np.array(x4)\n",
    "x5= np.array(x5)\n",
    "y = np.array(y)"
   ]
  },
  {
   "cell_type": "code",
   "execution_count": 17,
   "metadata": {},
   "outputs": [],
   "source": [
    "x1_train,x1_test,x2_train,x2_test,x3_train,x3_test,x4_train,x4_test,x5_train,x5_test,y_train,y_test = train_test_split(x1,x2,x3,x4,x5,y,test_size=0.2)"
   ]
  },
  {
   "cell_type": "code",
   "execution_count": 18,
   "metadata": {},
   "outputs": [
    {
     "data": {
      "text/plain": [
       "1202"
      ]
     },
     "execution_count": 18,
     "metadata": {},
     "output_type": "execute_result"
    }
   ],
   "source": [
    "x1_train.size"
   ]
  },
  {
   "cell_type": "code",
   "execution_count": 19,
   "metadata": {},
   "outputs": [
    {
     "data": {
      "text/plain": [
       "301"
      ]
     },
     "execution_count": 19,
     "metadata": {},
     "output_type": "execute_result"
    }
   ],
   "source": [
    "len(x1_test)"
   ]
  },
  {
   "cell_type": "code",
   "execution_count": 97,
   "metadata": {},
   "outputs": [],
   "source": [
    "def hypothesis(a,x1,b,x2,c,x3,d,x4,e,x5,f):\n",
    "    return a*x1 +b*x2 + c*x3 + d*x4 + e*x5 +f"
   ]
  },
  {
   "cell_type": "code",
   "execution_count": 98,
   "metadata": {},
   "outputs": [],
   "source": [
    "def error(a,x1,b,x2,c,x3,d,x4,e,x5,f,y):\n",
    "    er = 0\n",
    "    m = len(x1)\n",
    "    \n",
    "    for i in range(m):\n",
    "        er += np.power((hypothesis(a,x1[i],b,x2[i],c,x3[i],d,x4[i],e,x5[i],f)-y[i]),2)\n",
    "    return (1/(2*m))*er"
   ]
  },
  {
   "cell_type": "code",
   "execution_count": 99,
   "metadata": {},
   "outputs": [],
   "source": [
    "def step_gradient(a,x1,b,x2,c,x3,d,x4,e,x5,f,y,learning_rate):\n",
    "    grad_a = 0\n",
    "    grad_b = 0\n",
    "    grad_c = 0\n",
    "    grad_d = 0\n",
    "    grad_e = 0\n",
    "    grad_f = 0\n",
    "    m = len(x1)\n",
    "    \n",
    "    for i in range(m):\n",
    "        grad_a += (1/m)*(hypothesis(a,x1[i],b,x2[i],c,x3[i],d,x4[i],e,x5[i],f) - y[i])*x1[i]  #partial differentiation\n",
    "        grad_b += (1/m)*(hypothesis(a,x1[i],b,x2[i],c,x3[i],d,x4[i],e,x5[i],f) - y[i])*x2[i]\n",
    "        grad_c += (1/m)*(hypothesis(a,x1[i],b,x2[i],c,x3[i],d,x4[i],e,x5[i],f) - y[i])*x3[i]\n",
    "        grad_d += (1/m)*(hypothesis(a,x1[i],b,x2[i],c,x3[i],d,x4[i],e,x5[i],f) - y[i])*x4[i]\n",
    "        grad_e += (1/m)*(hypothesis(a,x1[i],b,x2[i],c,x3[i],d,x4[i],e,x5[i],f) - y[i])*x5[i]\n",
    "        grad_f += (1/m)*(hypothesis(a,x1[i],b,x2[i],c,x3[i],d,x4[i],e,x5[i],f) - y[i])\n",
    "        \n",
    "    a = a - grad_a * learning_rate\n",
    "    b = b - grad_b * learning_rate\n",
    "    c = c - grad_c * learning_rate\n",
    "    d = d - grad_d * learning_rate\n",
    "    e = e - grad_e * learning_rate\n",
    "    f = f - grad_f * learning_rate\n",
    "    \n",
    "    return a,b,c,d,e,f"
   ]
  },
  {
   "cell_type": "code",
   "execution_count": 100,
   "metadata": {},
   "outputs": [],
   "source": [
    "def descend(init_a,x1,init_b,x2,init_c,x3,init_d,x4,init_e,x5,init_f,y,learning_rate,iterations):\n",
    "    a = init_a\n",
    "    b= init_b\n",
    "    c = init_c\n",
    "    d = init_d\n",
    "    e = init_e\n",
    "    f = init_f\n",
    "    \n",
    "    for i in range(iterations):\n",
    "        er = error(a,x1,b,x2,c,x3,d,x4,e,x5,f,y)\n",
    "        \n",
    "        if i % 1000 ==0:\n",
    "            print(f\"Error: {np.sqrt(er)}, a:{a}, b:{b}, c:{c}, d:{d}, e:{e}, f:{f}\")\n",
    "            \n",
    "        a,b,c,d,e,f = step_gradient(a,x1,b,x2,c,x3,d,x4,e,x5,f,y,learning_rate)\n",
    "    \n",
    "    return a,b,c,d,e,f"
   ]
  },
  {
   "cell_type": "code",
   "execution_count": 101,
   "metadata": {},
   "outputs": [],
   "source": [
    "a= -0.6629891164052757\n",
    "b= -0.21984748346491317\n",
    "c= -0.264282590713839\n",
    "d= -0.2470506634788374\n",
    "e= 0.10486053590119107\n",
    "f= 0.8306542005878559\n",
    "learning_rate = 0.01\n",
    "iterations = 10000"
   ]
  },
  {
   "cell_type": "code",
   "execution_count": 102,
   "metadata": {
    "scrolled": true
   },
   "outputs": [
    {
     "name": "stdout",
     "output_type": "stream",
     "text": [
      "Error: 0.0900650444157422, a:-0.6612292013449506, b:-0.22355904416678982, c:-0.2629854707287601, d:-0.24290344359189525, e:0.10462070064622259, f:0.8294169953117646\n",
      "Error: 0.09006454586787312, a:-0.6615264569055397, b:-0.2229953768460123, c:-0.26318803215647657, d:-0.24354371241063807, e:0.10465899773389715, f:0.8296136449312366\n",
      "Error: 0.09006414437375522, a:-0.6617856576057579, b:-0.22248588723056656, c:-0.2633693619729703, d:-0.2441191387198339, e:0.10469302112098354, f:0.8297886229368086\n",
      "Error: 0.09006382092030912, a:-0.6620121722427733, b:-0.22202566963486933, c:-0.2635317399996698, d:-0.2446362634966137, e:0.10472327796344656, f:0.8299444534230471\n",
      "Error: 0.09006356026018073, a:-0.6622105365261295, b:-0.2216102013933731, c:-0.2636771911271867, d:-0.24510097287318455, e:0.10475020995434361, f:0.8300833424817481\n",
      "Error: 0.09006335015189577, a:-0.6623845927991953, b:-0.22123532612758945, c:-0.26380751566347654, d:-0.2455185627368894, e:0.10477420263985668, f:0.8302072222884951\n",
      "Error: 0.09006318075806828, a:-0.6625376050155377, b:-0.22089723445443224, c:-0.2639243157466839, d:-0.24589379714339757, e:0.10479559327912044, f:0.8303177884538528\n",
      "Error: 0.09006304416721439, a:-0.6626723535047181, b:-0.22059244321332522, c:-0.2640290183864325, d:-0.24623096109920456, e:0.10481467749319279, f:0.8304165317563007\n",
      "Error: 0.09006293401274147, a:-0.6627912132145167, b:-0.22031777402299124, c:-0.2641228956082237, d:-0.24653390822684457, e:0.10483171490501551, f:0.8305047651773099\n",
      "Error: 0.09006284516867102, a:-0.6628962184291495, b:-0.22007033176966573, c:-0.2642070821019019, d:-0.24680610378525614, e:0.10484693393667686, f:0.8305836469983036\n"
     ]
    }
   ],
   "source": [
    "final_a,final_b,final_c,final_d,final_e,final_f = descend(a,x1_train,b,x2_train,c,x3_train,d,x4_train,e,x5_train,f,y_train,learning_rate,iterations)"
   ]
  },
  {
   "cell_type": "code",
   "execution_count": 103,
   "metadata": {},
   "outputs": [],
   "source": [
    "# plt.plot(x_train,y_train,'r.',\n",
    "#          x_train,hypothesis(a,x1_train,b,x2_train,c,x3_train,d,x4_train,e,x5_train,f),'b',\n",
    "#          x_train,hypothesis(final_a,x1_train,final_b,x2_train,final_c,x3_train,final_d,x4_train,final_e,x5_train,final_f),'g')"
   ]
  },
  {
   "cell_type": "code",
   "execution_count": null,
   "metadata": {},
   "outputs": [],
   "source": []
  },
  {
   "cell_type": "code",
   "execution_count": 104,
   "metadata": {},
   "outputs": [
    {
     "name": "stdout",
     "output_type": "stream",
     "text": [
      "a= -0.6629891164052757\n",
      "b= -0.21984748346491317\n",
      "c= -0.264282590713839\n",
      "d= -0.2470506634788374\n",
      "e= 0.10486053590119107\n",
      "f= 0.8306542005878559\n"
     ]
    }
   ],
   "source": [
    "print(\"a=\",final_a)\n",
    "print(\"b=\",final_b)\n",
    "print(\"c=\",final_c)\n",
    "print(\"d=\",final_d)\n",
    "print(\"e=\",final_e)\n",
    "print(\"f=\",final_f)"
   ]
  },
  {
   "cell_type": "code",
   "execution_count": 105,
   "metadata": {},
   "outputs": [
    {
     "data": {
      "text/plain": [
       "array([0.24242424, 0.11616162, 0.02171717])"
      ]
     },
     "execution_count": 105,
     "metadata": {},
     "output_type": "execute_result"
    }
   ],
   "source": [
    "x1_test[:3]"
   ]
  },
  {
   "cell_type": "code",
   "execution_count": 106,
   "metadata": {},
   "outputs": [
    {
     "data": {
      "text/plain": [
       "array([0.57773819, 0.5511208 , 0.69066929])"
      ]
     },
     "execution_count": 106,
     "metadata": {},
     "output_type": "execute_result"
    }
   ],
   "source": [
    "y_test[:3]                             "
   ]
  },
  {
   "cell_type": "code",
   "execution_count": 107,
   "metadata": {},
   "outputs": [
    {
     "data": {
      "text/plain": [
       "array([0.5016734 , 0.54317031, 0.60883305])"
      ]
     },
     "execution_count": 107,
     "metadata": {},
     "output_type": "execute_result"
    }
   ],
   "source": [
    "hypothesis(final_a,x1_test[:3],final_b,x2_test[:3],final_c,x3_test[:3],final_d,x4_test[:3],final_e,x5_test[:3],final_f)          "
   ]
  },
  {
   "cell_type": "code",
   "execution_count": 108,
   "metadata": {},
   "outputs": [
    {
     "data": {
      "text/plain": [
       "0.09101513851351875"
      ]
     },
     "execution_count": 108,
     "metadata": {},
     "output_type": "execute_result"
    }
   ],
   "source": [
    "error = np.sqrt(error(final_a,x1_test,final_b,x2_test,final_c,x3_test,final_d,x4_test,final_e,x5_test,final_f,y_test))\n",
    "error"
   ]
  },
  {
   "cell_type": "code",
   "execution_count": 109,
   "metadata": {},
   "outputs": [
    {
     "data": {
      "text/plain": [
       "0.9089848614864813"
      ]
     },
     "execution_count": 109,
     "metadata": {},
     "output_type": "execute_result"
    }
   ],
   "source": [
    "1 - error"
   ]
  },
  {
   "cell_type": "code",
   "execution_count": null,
   "metadata": {},
   "outputs": [],
   "source": []
  },
  {
   "cell_type": "code",
   "execution_count": null,
   "metadata": {},
   "outputs": [],
   "source": []
  }
 ],
 "metadata": {
  "kernelspec": {
   "display_name": "Python 3",
   "language": "python",
   "name": "python3"
  },
  "language_info": {
   "codemirror_mode": {
    "name": "ipython",
    "version": 3
   },
   "file_extension": ".py",
   "mimetype": "text/x-python",
   "name": "python",
   "nbconvert_exporter": "python",
   "pygments_lexer": "ipython3",
   "version": "3.6.4"
  }
 },
 "nbformat": 4,
 "nbformat_minor": 2
}
